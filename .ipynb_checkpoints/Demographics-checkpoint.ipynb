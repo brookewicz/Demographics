{
 "cells": [
  {
   "cell_type": "markdown",
   "id": "d4f6fd8a-4c75-416f-9d8e-e09d9b38e48a",
   "metadata": {
    "tags": []
   },
   "source": [
    "## Demographics - Tagged Colony Fate Tracking"
   ]
  },
  {
   "cell_type": "code",
   "execution_count": 1,
   "id": "eaac61ed-a717-4274-b462-fba005eab7a3",
   "metadata": {
    "tags": []
   },
   "outputs": [
    {
     "name": "stderr",
     "output_type": "stream",
     "text": [
      "── \u001b[1mAttaching core tidyverse packages\u001b[22m ──────────────────────── tidyverse 2.0.0 ──\n",
      "\u001b[32m✔\u001b[39m \u001b[34mdplyr    \u001b[39m 1.1.4     \u001b[32m✔\u001b[39m \u001b[34mreadr    \u001b[39m 2.1.4\n",
      "\u001b[32m✔\u001b[39m \u001b[34mforcats  \u001b[39m 1.0.0     \u001b[32m✔\u001b[39m \u001b[34mstringr  \u001b[39m 1.5.1\n",
      "\u001b[32m✔\u001b[39m \u001b[34mggplot2  \u001b[39m 3.4.4     \u001b[32m✔\u001b[39m \u001b[34mtibble   \u001b[39m 3.2.1\n",
      "\u001b[32m✔\u001b[39m \u001b[34mlubridate\u001b[39m 1.9.3     \u001b[32m✔\u001b[39m \u001b[34mtidyr    \u001b[39m 1.3.0\n",
      "\u001b[32m✔\u001b[39m \u001b[34mpurrr    \u001b[39m 1.0.2     \n",
      "── \u001b[1mConflicts\u001b[22m ────────────────────────────────────────── tidyverse_conflicts() ──\n",
      "\u001b[31m✖\u001b[39m \u001b[34mdplyr\u001b[39m::\u001b[32mfilter()\u001b[39m masks \u001b[34mstats\u001b[39m::filter()\n",
      "\u001b[31m✖\u001b[39m \u001b[34mdplyr\u001b[39m::\u001b[32mlag()\u001b[39m    masks \u001b[34mstats\u001b[39m::lag()\n",
      "\u001b[36mℹ\u001b[39m Use the conflicted package (\u001b[3m\u001b[34m<http://conflicted.r-lib.org/>\u001b[39m\u001b[23m) to force all conflicts to become errors\n",
      "Loading required package: permute\n",
      "\n",
      "Loading required package: lattice\n",
      "\n",
      "This is vegan 2.6-5\n",
      "\n"
     ]
    }
   ],
   "source": [
    "library(tidyverse)\n",
    "library(vegan)\n",
    "library(phyloseq)\n",
    "library(dplyr)\n",
    "library(ggplot2)\n",
    "library(stringr)"
   ]
  },
  {
   "cell_type": "markdown",
   "id": "3a0ff542-d7ac-4472-991e-d158531feedd",
   "metadata": {
    "jp-MarkdownHeadingCollapsed": true,
    "tags": []
   },
   "source": [
    "## Disease tracking 2019 - 2024"
   ]
  },
  {
   "cell_type": "code",
   "execution_count": 2,
   "id": "3fbcdbe2-5bb9-48c0-b0ef-518d2c2a1c10",
   "metadata": {},
   "outputs": [],
   "source": [
    "# Graph of colonies that died/got diseased across the years\n",
    "# x-axis year\n",
    "# y-axis # of colonies\n",
    "# stacked bar colors: healthy, diseased, dead"
   ]
  },
  {
   "cell_type": "code",
   "execution_count": 3,
   "id": "78ceeebb-2e4a-41e6-8d48-07739a3cdf2c",
   "metadata": {},
   "outputs": [],
   "source": [
    "# 1st: create columns for each year \n",
    "# pull info from diseaseddate\n",
    "# if healthy, write healthy in each column\n",
    "# if date, write \"diseased\" in corresponding column, and \"healthy\" in previous years columns\n",
    "# repeat for mortality "
   ]
  },
  {
   "cell_type": "code",
   "execution_count": 2,
   "id": "cee0d759-f007-4758-a709-b6d2759b6dd4",
   "metadata": {},
   "outputs": [
    {
     "data": {
      "text/html": [
       "'/project/pi_sarah_gignouxwolfsohn_uml_edu/brooke/Demographics'"
      ],
      "text/latex": [
       "'/project/pi\\_sarah\\_gignouxwolfsohn\\_uml\\_edu/brooke/Demographics'"
      ],
      "text/markdown": [
       "'/project/pi_sarah_gignouxwolfsohn_uml_edu/brooke/Demographics'"
      ],
      "text/plain": [
       "[1] \"/project/pi_sarah_gignouxwolfsohn_uml_edu/brooke/Demographics\""
      ]
     },
     "metadata": {},
     "output_type": "display_data"
    }
   ],
   "source": [
    "getwd()"
   ]
  },
  {
   "cell_type": "code",
   "execution_count": 3,
   "id": "f8ea7fc4-2df5-4663-b30b-3c8f36b87f70",
   "metadata": {},
   "outputs": [],
   "source": [
    "setwd('/project/pi_sarah_gignouxwolfsohn_uml_edu/brooke/metadata')"
   ]
  },
  {
   "cell_type": "code",
   "execution_count": 4,
   "id": "9f14bf7b-ea3a-4cf3-8719-531ab6935cc9",
   "metadata": {},
   "outputs": [],
   "source": [
    "colony_data <- read.csv('CBC_ColonyData.csv')"
   ]
  },
  {
   "cell_type": "code",
   "execution_count": 5,
   "id": "5f2c03b2-85be-4be8-b733-39f471a057d7",
   "metadata": {},
   "outputs": [],
   "source": [
    "colony_data <- colony_data[, -1]"
   ]
  },
  {
   "cell_type": "code",
   "execution_count": 6,
   "id": "5f1cae66-d86b-49df-b05c-84879add654c",
   "metadata": {},
   "outputs": [],
   "source": [
    "# extract year from Date_InitialTag and add it to new column\n",
    "colony_data$Year_tagged <- format(as.Date(colony_data$Date_InitialTag, format=\"%m/%d/%y\"), \"%Y\")"
   ]
  },
  {
   "cell_type": "code",
   "execution_count": 7,
   "id": "6697949c-f6d0-40f9-a96f-761f27f46bb8",
   "metadata": {},
   "outputs": [],
   "source": [
    "# drop X in col names \n",
    "colnames(colony_data)<-gsub(\"^X\", \"\",colnames(colony_data) )"
   ]
  },
  {
   "cell_type": "code",
   "execution_count": 8,
   "id": "4063e005-b428-4f4f-828f-ce7c07a3d253",
   "metadata": {},
   "outputs": [
    {
     "data": {
      "text/html": [
       "<style>\n",
       ".list-inline {list-style: none; margin:0; padding: 0}\n",
       ".list-inline>li {display: inline-block}\n",
       ".list-inline>li:not(:last-child)::after {content: \"\\00b7\"; padding: 0 .5ex}\n",
       "</style>\n",
       "<ol class=list-inline><li>'Date_InitialTag'</li><li>'Transect'</li><li>'TransectNum'</li><li>'OldTagNum'</li><li>'NewTagNum'</li><li>'Species'</li><li>'Meter'</li><li>'Meters_90'</li><li>'Direction'</li><li>'Size_Class'</li><li>'MaxDiameter'</li><li>'Height'</li><li>'Date_DocumentedDisease'</li><li>'Date_DocumentedMortality'</li><li>'Notes_062019'</li><li>'062019_Condition'</li><li>'062019_Percentage'</li><li>'Notes_052022'</li><li>'052022_Condition'</li><li>'052022_Percentage'</li><li>'Notes_122022'</li><li>'122022_Condition'</li><li>'122022_Percentage'</li><li>'Notes_092023'</li><li>'092023_Condition'</li><li>'092023_Percentage'</li><li>'Notes_112023'</li><li>'112023_Condition'</li><li>'112023_Percentage'</li><li>'Notes_122023'</li><li>'122023_Condition'</li><li>'122023_Percentage'</li><li>'Notes_012024'</li><li>'012024_Condition'</li><li>'012024_Percentage'</li><li>'Notes_022024'</li><li>'022024_Condition'</li><li>'022024_Percentage'</li><li>'Notes_042024'</li><li>'042024_Condition'</li><li>'042024_Percentage'</li><li>'062024_Condition'</li><li>'062024_Percentage'</li><li>'Notes_062024'</li><li>'082024_Condition'</li><li>'082024_Percentage'</li><li>'Notes_082024'</li><li>'immune_y.n'</li><li>'checked_colonies'</li><li>'Year_tagged'</li></ol>\n"
      ],
      "text/latex": [
       "\\begin{enumerate*}\n",
       "\\item 'Date\\_InitialTag'\n",
       "\\item 'Transect'\n",
       "\\item 'TransectNum'\n",
       "\\item 'OldTagNum'\n",
       "\\item 'NewTagNum'\n",
       "\\item 'Species'\n",
       "\\item 'Meter'\n",
       "\\item 'Meters\\_90'\n",
       "\\item 'Direction'\n",
       "\\item 'Size\\_Class'\n",
       "\\item 'MaxDiameter'\n",
       "\\item 'Height'\n",
       "\\item 'Date\\_DocumentedDisease'\n",
       "\\item 'Date\\_DocumentedMortality'\n",
       "\\item 'Notes\\_062019'\n",
       "\\item '062019\\_Condition'\n",
       "\\item '062019\\_Percentage'\n",
       "\\item 'Notes\\_052022'\n",
       "\\item '052022\\_Condition'\n",
       "\\item '052022\\_Percentage'\n",
       "\\item 'Notes\\_122022'\n",
       "\\item '122022\\_Condition'\n",
       "\\item '122022\\_Percentage'\n",
       "\\item 'Notes\\_092023'\n",
       "\\item '092023\\_Condition'\n",
       "\\item '092023\\_Percentage'\n",
       "\\item 'Notes\\_112023'\n",
       "\\item '112023\\_Condition'\n",
       "\\item '112023\\_Percentage'\n",
       "\\item 'Notes\\_122023'\n",
       "\\item '122023\\_Condition'\n",
       "\\item '122023\\_Percentage'\n",
       "\\item 'Notes\\_012024'\n",
       "\\item '012024\\_Condition'\n",
       "\\item '012024\\_Percentage'\n",
       "\\item 'Notes\\_022024'\n",
       "\\item '022024\\_Condition'\n",
       "\\item '022024\\_Percentage'\n",
       "\\item 'Notes\\_042024'\n",
       "\\item '042024\\_Condition'\n",
       "\\item '042024\\_Percentage'\n",
       "\\item '062024\\_Condition'\n",
       "\\item '062024\\_Percentage'\n",
       "\\item 'Notes\\_062024'\n",
       "\\item '082024\\_Condition'\n",
       "\\item '082024\\_Percentage'\n",
       "\\item 'Notes\\_082024'\n",
       "\\item 'immune\\_y.n'\n",
       "\\item 'checked\\_colonies'\n",
       "\\item 'Year\\_tagged'\n",
       "\\end{enumerate*}\n"
      ],
      "text/markdown": [
       "1. 'Date_InitialTag'\n",
       "2. 'Transect'\n",
       "3. 'TransectNum'\n",
       "4. 'OldTagNum'\n",
       "5. 'NewTagNum'\n",
       "6. 'Species'\n",
       "7. 'Meter'\n",
       "8. 'Meters_90'\n",
       "9. 'Direction'\n",
       "10. 'Size_Class'\n",
       "11. 'MaxDiameter'\n",
       "12. 'Height'\n",
       "13. 'Date_DocumentedDisease'\n",
       "14. 'Date_DocumentedMortality'\n",
       "15. 'Notes_062019'\n",
       "16. '062019_Condition'\n",
       "17. '062019_Percentage'\n",
       "18. 'Notes_052022'\n",
       "19. '052022_Condition'\n",
       "20. '052022_Percentage'\n",
       "21. 'Notes_122022'\n",
       "22. '122022_Condition'\n",
       "23. '122022_Percentage'\n",
       "24. 'Notes_092023'\n",
       "25. '092023_Condition'\n",
       "26. '092023_Percentage'\n",
       "27. 'Notes_112023'\n",
       "28. '112023_Condition'\n",
       "29. '112023_Percentage'\n",
       "30. 'Notes_122023'\n",
       "31. '122023_Condition'\n",
       "32. '122023_Percentage'\n",
       "33. 'Notes_012024'\n",
       "34. '012024_Condition'\n",
       "35. '012024_Percentage'\n",
       "36. 'Notes_022024'\n",
       "37. '022024_Condition'\n",
       "38. '022024_Percentage'\n",
       "39. 'Notes_042024'\n",
       "40. '042024_Condition'\n",
       "41. '042024_Percentage'\n",
       "42. '062024_Condition'\n",
       "43. '062024_Percentage'\n",
       "44. 'Notes_062024'\n",
       "45. '082024_Condition'\n",
       "46. '082024_Percentage'\n",
       "47. 'Notes_082024'\n",
       "48. 'immune_y.n'\n",
       "49. 'checked_colonies'\n",
       "50. 'Year_tagged'\n",
       "\n",
       "\n"
      ],
      "text/plain": [
       " [1] \"Date_InitialTag\"          \"Transect\"                \n",
       " [3] \"TransectNum\"              \"OldTagNum\"               \n",
       " [5] \"NewTagNum\"                \"Species\"                 \n",
       " [7] \"Meter\"                    \"Meters_90\"               \n",
       " [9] \"Direction\"                \"Size_Class\"              \n",
       "[11] \"MaxDiameter\"              \"Height\"                  \n",
       "[13] \"Date_DocumentedDisease\"   \"Date_DocumentedMortality\"\n",
       "[15] \"Notes_062019\"             \"062019_Condition\"        \n",
       "[17] \"062019_Percentage\"        \"Notes_052022\"            \n",
       "[19] \"052022_Condition\"         \"052022_Percentage\"       \n",
       "[21] \"Notes_122022\"             \"122022_Condition\"        \n",
       "[23] \"122022_Percentage\"        \"Notes_092023\"            \n",
       "[25] \"092023_Condition\"         \"092023_Percentage\"       \n",
       "[27] \"Notes_112023\"             \"112023_Condition\"        \n",
       "[29] \"112023_Percentage\"        \"Notes_122023\"            \n",
       "[31] \"122023_Condition\"         \"122023_Percentage\"       \n",
       "[33] \"Notes_012024\"             \"012024_Condition\"        \n",
       "[35] \"012024_Percentage\"        \"Notes_022024\"            \n",
       "[37] \"022024_Condition\"         \"022024_Percentage\"       \n",
       "[39] \"Notes_042024\"             \"042024_Condition\"        \n",
       "[41] \"042024_Percentage\"        \"062024_Condition\"        \n",
       "[43] \"062024_Percentage\"        \"Notes_062024\"            \n",
       "[45] \"082024_Condition\"         \"082024_Percentage\"       \n",
       "[47] \"Notes_082024\"             \"immune_y.n\"              \n",
       "[49] \"checked_colonies\"         \"Year_tagged\"             "
      ]
     },
     "metadata": {},
     "output_type": "display_data"
    }
   ],
   "source": [
    "colnames(colony_data)"
   ]
  },
  {
   "cell_type": "code",
   "execution_count": 9,
   "id": "3920487d-1ad8-4df0-acb2-a5f5726e7aab",
   "metadata": {},
   "outputs": [
    {
     "data": {
      "text/html": [
       "<table class=\"dataframe\">\n",
       "<caption>A data.frame: 6 × 50</caption>\n",
       "<thead>\n",
       "\t<tr><th></th><th scope=col>Date_InitialTag</th><th scope=col>Transect</th><th scope=col>TransectNum</th><th scope=col>OldTagNum</th><th scope=col>NewTagNum</th><th scope=col>Species</th><th scope=col>Meter</th><th scope=col>Meters_90</th><th scope=col>Direction</th><th scope=col>Size_Class</th><th scope=col>⋯</th><th scope=col>042024_Percentage</th><th scope=col>062024_Condition</th><th scope=col>062024_Percentage</th><th scope=col>Notes_062024</th><th scope=col>082024_Condition</th><th scope=col>082024_Percentage</th><th scope=col>Notes_082024</th><th scope=col>immune_y.n</th><th scope=col>checked_colonies</th><th scope=col>Year_tagged</th></tr>\n",
       "\t<tr><th></th><th scope=col>&lt;chr&gt;</th><th scope=col>&lt;chr&gt;</th><th scope=col>&lt;int&gt;</th><th scope=col>&lt;chr&gt;</th><th scope=col>&lt;chr&gt;</th><th scope=col>&lt;chr&gt;</th><th scope=col>&lt;dbl&gt;</th><th scope=col>&lt;dbl&gt;</th><th scope=col>&lt;chr&gt;</th><th scope=col>&lt;int&gt;</th><th scope=col>⋯</th><th scope=col>&lt;chr&gt;</th><th scope=col>&lt;chr&gt;</th><th scope=col>&lt;chr&gt;</th><th scope=col>&lt;chr&gt;</th><th scope=col>&lt;chr&gt;</th><th scope=col>&lt;chr&gt;</th><th scope=col>&lt;chr&gt;</th><th scope=col>&lt;chr&gt;</th><th scope=col>&lt;chr&gt;</th><th scope=col>&lt;chr&gt;</th></tr>\n",
       "</thead>\n",
       "<tbody>\n",
       "\t<tr><th scope=row>1</th><td>6/21/19 </td><td>CBC30N</td><td>1</td><td>349</td><td>1</td><td>SSID</td><td>1.5</td><td>0.50</td><td>right</td><td> 5</td><td>⋯</td><td></td><td>Not_Visited</td><td></td><td>                               </td><td>Not_Visited</td><td></td><td>                                                                          </td><td>n</td><td>x                                                   </td><td>2019</td></tr>\n",
       "\t<tr><th scope=row>2</th><td>6/21/19 </td><td>CBC30N</td><td>1</td><td>334</td><td>2</td><td>PAST</td><td>1.4</td><td>0.10</td><td>left </td><td> 4</td><td>⋯</td><td></td><td>Healthy    </td><td></td><td>95% mort                       </td><td>Healthy    </td><td></td><td>sample lower colony (original colony); inc old mort; too small for immune </td><td>y</td><td>x                                                   </td><td>2019</td></tr>\n",
       "\t<tr><th scope=row>3</th><td>6/21/19 </td><td>CBC30N</td><td>1</td><td>346</td><td>3</td><td>SSID</td><td>6.3</td><td>0.80</td><td>right</td><td> 5</td><td>⋯</td><td></td><td>Diseased   </td><td></td><td>DC, sloughy, weird ssid disease</td><td>Healthy    </td><td></td><td>90% CLP; some discoloration                                               </td><td>y</td><td>help (DC or disease throughout? Not clp or healthy?)</td><td>2019</td></tr>\n",
       "\t<tr><th scope=row>4</th><td>10/15/19</td><td>CBC30N</td><td>1</td><td>407</td><td>4</td><td>PSTR</td><td>6.5</td><td>0.50</td><td>right</td><td> 3</td><td>⋯</td><td></td><td>Not_Visited</td><td></td><td>                               </td><td>Not_Visited</td><td></td><td>                                                                          </td><td>n</td><td>x                                                   </td><td>2019</td></tr>\n",
       "\t<tr><th scope=row>5</th><td>6/24/19 </td><td>CBC30N</td><td>1</td><td>394</td><td>5</td><td>SSID</td><td>4.3</td><td>1.20</td><td>left </td><td> 5</td><td>⋯</td><td></td><td>Not_Visited</td><td></td><td>                               </td><td>Not_Visited</td><td></td><td>                                                                          </td><td>n</td><td>x                                                   </td><td>2019</td></tr>\n",
       "\t<tr><th scope=row>6</th><td>10/15/19</td><td>CBC30N</td><td>1</td><td>413</td><td>6</td><td>PSTR</td><td>8.3</td><td>1.75</td><td>left </td><td>NA</td><td>⋯</td><td></td><td>Not_Visited</td><td></td><td>                               </td><td>Not_Visited</td><td></td><td>                                                                          </td><td>n</td><td>x                                                   </td><td>2019</td></tr>\n",
       "</tbody>\n",
       "</table>\n"
      ],
      "text/latex": [
       "A data.frame: 6 × 50\n",
       "\\begin{tabular}{r|lllllllllllllllllllll}\n",
       "  & Date\\_InitialTag & Transect & TransectNum & OldTagNum & NewTagNum & Species & Meter & Meters\\_90 & Direction & Size\\_Class & ⋯ & 042024\\_Percentage & 062024\\_Condition & 062024\\_Percentage & Notes\\_062024 & 082024\\_Condition & 082024\\_Percentage & Notes\\_082024 & immune\\_y.n & checked\\_colonies & Year\\_tagged\\\\\n",
       "  & <chr> & <chr> & <int> & <chr> & <chr> & <chr> & <dbl> & <dbl> & <chr> & <int> & ⋯ & <chr> & <chr> & <chr> & <chr> & <chr> & <chr> & <chr> & <chr> & <chr> & <chr>\\\\\n",
       "\\hline\n",
       "\t1 & 6/21/19  & CBC30N & 1 & 349 & 1 & SSID & 1.5 & 0.50 & right &  5 & ⋯ &  & Not\\_Visited &  &                                 & Not\\_Visited &  &                                                                            & n & x                                                    & 2019\\\\\n",
       "\t2 & 6/21/19  & CBC30N & 1 & 334 & 2 & PAST & 1.4 & 0.10 & left  &  4 & ⋯ &  & Healthy     &  & 95\\% mort                        & Healthy     &  & sample lower colony (original colony); inc old mort; too small for immune  & y & x                                                    & 2019\\\\\n",
       "\t3 & 6/21/19  & CBC30N & 1 & 346 & 3 & SSID & 6.3 & 0.80 & right &  5 & ⋯ &  & Diseased    &  & DC, sloughy, weird ssid disease & Healthy     &  & 90\\% CLP; some discoloration                                                & y & help (DC or disease throughout? Not clp or healthy?) & 2019\\\\\n",
       "\t4 & 10/15/19 & CBC30N & 1 & 407 & 4 & PSTR & 6.5 & 0.50 & right &  3 & ⋯ &  & Not\\_Visited &  &                                 & Not\\_Visited &  &                                                                            & n & x                                                    & 2019\\\\\n",
       "\t5 & 6/24/19  & CBC30N & 1 & 394 & 5 & SSID & 4.3 & 1.20 & left  &  5 & ⋯ &  & Not\\_Visited &  &                                 & Not\\_Visited &  &                                                                            & n & x                                                    & 2019\\\\\n",
       "\t6 & 10/15/19 & CBC30N & 1 & 413 & 6 & PSTR & 8.3 & 1.75 & left  & NA & ⋯ &  & Not\\_Visited &  &                                 & Not\\_Visited &  &                                                                            & n & x                                                    & 2019\\\\\n",
       "\\end{tabular}\n"
      ],
      "text/markdown": [
       "\n",
       "A data.frame: 6 × 50\n",
       "\n",
       "| <!--/--> | Date_InitialTag &lt;chr&gt; | Transect &lt;chr&gt; | TransectNum &lt;int&gt; | OldTagNum &lt;chr&gt; | NewTagNum &lt;chr&gt; | Species &lt;chr&gt; | Meter &lt;dbl&gt; | Meters_90 &lt;dbl&gt; | Direction &lt;chr&gt; | Size_Class &lt;int&gt; | ⋯ ⋯ | 042024_Percentage &lt;chr&gt; | 062024_Condition &lt;chr&gt; | 062024_Percentage &lt;chr&gt; | Notes_062024 &lt;chr&gt; | 082024_Condition &lt;chr&gt; | 082024_Percentage &lt;chr&gt; | Notes_082024 &lt;chr&gt; | immune_y.n &lt;chr&gt; | checked_colonies &lt;chr&gt; | Year_tagged &lt;chr&gt; |\n",
       "|---|---|---|---|---|---|---|---|---|---|---|---|---|---|---|---|---|---|---|---|---|---|\n",
       "| 1 | 6/21/19  | CBC30N | 1 | 349 | 1 | SSID | 1.5 | 0.50 | right |  5 | ⋯ | <!----> | Not_Visited | <!----> | <!----> | Not_Visited | <!----> | <!----> | n | x                                                    | 2019 |\n",
       "| 2 | 6/21/19  | CBC30N | 1 | 334 | 2 | PAST | 1.4 | 0.10 | left  |  4 | ⋯ | <!----> | Healthy     | <!----> | 95% mort                        | Healthy     | <!----> | sample lower colony (original colony); inc old mort; too small for immune  | y | x                                                    | 2019 |\n",
       "| 3 | 6/21/19  | CBC30N | 1 | 346 | 3 | SSID | 6.3 | 0.80 | right |  5 | ⋯ | <!----> | Diseased    | <!----> | DC, sloughy, weird ssid disease | Healthy     | <!----> | 90% CLP; some discoloration                                                | y | help (DC or disease throughout? Not clp or healthy?) | 2019 |\n",
       "| 4 | 10/15/19 | CBC30N | 1 | 407 | 4 | PSTR | 6.5 | 0.50 | right |  3 | ⋯ | <!----> | Not_Visited | <!----> | <!----> | Not_Visited | <!----> | <!----> | n | x                                                    | 2019 |\n",
       "| 5 | 6/24/19  | CBC30N | 1 | 394 | 5 | SSID | 4.3 | 1.20 | left  |  5 | ⋯ | <!----> | Not_Visited | <!----> | <!----> | Not_Visited | <!----> | <!----> | n | x                                                    | 2019 |\n",
       "| 6 | 10/15/19 | CBC30N | 1 | 413 | 6 | PSTR | 8.3 | 1.75 | left  | NA | ⋯ | <!----> | Not_Visited | <!----> | <!----> | Not_Visited | <!----> | <!----> | n | x                                                    | 2019 |\n",
       "\n"
      ],
      "text/plain": [
       "  Date_InitialTag Transect TransectNum OldTagNum NewTagNum Species Meter\n",
       "1 6/21/19         CBC30N   1           349       1         SSID    1.5  \n",
       "2 6/21/19         CBC30N   1           334       2         PAST    1.4  \n",
       "3 6/21/19         CBC30N   1           346       3         SSID    6.3  \n",
       "4 10/15/19        CBC30N   1           407       4         PSTR    6.5  \n",
       "5 6/24/19         CBC30N   1           394       5         SSID    4.3  \n",
       "6 10/15/19        CBC30N   1           413       6         PSTR    8.3  \n",
       "  Meters_90 Direction Size_Class ⋯ 042024_Percentage 062024_Condition\n",
       "1 0.50      right      5         ⋯                   Not_Visited     \n",
       "2 0.10      left       4         ⋯                   Healthy         \n",
       "3 0.80      right      5         ⋯                   Diseased        \n",
       "4 0.50      right      3         ⋯                   Not_Visited     \n",
       "5 1.20      left       5         ⋯                   Not_Visited     \n",
       "6 1.75      left      NA         ⋯                   Not_Visited     \n",
       "  062024_Percentage Notes_062024                    082024_Condition\n",
       "1                                                   Not_Visited     \n",
       "2                   95% mort                        Healthy         \n",
       "3                   DC, sloughy, weird ssid disease Healthy         \n",
       "4                                                   Not_Visited     \n",
       "5                                                   Not_Visited     \n",
       "6                                                   Not_Visited     \n",
       "  082024_Percentage\n",
       "1                  \n",
       "2                  \n",
       "3                  \n",
       "4                  \n",
       "5                  \n",
       "6                  \n",
       "  Notes_082024                                                              \n",
       "1                                                                           \n",
       "2 sample lower colony (original colony); inc old mort; too small for immune \n",
       "3 90% CLP; some discoloration                                               \n",
       "4                                                                           \n",
       "5                                                                           \n",
       "6                                                                           \n",
       "  immune_y.n checked_colonies                                     Year_tagged\n",
       "1 n          x                                                    2019       \n",
       "2 y          x                                                    2019       \n",
       "3 y          help (DC or disease throughout? Not clp or healthy?) 2019       \n",
       "4 n          x                                                    2019       \n",
       "5 n          x                                                    2019       \n",
       "6 n          x                                                    2019       "
      ]
     },
     "metadata": {},
     "output_type": "display_data"
    }
   ],
   "source": [
    "head(colony_data)"
   ]
  },
  {
   "cell_type": "code",
   "execution_count": 10,
   "id": "a0e945c5-9abe-4703-bed1-0cdbaf1e3d06",
   "metadata": {},
   "outputs": [
    {
     "data": {
      "text/html": [
       "<table class=\"dataframe\">\n",
       "<caption>A data.frame: 6 × 50</caption>\n",
       "<thead>\n",
       "\t<tr><th></th><th scope=col>Date_InitialTag</th><th scope=col>Transect</th><th scope=col>TransectNum</th><th scope=col>OldTagNum</th><th scope=col>NewTagNum</th><th scope=col>Species</th><th scope=col>Meter</th><th scope=col>Meters_90</th><th scope=col>Direction</th><th scope=col>Size_Class</th><th scope=col>⋯</th><th scope=col>042024_Percentage</th><th scope=col>062024_Condition</th><th scope=col>062024_Percentage</th><th scope=col>Notes_062024</th><th scope=col>082024_Condition</th><th scope=col>082024_Percentage</th><th scope=col>Notes_082024</th><th scope=col>immune_y.n</th><th scope=col>checked_colonies</th><th scope=col>Year_tagged</th></tr>\n",
       "\t<tr><th></th><th scope=col>&lt;chr&gt;</th><th scope=col>&lt;chr&gt;</th><th scope=col>&lt;int&gt;</th><th scope=col>&lt;chr&gt;</th><th scope=col>&lt;chr&gt;</th><th scope=col>&lt;chr&gt;</th><th scope=col>&lt;dbl&gt;</th><th scope=col>&lt;dbl&gt;</th><th scope=col>&lt;chr&gt;</th><th scope=col>&lt;int&gt;</th><th scope=col>⋯</th><th scope=col>&lt;chr&gt;</th><th scope=col>&lt;chr&gt;</th><th scope=col>&lt;chr&gt;</th><th scope=col>&lt;chr&gt;</th><th scope=col>&lt;chr&gt;</th><th scope=col>&lt;chr&gt;</th><th scope=col>&lt;chr&gt;</th><th scope=col>&lt;chr&gt;</th><th scope=col>&lt;chr&gt;</th><th scope=col>&lt;chr&gt;</th></tr>\n",
       "</thead>\n",
       "<tbody>\n",
       "\t<tr><th scope=row>1</th><td>6/21/19 </td><td>CBC30N</td><td>1</td><td>349</td><td>1</td><td>SSID</td><td>1.5</td><td>0.50</td><td>right</td><td> 5</td><td>⋯</td><td></td><td>Not_Visited</td><td></td><td>                               </td><td>Not_Visited</td><td></td><td>                                                                          </td><td>n</td><td>x                                                   </td><td>2019</td></tr>\n",
       "\t<tr><th scope=row>2</th><td>6/21/19 </td><td>CBC30N</td><td>1</td><td>334</td><td>2</td><td>PAST</td><td>1.4</td><td>0.10</td><td>left </td><td> 4</td><td>⋯</td><td></td><td>Healthy    </td><td></td><td>95% mort                       </td><td>Healthy    </td><td></td><td>sample lower colony (original colony); inc old mort; too small for immune </td><td>y</td><td>x                                                   </td><td>2019</td></tr>\n",
       "\t<tr><th scope=row>3</th><td>6/21/19 </td><td>CBC30N</td><td>1</td><td>346</td><td>3</td><td>SSID</td><td>6.3</td><td>0.80</td><td>right</td><td> 5</td><td>⋯</td><td></td><td>Diseased   </td><td></td><td>DC, sloughy, weird ssid disease</td><td>Healthy    </td><td></td><td>90% CLP; some discoloration                                               </td><td>y</td><td>help (DC or disease throughout? Not clp or healthy?)</td><td>2019</td></tr>\n",
       "\t<tr><th scope=row>4</th><td>10/15/19</td><td>CBC30N</td><td>1</td><td>407</td><td>4</td><td>PSTR</td><td>6.5</td><td>0.50</td><td>right</td><td> 3</td><td>⋯</td><td></td><td>Not_Visited</td><td></td><td>                               </td><td>Not_Visited</td><td></td><td>                                                                          </td><td>n</td><td>x                                                   </td><td>2019</td></tr>\n",
       "\t<tr><th scope=row>5</th><td>6/24/19 </td><td>CBC30N</td><td>1</td><td>394</td><td>5</td><td>SSID</td><td>4.3</td><td>1.20</td><td>left </td><td> 5</td><td>⋯</td><td></td><td>Not_Visited</td><td></td><td>                               </td><td>Not_Visited</td><td></td><td>                                                                          </td><td>n</td><td>x                                                   </td><td>2019</td></tr>\n",
       "\t<tr><th scope=row>6</th><td>10/15/19</td><td>CBC30N</td><td>1</td><td>413</td><td>6</td><td>PSTR</td><td>8.3</td><td>1.75</td><td>left </td><td>NA</td><td>⋯</td><td></td><td>Not_Visited</td><td></td><td>                               </td><td>Not_Visited</td><td></td><td>                                                                          </td><td>n</td><td>x                                                   </td><td>2019</td></tr>\n",
       "</tbody>\n",
       "</table>\n"
      ],
      "text/latex": [
       "A data.frame: 6 × 50\n",
       "\\begin{tabular}{r|lllllllllllllllllllll}\n",
       "  & Date\\_InitialTag & Transect & TransectNum & OldTagNum & NewTagNum & Species & Meter & Meters\\_90 & Direction & Size\\_Class & ⋯ & 042024\\_Percentage & 062024\\_Condition & 062024\\_Percentage & Notes\\_062024 & 082024\\_Condition & 082024\\_Percentage & Notes\\_082024 & immune\\_y.n & checked\\_colonies & Year\\_tagged\\\\\n",
       "  & <chr> & <chr> & <int> & <chr> & <chr> & <chr> & <dbl> & <dbl> & <chr> & <int> & ⋯ & <chr> & <chr> & <chr> & <chr> & <chr> & <chr> & <chr> & <chr> & <chr> & <chr>\\\\\n",
       "\\hline\n",
       "\t1 & 6/21/19  & CBC30N & 1 & 349 & 1 & SSID & 1.5 & 0.50 & right &  5 & ⋯ &  & Not\\_Visited &  &                                 & Not\\_Visited &  &                                                                            & n & x                                                    & 2019\\\\\n",
       "\t2 & 6/21/19  & CBC30N & 1 & 334 & 2 & PAST & 1.4 & 0.10 & left  &  4 & ⋯ &  & Healthy     &  & 95\\% mort                        & Healthy     &  & sample lower colony (original colony); inc old mort; too small for immune  & y & x                                                    & 2019\\\\\n",
       "\t3 & 6/21/19  & CBC30N & 1 & 346 & 3 & SSID & 6.3 & 0.80 & right &  5 & ⋯ &  & Diseased    &  & DC, sloughy, weird ssid disease & Healthy     &  & 90\\% CLP; some discoloration                                                & y & help (DC or disease throughout? Not clp or healthy?) & 2019\\\\\n",
       "\t4 & 10/15/19 & CBC30N & 1 & 407 & 4 & PSTR & 6.5 & 0.50 & right &  3 & ⋯ &  & Not\\_Visited &  &                                 & Not\\_Visited &  &                                                                            & n & x                                                    & 2019\\\\\n",
       "\t5 & 6/24/19  & CBC30N & 1 & 394 & 5 & SSID & 4.3 & 1.20 & left  &  5 & ⋯ &  & Not\\_Visited &  &                                 & Not\\_Visited &  &                                                                            & n & x                                                    & 2019\\\\\n",
       "\t6 & 10/15/19 & CBC30N & 1 & 413 & 6 & PSTR & 8.3 & 1.75 & left  & NA & ⋯ &  & Not\\_Visited &  &                                 & Not\\_Visited &  &                                                                            & n & x                                                    & 2019\\\\\n",
       "\\end{tabular}\n"
      ],
      "text/markdown": [
       "\n",
       "A data.frame: 6 × 50\n",
       "\n",
       "| <!--/--> | Date_InitialTag &lt;chr&gt; | Transect &lt;chr&gt; | TransectNum &lt;int&gt; | OldTagNum &lt;chr&gt; | NewTagNum &lt;chr&gt; | Species &lt;chr&gt; | Meter &lt;dbl&gt; | Meters_90 &lt;dbl&gt; | Direction &lt;chr&gt; | Size_Class &lt;int&gt; | ⋯ ⋯ | 042024_Percentage &lt;chr&gt; | 062024_Condition &lt;chr&gt; | 062024_Percentage &lt;chr&gt; | Notes_062024 &lt;chr&gt; | 082024_Condition &lt;chr&gt; | 082024_Percentage &lt;chr&gt; | Notes_082024 &lt;chr&gt; | immune_y.n &lt;chr&gt; | checked_colonies &lt;chr&gt; | Year_tagged &lt;chr&gt; |\n",
       "|---|---|---|---|---|---|---|---|---|---|---|---|---|---|---|---|---|---|---|---|---|---|\n",
       "| 1 | 6/21/19  | CBC30N | 1 | 349 | 1 | SSID | 1.5 | 0.50 | right |  5 | ⋯ | <!----> | Not_Visited | <!----> | <!----> | Not_Visited | <!----> | <!----> | n | x                                                    | 2019 |\n",
       "| 2 | 6/21/19  | CBC30N | 1 | 334 | 2 | PAST | 1.4 | 0.10 | left  |  4 | ⋯ | <!----> | Healthy     | <!----> | 95% mort                        | Healthy     | <!----> | sample lower colony (original colony); inc old mort; too small for immune  | y | x                                                    | 2019 |\n",
       "| 3 | 6/21/19  | CBC30N | 1 | 346 | 3 | SSID | 6.3 | 0.80 | right |  5 | ⋯ | <!----> | Diseased    | <!----> | DC, sloughy, weird ssid disease | Healthy     | <!----> | 90% CLP; some discoloration                                                | y | help (DC or disease throughout? Not clp or healthy?) | 2019 |\n",
       "| 4 | 10/15/19 | CBC30N | 1 | 407 | 4 | PSTR | 6.5 | 0.50 | right |  3 | ⋯ | <!----> | Not_Visited | <!----> | <!----> | Not_Visited | <!----> | <!----> | n | x                                                    | 2019 |\n",
       "| 5 | 6/24/19  | CBC30N | 1 | 394 | 5 | SSID | 4.3 | 1.20 | left  |  5 | ⋯ | <!----> | Not_Visited | <!----> | <!----> | Not_Visited | <!----> | <!----> | n | x                                                    | 2019 |\n",
       "| 6 | 10/15/19 | CBC30N | 1 | 413 | 6 | PSTR | 8.3 | 1.75 | left  | NA | ⋯ | <!----> | Not_Visited | <!----> | <!----> | Not_Visited | <!----> | <!----> | n | x                                                    | 2019 |\n",
       "\n"
      ],
      "text/plain": [
       "  Date_InitialTag Transect TransectNum OldTagNum NewTagNum Species Meter\n",
       "1 6/21/19         CBC30N   1           349       1         SSID    1.5  \n",
       "2 6/21/19         CBC30N   1           334       2         PAST    1.4  \n",
       "3 6/21/19         CBC30N   1           346       3         SSID    6.3  \n",
       "4 10/15/19        CBC30N   1           407       4         PSTR    6.5  \n",
       "5 6/24/19         CBC30N   1           394       5         SSID    4.3  \n",
       "6 10/15/19        CBC30N   1           413       6         PSTR    8.3  \n",
       "  Meters_90 Direction Size_Class ⋯ 042024_Percentage 062024_Condition\n",
       "1 0.50      right      5         ⋯                   Not_Visited     \n",
       "2 0.10      left       4         ⋯                   Healthy         \n",
       "3 0.80      right      5         ⋯                   Diseased        \n",
       "4 0.50      right      3         ⋯                   Not_Visited     \n",
       "5 1.20      left       5         ⋯                   Not_Visited     \n",
       "6 1.75      left      NA         ⋯                   Not_Visited     \n",
       "  062024_Percentage Notes_062024                    082024_Condition\n",
       "1                                                   Not_Visited     \n",
       "2                   95% mort                        Healthy         \n",
       "3                   DC, sloughy, weird ssid disease Healthy         \n",
       "4                                                   Not_Visited     \n",
       "5                                                   Not_Visited     \n",
       "6                                                   Not_Visited     \n",
       "  082024_Percentage\n",
       "1                  \n",
       "2                  \n",
       "3                  \n",
       "4                  \n",
       "5                  \n",
       "6                  \n",
       "  Notes_082024                                                              \n",
       "1                                                                           \n",
       "2 sample lower colony (original colony); inc old mort; too small for immune \n",
       "3 90% CLP; some discoloration                                               \n",
       "4                                                                           \n",
       "5                                                                           \n",
       "6                                                                           \n",
       "  immune_y.n checked_colonies                                     Year_tagged\n",
       "1 n          x                                                    2019       \n",
       "2 y          x                                                    2019       \n",
       "3 y          help (DC or disease throughout? Not clp or healthy?) 2019       \n",
       "4 n          x                                                    2019       \n",
       "5 n          x                                                    2019       \n",
       "6 n          x                                                    2019       "
      ]
     },
     "metadata": {},
     "output_type": "display_data"
    }
   ],
   "source": [
    "# get subset of colonies tagged in 2019 (to be able to track since the beginning)\n",
    "colonies_2019 <- subset(colony_data, colony_data$Year_tagged==\"2019\")\n",
    "head(colonies_2019)"
   ]
  },
  {
   "cell_type": "code",
   "execution_count": 11,
   "id": "e4262c18-8d93-42f3-86d4-8421d1c9518f",
   "metadata": {},
   "outputs": [
    {
     "data": {
      "text/html": [
       "3"
      ],
      "text/latex": [
       "3"
      ],
      "text/markdown": [
       "3"
      ],
      "text/plain": [
       "[1] 3"
      ]
     },
     "metadata": {},
     "output_type": "display_data"
    }
   ],
   "source": [
    "# drop NA in Date disease and mortality section\n",
    "na<-is.na(colonies_2019$Date_DocumentedDisease)\n",
    "na2 <- is.na(colonies_2019$Date_DocumentedMortality)\n",
    "samples_to_delete <- na & na2\n",
    "sum(samples_to_delete)"
   ]
  },
  {
   "cell_type": "code",
   "execution_count": 12,
   "id": "7bbe48c6-473b-435f-b8db-5096b28b89bc",
   "metadata": {},
   "outputs": [],
   "source": [
    "view_cols <- grep(\"Condition\", colnames(colonies_2019), value = TRUE)"
   ]
  },
  {
   "cell_type": "code",
   "execution_count": 13,
   "id": "df767893-c2dd-4e39-82e9-73c27a9491f9",
   "metadata": {},
   "outputs": [
    {
     "data": {
      "text/html": [
       "<table class=\"dataframe\">\n",
       "<caption>A data.frame: 3 × 15</caption>\n",
       "<thead>\n",
       "\t<tr><th></th><th scope=col>062019_Condition</th><th scope=col>052022_Condition</th><th scope=col>122022_Condition</th><th scope=col>092023_Condition</th><th scope=col>112023_Condition</th><th scope=col>122023_Condition</th><th scope=col>012024_Condition</th><th scope=col>022024_Condition</th><th scope=col>042024_Condition</th><th scope=col>062024_Condition</th><th scope=col>082024_Condition</th><th scope=col>NewTagNum</th><th scope=col>Species</th><th scope=col>Date_DocumentedDisease</th><th scope=col>Date_DocumentedMortality</th></tr>\n",
       "\t<tr><th></th><th scope=col>&lt;chr&gt;</th><th scope=col>&lt;chr&gt;</th><th scope=col>&lt;chr&gt;</th><th scope=col>&lt;chr&gt;</th><th scope=col>&lt;chr&gt;</th><th scope=col>&lt;chr&gt;</th><th scope=col>&lt;chr&gt;</th><th scope=col>&lt;chr&gt;</th><th scope=col>&lt;chr&gt;</th><th scope=col>&lt;chr&gt;</th><th scope=col>&lt;chr&gt;</th><th scope=col>&lt;chr&gt;</th><th scope=col>&lt;chr&gt;</th><th scope=col>&lt;chr&gt;</th><th scope=col>&lt;chr&gt;</th></tr>\n",
       "</thead>\n",
       "<tbody>\n",
       "\t<tr><th scope=row>81</th><td>Healthy</td><td>Not_Visited</td><td>Not_Visited</td><td>Not_Visited</td><td>Not_Visited</td><td>Not_Visited</td><td>Not_Visited</td><td>Not_Visited</td><td>Not_Visited</td><td>Not_Visited</td><td>Not_Visited</td><td>347   </td><td>PAST</td><td>NA</td><td>NA</td></tr>\n",
       "\t<tr><th scope=row>108</th><td>Healthy</td><td>Not_Visited</td><td>Not_Visited</td><td>Not_Visited</td><td>Not_Visited</td><td>Not_Visited</td><td>Not_Visited</td><td>Not_Visited</td><td>Not_Visited</td><td>Not_Visited</td><td>Not_Visited</td><td>24    </td><td>SSID</td><td>NA</td><td>NA</td></tr>\n",
       "\t<tr><th scope=row>134</th><td>Healthy</td><td>Not_Visited</td><td>Not_Visited</td><td>Not_Visited</td><td>Not_Visited</td><td>Not_Visited</td><td>Not_Visited</td><td>Not_Visited</td><td>Not_Visited</td><td>Not_Visited</td><td>Not_Visited</td><td>12flag</td><td>PAST</td><td>NA</td><td>NA</td></tr>\n",
       "</tbody>\n",
       "</table>\n"
      ],
      "text/latex": [
       "A data.frame: 3 × 15\n",
       "\\begin{tabular}{r|lllllllllllllll}\n",
       "  & 062019\\_Condition & 052022\\_Condition & 122022\\_Condition & 092023\\_Condition & 112023\\_Condition & 122023\\_Condition & 012024\\_Condition & 022024\\_Condition & 042024\\_Condition & 062024\\_Condition & 082024\\_Condition & NewTagNum & Species & Date\\_DocumentedDisease & Date\\_DocumentedMortality\\\\\n",
       "  & <chr> & <chr> & <chr> & <chr> & <chr> & <chr> & <chr> & <chr> & <chr> & <chr> & <chr> & <chr> & <chr> & <chr> & <chr>\\\\\n",
       "\\hline\n",
       "\t81 & Healthy & Not\\_Visited & Not\\_Visited & Not\\_Visited & Not\\_Visited & Not\\_Visited & Not\\_Visited & Not\\_Visited & Not\\_Visited & Not\\_Visited & Not\\_Visited & 347    & PAST & NA & NA\\\\\n",
       "\t108 & Healthy & Not\\_Visited & Not\\_Visited & Not\\_Visited & Not\\_Visited & Not\\_Visited & Not\\_Visited & Not\\_Visited & Not\\_Visited & Not\\_Visited & Not\\_Visited & 24     & SSID & NA & NA\\\\\n",
       "\t134 & Healthy & Not\\_Visited & Not\\_Visited & Not\\_Visited & Not\\_Visited & Not\\_Visited & Not\\_Visited & Not\\_Visited & Not\\_Visited & Not\\_Visited & Not\\_Visited & 12flag & PAST & NA & NA\\\\\n",
       "\\end{tabular}\n"
      ],
      "text/markdown": [
       "\n",
       "A data.frame: 3 × 15\n",
       "\n",
       "| <!--/--> | 062019_Condition &lt;chr&gt; | 052022_Condition &lt;chr&gt; | 122022_Condition &lt;chr&gt; | 092023_Condition &lt;chr&gt; | 112023_Condition &lt;chr&gt; | 122023_Condition &lt;chr&gt; | 012024_Condition &lt;chr&gt; | 022024_Condition &lt;chr&gt; | 042024_Condition &lt;chr&gt; | 062024_Condition &lt;chr&gt; | 082024_Condition &lt;chr&gt; | NewTagNum &lt;chr&gt; | Species &lt;chr&gt; | Date_DocumentedDisease &lt;chr&gt; | Date_DocumentedMortality &lt;chr&gt; |\n",
       "|---|---|---|---|---|---|---|---|---|---|---|---|---|---|---|---|\n",
       "| 81 | Healthy | Not_Visited | Not_Visited | Not_Visited | Not_Visited | Not_Visited | Not_Visited | Not_Visited | Not_Visited | Not_Visited | Not_Visited | 347    | PAST | NA | NA |\n",
       "| 108 | Healthy | Not_Visited | Not_Visited | Not_Visited | Not_Visited | Not_Visited | Not_Visited | Not_Visited | Not_Visited | Not_Visited | Not_Visited | 24     | SSID | NA | NA |\n",
       "| 134 | Healthy | Not_Visited | Not_Visited | Not_Visited | Not_Visited | Not_Visited | Not_Visited | Not_Visited | Not_Visited | Not_Visited | Not_Visited | 12flag | PAST | NA | NA |\n",
       "\n"
      ],
      "text/plain": [
       "    062019_Condition 052022_Condition 122022_Condition 092023_Condition\n",
       "81  Healthy          Not_Visited      Not_Visited      Not_Visited     \n",
       "108 Healthy          Not_Visited      Not_Visited      Not_Visited     \n",
       "134 Healthy          Not_Visited      Not_Visited      Not_Visited     \n",
       "    112023_Condition 122023_Condition 012024_Condition 022024_Condition\n",
       "81  Not_Visited      Not_Visited      Not_Visited      Not_Visited     \n",
       "108 Not_Visited      Not_Visited      Not_Visited      Not_Visited     \n",
       "134 Not_Visited      Not_Visited      Not_Visited      Not_Visited     \n",
       "    042024_Condition 062024_Condition 082024_Condition NewTagNum Species\n",
       "81  Not_Visited      Not_Visited      Not_Visited      347       PAST   \n",
       "108 Not_Visited      Not_Visited      Not_Visited      24        SSID   \n",
       "134 Not_Visited      Not_Visited      Not_Visited      12flag    PAST   \n",
       "    Date_DocumentedDisease Date_DocumentedMortality\n",
       "81  NA                     NA                      \n",
       "108 NA                     NA                      \n",
       "134 NA                     NA                      "
      ]
     },
     "metadata": {},
     "output_type": "display_data"
    }
   ],
   "source": [
    "# first look at them to see why they have NAs\n",
    "view_cols <- c(view_cols, c('NewTagNum','Species','Date_DocumentedDisease','Date_DocumentedMortality'))\n",
    "colonies_2019[samples_to_delete,view_cols]\n",
    "# looks like they were never found again after 2019, so removing FOR NOW"
   ]
  },
  {
   "cell_type": "code",
   "execution_count": 14,
   "id": "46c6a2d2-c9f6-413a-b6c6-fcc63c5c1fd8",
   "metadata": {},
   "outputs": [],
   "source": [
    "# Remove rows where both Date_DocumentedDisease and Date_DocumentedMortality are NA\n",
    "colonies_2019_delete <- colonies_2019 %>%\n",
    " filter(!(is.na(Date_DocumentedDisease) & is.na(Date_DocumentedMortality)))\n",
    "#nrow(colonies_2019_delete)\n",
    "#tail(colonies_2019_delete)"
   ]
  },
  {
   "cell_type": "code",
   "execution_count": 17,
   "id": "160ea2c3-834f-480f-9eec-f12c4c5663a3",
   "metadata": {},
   "outputs": [],
   "source": [
    "# find rows with entries in COLONIES_TO_LOOK_AT\n",
    "\n",
    "#questionable_colonies <- colonies_2019_delete %>%\n",
    " # filter(!is.na(COLONIES_TO_LOOK_AT) & COLONIES_TO_LOOK_AT != \"\")\n",
    "# Display \n",
    "#questionable_colonies\n",
    "# all mmea with no data on mortality, so deleting for now \n",
    "## update: 7/5 - already fixed "
   ]
  },
  {
   "cell_type": "code",
   "execution_count": 15,
   "id": "6386aa56-abbf-4d0c-aa85-af3d0cfa5470",
   "metadata": {},
   "outputs": [
    {
     "data": {
      "text/html": [
       "<table class=\"dataframe\">\n",
       "<caption>A data.frame: 6 × 13</caption>\n",
       "<thead>\n",
       "\t<tr><th></th><th scope=col>062019_Condition</th><th scope=col>052022_Condition</th><th scope=col>122022_Condition</th><th scope=col>092023_Condition</th><th scope=col>112023_Condition</th><th scope=col>122023_Condition</th><th scope=col>012024_Condition</th><th scope=col>022024_Condition</th><th scope=col>042024_Condition</th><th scope=col>062024_Condition</th><th scope=col>082024_Condition</th><th scope=col>Date_DocumentedDisease</th><th scope=col>Date_DocumentedMortality</th></tr>\n",
       "\t<tr><th></th><th scope=col>&lt;chr&gt;</th><th scope=col>&lt;chr&gt;</th><th scope=col>&lt;chr&gt;</th><th scope=col>&lt;chr&gt;</th><th scope=col>&lt;chr&gt;</th><th scope=col>&lt;chr&gt;</th><th scope=col>&lt;chr&gt;</th><th scope=col>&lt;chr&gt;</th><th scope=col>&lt;chr&gt;</th><th scope=col>&lt;chr&gt;</th><th scope=col>&lt;chr&gt;</th><th scope=col>&lt;chr&gt;</th><th scope=col>&lt;chr&gt;</th></tr>\n",
       "</thead>\n",
       "<tbody>\n",
       "\t<tr><th scope=row>1</th><td>Healthy</td><td>Diseased</td><td>Diseased</td><td>Diseased   </td><td>Not_Visited</td><td>Not_Visited</td><td>Diseased   </td><td>Not_Visited</td><td>Diseased   </td><td>Not_Visited</td><td>Not_Visited</td><td>5/21/22</td><td>Diseased</td></tr>\n",
       "\t<tr><th scope=row>2</th><td>Healthy</td><td>Healthy </td><td>Healthy </td><td>CLP,CLB    </td><td>CLB        </td><td>CLB        </td><td>CLP,CLB    </td><td>Healthy    </td><td>Not_Visited</td><td>Healthy    </td><td>Healthy    </td><td>Healthy</td><td>Healthy </td></tr>\n",
       "\t<tr><th scope=row>3</th><td>Healthy</td><td>Diseased</td><td>Healthy </td><td>Diseased   </td><td>CLP,CLB    </td><td>Healthy    </td><td>Healthy    </td><td>DC         </td><td>Diseased   </td><td>Diseased   </td><td>Healthy    </td><td>5/21/22</td><td>Diseased</td></tr>\n",
       "\t<tr><th scope=row>4</th><td>Healthy</td><td>Diseased</td><td>Dead    </td><td>Not_Visited</td><td>Not_Visited</td><td>Not_Visited</td><td>Not_Visited</td><td>Not_Visited</td><td>Not_Visited</td><td>Not_Visited</td><td>Not_Visited</td><td>5/21/22</td><td>12/2/22 </td></tr>\n",
       "\t<tr><th scope=row>5</th><td>Healthy</td><td>Diseased</td><td>Diseased</td><td>Diseased   </td><td>Not_Visited</td><td>Not_Visited</td><td>Diseased   </td><td>Not_Visited</td><td>Diseased   </td><td>Not_Visited</td><td>Not_Visited</td><td>5/21/22</td><td>Diseased</td></tr>\n",
       "\t<tr><th scope=row>6</th><td>Healthy</td><td>Healthy </td><td>Diseased</td><td>Dead       </td><td>Not_Visited</td><td>Not_Visited</td><td>Not_Visited</td><td>Not_Visited</td><td>Not_Visited</td><td>Not_Visited</td><td>Not_Visited</td><td>12/2/22</td><td>9/25/23 </td></tr>\n",
       "</tbody>\n",
       "</table>\n"
      ],
      "text/latex": [
       "A data.frame: 6 × 13\n",
       "\\begin{tabular}{r|lllllllllllll}\n",
       "  & 062019\\_Condition & 052022\\_Condition & 122022\\_Condition & 092023\\_Condition & 112023\\_Condition & 122023\\_Condition & 012024\\_Condition & 022024\\_Condition & 042024\\_Condition & 062024\\_Condition & 082024\\_Condition & Date\\_DocumentedDisease & Date\\_DocumentedMortality\\\\\n",
       "  & <chr> & <chr> & <chr> & <chr> & <chr> & <chr> & <chr> & <chr> & <chr> & <chr> & <chr> & <chr> & <chr>\\\\\n",
       "\\hline\n",
       "\t1 & Healthy & Diseased & Diseased & Diseased    & Not\\_Visited & Not\\_Visited & Diseased    & Not\\_Visited & Diseased    & Not\\_Visited & Not\\_Visited & 5/21/22 & Diseased\\\\\n",
       "\t2 & Healthy & Healthy  & Healthy  & CLP,CLB     & CLB         & CLB         & CLP,CLB     & Healthy     & Not\\_Visited & Healthy     & Healthy     & Healthy & Healthy \\\\\n",
       "\t3 & Healthy & Diseased & Healthy  & Diseased    & CLP,CLB     & Healthy     & Healthy     & DC          & Diseased    & Diseased    & Healthy     & 5/21/22 & Diseased\\\\\n",
       "\t4 & Healthy & Diseased & Dead     & Not\\_Visited & Not\\_Visited & Not\\_Visited & Not\\_Visited & Not\\_Visited & Not\\_Visited & Not\\_Visited & Not\\_Visited & 5/21/22 & 12/2/22 \\\\\n",
       "\t5 & Healthy & Diseased & Diseased & Diseased    & Not\\_Visited & Not\\_Visited & Diseased    & Not\\_Visited & Diseased    & Not\\_Visited & Not\\_Visited & 5/21/22 & Diseased\\\\\n",
       "\t6 & Healthy & Healthy  & Diseased & Dead        & Not\\_Visited & Not\\_Visited & Not\\_Visited & Not\\_Visited & Not\\_Visited & Not\\_Visited & Not\\_Visited & 12/2/22 & 9/25/23 \\\\\n",
       "\\end{tabular}\n"
      ],
      "text/markdown": [
       "\n",
       "A data.frame: 6 × 13\n",
       "\n",
       "| <!--/--> | 062019_Condition &lt;chr&gt; | 052022_Condition &lt;chr&gt; | 122022_Condition &lt;chr&gt; | 092023_Condition &lt;chr&gt; | 112023_Condition &lt;chr&gt; | 122023_Condition &lt;chr&gt; | 012024_Condition &lt;chr&gt; | 022024_Condition &lt;chr&gt; | 042024_Condition &lt;chr&gt; | 062024_Condition &lt;chr&gt; | 082024_Condition &lt;chr&gt; | Date_DocumentedDisease &lt;chr&gt; | Date_DocumentedMortality &lt;chr&gt; |\n",
       "|---|---|---|---|---|---|---|---|---|---|---|---|---|---|\n",
       "| 1 | Healthy | Diseased | Diseased | Diseased    | Not_Visited | Not_Visited | Diseased    | Not_Visited | Diseased    | Not_Visited | Not_Visited | 5/21/22 | Diseased |\n",
       "| 2 | Healthy | Healthy  | Healthy  | CLP,CLB     | CLB         | CLB         | CLP,CLB     | Healthy     | Not_Visited | Healthy     | Healthy     | Healthy | Healthy  |\n",
       "| 3 | Healthy | Diseased | Healthy  | Diseased    | CLP,CLB     | Healthy     | Healthy     | DC          | Diseased    | Diseased    | Healthy     | 5/21/22 | Diseased |\n",
       "| 4 | Healthy | Diseased | Dead     | Not_Visited | Not_Visited | Not_Visited | Not_Visited | Not_Visited | Not_Visited | Not_Visited | Not_Visited | 5/21/22 | 12/2/22  |\n",
       "| 5 | Healthy | Diseased | Diseased | Diseased    | Not_Visited | Not_Visited | Diseased    | Not_Visited | Diseased    | Not_Visited | Not_Visited | 5/21/22 | Diseased |\n",
       "| 6 | Healthy | Healthy  | Diseased | Dead        | Not_Visited | Not_Visited | Not_Visited | Not_Visited | Not_Visited | Not_Visited | Not_Visited | 12/2/22 | 9/25/23  |\n",
       "\n"
      ],
      "text/plain": [
       "  062019_Condition 052022_Condition 122022_Condition 092023_Condition\n",
       "1 Healthy          Diseased         Diseased         Diseased        \n",
       "2 Healthy          Healthy          Healthy          CLP,CLB         \n",
       "3 Healthy          Diseased         Healthy          Diseased        \n",
       "4 Healthy          Diseased         Dead             Not_Visited     \n",
       "5 Healthy          Diseased         Diseased         Diseased        \n",
       "6 Healthy          Healthy          Diseased         Dead            \n",
       "  112023_Condition 122023_Condition 012024_Condition 022024_Condition\n",
       "1 Not_Visited      Not_Visited      Diseased         Not_Visited     \n",
       "2 CLB              CLB              CLP,CLB          Healthy         \n",
       "3 CLP,CLB          Healthy          Healthy          DC              \n",
       "4 Not_Visited      Not_Visited      Not_Visited      Not_Visited     \n",
       "5 Not_Visited      Not_Visited      Diseased         Not_Visited     \n",
       "6 Not_Visited      Not_Visited      Not_Visited      Not_Visited     \n",
       "  042024_Condition 062024_Condition 082024_Condition Date_DocumentedDisease\n",
       "1 Diseased         Not_Visited      Not_Visited      5/21/22               \n",
       "2 Not_Visited      Healthy          Healthy          Healthy               \n",
       "3 Diseased         Diseased         Healthy          5/21/22               \n",
       "4 Not_Visited      Not_Visited      Not_Visited      5/21/22               \n",
       "5 Diseased         Not_Visited      Not_Visited      5/21/22               \n",
       "6 Not_Visited      Not_Visited      Not_Visited      12/2/22               \n",
       "  Date_DocumentedMortality\n",
       "1 Diseased                \n",
       "2 Healthy                 \n",
       "3 Diseased                \n",
       "4 12/2/22                 \n",
       "5 Diseased                \n",
       "6 9/25/23                 "
      ]
     },
     "metadata": {},
     "output_type": "display_data"
    }
   ],
   "source": [
    "# delete questionable colonies\n",
    "## dont run \n",
    "#colonies_2019 <- colonies_2019_delete %>%\n",
    " # filter(is.na(COLONIES_TO_LOOK_AT) | COLONIES_TO_LOOK_AT == \"\")\n",
    "#remove column too\n",
    "#colonies_2019$COLONIES_TO_LOOK_AT <- NULL\n",
    "\n",
    "#look at condition columns\n",
    "condition_columns <- colonies_2019 %>%\n",
    "  select(matches(\"Condition\"))\n",
    "\n",
    "head(colonies_2019[, c(names(condition_columns), \"Date_DocumentedDisease\", \"Date_DocumentedMortality\")])\n"
   ]
  },
  {
   "cell_type": "markdown",
   "id": "d6582486-c460-44e5-b993-c98692f265b9",
   "metadata": {},
   "source": [
    "### Graph for disease 2019 - 5/2023 "
   ]
  },
  {
   "cell_type": "code",
   "execution_count": 16,
   "id": "8eb3947d-2b2d-45dd-9433-d971641473c8",
   "metadata": {},
   "outputs": [
    {
     "data": {
      "text/html": [
       "<table class=\"dataframe\">\n",
       "<caption>A data.frame: 6 × 50</caption>\n",
       "<thead>\n",
       "\t<tr><th></th><th scope=col>Date_InitialTag</th><th scope=col>Transect</th><th scope=col>TransectNum</th><th scope=col>OldTagNum</th><th scope=col>NewTagNum</th><th scope=col>Species</th><th scope=col>Meter</th><th scope=col>Meters_90</th><th scope=col>Direction</th><th scope=col>Size_Class</th><th scope=col>⋯</th><th scope=col>042024_Percentage</th><th scope=col>062024_Condition</th><th scope=col>062024_Percentage</th><th scope=col>Notes_062024</th><th scope=col>082024_Condition</th><th scope=col>082024_Percentage</th><th scope=col>Notes_082024</th><th scope=col>immune_y.n</th><th scope=col>checked_colonies</th><th scope=col>Year_tagged</th></tr>\n",
       "\t<tr><th></th><th scope=col>&lt;chr&gt;</th><th scope=col>&lt;chr&gt;</th><th scope=col>&lt;int&gt;</th><th scope=col>&lt;chr&gt;</th><th scope=col>&lt;chr&gt;</th><th scope=col>&lt;chr&gt;</th><th scope=col>&lt;dbl&gt;</th><th scope=col>&lt;dbl&gt;</th><th scope=col>&lt;chr&gt;</th><th scope=col>&lt;int&gt;</th><th scope=col>⋯</th><th scope=col>&lt;chr&gt;</th><th scope=col>&lt;chr&gt;</th><th scope=col>&lt;chr&gt;</th><th scope=col>&lt;chr&gt;</th><th scope=col>&lt;chr&gt;</th><th scope=col>&lt;chr&gt;</th><th scope=col>&lt;chr&gt;</th><th scope=col>&lt;chr&gt;</th><th scope=col>&lt;chr&gt;</th><th scope=col>&lt;chr&gt;</th></tr>\n",
       "</thead>\n",
       "<tbody>\n",
       "\t<tr><th scope=row>1</th><td>6/21/19 </td><td>CBC30N</td><td>1</td><td>349</td><td>1</td><td>SSID</td><td>1.5</td><td>0.50</td><td>right</td><td> 5</td><td>⋯</td><td></td><td>Not_Visited</td><td></td><td>                               </td><td>Not_Visited</td><td></td><td>                                                                          </td><td>n</td><td>x                                                   </td><td>2019</td></tr>\n",
       "\t<tr><th scope=row>2</th><td>6/21/19 </td><td>CBC30N</td><td>1</td><td>334</td><td>2</td><td>PAST</td><td>1.4</td><td>0.10</td><td>left </td><td> 4</td><td>⋯</td><td></td><td>Healthy    </td><td></td><td>95% mort                       </td><td>Healthy    </td><td></td><td>sample lower colony (original colony); inc old mort; too small for immune </td><td>y</td><td>x                                                   </td><td>2019</td></tr>\n",
       "\t<tr><th scope=row>3</th><td>6/21/19 </td><td>CBC30N</td><td>1</td><td>346</td><td>3</td><td>SSID</td><td>6.3</td><td>0.80</td><td>right</td><td> 5</td><td>⋯</td><td></td><td>Diseased   </td><td></td><td>DC, sloughy, weird ssid disease</td><td>Healthy    </td><td></td><td>90% CLP; some discoloration                                               </td><td>y</td><td>help (DC or disease throughout? Not clp or healthy?)</td><td>2019</td></tr>\n",
       "\t<tr><th scope=row>4</th><td>10/15/19</td><td>CBC30N</td><td>1</td><td>407</td><td>4</td><td>PSTR</td><td>6.5</td><td>0.50</td><td>right</td><td> 3</td><td>⋯</td><td></td><td>Not_Visited</td><td></td><td>                               </td><td>Not_Visited</td><td></td><td>                                                                          </td><td>n</td><td>x                                                   </td><td>2019</td></tr>\n",
       "\t<tr><th scope=row>5</th><td>6/24/19 </td><td>CBC30N</td><td>1</td><td>394</td><td>5</td><td>SSID</td><td>4.3</td><td>1.20</td><td>left </td><td> 5</td><td>⋯</td><td></td><td>Not_Visited</td><td></td><td>                               </td><td>Not_Visited</td><td></td><td>                                                                          </td><td>n</td><td>x                                                   </td><td>2019</td></tr>\n",
       "\t<tr><th scope=row>6</th><td>10/15/19</td><td>CBC30N</td><td>1</td><td>413</td><td>6</td><td>PSTR</td><td>8.3</td><td>1.75</td><td>left </td><td>NA</td><td>⋯</td><td></td><td>Not_Visited</td><td></td><td>                               </td><td>Not_Visited</td><td></td><td>                                                                          </td><td>n</td><td>x                                                   </td><td>2019</td></tr>\n",
       "</tbody>\n",
       "</table>\n"
      ],
      "text/latex": [
       "A data.frame: 6 × 50\n",
       "\\begin{tabular}{r|lllllllllllllllllllll}\n",
       "  & Date\\_InitialTag & Transect & TransectNum & OldTagNum & NewTagNum & Species & Meter & Meters\\_90 & Direction & Size\\_Class & ⋯ & 042024\\_Percentage & 062024\\_Condition & 062024\\_Percentage & Notes\\_062024 & 082024\\_Condition & 082024\\_Percentage & Notes\\_082024 & immune\\_y.n & checked\\_colonies & Year\\_tagged\\\\\n",
       "  & <chr> & <chr> & <int> & <chr> & <chr> & <chr> & <dbl> & <dbl> & <chr> & <int> & ⋯ & <chr> & <chr> & <chr> & <chr> & <chr> & <chr> & <chr> & <chr> & <chr> & <chr>\\\\\n",
       "\\hline\n",
       "\t1 & 6/21/19  & CBC30N & 1 & 349 & 1 & SSID & 1.5 & 0.50 & right &  5 & ⋯ &  & Not\\_Visited &  &                                 & Not\\_Visited &  &                                                                            & n & x                                                    & 2019\\\\\n",
       "\t2 & 6/21/19  & CBC30N & 1 & 334 & 2 & PAST & 1.4 & 0.10 & left  &  4 & ⋯ &  & Healthy     &  & 95\\% mort                        & Healthy     &  & sample lower colony (original colony); inc old mort; too small for immune  & y & x                                                    & 2019\\\\\n",
       "\t3 & 6/21/19  & CBC30N & 1 & 346 & 3 & SSID & 6.3 & 0.80 & right &  5 & ⋯ &  & Diseased    &  & DC, sloughy, weird ssid disease & Healthy     &  & 90\\% CLP; some discoloration                                                & y & help (DC or disease throughout? Not clp or healthy?) & 2019\\\\\n",
       "\t4 & 10/15/19 & CBC30N & 1 & 407 & 4 & PSTR & 6.5 & 0.50 & right &  3 & ⋯ &  & Not\\_Visited &  &                                 & Not\\_Visited &  &                                                                            & n & x                                                    & 2019\\\\\n",
       "\t5 & 6/24/19  & CBC30N & 1 & 394 & 5 & SSID & 4.3 & 1.20 & left  &  5 & ⋯ &  & Not\\_Visited &  &                                 & Not\\_Visited &  &                                                                            & n & x                                                    & 2019\\\\\n",
       "\t6 & 10/15/19 & CBC30N & 1 & 413 & 6 & PSTR & 8.3 & 1.75 & left  & NA & ⋯ &  & Not\\_Visited &  &                                 & Not\\_Visited &  &                                                                            & n & x                                                    & 2019\\\\\n",
       "\\end{tabular}\n"
      ],
      "text/markdown": [
       "\n",
       "A data.frame: 6 × 50\n",
       "\n",
       "| <!--/--> | Date_InitialTag &lt;chr&gt; | Transect &lt;chr&gt; | TransectNum &lt;int&gt; | OldTagNum &lt;chr&gt; | NewTagNum &lt;chr&gt; | Species &lt;chr&gt; | Meter &lt;dbl&gt; | Meters_90 &lt;dbl&gt; | Direction &lt;chr&gt; | Size_Class &lt;int&gt; | ⋯ ⋯ | 042024_Percentage &lt;chr&gt; | 062024_Condition &lt;chr&gt; | 062024_Percentage &lt;chr&gt; | Notes_062024 &lt;chr&gt; | 082024_Condition &lt;chr&gt; | 082024_Percentage &lt;chr&gt; | Notes_082024 &lt;chr&gt; | immune_y.n &lt;chr&gt; | checked_colonies &lt;chr&gt; | Year_tagged &lt;chr&gt; |\n",
       "|---|---|---|---|---|---|---|---|---|---|---|---|---|---|---|---|---|---|---|---|---|---|\n",
       "| 1 | 6/21/19  | CBC30N | 1 | 349 | 1 | SSID | 1.5 | 0.50 | right |  5 | ⋯ | <!----> | Not_Visited | <!----> | <!----> | Not_Visited | <!----> | <!----> | n | x                                                    | 2019 |\n",
       "| 2 | 6/21/19  | CBC30N | 1 | 334 | 2 | PAST | 1.4 | 0.10 | left  |  4 | ⋯ | <!----> | Healthy     | <!----> | 95% mort                        | Healthy     | <!----> | sample lower colony (original colony); inc old mort; too small for immune  | y | x                                                    | 2019 |\n",
       "| 3 | 6/21/19  | CBC30N | 1 | 346 | 3 | SSID | 6.3 | 0.80 | right |  5 | ⋯ | <!----> | Diseased    | <!----> | DC, sloughy, weird ssid disease | Healthy     | <!----> | 90% CLP; some discoloration                                                | y | help (DC or disease throughout? Not clp or healthy?) | 2019 |\n",
       "| 4 | 10/15/19 | CBC30N | 1 | 407 | 4 | PSTR | 6.5 | 0.50 | right |  3 | ⋯ | <!----> | Not_Visited | <!----> | <!----> | Not_Visited | <!----> | <!----> | n | x                                                    | 2019 |\n",
       "| 5 | 6/24/19  | CBC30N | 1 | 394 | 5 | SSID | 4.3 | 1.20 | left  |  5 | ⋯ | <!----> | Not_Visited | <!----> | <!----> | Not_Visited | <!----> | <!----> | n | x                                                    | 2019 |\n",
       "| 6 | 10/15/19 | CBC30N | 1 | 413 | 6 | PSTR | 8.3 | 1.75 | left  | NA | ⋯ | <!----> | Not_Visited | <!----> | <!----> | Not_Visited | <!----> | <!----> | n | x                                                    | 2019 |\n",
       "\n"
      ],
      "text/plain": [
       "  Date_InitialTag Transect TransectNum OldTagNum NewTagNum Species Meter\n",
       "1 6/21/19         CBC30N   1           349       1         SSID    1.5  \n",
       "2 6/21/19         CBC30N   1           334       2         PAST    1.4  \n",
       "3 6/21/19         CBC30N   1           346       3         SSID    6.3  \n",
       "4 10/15/19        CBC30N   1           407       4         PSTR    6.5  \n",
       "5 6/24/19         CBC30N   1           394       5         SSID    4.3  \n",
       "6 10/15/19        CBC30N   1           413       6         PSTR    8.3  \n",
       "  Meters_90 Direction Size_Class ⋯ 042024_Percentage 062024_Condition\n",
       "1 0.50      right      5         ⋯                   Not_Visited     \n",
       "2 0.10      left       4         ⋯                   Healthy         \n",
       "3 0.80      right      5         ⋯                   Diseased        \n",
       "4 0.50      right      3         ⋯                   Not_Visited     \n",
       "5 1.20      left       5         ⋯                   Not_Visited     \n",
       "6 1.75      left      NA         ⋯                   Not_Visited     \n",
       "  062024_Percentage Notes_062024                    082024_Condition\n",
       "1                                                   Not_Visited     \n",
       "2                   95% mort                        Healthy         \n",
       "3                   DC, sloughy, weird ssid disease Healthy         \n",
       "4                                                   Not_Visited     \n",
       "5                                                   Not_Visited     \n",
       "6                                                   Not_Visited     \n",
       "  082024_Percentage\n",
       "1                  \n",
       "2                  \n",
       "3                  \n",
       "4                  \n",
       "5                  \n",
       "6                  \n",
       "  Notes_082024                                                              \n",
       "1                                                                           \n",
       "2 sample lower colony (original colony); inc old mort; too small for immune \n",
       "3 90% CLP; some discoloration                                               \n",
       "4                                                                           \n",
       "5                                                                           \n",
       "6                                                                           \n",
       "  immune_y.n checked_colonies                                     Year_tagged\n",
       "1 n          x                                                    2019       \n",
       "2 y          x                                                    2019       \n",
       "3 y          help (DC or disease throughout? Not clp or healthy?) 2019       \n",
       "4 n          x                                                    2019       \n",
       "5 n          x                                                    2019       \n",
       "6 n          x                                                    2019       "
      ]
     },
     "metadata": {},
     "output_type": "display_data"
    },
    {
     "data": {
      "text/html": [
       "<style>\n",
       ".list-inline {list-style: none; margin:0; padding: 0}\n",
       ".list-inline>li {display: inline-block}\n",
       ".list-inline>li:not(:last-child)::after {content: \"\\00b7\"; padding: 0 .5ex}\n",
       "</style>\n",
       "<ol class=list-inline><li>'Date_InitialTag'</li><li>'Transect'</li><li>'TransectNum'</li><li>'OldTagNum'</li><li>'NewTagNum'</li><li>'Species'</li><li>'Meter'</li><li>'Meters_90'</li><li>'Direction'</li><li>'Size_Class'</li><li>'MaxDiameter'</li><li>'Height'</li><li>'Date_DocumentedDisease'</li><li>'Date_DocumentedMortality'</li><li>'Notes_062019'</li><li>'062019_Condition'</li><li>'062019_Percentage'</li><li>'Notes_052022'</li><li>'052022_Condition'</li><li>'052022_Percentage'</li><li>'Notes_122022'</li><li>'122022_Condition'</li><li>'122022_Percentage'</li><li>'Notes_092023'</li><li>'092023_Condition'</li><li>'092023_Percentage'</li><li>'Notes_112023'</li><li>'112023_Condition'</li><li>'112023_Percentage'</li><li>'Notes_122023'</li><li>'122023_Condition'</li><li>'122023_Percentage'</li><li>'Notes_012024'</li><li>'012024_Condition'</li><li>'012024_Percentage'</li><li>'Notes_022024'</li><li>'022024_Condition'</li><li>'022024_Percentage'</li><li>'Notes_042024'</li><li>'042024_Condition'</li><li>'042024_Percentage'</li><li>'062024_Condition'</li><li>'062024_Percentage'</li><li>'Notes_062024'</li><li>'082024_Condition'</li><li>'082024_Percentage'</li><li>'Notes_082024'</li><li>'immune_y.n'</li><li>'checked_colonies'</li><li>'Year_tagged'</li></ol>\n"
      ],
      "text/latex": [
       "\\begin{enumerate*}\n",
       "\\item 'Date\\_InitialTag'\n",
       "\\item 'Transect'\n",
       "\\item 'TransectNum'\n",
       "\\item 'OldTagNum'\n",
       "\\item 'NewTagNum'\n",
       "\\item 'Species'\n",
       "\\item 'Meter'\n",
       "\\item 'Meters\\_90'\n",
       "\\item 'Direction'\n",
       "\\item 'Size\\_Class'\n",
       "\\item 'MaxDiameter'\n",
       "\\item 'Height'\n",
       "\\item 'Date\\_DocumentedDisease'\n",
       "\\item 'Date\\_DocumentedMortality'\n",
       "\\item 'Notes\\_062019'\n",
       "\\item '062019\\_Condition'\n",
       "\\item '062019\\_Percentage'\n",
       "\\item 'Notes\\_052022'\n",
       "\\item '052022\\_Condition'\n",
       "\\item '052022\\_Percentage'\n",
       "\\item 'Notes\\_122022'\n",
       "\\item '122022\\_Condition'\n",
       "\\item '122022\\_Percentage'\n",
       "\\item 'Notes\\_092023'\n",
       "\\item '092023\\_Condition'\n",
       "\\item '092023\\_Percentage'\n",
       "\\item 'Notes\\_112023'\n",
       "\\item '112023\\_Condition'\n",
       "\\item '112023\\_Percentage'\n",
       "\\item 'Notes\\_122023'\n",
       "\\item '122023\\_Condition'\n",
       "\\item '122023\\_Percentage'\n",
       "\\item 'Notes\\_012024'\n",
       "\\item '012024\\_Condition'\n",
       "\\item '012024\\_Percentage'\n",
       "\\item 'Notes\\_022024'\n",
       "\\item '022024\\_Condition'\n",
       "\\item '022024\\_Percentage'\n",
       "\\item 'Notes\\_042024'\n",
       "\\item '042024\\_Condition'\n",
       "\\item '042024\\_Percentage'\n",
       "\\item '062024\\_Condition'\n",
       "\\item '062024\\_Percentage'\n",
       "\\item 'Notes\\_062024'\n",
       "\\item '082024\\_Condition'\n",
       "\\item '082024\\_Percentage'\n",
       "\\item 'Notes\\_082024'\n",
       "\\item 'immune\\_y.n'\n",
       "\\item 'checked\\_colonies'\n",
       "\\item 'Year\\_tagged'\n",
       "\\end{enumerate*}\n"
      ],
      "text/markdown": [
       "1. 'Date_InitialTag'\n",
       "2. 'Transect'\n",
       "3. 'TransectNum'\n",
       "4. 'OldTagNum'\n",
       "5. 'NewTagNum'\n",
       "6. 'Species'\n",
       "7. 'Meter'\n",
       "8. 'Meters_90'\n",
       "9. 'Direction'\n",
       "10. 'Size_Class'\n",
       "11. 'MaxDiameter'\n",
       "12. 'Height'\n",
       "13. 'Date_DocumentedDisease'\n",
       "14. 'Date_DocumentedMortality'\n",
       "15. 'Notes_062019'\n",
       "16. '062019_Condition'\n",
       "17. '062019_Percentage'\n",
       "18. 'Notes_052022'\n",
       "19. '052022_Condition'\n",
       "20. '052022_Percentage'\n",
       "21. 'Notes_122022'\n",
       "22. '122022_Condition'\n",
       "23. '122022_Percentage'\n",
       "24. 'Notes_092023'\n",
       "25. '092023_Condition'\n",
       "26. '092023_Percentage'\n",
       "27. 'Notes_112023'\n",
       "28. '112023_Condition'\n",
       "29. '112023_Percentage'\n",
       "30. 'Notes_122023'\n",
       "31. '122023_Condition'\n",
       "32. '122023_Percentage'\n",
       "33. 'Notes_012024'\n",
       "34. '012024_Condition'\n",
       "35. '012024_Percentage'\n",
       "36. 'Notes_022024'\n",
       "37. '022024_Condition'\n",
       "38. '022024_Percentage'\n",
       "39. 'Notes_042024'\n",
       "40. '042024_Condition'\n",
       "41. '042024_Percentage'\n",
       "42. '062024_Condition'\n",
       "43. '062024_Percentage'\n",
       "44. 'Notes_062024'\n",
       "45. '082024_Condition'\n",
       "46. '082024_Percentage'\n",
       "47. 'Notes_082024'\n",
       "48. 'immune_y.n'\n",
       "49. 'checked_colonies'\n",
       "50. 'Year_tagged'\n",
       "\n",
       "\n"
      ],
      "text/plain": [
       " [1] \"Date_InitialTag\"          \"Transect\"                \n",
       " [3] \"TransectNum\"              \"OldTagNum\"               \n",
       " [5] \"NewTagNum\"                \"Species\"                 \n",
       " [7] \"Meter\"                    \"Meters_90\"               \n",
       " [9] \"Direction\"                \"Size_Class\"              \n",
       "[11] \"MaxDiameter\"              \"Height\"                  \n",
       "[13] \"Date_DocumentedDisease\"   \"Date_DocumentedMortality\"\n",
       "[15] \"Notes_062019\"             \"062019_Condition\"        \n",
       "[17] \"062019_Percentage\"        \"Notes_052022\"            \n",
       "[19] \"052022_Condition\"         \"052022_Percentage\"       \n",
       "[21] \"Notes_122022\"             \"122022_Condition\"        \n",
       "[23] \"122022_Percentage\"        \"Notes_092023\"            \n",
       "[25] \"092023_Condition\"         \"092023_Percentage\"       \n",
       "[27] \"Notes_112023\"             \"112023_Condition\"        \n",
       "[29] \"112023_Percentage\"        \"Notes_122023\"            \n",
       "[31] \"122023_Condition\"         \"122023_Percentage\"       \n",
       "[33] \"Notes_012024\"             \"012024_Condition\"        \n",
       "[35] \"012024_Percentage\"        \"Notes_022024\"            \n",
       "[37] \"022024_Condition\"         \"022024_Percentage\"       \n",
       "[39] \"Notes_042024\"             \"042024_Condition\"        \n",
       "[41] \"042024_Percentage\"        \"062024_Condition\"        \n",
       "[43] \"062024_Percentage\"        \"Notes_062024\"            \n",
       "[45] \"082024_Condition\"         \"082024_Percentage\"       \n",
       "[47] \"Notes_082024\"             \"immune_y.n\"              \n",
       "[49] \"checked_colonies\"         \"Year_tagged\"             "
      ]
     },
     "metadata": {},
     "output_type": "display_data"
    }
   ],
   "source": [
    "head(colonies_2019)\n",
    "colnames(colonies_2019)"
   ]
  },
  {
   "cell_type": "code",
   "execution_count": 17,
   "id": "1dd69fed-9d09-47d8-8ec5-1a85d5dfa54a",
   "metadata": {},
   "outputs": [
    {
     "data": {
      "text/html": [
       "<table class=\"dataframe\">\n",
       "<caption>A data.frame: 6 × 3</caption>\n",
       "<thead>\n",
       "\t<tr><th></th><th scope=col>062019_Condition</th><th scope=col>052022_Condition</th><th scope=col>122022_Condition</th></tr>\n",
       "\t<tr><th></th><th scope=col>&lt;chr&gt;</th><th scope=col>&lt;chr&gt;</th><th scope=col>&lt;chr&gt;</th></tr>\n",
       "</thead>\n",
       "<tbody>\n",
       "\t<tr><th scope=row>1</th><td>Healthy</td><td>Diseased</td><td>Diseased</td></tr>\n",
       "\t<tr><th scope=row>2</th><td>Healthy</td><td>Healthy </td><td>Healthy </td></tr>\n",
       "\t<tr><th scope=row>3</th><td>Healthy</td><td>Diseased</td><td>Healthy </td></tr>\n",
       "\t<tr><th scope=row>4</th><td>Healthy</td><td>Diseased</td><td>Dead    </td></tr>\n",
       "\t<tr><th scope=row>5</th><td>Healthy</td><td>Diseased</td><td>Diseased</td></tr>\n",
       "\t<tr><th scope=row>6</th><td>Healthy</td><td>Healthy </td><td>Diseased</td></tr>\n",
       "</tbody>\n",
       "</table>\n"
      ],
      "text/latex": [
       "A data.frame: 6 × 3\n",
       "\\begin{tabular}{r|lll}\n",
       "  & 062019\\_Condition & 052022\\_Condition & 122022\\_Condition\\\\\n",
       "  & <chr> & <chr> & <chr>\\\\\n",
       "\\hline\n",
       "\t1 & Healthy & Diseased & Diseased\\\\\n",
       "\t2 & Healthy & Healthy  & Healthy \\\\\n",
       "\t3 & Healthy & Diseased & Healthy \\\\\n",
       "\t4 & Healthy & Diseased & Dead    \\\\\n",
       "\t5 & Healthy & Diseased & Diseased\\\\\n",
       "\t6 & Healthy & Healthy  & Diseased\\\\\n",
       "\\end{tabular}\n"
      ],
      "text/markdown": [
       "\n",
       "A data.frame: 6 × 3\n",
       "\n",
       "| <!--/--> | 062019_Condition &lt;chr&gt; | 052022_Condition &lt;chr&gt; | 122022_Condition &lt;chr&gt; |\n",
       "|---|---|---|---|\n",
       "| 1 | Healthy | Diseased | Diseased |\n",
       "| 2 | Healthy | Healthy  | Healthy  |\n",
       "| 3 | Healthy | Diseased | Healthy  |\n",
       "| 4 | Healthy | Diseased | Dead     |\n",
       "| 5 | Healthy | Diseased | Diseased |\n",
       "| 6 | Healthy | Healthy  | Diseased |\n",
       "\n"
      ],
      "text/plain": [
       "  062019_Condition 052022_Condition 122022_Condition\n",
       "1 Healthy          Diseased         Diseased        \n",
       "2 Healthy          Healthy          Healthy         \n",
       "3 Healthy          Diseased         Healthy         \n",
       "4 Healthy          Diseased         Dead            \n",
       "5 Healthy          Diseased         Diseased        \n",
       "6 Healthy          Healthy          Diseased        "
      ]
     },
     "metadata": {},
     "output_type": "display_data"
    }
   ],
   "source": [
    "# select columns up to where disease stops and bleaching starts - 05/2023\n",
    "disease_columns <- names(colonies_2019)[names(colonies_2019) %in% c('062019_Condition', '052022_Condition', '122022_Condition', '052023_Condition')]\n",
    "disease_df<-colonies_2019[,disease_columns]\n",
    "head(disease_df)"
   ]
  },
  {
   "cell_type": "code",
   "execution_count": 18,
   "id": "4ad8173f-fbc2-4304-928c-7e965172f4ca",
   "metadata": {},
   "outputs": [
    {
     "name": "stdout",
     "output_type": "stream",
     "text": [
      "[1] \"Jun 2019\"\n"
     ]
    }
   ],
   "source": [
    "convert_to_date <- function(col_name) {\n",
    "  # Extract month and year from the column name\n",
    "  month_year <- substr(col_name, 1, 6)\n",
    "  month <- substr(month_year, 1, 2)\n",
    "  year <- substr(month_year, 3, 6)\n",
    "  \n",
    "  # Define a vector of month abbreviations\n",
    "  month_names <- c(\"Jan\", \"Feb\", \"Mar\", \"Apr\", \"May\", \"Jun\", \n",
    "                   \"Jul\", \"Aug\", \"Sep\", \"Oct\", \"Nov\", \"Dec\")\n",
    "  \n",
    "  # Get the month abbreviation using the month index\n",
    "  month_name <- month_names[as.numeric(month)]\n",
    "  \n",
    "  # Construct and return the formatted date\n",
    "  return(paste(month_name, year))\n",
    "}\n",
    "\n",
    "# Test the function with a sample column name\n",
    "test_col_name <- \"062019_Condition\"\n",
    "converted_date <- convert_to_date(test_col_name)\n",
    "print(converted_date)  # Check the converted date\n"
   ]
  },
  {
   "cell_type": "code",
   "execution_count": 19,
   "id": "98e8eab8-6659-4e27-b3cc-2930e9705ee7",
   "metadata": {},
   "outputs": [
    {
     "data": {
      "text/html": [
       "<table class=\"dataframe\">\n",
       "<caption>A data.frame: 6 × 3</caption>\n",
       "<thead>\n",
       "\t<tr><th></th><th scope=col>Jun 2019</th><th scope=col>May 2022</th><th scope=col>Dec 2022</th></tr>\n",
       "\t<tr><th></th><th scope=col>&lt;chr&gt;</th><th scope=col>&lt;chr&gt;</th><th scope=col>&lt;chr&gt;</th></tr>\n",
       "</thead>\n",
       "<tbody>\n",
       "\t<tr><th scope=row>1</th><td>Healthy</td><td>Diseased</td><td>Diseased</td></tr>\n",
       "\t<tr><th scope=row>2</th><td>Healthy</td><td>Healthy </td><td>Healthy </td></tr>\n",
       "\t<tr><th scope=row>3</th><td>Healthy</td><td>Diseased</td><td>Healthy </td></tr>\n",
       "\t<tr><th scope=row>4</th><td>Healthy</td><td>Diseased</td><td>Dead    </td></tr>\n",
       "\t<tr><th scope=row>5</th><td>Healthy</td><td>Diseased</td><td>Diseased</td></tr>\n",
       "\t<tr><th scope=row>6</th><td>Healthy</td><td>Healthy </td><td>Diseased</td></tr>\n",
       "</tbody>\n",
       "</table>\n"
      ],
      "text/latex": [
       "A data.frame: 6 × 3\n",
       "\\begin{tabular}{r|lll}\n",
       "  & Jun 2019 & May 2022 & Dec 2022\\\\\n",
       "  & <chr> & <chr> & <chr>\\\\\n",
       "\\hline\n",
       "\t1 & Healthy & Diseased & Diseased\\\\\n",
       "\t2 & Healthy & Healthy  & Healthy \\\\\n",
       "\t3 & Healthy & Diseased & Healthy \\\\\n",
       "\t4 & Healthy & Diseased & Dead    \\\\\n",
       "\t5 & Healthy & Diseased & Diseased\\\\\n",
       "\t6 & Healthy & Healthy  & Diseased\\\\\n",
       "\\end{tabular}\n"
      ],
      "text/markdown": [
       "\n",
       "A data.frame: 6 × 3\n",
       "\n",
       "| <!--/--> | Jun 2019 &lt;chr&gt; | May 2022 &lt;chr&gt; | Dec 2022 &lt;chr&gt; |\n",
       "|---|---|---|---|\n",
       "| 1 | Healthy | Diseased | Diseased |\n",
       "| 2 | Healthy | Healthy  | Healthy  |\n",
       "| 3 | Healthy | Diseased | Healthy  |\n",
       "| 4 | Healthy | Diseased | Dead     |\n",
       "| 5 | Healthy | Diseased | Diseased |\n",
       "| 6 | Healthy | Healthy  | Diseased |\n",
       "\n"
      ],
      "text/plain": [
       "  Jun 2019 May 2022 Dec 2022\n",
       "1 Healthy  Diseased Diseased\n",
       "2 Healthy  Healthy  Healthy \n",
       "3 Healthy  Diseased Healthy \n",
       "4 Healthy  Diseased Dead    \n",
       "5 Healthy  Diseased Diseased\n",
       "6 Healthy  Healthy  Diseased"
      ]
     },
     "metadata": {},
     "output_type": "display_data"
    }
   ],
   "source": [
    "colnames(disease_df) <- sapply(colnames(disease_df), convert_to_date)\n",
    "head(disease_df)"
   ]
  },
  {
   "cell_type": "code",
   "execution_count": 20,
   "id": "444306ab-a1dd-4ab5-b7eb-e5f8188d3b7a",
   "metadata": {},
   "outputs": [
    {
     "data": {
      "text/html": [
       "<style>\n",
       ".list-inline {list-style: none; margin:0; padding: 0}\n",
       ".list-inline>li {display: inline-block}\n",
       ".list-inline>li:not(:last-child)::after {content: \"\\00b7\"; padding: 0 .5ex}\n",
       "</style>\n",
       "<ol class=list-inline><li>'062019_Condition'</li><li>'052022_Condition'</li><li>'122022_Condition'</li><li>'092023_Condition'</li><li>'112023_Condition'</li><li>'122023_Condition'</li><li>'012024_Condition'</li><li>'022024_Condition'</li><li>'042024_Condition'</li><li>'062024_Condition'</li><li>'082024_Condition'</li></ol>\n"
      ],
      "text/latex": [
       "\\begin{enumerate*}\n",
       "\\item '062019\\_Condition'\n",
       "\\item '052022\\_Condition'\n",
       "\\item '122022\\_Condition'\n",
       "\\item '092023\\_Condition'\n",
       "\\item '112023\\_Condition'\n",
       "\\item '122023\\_Condition'\n",
       "\\item '012024\\_Condition'\n",
       "\\item '022024\\_Condition'\n",
       "\\item '042024\\_Condition'\n",
       "\\item '062024\\_Condition'\n",
       "\\item '082024\\_Condition'\n",
       "\\end{enumerate*}\n"
      ],
      "text/markdown": [
       "1. '062019_Condition'\n",
       "2. '052022_Condition'\n",
       "3. '122022_Condition'\n",
       "4. '092023_Condition'\n",
       "5. '112023_Condition'\n",
       "6. '122023_Condition'\n",
       "7. '012024_Condition'\n",
       "8. '022024_Condition'\n",
       "9. '042024_Condition'\n",
       "10. '062024_Condition'\n",
       "11. '082024_Condition'\n",
       "\n",
       "\n"
      ],
      "text/plain": [
       " [1] \"062019_Condition\" \"052022_Condition\" \"122022_Condition\" \"092023_Condition\"\n",
       " [5] \"112023_Condition\" \"122023_Condition\" \"012024_Condition\" \"022024_Condition\"\n",
       " [9] \"042024_Condition\" \"062024_Condition\" \"082024_Condition\""
      ]
     },
     "metadata": {},
     "output_type": "display_data"
    }
   ],
   "source": [
    "#select datecondition columns \n",
    "# Find column names that contain \"Condition\"\n",
    "condition_columns <- grep(\"Condition\", names(colonies_2019), value = TRUE)\n",
    "condition_columns"
   ]
  },
  {
   "cell_type": "code",
   "execution_count": 21,
   "id": "402b0f8d-b01c-4b32-bc62-38ff3743102d",
   "metadata": {},
   "outputs": [],
   "source": [
    "# create df with all conditions\n",
    "condition_df<-colonies_2019[condition_columns]"
   ]
  },
  {
   "cell_type": "code",
   "execution_count": 22,
   "id": "a10e4cd3-b4f4-495f-b9ed-d1e0798ea807",
   "metadata": {},
   "outputs": [
    {
     "data": {
      "text/html": [
       "<table class=\"dataframe\">\n",
       "<caption>A data.frame: 6 × 11</caption>\n",
       "<thead>\n",
       "\t<tr><th></th><th scope=col>Jun 2019</th><th scope=col>May 2022</th><th scope=col>Dec 2022</th><th scope=col>Sep 2023</th><th scope=col>Nov 2023</th><th scope=col>Dec 2023</th><th scope=col>Jan 2024</th><th scope=col>Feb 2024</th><th scope=col>Apr 2024</th><th scope=col>Jun 2024</th><th scope=col>Aug 2024</th></tr>\n",
       "\t<tr><th></th><th scope=col>&lt;chr&gt;</th><th scope=col>&lt;chr&gt;</th><th scope=col>&lt;chr&gt;</th><th scope=col>&lt;chr&gt;</th><th scope=col>&lt;chr&gt;</th><th scope=col>&lt;chr&gt;</th><th scope=col>&lt;chr&gt;</th><th scope=col>&lt;chr&gt;</th><th scope=col>&lt;chr&gt;</th><th scope=col>&lt;chr&gt;</th><th scope=col>&lt;chr&gt;</th></tr>\n",
       "</thead>\n",
       "<tbody>\n",
       "\t<tr><th scope=row>1</th><td>Healthy</td><td>Diseased</td><td>Diseased</td><td>Diseased   </td><td>Not_Visited</td><td>Not_Visited</td><td>Diseased   </td><td>Not_Visited</td><td>Diseased   </td><td>Not_Visited</td><td>Not_Visited</td></tr>\n",
       "\t<tr><th scope=row>2</th><td>Healthy</td><td>Healthy </td><td>Healthy </td><td>CLP,CLB    </td><td>CLB        </td><td>CLB        </td><td>CLP,CLB    </td><td>Healthy    </td><td>Not_Visited</td><td>Healthy    </td><td>Healthy    </td></tr>\n",
       "\t<tr><th scope=row>3</th><td>Healthy</td><td>Diseased</td><td>Healthy </td><td>Diseased   </td><td>CLP,CLB    </td><td>Healthy    </td><td>Healthy    </td><td>DC         </td><td>Diseased   </td><td>Diseased   </td><td>Healthy    </td></tr>\n",
       "\t<tr><th scope=row>4</th><td>Healthy</td><td>Diseased</td><td>Dead    </td><td>Not_Visited</td><td>Not_Visited</td><td>Not_Visited</td><td>Not_Visited</td><td>Not_Visited</td><td>Not_Visited</td><td>Not_Visited</td><td>Not_Visited</td></tr>\n",
       "\t<tr><th scope=row>5</th><td>Healthy</td><td>Diseased</td><td>Diseased</td><td>Diseased   </td><td>Not_Visited</td><td>Not_Visited</td><td>Diseased   </td><td>Not_Visited</td><td>Diseased   </td><td>Not_Visited</td><td>Not_Visited</td></tr>\n",
       "\t<tr><th scope=row>6</th><td>Healthy</td><td>Healthy </td><td>Diseased</td><td>Dead       </td><td>Not_Visited</td><td>Not_Visited</td><td>Not_Visited</td><td>Not_Visited</td><td>Not_Visited</td><td>Not_Visited</td><td>Not_Visited</td></tr>\n",
       "</tbody>\n",
       "</table>\n"
      ],
      "text/latex": [
       "A data.frame: 6 × 11\n",
       "\\begin{tabular}{r|lllllllllll}\n",
       "  & Jun 2019 & May 2022 & Dec 2022 & Sep 2023 & Nov 2023 & Dec 2023 & Jan 2024 & Feb 2024 & Apr 2024 & Jun 2024 & Aug 2024\\\\\n",
       "  & <chr> & <chr> & <chr> & <chr> & <chr> & <chr> & <chr> & <chr> & <chr> & <chr> & <chr>\\\\\n",
       "\\hline\n",
       "\t1 & Healthy & Diseased & Diseased & Diseased    & Not\\_Visited & Not\\_Visited & Diseased    & Not\\_Visited & Diseased    & Not\\_Visited & Not\\_Visited\\\\\n",
       "\t2 & Healthy & Healthy  & Healthy  & CLP,CLB     & CLB         & CLB         & CLP,CLB     & Healthy     & Not\\_Visited & Healthy     & Healthy    \\\\\n",
       "\t3 & Healthy & Diseased & Healthy  & Diseased    & CLP,CLB     & Healthy     & Healthy     & DC          & Diseased    & Diseased    & Healthy    \\\\\n",
       "\t4 & Healthy & Diseased & Dead     & Not\\_Visited & Not\\_Visited & Not\\_Visited & Not\\_Visited & Not\\_Visited & Not\\_Visited & Not\\_Visited & Not\\_Visited\\\\\n",
       "\t5 & Healthy & Diseased & Diseased & Diseased    & Not\\_Visited & Not\\_Visited & Diseased    & Not\\_Visited & Diseased    & Not\\_Visited & Not\\_Visited\\\\\n",
       "\t6 & Healthy & Healthy  & Diseased & Dead        & Not\\_Visited & Not\\_Visited & Not\\_Visited & Not\\_Visited & Not\\_Visited & Not\\_Visited & Not\\_Visited\\\\\n",
       "\\end{tabular}\n"
      ],
      "text/markdown": [
       "\n",
       "A data.frame: 6 × 11\n",
       "\n",
       "| <!--/--> | Jun 2019 &lt;chr&gt; | May 2022 &lt;chr&gt; | Dec 2022 &lt;chr&gt; | Sep 2023 &lt;chr&gt; | Nov 2023 &lt;chr&gt; | Dec 2023 &lt;chr&gt; | Jan 2024 &lt;chr&gt; | Feb 2024 &lt;chr&gt; | Apr 2024 &lt;chr&gt; | Jun 2024 &lt;chr&gt; | Aug 2024 &lt;chr&gt; |\n",
       "|---|---|---|---|---|---|---|---|---|---|---|---|\n",
       "| 1 | Healthy | Diseased | Diseased | Diseased    | Not_Visited | Not_Visited | Diseased    | Not_Visited | Diseased    | Not_Visited | Not_Visited |\n",
       "| 2 | Healthy | Healthy  | Healthy  | CLP,CLB     | CLB         | CLB         | CLP,CLB     | Healthy     | Not_Visited | Healthy     | Healthy     |\n",
       "| 3 | Healthy | Diseased | Healthy  | Diseased    | CLP,CLB     | Healthy     | Healthy     | DC          | Diseased    | Diseased    | Healthy     |\n",
       "| 4 | Healthy | Diseased | Dead     | Not_Visited | Not_Visited | Not_Visited | Not_Visited | Not_Visited | Not_Visited | Not_Visited | Not_Visited |\n",
       "| 5 | Healthy | Diseased | Diseased | Diseased    | Not_Visited | Not_Visited | Diseased    | Not_Visited | Diseased    | Not_Visited | Not_Visited |\n",
       "| 6 | Healthy | Healthy  | Diseased | Dead        | Not_Visited | Not_Visited | Not_Visited | Not_Visited | Not_Visited | Not_Visited | Not_Visited |\n",
       "\n"
      ],
      "text/plain": [
       "  Jun 2019 May 2022 Dec 2022 Sep 2023    Nov 2023    Dec 2023    Jan 2024   \n",
       "1 Healthy  Diseased Diseased Diseased    Not_Visited Not_Visited Diseased   \n",
       "2 Healthy  Healthy  Healthy  CLP,CLB     CLB         CLB         CLP,CLB    \n",
       "3 Healthy  Diseased Healthy  Diseased    CLP,CLB     Healthy     Healthy    \n",
       "4 Healthy  Diseased Dead     Not_Visited Not_Visited Not_Visited Not_Visited\n",
       "5 Healthy  Diseased Diseased Diseased    Not_Visited Not_Visited Diseased   \n",
       "6 Healthy  Healthy  Diseased Dead        Not_Visited Not_Visited Not_Visited\n",
       "  Feb 2024    Apr 2024    Jun 2024    Aug 2024   \n",
       "1 Not_Visited Diseased    Not_Visited Not_Visited\n",
       "2 Healthy     Not_Visited Healthy     Healthy    \n",
       "3 DC          Diseased    Diseased    Healthy    \n",
       "4 Not_Visited Not_Visited Not_Visited Not_Visited\n",
       "5 Not_Visited Diseased    Not_Visited Not_Visited\n",
       "6 Not_Visited Not_Visited Not_Visited Not_Visited"
      ]
     },
     "metadata": {},
     "output_type": "display_data"
    }
   ],
   "source": [
    "# convert colnames (dates)\n",
    "colnames(condition_df) <- sapply(colnames(condition_df), convert_to_date)\n",
    "head(condition_df)"
   ]
  },
  {
   "cell_type": "code",
   "execution_count": 23,
   "id": "68aa0eee-1196-4e81-ade0-6b548302e279",
   "metadata": {},
   "outputs": [
    {
     "data": {
      "text/html": [
       "<table class=\"dataframe\">\n",
       "<caption>A data.frame: 6 × 9</caption>\n",
       "<thead>\n",
       "\t<tr><th></th><th scope=col>Jun 2019</th><th scope=col>May 2022</th><th scope=col>Dec 2022</th><th scope=col>Date_InitialTag</th><th scope=col>Transect</th><th scope=col>Species</th><th scope=col>MaxDiameter</th><th scope=col>Height</th><th scope=col>Year_tagged</th></tr>\n",
       "\t<tr><th></th><th scope=col>&lt;chr&gt;</th><th scope=col>&lt;chr&gt;</th><th scope=col>&lt;chr&gt;</th><th scope=col>&lt;chr&gt;</th><th scope=col>&lt;chr&gt;</th><th scope=col>&lt;chr&gt;</th><th scope=col>&lt;int&gt;</th><th scope=col>&lt;int&gt;</th><th scope=col>&lt;chr&gt;</th></tr>\n",
       "</thead>\n",
       "<tbody>\n",
       "\t<tr><th scope=row>1</th><td>Healthy</td><td>Diseased</td><td>Diseased</td><td>6/21/19 </td><td>CBC30N</td><td>SSID</td><td>45</td><td>24</td><td>2019</td></tr>\n",
       "\t<tr><th scope=row>2</th><td>Healthy</td><td>Healthy </td><td>Healthy </td><td>6/21/19 </td><td>CBC30N</td><td>PAST</td><td>33</td><td> 8</td><td>2019</td></tr>\n",
       "\t<tr><th scope=row>3</th><td>Healthy</td><td>Diseased</td><td>Healthy </td><td>6/21/19 </td><td>CBC30N</td><td>SSID</td><td>53</td><td>30</td><td>2019</td></tr>\n",
       "\t<tr><th scope=row>4</th><td>Healthy</td><td>Diseased</td><td>Dead    </td><td>10/15/19</td><td>CBC30N</td><td>PSTR</td><td>44</td><td>39</td><td>2019</td></tr>\n",
       "\t<tr><th scope=row>5</th><td>Healthy</td><td>Diseased</td><td>Diseased</td><td>6/24/19 </td><td>CBC30N</td><td>SSID</td><td>65</td><td>27</td><td>2019</td></tr>\n",
       "\t<tr><th scope=row>6</th><td>Healthy</td><td>Healthy </td><td>Diseased</td><td>10/15/19</td><td>CBC30N</td><td>PSTR</td><td>35</td><td>38</td><td>2019</td></tr>\n",
       "</tbody>\n",
       "</table>\n"
      ],
      "text/latex": [
       "A data.frame: 6 × 9\n",
       "\\begin{tabular}{r|lllllllll}\n",
       "  & Jun 2019 & May 2022 & Dec 2022 & Date\\_InitialTag & Transect & Species & MaxDiameter & Height & Year\\_tagged\\\\\n",
       "  & <chr> & <chr> & <chr> & <chr> & <chr> & <chr> & <int> & <int> & <chr>\\\\\n",
       "\\hline\n",
       "\t1 & Healthy & Diseased & Diseased & 6/21/19  & CBC30N & SSID & 45 & 24 & 2019\\\\\n",
       "\t2 & Healthy & Healthy  & Healthy  & 6/21/19  & CBC30N & PAST & 33 &  8 & 2019\\\\\n",
       "\t3 & Healthy & Diseased & Healthy  & 6/21/19  & CBC30N & SSID & 53 & 30 & 2019\\\\\n",
       "\t4 & Healthy & Diseased & Dead     & 10/15/19 & CBC30N & PSTR & 44 & 39 & 2019\\\\\n",
       "\t5 & Healthy & Diseased & Diseased & 6/24/19  & CBC30N & SSID & 65 & 27 & 2019\\\\\n",
       "\t6 & Healthy & Healthy  & Diseased & 10/15/19 & CBC30N & PSTR & 35 & 38 & 2019\\\\\n",
       "\\end{tabular}\n"
      ],
      "text/markdown": [
       "\n",
       "A data.frame: 6 × 9\n",
       "\n",
       "| <!--/--> | Jun 2019 &lt;chr&gt; | May 2022 &lt;chr&gt; | Dec 2022 &lt;chr&gt; | Date_InitialTag &lt;chr&gt; | Transect &lt;chr&gt; | Species &lt;chr&gt; | MaxDiameter &lt;int&gt; | Height &lt;int&gt; | Year_tagged &lt;chr&gt; |\n",
       "|---|---|---|---|---|---|---|---|---|---|\n",
       "| 1 | Healthy | Diseased | Diseased | 6/21/19  | CBC30N | SSID | 45 | 24 | 2019 |\n",
       "| 2 | Healthy | Healthy  | Healthy  | 6/21/19  | CBC30N | PAST | 33 |  8 | 2019 |\n",
       "| 3 | Healthy | Diseased | Healthy  | 6/21/19  | CBC30N | SSID | 53 | 30 | 2019 |\n",
       "| 4 | Healthy | Diseased | Dead     | 10/15/19 | CBC30N | PSTR | 44 | 39 | 2019 |\n",
       "| 5 | Healthy | Diseased | Diseased | 6/24/19  | CBC30N | SSID | 65 | 27 | 2019 |\n",
       "| 6 | Healthy | Healthy  | Diseased | 10/15/19 | CBC30N | PSTR | 35 | 38 | 2019 |\n",
       "\n"
      ],
      "text/plain": [
       "  Jun 2019 May 2022 Dec 2022 Date_InitialTag Transect Species MaxDiameter\n",
       "1 Healthy  Diseased Diseased 6/21/19         CBC30N   SSID    45         \n",
       "2 Healthy  Healthy  Healthy  6/21/19         CBC30N   PAST    33         \n",
       "3 Healthy  Diseased Healthy  6/21/19         CBC30N   SSID    53         \n",
       "4 Healthy  Diseased Dead     10/15/19        CBC30N   PSTR    44         \n",
       "5 Healthy  Diseased Diseased 6/24/19         CBC30N   SSID    65         \n",
       "6 Healthy  Healthy  Diseased 10/15/19        CBC30N   PSTR    35         \n",
       "  Height Year_tagged\n",
       "1 24     2019       \n",
       "2  8     2019       \n",
       "3 30     2019       \n",
       "4 39     2019       \n",
       "5 27     2019       \n",
       "6 38     2019       "
      ]
     },
     "metadata": {},
     "output_type": "display_data"
    }
   ],
   "source": [
    "# concatenate condition column with the rest of the columns I want to include in the df\n",
    "disease_data <- cbind(disease_df, colonies_2019[,c(\"Date_InitialTag\", \"Transect\", \"Species\", \"MaxDiameter\", \"Height\", \"Year_tagged\")])\n",
    "head(disease_data)"
   ]
  },
  {
   "cell_type": "code",
   "execution_count": 24,
   "id": "9efe2bb0-fab3-4abb-a40f-cffa0379bc3f",
   "metadata": {},
   "outputs": [
    {
     "data": {
      "text/html": [
       "<style>\n",
       ".list-inline {list-style: none; margin:0; padding: 0}\n",
       ".list-inline>li {display: inline-block}\n",
       ".list-inline>li:not(:last-child)::after {content: \"\\00b7\"; padding: 0 .5ex}\n",
       "</style>\n",
       "<ol class=list-inline><li>'Diseased'</li><li>'Healthy'</li><li>'Diseased'</li><li>'Diseased'</li><li>'Diseased'</li><li>'Healthy'</li><li>'Healthy'</li><li>'Diseased'</li><li>'Diseased'</li><li>'Diseased'</li><li>'Diseased'</li><li>'Healthy'</li><li>'Healthy'</li><li>'Diseased'</li><li>'Diseased'</li><li>'Diseased'</li><li>'Diseased'</li><li>'Diseased'</li><li>'Healthy'</li><li>'Healthy'</li><li>'Healthy'</li><li>'Dead'</li><li>'Dead'</li><li>'Dead'</li><li>'Dead'</li><li>'Dead'</li><li>'Dead'</li><li>'Dead'</li><li>'Dead'</li><li>'Dead'</li><li>'Dead'</li><li>'Not_Visited'</li><li>'Diseased'</li><li>'Diseased'</li><li>'Healthy'</li><li>'Healthy'</li><li>'Healthy'</li><li>'Diseased'</li><li>'Dead'</li><li>'Healthy'</li><li>'Healthy'</li><li>'Diseased'</li><li>'Healthy'</li><li>'Healthy'</li><li>'Healthy'</li><li>'Healthy'</li><li>'Healthy'</li><li>'Healthy'</li><li>'Diseased'</li><li>'Diseased'</li><li>'Healthy'</li><li>'Healthy'</li><li>'Diseased'</li><li>'Diseased'</li><li>'CLB,DC'</li><li>'Healthy'</li><li>'Healthy'</li><li>'Diseased'</li><li>'Dead'</li><li>'Dead'</li><li>'Dead'</li><li>'Dead'</li><li>'Dead'</li><li>'Dead'</li><li>'Not_Visited'</li><li>'Dead'</li><li>'Dead'</li><li>'Dead'</li><li>'Healthy'</li><li>'Diseased'</li><li>'Healthy'</li><li>'Healthy'</li><li>'Healthy'</li><li>'Healthy'</li><li>'Healthy'</li><li>'Dead'</li><li>'Healthy'</li><li>'Dead'</li><li>'Dead'</li><li>'Healthy'</li><li>'Healthy'</li><li>'Diseased'</li><li>'Dead'</li><li>'Diseased'</li><li>'Diseased'</li><li>'Diseased'</li><li>'Healthy'</li><li>'Healthy'</li><li>'Diseased'</li><li>'Diseased'</li><li>'Healthy'</li><li>'Not_Visited'</li><li>'Diseased'</li><li>'Dead'</li><li>'Diseased'</li><li>'Dead'</li><li>'Dead'</li><li>'Healthy'</li><li>'Dead'</li><li>'Healthy'</li><li>'Healthy'</li><li>'Dead'</li><li>'Diseased'</li><li>'Diseased'</li><li>'Dead'</li><li>'Not_Visited'</li></ol>\n"
      ],
      "text/latex": [
       "\\begin{enumerate*}\n",
       "\\item 'Diseased'\n",
       "\\item 'Healthy'\n",
       "\\item 'Diseased'\n",
       "\\item 'Diseased'\n",
       "\\item 'Diseased'\n",
       "\\item 'Healthy'\n",
       "\\item 'Healthy'\n",
       "\\item 'Diseased'\n",
       "\\item 'Diseased'\n",
       "\\item 'Diseased'\n",
       "\\item 'Diseased'\n",
       "\\item 'Healthy'\n",
       "\\item 'Healthy'\n",
       "\\item 'Diseased'\n",
       "\\item 'Diseased'\n",
       "\\item 'Diseased'\n",
       "\\item 'Diseased'\n",
       "\\item 'Diseased'\n",
       "\\item 'Healthy'\n",
       "\\item 'Healthy'\n",
       "\\item 'Healthy'\n",
       "\\item 'Dead'\n",
       "\\item 'Dead'\n",
       "\\item 'Dead'\n",
       "\\item 'Dead'\n",
       "\\item 'Dead'\n",
       "\\item 'Dead'\n",
       "\\item 'Dead'\n",
       "\\item 'Dead'\n",
       "\\item 'Dead'\n",
       "\\item 'Dead'\n",
       "\\item 'Not\\_Visited'\n",
       "\\item 'Diseased'\n",
       "\\item 'Diseased'\n",
       "\\item 'Healthy'\n",
       "\\item 'Healthy'\n",
       "\\item 'Healthy'\n",
       "\\item 'Diseased'\n",
       "\\item 'Dead'\n",
       "\\item 'Healthy'\n",
       "\\item 'Healthy'\n",
       "\\item 'Diseased'\n",
       "\\item 'Healthy'\n",
       "\\item 'Healthy'\n",
       "\\item 'Healthy'\n",
       "\\item 'Healthy'\n",
       "\\item 'Healthy'\n",
       "\\item 'Healthy'\n",
       "\\item 'Diseased'\n",
       "\\item 'Diseased'\n",
       "\\item 'Healthy'\n",
       "\\item 'Healthy'\n",
       "\\item 'Diseased'\n",
       "\\item 'Diseased'\n",
       "\\item 'CLB,DC'\n",
       "\\item 'Healthy'\n",
       "\\item 'Healthy'\n",
       "\\item 'Diseased'\n",
       "\\item 'Dead'\n",
       "\\item 'Dead'\n",
       "\\item 'Dead'\n",
       "\\item 'Dead'\n",
       "\\item 'Dead'\n",
       "\\item 'Dead'\n",
       "\\item 'Not\\_Visited'\n",
       "\\item 'Dead'\n",
       "\\item 'Dead'\n",
       "\\item 'Dead'\n",
       "\\item 'Healthy'\n",
       "\\item 'Diseased'\n",
       "\\item 'Healthy'\n",
       "\\item 'Healthy'\n",
       "\\item 'Healthy'\n",
       "\\item 'Healthy'\n",
       "\\item 'Healthy'\n",
       "\\item 'Dead'\n",
       "\\item 'Healthy'\n",
       "\\item 'Dead'\n",
       "\\item 'Dead'\n",
       "\\item 'Healthy'\n",
       "\\item 'Healthy'\n",
       "\\item 'Diseased'\n",
       "\\item 'Dead'\n",
       "\\item 'Diseased'\n",
       "\\item 'Diseased'\n",
       "\\item 'Diseased'\n",
       "\\item 'Healthy'\n",
       "\\item 'Healthy'\n",
       "\\item 'Diseased'\n",
       "\\item 'Diseased'\n",
       "\\item 'Healthy'\n",
       "\\item 'Not\\_Visited'\n",
       "\\item 'Diseased'\n",
       "\\item 'Dead'\n",
       "\\item 'Diseased'\n",
       "\\item 'Dead'\n",
       "\\item 'Dead'\n",
       "\\item 'Healthy'\n",
       "\\item 'Dead'\n",
       "\\item 'Healthy'\n",
       "\\item 'Healthy'\n",
       "\\item 'Dead'\n",
       "\\item 'Diseased'\n",
       "\\item 'Diseased'\n",
       "\\item 'Dead'\n",
       "\\item 'Not\\_Visited'\n",
       "\\end{enumerate*}\n"
      ],
      "text/markdown": [
       "1. 'Diseased'\n",
       "2. 'Healthy'\n",
       "3. 'Diseased'\n",
       "4. 'Diseased'\n",
       "5. 'Diseased'\n",
       "6. 'Healthy'\n",
       "7. 'Healthy'\n",
       "8. 'Diseased'\n",
       "9. 'Diseased'\n",
       "10. 'Diseased'\n",
       "11. 'Diseased'\n",
       "12. 'Healthy'\n",
       "13. 'Healthy'\n",
       "14. 'Diseased'\n",
       "15. 'Diseased'\n",
       "16. 'Diseased'\n",
       "17. 'Diseased'\n",
       "18. 'Diseased'\n",
       "19. 'Healthy'\n",
       "20. 'Healthy'\n",
       "21. 'Healthy'\n",
       "22. 'Dead'\n",
       "23. 'Dead'\n",
       "24. 'Dead'\n",
       "25. 'Dead'\n",
       "26. 'Dead'\n",
       "27. 'Dead'\n",
       "28. 'Dead'\n",
       "29. 'Dead'\n",
       "30. 'Dead'\n",
       "31. 'Dead'\n",
       "32. 'Not_Visited'\n",
       "33. 'Diseased'\n",
       "34. 'Diseased'\n",
       "35. 'Healthy'\n",
       "36. 'Healthy'\n",
       "37. 'Healthy'\n",
       "38. 'Diseased'\n",
       "39. 'Dead'\n",
       "40. 'Healthy'\n",
       "41. 'Healthy'\n",
       "42. 'Diseased'\n",
       "43. 'Healthy'\n",
       "44. 'Healthy'\n",
       "45. 'Healthy'\n",
       "46. 'Healthy'\n",
       "47. 'Healthy'\n",
       "48. 'Healthy'\n",
       "49. 'Diseased'\n",
       "50. 'Diseased'\n",
       "51. 'Healthy'\n",
       "52. 'Healthy'\n",
       "53. 'Diseased'\n",
       "54. 'Diseased'\n",
       "55. 'CLB,DC'\n",
       "56. 'Healthy'\n",
       "57. 'Healthy'\n",
       "58. 'Diseased'\n",
       "59. 'Dead'\n",
       "60. 'Dead'\n",
       "61. 'Dead'\n",
       "62. 'Dead'\n",
       "63. 'Dead'\n",
       "64. 'Dead'\n",
       "65. 'Not_Visited'\n",
       "66. 'Dead'\n",
       "67. 'Dead'\n",
       "68. 'Dead'\n",
       "69. 'Healthy'\n",
       "70. 'Diseased'\n",
       "71. 'Healthy'\n",
       "72. 'Healthy'\n",
       "73. 'Healthy'\n",
       "74. 'Healthy'\n",
       "75. 'Healthy'\n",
       "76. 'Dead'\n",
       "77. 'Healthy'\n",
       "78. 'Dead'\n",
       "79. 'Dead'\n",
       "80. 'Healthy'\n",
       "81. 'Healthy'\n",
       "82. 'Diseased'\n",
       "83. 'Dead'\n",
       "84. 'Diseased'\n",
       "85. 'Diseased'\n",
       "86. 'Diseased'\n",
       "87. 'Healthy'\n",
       "88. 'Healthy'\n",
       "89. 'Diseased'\n",
       "90. 'Diseased'\n",
       "91. 'Healthy'\n",
       "92. 'Not_Visited'\n",
       "93. 'Diseased'\n",
       "94. 'Dead'\n",
       "95. 'Diseased'\n",
       "96. 'Dead'\n",
       "97. 'Dead'\n",
       "98. 'Healthy'\n",
       "99. 'Dead'\n",
       "100. 'Healthy'\n",
       "101. 'Healthy'\n",
       "102. 'Dead'\n",
       "103. 'Diseased'\n",
       "104. 'Diseased'\n",
       "105. 'Dead'\n",
       "106. 'Not_Visited'\n",
       "\n",
       "\n"
      ],
      "text/plain": [
       "  [1] \"Diseased\"    \"Healthy\"     \"Diseased\"    \"Diseased\"    \"Diseased\"   \n",
       "  [6] \"Healthy\"     \"Healthy\"     \"Diseased\"    \"Diseased\"    \"Diseased\"   \n",
       " [11] \"Diseased\"    \"Healthy\"     \"Healthy\"     \"Diseased\"    \"Diseased\"   \n",
       " [16] \"Diseased\"    \"Diseased\"    \"Diseased\"    \"Healthy\"     \"Healthy\"    \n",
       " [21] \"Healthy\"     \"Dead\"        \"Dead\"        \"Dead\"        \"Dead\"       \n",
       " [26] \"Dead\"        \"Dead\"        \"Dead\"        \"Dead\"        \"Dead\"       \n",
       " [31] \"Dead\"        \"Not_Visited\" \"Diseased\"    \"Diseased\"    \"Healthy\"    \n",
       " [36] \"Healthy\"     \"Healthy\"     \"Diseased\"    \"Dead\"        \"Healthy\"    \n",
       " [41] \"Healthy\"     \"Diseased\"    \"Healthy\"     \"Healthy\"     \"Healthy\"    \n",
       " [46] \"Healthy\"     \"Healthy\"     \"Healthy\"     \"Diseased\"    \"Diseased\"   \n",
       " [51] \"Healthy\"     \"Healthy\"     \"Diseased\"    \"Diseased\"    \"CLB,DC\"     \n",
       " [56] \"Healthy\"     \"Healthy\"     \"Diseased\"    \"Dead\"        \"Dead\"       \n",
       " [61] \"Dead\"        \"Dead\"        \"Dead\"        \"Dead\"        \"Not_Visited\"\n",
       " [66] \"Dead\"        \"Dead\"        \"Dead\"        \"Healthy\"     \"Diseased\"   \n",
       " [71] \"Healthy\"     \"Healthy\"     \"Healthy\"     \"Healthy\"     \"Healthy\"    \n",
       " [76] \"Dead\"        \"Healthy\"     \"Dead\"        \"Dead\"        \"Healthy\"    \n",
       " [81] \"Healthy\"     \"Diseased\"    \"Dead\"        \"Diseased\"    \"Diseased\"   \n",
       " [86] \"Diseased\"    \"Healthy\"     \"Healthy\"     \"Diseased\"    \"Diseased\"   \n",
       " [91] \"Healthy\"     \"Not_Visited\" \"Diseased\"    \"Dead\"        \"Diseased\"   \n",
       " [96] \"Dead\"        \"Dead\"        \"Healthy\"     \"Dead\"        \"Healthy\"    \n",
       "[101] \"Healthy\"     \"Dead\"        \"Diseased\"    \"Diseased\"    \"Dead\"       \n",
       "[106] \"Not_Visited\""
      ]
     },
     "metadata": {},
     "output_type": "display_data"
    }
   ],
   "source": [
    "disease_data$'May 2022'"
   ]
  },
  {
   "cell_type": "code",
   "execution_count": 63,
   "id": "a39bcf39-77b4-489f-8fd7-51c1f297ed6e",
   "metadata": {},
   "outputs": [],
   "source": [
    "# specify condition colors\n",
    "condition_colors <- c(\"Healthy\" = \"darkgreen\", \"Diseased\" = \"coral1\", \"Dead\" = \"brown4\",\"Not_Visited\" = 'darkgrey',\n",
    "                      'CLB'=\"aliceblue\",'CLP'=\"khaki\",'DC'='blueviolet','Diseased_Other'='chocolate4','TL'='darkgoldenrod3','NA'='gainsboro')\n"
   ]
  },
  {
   "cell_type": "code",
   "execution_count": 26,
   "id": "d97bdf12-b7de-4f19-8180-3bd4f1f41747",
   "metadata": {},
   "outputs": [
    {
     "data": {
      "text/html": [
       "<table class=\"dataframe\">\n",
       "<caption>A data.frame: 6 × 3</caption>\n",
       "<thead>\n",
       "\t<tr><th></th><th scope=col>Jun 2019</th><th scope=col>May 2022</th><th scope=col>Dec 2022</th></tr>\n",
       "\t<tr><th></th><th scope=col>&lt;chr&gt;</th><th scope=col>&lt;chr&gt;</th><th scope=col>&lt;chr&gt;</th></tr>\n",
       "</thead>\n",
       "<tbody>\n",
       "\t<tr><th scope=row>1</th><td>Healthy</td><td>Diseased</td><td>Diseased</td></tr>\n",
       "\t<tr><th scope=row>2</th><td>Healthy</td><td>Healthy </td><td>Healthy </td></tr>\n",
       "\t<tr><th scope=row>3</th><td>Healthy</td><td>Diseased</td><td>Healthy </td></tr>\n",
       "\t<tr><th scope=row>4</th><td>Healthy</td><td>Diseased</td><td>Dead    </td></tr>\n",
       "\t<tr><th scope=row>5</th><td>Healthy</td><td>Diseased</td><td>Diseased</td></tr>\n",
       "\t<tr><th scope=row>6</th><td>Healthy</td><td>Healthy </td><td>Diseased</td></tr>\n",
       "</tbody>\n",
       "</table>\n"
      ],
      "text/latex": [
       "A data.frame: 6 × 3\n",
       "\\begin{tabular}{r|lll}\n",
       "  & Jun 2019 & May 2022 & Dec 2022\\\\\n",
       "  & <chr> & <chr> & <chr>\\\\\n",
       "\\hline\n",
       "\t1 & Healthy & Diseased & Diseased\\\\\n",
       "\t2 & Healthy & Healthy  & Healthy \\\\\n",
       "\t3 & Healthy & Diseased & Healthy \\\\\n",
       "\t4 & Healthy & Diseased & Dead    \\\\\n",
       "\t5 & Healthy & Diseased & Diseased\\\\\n",
       "\t6 & Healthy & Healthy  & Diseased\\\\\n",
       "\\end{tabular}\n"
      ],
      "text/markdown": [
       "\n",
       "A data.frame: 6 × 3\n",
       "\n",
       "| <!--/--> | Jun 2019 &lt;chr&gt; | May 2022 &lt;chr&gt; | Dec 2022 &lt;chr&gt; |\n",
       "|---|---|---|---|\n",
       "| 1 | Healthy | Diseased | Diseased |\n",
       "| 2 | Healthy | Healthy  | Healthy  |\n",
       "| 3 | Healthy | Diseased | Healthy  |\n",
       "| 4 | Healthy | Diseased | Dead     |\n",
       "| 5 | Healthy | Diseased | Diseased |\n",
       "| 6 | Healthy | Healthy  | Diseased |\n",
       "\n"
      ],
      "text/plain": [
       "  Jun 2019 May 2022 Dec 2022\n",
       "1 Healthy  Diseased Diseased\n",
       "2 Healthy  Healthy  Healthy \n",
       "3 Healthy  Diseased Healthy \n",
       "4 Healthy  Diseased Dead    \n",
       "5 Healthy  Diseased Diseased\n",
       "6 Healthy  Healthy  Diseased"
      ]
     },
     "metadata": {},
     "output_type": "display_data"
    }
   ],
   "source": [
    "head(disease_df)"
   ]
  },
  {
   "cell_type": "code",
   "execution_count": 27,
   "id": "75e7e434-5030-4894-878b-4572dc19b357",
   "metadata": {},
   "outputs": [
    {
     "data": {
      "image/png": "[encoded data removed]",
      "text/plain": [
       "plot without title"
      ]
     },
     "metadata": {
      "image/png": {
       "height": 420,
       "width": 420
      }
     },
     "output_type": "display_data"
    }
   ],
   "source": [
    "# Reshape the data for plotting\n",
    "disease_df_long <- disease_df %>%\n",
    "  mutate(year = rownames(disease_df)) %>%\n",
    "  pivot_longer(-year, names_to = \"month_year\", values_to = \"condition\")\n",
    "\n",
    "# Convert month_year to a factor with correct order of levels\n",
    "disease_df_long <- disease_df_long %>%\n",
    "  mutate(month_year = factor(month_year, levels = unique(month_year)))\n",
    "\n",
    "\n",
    "# Plot the data with stacked bars and custom colors\n",
    "disease_plot<-ggplot(disease_df_long, aes(x = month_year, fill = condition)) +\n",
    "  geom_bar(position = \"stack\", stat = \"count\") +  # Stacked bars\n",
    "  scale_fill_manual(values = condition_colors) +  # Custom fill colors\n",
    "  labs(x = \"Date\", y = \"# of Colonies\", title = \"Health Status Over Time\", fill = \"Condition\") + # Custom legend title\n",
    "  theme(axis.text.x = element_text(angle = 45, hjust = 1),  # Rotate x-axis labels\n",
    "        axis.title = element_text(size = 14),  # Axis titles font size\n",
    "        axis.title.x = element_text(margin = margin(t = 10)),\n",
    "        legend.title = element_text(size = 12),  # Legend title settings\n",
    "        plot.title = element_text(size = 16, hjust = 0.5, face = \"bold\")) \n",
    "disease_plot"
   ]
  },
  {
   "cell_type": "code",
   "execution_count": 28,
   "id": "a3da84a9-b836-45bb-b84b-a8ee1a3cadc9",
   "metadata": {},
   "outputs": [
    {
     "data": {
      "text/html": [
       "<table class=\"dataframe\">\n",
       "<caption>A tibble: 6 × 3</caption>\n",
       "<thead>\n",
       "\t<tr><th scope=col>year</th><th scope=col>month_year</th><th scope=col>condition</th></tr>\n",
       "\t<tr><th scope=col>&lt;chr&gt;</th><th scope=col>&lt;fct&gt;</th><th scope=col>&lt;chr&gt;</th></tr>\n",
       "</thead>\n",
       "<tbody>\n",
       "\t<tr><td>1</td><td>Jun 2019</td><td>Healthy </td></tr>\n",
       "\t<tr><td>1</td><td>May 2022</td><td>Diseased</td></tr>\n",
       "\t<tr><td>1</td><td>Dec 2022</td><td>Diseased</td></tr>\n",
       "\t<tr><td>2</td><td>Jun 2019</td><td>Healthy </td></tr>\n",
       "\t<tr><td>2</td><td>May 2022</td><td>Healthy </td></tr>\n",
       "\t<tr><td>2</td><td>Dec 2022</td><td>Healthy </td></tr>\n",
       "</tbody>\n",
       "</table>\n"
      ],
      "text/latex": [
       "A tibble: 6 × 3\n",
       "\\begin{tabular}{lll}\n",
       " year & month\\_year & condition\\\\\n",
       " <chr> & <fct> & <chr>\\\\\n",
       "\\hline\n",
       "\t 1 & Jun 2019 & Healthy \\\\\n",
       "\t 1 & May 2022 & Diseased\\\\\n",
       "\t 1 & Dec 2022 & Diseased\\\\\n",
       "\t 2 & Jun 2019 & Healthy \\\\\n",
       "\t 2 & May 2022 & Healthy \\\\\n",
       "\t 2 & Dec 2022 & Healthy \\\\\n",
       "\\end{tabular}\n"
      ],
      "text/markdown": [
       "\n",
       "A tibble: 6 × 3\n",
       "\n",
       "| year &lt;chr&gt; | month_year &lt;fct&gt; | condition &lt;chr&gt; |\n",
       "|---|---|---|\n",
       "| 1 | Jun 2019 | Healthy  |\n",
       "| 1 | May 2022 | Diseased |\n",
       "| 1 | Dec 2022 | Diseased |\n",
       "| 2 | Jun 2019 | Healthy  |\n",
       "| 2 | May 2022 | Healthy  |\n",
       "| 2 | Dec 2022 | Healthy  |\n",
       "\n"
      ],
      "text/plain": [
       "  year month_year condition\n",
       "1 1    Jun 2019   Healthy  \n",
       "2 1    May 2022   Diseased \n",
       "3 1    Dec 2022   Diseased \n",
       "4 2    Jun 2019   Healthy  \n",
       "5 2    May 2022   Healthy  \n",
       "6 2    Dec 2022   Healthy  "
      ]
     },
     "metadata": {},
     "output_type": "display_data"
    }
   ],
   "source": [
    "head(disease_df_long)"
   ]
  },
  {
   "cell_type": "code",
   "execution_count": 29,
   "id": "e1f1f644-0d90-4fff-be91-af35f5c97bfe",
   "metadata": {},
   "outputs": [
    {
     "data": {
      "text/html": [
       "'/project/pi_sarah_gignouxwolfsohn_uml_edu/brooke/metadata'"
      ],
      "text/latex": [
       "'/project/pi\\_sarah\\_gignouxwolfsohn\\_uml\\_edu/brooke/metadata'"
      ],
      "text/markdown": [
       "'/project/pi_sarah_gignouxwolfsohn_uml_edu/brooke/metadata'"
      ],
      "text/plain": [
       "[1] \"/project/pi_sarah_gignouxwolfsohn_uml_edu/brooke/metadata\""
      ]
     },
     "metadata": {},
     "output_type": "display_data"
    }
   ],
   "source": [
    "getwd()"
   ]
  },
  {
   "cell_type": "code",
   "execution_count": 30,
   "id": "e0297e9f-5fef-49d3-8314-c97a44614971",
   "metadata": {},
   "outputs": [
    {
     "data": {
      "text/html": [
       "<strong>png:</strong> 2"
      ],
      "text/latex": [
       "\\textbf{png:} 2"
      ],
      "text/markdown": [
       "**png:** 2"
      ],
      "text/plain": [
       "png \n",
       "  2 "
      ]
     },
     "metadata": {},
     "output_type": "display_data"
    }
   ],
   "source": [
    "pdf(\"disease_plot.pdf\")\n",
    "print(disease_plot)\n",
    "dev.off()"
   ]
  },
  {
   "cell_type": "code",
   "execution_count": 31,
   "id": "4d7a4325-985a-4631-94c3-450626561dda",
   "metadata": {},
   "outputs": [],
   "source": [
    "# plot colonies (tagged in 2019) health statuses through 2024 \n",
    "# Reshape colonies_2019\n",
    "colonies_2019_long <- condition_df %>%\n",
    "  mutate(row = rownames(condition_df)) %>%\n",
    "  pivot_longer(-row, names_to = \"month_year\", values_to = \"condition\")"
   ]
  },
  {
   "cell_type": "code",
   "execution_count": 32,
   "id": "242a7941-96bb-418b-9a3e-7794e1d5b76d",
   "metadata": {},
   "outputs": [],
   "source": [
    "colonies_2019_long <- condition_df %>%\n",
    "  rownames_to_column(var = \"rowname\") %>%  # Add row names as a column\n",
    "  pivot_longer(-rowname, names_to = \"month_year\", values_to = \"condition\")"
   ]
  },
  {
   "cell_type": "code",
   "execution_count": 33,
   "id": "948a5bf3-b1d5-4a50-a76a-7830145fcd28",
   "metadata": {},
   "outputs": [],
   "source": [
    "# Separate multiple conditions into individual rows\n",
    "colonies_parsed <- colonies_2019_long %>%\n",
    "  separate_rows(condition, sep = \",\\\\s*\") "
   ]
  },
  {
   "cell_type": "code",
   "execution_count": 34,
   "id": "8fb28b0d-fe32-448b-a03d-9b07c2c92657",
   "metadata": {},
   "outputs": [
    {
     "data": {
      "text/html": [
       "<table class=\"dataframe\">\n",
       "<caption>A tibble: 6 × 3</caption>\n",
       "<thead>\n",
       "\t<tr><th scope=col>rowname</th><th scope=col>month_year</th><th scope=col>condition</th></tr>\n",
       "\t<tr><th scope=col>&lt;chr&gt;</th><th scope=col>&lt;chr&gt;</th><th scope=col>&lt;chr&gt;</th></tr>\n",
       "</thead>\n",
       "<tbody>\n",
       "\t<tr><td>1</td><td>Jun 2019</td><td>Healthy    </td></tr>\n",
       "\t<tr><td>1</td><td>May 2022</td><td>Diseased   </td></tr>\n",
       "\t<tr><td>1</td><td>Dec 2022</td><td>Diseased   </td></tr>\n",
       "\t<tr><td>1</td><td>Sep 2023</td><td>Diseased   </td></tr>\n",
       "\t<tr><td>1</td><td>Nov 2023</td><td>Not_Visited</td></tr>\n",
       "\t<tr><td>1</td><td>Dec 2023</td><td>Not_Visited</td></tr>\n",
       "</tbody>\n",
       "</table>\n"
      ],
      "text/latex": [
       "A tibble: 6 × 3\n",
       "\\begin{tabular}{lll}\n",
       " rowname & month\\_year & condition\\\\\n",
       " <chr> & <chr> & <chr>\\\\\n",
       "\\hline\n",
       "\t 1 & Jun 2019 & Healthy    \\\\\n",
       "\t 1 & May 2022 & Diseased   \\\\\n",
       "\t 1 & Dec 2022 & Diseased   \\\\\n",
       "\t 1 & Sep 2023 & Diseased   \\\\\n",
       "\t 1 & Nov 2023 & Not\\_Visited\\\\\n",
       "\t 1 & Dec 2023 & Not\\_Visited\\\\\n",
       "\\end{tabular}\n"
      ],
      "text/markdown": [
       "\n",
       "A tibble: 6 × 3\n",
       "\n",
       "| rowname &lt;chr&gt; | month_year &lt;chr&gt; | condition &lt;chr&gt; |\n",
       "|---|---|---|\n",
       "| 1 | Jun 2019 | Healthy     |\n",
       "| 1 | May 2022 | Diseased    |\n",
       "| 1 | Dec 2022 | Diseased    |\n",
       "| 1 | Sep 2023 | Diseased    |\n",
       "| 1 | Nov 2023 | Not_Visited |\n",
       "| 1 | Dec 2023 | Not_Visited |\n",
       "\n"
      ],
      "text/plain": [
       "  rowname month_year condition  \n",
       "1 1       Jun 2019   Healthy    \n",
       "2 1       May 2022   Diseased   \n",
       "3 1       Dec 2022   Diseased   \n",
       "4 1       Sep 2023   Diseased   \n",
       "5 1       Nov 2023   Not_Visited\n",
       "6 1       Dec 2023   Not_Visited"
      ]
     },
     "metadata": {},
     "output_type": "display_data"
    }
   ],
   "source": [
    "head(colonies_parsed)"
   ]
  },
  {
   "cell_type": "code",
   "execution_count": 35,
   "id": "3e8e2ce3-1d3b-4d42-8e7d-02b01687ca58",
   "metadata": {},
   "outputs": [
    {
     "name": "stdout",
     "output_type": "stream",
     "text": [
      "\u001b[90m# A tibble: 1,186 × 3\u001b[39m\n",
      "   rowname month_year condition\n",
      "   \u001b[3m\u001b[90m<chr>\u001b[39m\u001b[23m   \u001b[3m\u001b[90m<chr>\u001b[39m\u001b[23m      \u001b[3m\u001b[90m<chr>\u001b[39m\u001b[23m    \n",
      "\u001b[90m 1\u001b[39m 1       Jun 2019   Healthy  \n",
      "\u001b[90m 2\u001b[39m 2       Jun 2019   Healthy  \n",
      "\u001b[90m 3\u001b[39m 3       Jun 2019   Healthy  \n",
      "\u001b[90m 4\u001b[39m 4       Jun 2019   Healthy  \n",
      "\u001b[90m 5\u001b[39m 5       Jun 2019   Healthy  \n",
      "\u001b[90m 6\u001b[39m 6       Jun 2019   Healthy  \n",
      "\u001b[90m 7\u001b[39m 7       Jun 2019   Healthy  \n",
      "\u001b[90m 8\u001b[39m 8       Jun 2019   Healthy  \n",
      "\u001b[90m 9\u001b[39m 9       Jun 2019   Healthy  \n",
      "\u001b[90m10\u001b[39m 10      Jun 2019   Healthy  \n",
      "\u001b[90m# ℹ 1,176 more rows\u001b[39m\n"
     ]
    }
   ],
   "source": [
    "# order based on date\n",
    "colonies_parsed <- colonies_parsed %>%\n",
    "  mutate(date = parse_date(paste(\"01\", month_year), format = \"%d %b %Y\"))\n",
    "# Order the data frame by the date column\n",
    "colonies_ordered <- colonies_parsed %>%\n",
    "  arrange(date) %>%\n",
    "  select(-date)  # Remove the temporary date column if no longer needed\n",
    "# Check the result\n",
    "print(colonies_ordered)\n",
    "#specify order for ggplot\n",
    "colonies_ordered <- colonies_ordered %>%\n",
    "  mutate(month_year = factor(month_year, levels = unique(colonies_ordered$month_year)))\n"
   ]
  },
  {
   "cell_type": "code",
   "execution_count": 36,
   "id": "ceec2766-f544-4c3f-bef9-58381111a898",
   "metadata": {},
   "outputs": [
    {
     "data": {
      "text/html": [
       "<style>\n",
       ".list-inline {list-style: none; margin:0; padding: 0}\n",
       ".list-inline>li {display: inline-block}\n",
       ".list-inline>li:not(:last-child)::after {content: \"\\00b7\"; padding: 0 .5ex}\n",
       "</style>\n",
       "<ol class=list-inline><li>'Healthy'</li><li>'Diseased'</li><li>'Not_Visited'</li><li>'CLP,CLB'</li><li>'CLB'</li><li>'DC'</li><li>'Dead'</li><li>'CLP'</li><li>'Diseased, CLB'</li><li>'Diseased, CLP'</li><li>'CLP, DC'</li><li>'Diseased_Other'</li><li>'CLB,DC'</li><li>'CLP,DC'</li></ol>\n"
      ],
      "text/latex": [
       "\\begin{enumerate*}\n",
       "\\item 'Healthy'\n",
       "\\item 'Diseased'\n",
       "\\item 'Not\\_Visited'\n",
       "\\item 'CLP,CLB'\n",
       "\\item 'CLB'\n",
       "\\item 'DC'\n",
       "\\item 'Dead'\n",
       "\\item 'CLP'\n",
       "\\item 'Diseased, CLB'\n",
       "\\item 'Diseased, CLP'\n",
       "\\item 'CLP, DC'\n",
       "\\item 'Diseased\\_Other'\n",
       "\\item 'CLB,DC'\n",
       "\\item 'CLP,DC'\n",
       "\\end{enumerate*}\n"
      ],
      "text/markdown": [
       "1. 'Healthy'\n",
       "2. 'Diseased'\n",
       "3. 'Not_Visited'\n",
       "4. 'CLP,CLB'\n",
       "5. 'CLB'\n",
       "6. 'DC'\n",
       "7. 'Dead'\n",
       "8. 'CLP'\n",
       "9. 'Diseased, CLB'\n",
       "10. 'Diseased, CLP'\n",
       "11. 'CLP, DC'\n",
       "12. 'Diseased_Other'\n",
       "13. 'CLB,DC'\n",
       "14. 'CLP,DC'\n",
       "\n",
       "\n"
      ],
      "text/plain": [
       " [1] \"Healthy\"        \"Diseased\"       \"Not_Visited\"    \"CLP,CLB\"       \n",
       " [5] \"CLB\"            \"DC\"             \"Dead\"           \"CLP\"           \n",
       " [9] \"Diseased, CLB\"  \"Diseased, CLP\"  \"CLP, DC\"        \"Diseased_Other\"\n",
       "[13] \"CLB,DC\"         \"CLP,DC\"        "
      ]
     },
     "metadata": {},
     "output_type": "display_data"
    }
   ],
   "source": [
    "unique(colonies_2019_long$condition)"
   ]
  },
  {
   "cell_type": "code",
   "execution_count": 37,
   "id": "38da6d92-9f9e-4827-bdd2-4cc9eca20f68",
   "metadata": {},
   "outputs": [],
   "source": [
    "options(repr.plot.width=20, repr.plot.height=10)"
   ]
  },
  {
   "cell_type": "code",
   "execution_count": 66,
   "id": "ac95e931-c34f-4516-a955-5df617dc6ad2",
   "metadata": {},
   "outputs": [
    {
     "data": {
      "image/png": "[encoded data removed]",
      "text/plain": [
       "plot without title"
      ]
     },
     "metadata": {
      "image/png": {
       "height": 600,
       "width": 1200
      }
     },
     "output_type": "display_data"
    }
   ],
   "source": [
    "# Plot conditions over the years (only incl colonies tagged in 2019)\n",
    "conditions_plot<-ggplot(colonies_ordered, aes(x = month_year, fill = condition)) +\n",
    "  geom_bar(position = \"stack\", stat = \"count\") +  # Stacked bars\n",
    "  scale_fill_manual(values = condition_colors,na.value = 'black') +  # Custom fill colors\n",
    "  labs(x = \"Date\", y = \"# of Colonies\", title = \"Health Status Over Time\", fill = \"Condition\") + # Custom legend title\n",
    "  theme(axis.text.x = element_text(angle = 45, hjust = 1),  # Rotate x-axis labels\n",
    "        axis.title = element_text(size = 14),  # Axis titles font size\n",
    "        axis.title.x = element_text(margin = margin(t = 10)),\n",
    "        legend.title = element_text(size = 12),  # Legend title settings\n",
    "        plot.title = element_text(size = 16, hjust = 0.5, face = \"bold\")) \n",
    "conditions_plot\n",
    "# of colonies isn't consistent because some colonies have multiple conditions at a time..\n",
    "# clearly need to go back through everything and incorporate not visited \n",
    "# but then need to make it so that not visited is replaced by last standing condition just for plotting?"
   ]
  },
  {
   "cell_type": "markdown",
   "id": "65aac205-ca77-4bfd-867f-1ec4ccb031ca",
   "metadata": {},
   "source": [
    "## Bleaching tracking 2023 - 2024"
   ]
  },
  {
   "cell_type": "code",
   "execution_count": 53,
   "id": "fbf29aea-cbad-4eb7-bf8a-9deb908265a4",
   "metadata": {},
   "outputs": [],
   "source": [
    "# plot percentages of colonies visited that are clb or clp \n",
    "# exclude not visited \n",
    "#visited_ordered<- colonies_ordered %>%\n",
    " #   filter(condition!=\"Not_Visited\")\n",
    "#unique(visited_ordered$condition)\n",
    "\n",
    "# just filter for immune corals\n",
    "immune_colony <- colony_data[colony_data$immune_y.n == \"y\", ]\n",
    "immune_conditions<-immune_colony[condition_columns]"
   ]
  },
  {
   "cell_type": "code",
   "execution_count": 54,
   "id": "6fe20450-ed69-49dc-a125-7a3e6aa51d9b",
   "metadata": {},
   "outputs": [],
   "source": [
    "colnames(immune_conditions) <- sapply(colnames(immune_conditions), convert_to_date)"
   ]
  },
  {
   "cell_type": "code",
   "execution_count": 56,
   "id": "d64aa151-ebba-4825-a231-7249d81b1094",
   "metadata": {},
   "outputs": [
    {
     "data": {
      "text/html": [
       "<table class=\"dataframe\">\n",
       "<caption>A data.frame: 6 × 11</caption>\n",
       "<thead>\n",
       "\t<tr><th></th><th scope=col>Jun 2019</th><th scope=col>May 2022</th><th scope=col>Dec 2022</th><th scope=col>Sep 2023</th><th scope=col>Nov 2023</th><th scope=col>Dec 2023</th><th scope=col>Jan 2024</th><th scope=col>Feb 2024</th><th scope=col>Apr 2024</th><th scope=col>Jun 2024</th><th scope=col>Aug 2024</th></tr>\n",
       "\t<tr><th></th><th scope=col>&lt;chr&gt;</th><th scope=col>&lt;chr&gt;</th><th scope=col>&lt;chr&gt;</th><th scope=col>&lt;chr&gt;</th><th scope=col>&lt;chr&gt;</th><th scope=col>&lt;chr&gt;</th><th scope=col>&lt;chr&gt;</th><th scope=col>&lt;chr&gt;</th><th scope=col>&lt;chr&gt;</th><th scope=col>&lt;chr&gt;</th><th scope=col>&lt;chr&gt;</th></tr>\n",
       "</thead>\n",
       "<tbody>\n",
       "\t<tr><th scope=row>2</th><td>Healthy</td><td>Healthy </td><td>Healthy</td><td>CLP,CLB </td><td>CLB    </td><td>CLB    </td><td>CLP,CLB</td><td>Healthy</td><td>Not_Visited</td><td>Healthy </td><td>Healthy</td></tr>\n",
       "\t<tr><th scope=row>3</th><td>Healthy</td><td>Diseased</td><td>Healthy</td><td>Diseased</td><td>CLP,CLB</td><td>Healthy</td><td>Healthy</td><td>DC     </td><td>Diseased   </td><td>Diseased</td><td>Healthy</td></tr>\n",
       "\t<tr><th scope=row>12</th><td>Healthy</td><td>Healthy </td><td>Healthy</td><td>Healthy </td><td>CLP    </td><td>Healthy</td><td>Healthy</td><td>Healthy</td><td>Healthy    </td><td>Healthy </td><td>Healthy</td></tr>\n",
       "\t<tr><th scope=row>13</th><td>Healthy</td><td>Healthy </td><td>Healthy</td><td>Healthy </td><td>CLP    </td><td>Dead   </td><td>Dead   </td><td>Dead   </td><td>Dead       </td><td>Dead    </td><td>Dead   </td></tr>\n",
       "\t<tr><th scope=row>20</th><td>Healthy</td><td>Healthy </td><td>Healthy</td><td>CLP     </td><td>CLP    </td><td>CLP, DC</td><td>CLP    </td><td>Healthy</td><td>Healthy    </td><td>Healthy </td><td>Dead   </td></tr>\n",
       "\t<tr><th scope=row>23</th><td>Healthy</td><td>Healthy </td><td>Healthy</td><td>CLP     </td><td>CLP    </td><td>Healthy</td><td>Healthy</td><td>Healthy</td><td>Healthy    </td><td>Healthy </td><td>Healthy</td></tr>\n",
       "</tbody>\n",
       "</table>\n"
      ],
      "text/latex": [
       "A data.frame: 6 × 11\n",
       "\\begin{tabular}{r|lllllllllll}\n",
       "  & Jun 2019 & May 2022 & Dec 2022 & Sep 2023 & Nov 2023 & Dec 2023 & Jan 2024 & Feb 2024 & Apr 2024 & Jun 2024 & Aug 2024\\\\\n",
       "  & <chr> & <chr> & <chr> & <chr> & <chr> & <chr> & <chr> & <chr> & <chr> & <chr> & <chr>\\\\\n",
       "\\hline\n",
       "\t2 & Healthy & Healthy  & Healthy & CLP,CLB  & CLB     & CLB     & CLP,CLB & Healthy & Not\\_Visited & Healthy  & Healthy\\\\\n",
       "\t3 & Healthy & Diseased & Healthy & Diseased & CLP,CLB & Healthy & Healthy & DC      & Diseased    & Diseased & Healthy\\\\\n",
       "\t12 & Healthy & Healthy  & Healthy & Healthy  & CLP     & Healthy & Healthy & Healthy & Healthy     & Healthy  & Healthy\\\\\n",
       "\t13 & Healthy & Healthy  & Healthy & Healthy  & CLP     & Dead    & Dead    & Dead    & Dead        & Dead     & Dead   \\\\\n",
       "\t20 & Healthy & Healthy  & Healthy & CLP      & CLP     & CLP, DC & CLP     & Healthy & Healthy     & Healthy  & Dead   \\\\\n",
       "\t23 & Healthy & Healthy  & Healthy & CLP      & CLP     & Healthy & Healthy & Healthy & Healthy     & Healthy  & Healthy\\\\\n",
       "\\end{tabular}\n"
      ],
      "text/markdown": [
       "\n",
       "A data.frame: 6 × 11\n",
       "\n",
       "| <!--/--> | Jun 2019 &lt;chr&gt; | May 2022 &lt;chr&gt; | Dec 2022 &lt;chr&gt; | Sep 2023 &lt;chr&gt; | Nov 2023 &lt;chr&gt; | Dec 2023 &lt;chr&gt; | Jan 2024 &lt;chr&gt; | Feb 2024 &lt;chr&gt; | Apr 2024 &lt;chr&gt; | Jun 2024 &lt;chr&gt; | Aug 2024 &lt;chr&gt; |\n",
       "|---|---|---|---|---|---|---|---|---|---|---|---|\n",
       "| 2 | Healthy | Healthy  | Healthy | CLP,CLB  | CLB     | CLB     | CLP,CLB | Healthy | Not_Visited | Healthy  | Healthy |\n",
       "| 3 | Healthy | Diseased | Healthy | Diseased | CLP,CLB | Healthy | Healthy | DC      | Diseased    | Diseased | Healthy |\n",
       "| 12 | Healthy | Healthy  | Healthy | Healthy  | CLP     | Healthy | Healthy | Healthy | Healthy     | Healthy  | Healthy |\n",
       "| 13 | Healthy | Healthy  | Healthy | Healthy  | CLP     | Dead    | Dead    | Dead    | Dead        | Dead     | Dead    |\n",
       "| 20 | Healthy | Healthy  | Healthy | CLP      | CLP     | CLP, DC | CLP     | Healthy | Healthy     | Healthy  | Dead    |\n",
       "| 23 | Healthy | Healthy  | Healthy | CLP      | CLP     | Healthy | Healthy | Healthy | Healthy     | Healthy  | Healthy |\n",
       "\n"
      ],
      "text/plain": [
       "   Jun 2019 May 2022 Dec 2022 Sep 2023 Nov 2023 Dec 2023 Jan 2024 Feb 2024\n",
       "2  Healthy  Healthy  Healthy  CLP,CLB  CLB      CLB      CLP,CLB  Healthy \n",
       "3  Healthy  Diseased Healthy  Diseased CLP,CLB  Healthy  Healthy  DC      \n",
       "12 Healthy  Healthy  Healthy  Healthy  CLP      Healthy  Healthy  Healthy \n",
       "13 Healthy  Healthy  Healthy  Healthy  CLP      Dead     Dead     Dead    \n",
       "20 Healthy  Healthy  Healthy  CLP      CLP      CLP, DC  CLP      Healthy \n",
       "23 Healthy  Healthy  Healthy  CLP      CLP      Healthy  Healthy  Healthy \n",
       "   Apr 2024    Jun 2024 Aug 2024\n",
       "2  Not_Visited Healthy  Healthy \n",
       "3  Diseased    Diseased Healthy \n",
       "12 Healthy     Healthy  Healthy \n",
       "13 Dead        Dead     Dead    \n",
       "20 Healthy     Healthy  Dead    \n",
       "23 Healthy     Healthy  Healthy "
      ]
     },
     "metadata": {},
     "output_type": "display_data"
    }
   ],
   "source": [
    "head(immune_conditions)"
   ]
  },
  {
   "cell_type": "code",
   "execution_count": 57,
   "id": "997cc481-268f-4216-b5d8-c2e8cd7c4371",
   "metadata": {},
   "outputs": [],
   "source": [
    "# Reshape the data for plotting\n",
    "immune_long <- immune_conditions %>%\n",
    "  mutate(year = rownames(immune_conditions)) %>%\n",
    "  pivot_longer(-year, names_to = \"month_year\", values_to = \"condition\")"
   ]
  },
  {
   "cell_type": "code",
   "execution_count": 70,
   "id": "0a0e51c8-9cc5-400d-9987-da90b56ca192",
   "metadata": {},
   "outputs": [
    {
     "data": {
      "text/html": [
       "<table class=\"dataframe\">\n",
       "<caption>A tibble: 428 × 3</caption>\n",
       "<thead>\n",
       "\t<tr><th scope=col>year</th><th scope=col>month_year</th><th scope=col>condition</th></tr>\n",
       "\t<tr><th scope=col>&lt;chr&gt;</th><th scope=col>&lt;chr&gt;</th><th scope=col>&lt;chr&gt;</th></tr>\n",
       "</thead>\n",
       "<tbody>\n",
       "\t<tr><td>2 </td><td>Jun 2019</td><td>Healthy    </td></tr>\n",
       "\t<tr><td>2 </td><td>May 2022</td><td>Healthy    </td></tr>\n",
       "\t<tr><td>2 </td><td>Dec 2022</td><td>Healthy    </td></tr>\n",
       "\t<tr><td>2 </td><td>Sep 2023</td><td>CLP        </td></tr>\n",
       "\t<tr><td>2 </td><td>Sep 2023</td><td>CLB        </td></tr>\n",
       "\t<tr><td>2 </td><td>Nov 2023</td><td>CLB        </td></tr>\n",
       "\t<tr><td>2 </td><td>Dec 2023</td><td>CLB        </td></tr>\n",
       "\t<tr><td>2 </td><td>Jan 2024</td><td>CLP        </td></tr>\n",
       "\t<tr><td>2 </td><td>Jan 2024</td><td>CLB        </td></tr>\n",
       "\t<tr><td>2 </td><td>Feb 2024</td><td>Healthy    </td></tr>\n",
       "\t<tr><td>2 </td><td>Apr 2024</td><td>Not_Visited</td></tr>\n",
       "\t<tr><td>2 </td><td>Jun 2024</td><td>Healthy    </td></tr>\n",
       "\t<tr><td>2 </td><td>Aug 2024</td><td>Healthy    </td></tr>\n",
       "\t<tr><td>3 </td><td>Jun 2019</td><td>Healthy    </td></tr>\n",
       "\t<tr><td>3 </td><td>May 2022</td><td>Diseased   </td></tr>\n",
       "\t<tr><td>3 </td><td>Dec 2022</td><td>Healthy    </td></tr>\n",
       "\t<tr><td>3 </td><td>Sep 2023</td><td>Diseased   </td></tr>\n",
       "\t<tr><td>3 </td><td>Nov 2023</td><td>CLP        </td></tr>\n",
       "\t<tr><td>3 </td><td>Nov 2023</td><td>CLB        </td></tr>\n",
       "\t<tr><td>3 </td><td>Dec 2023</td><td>Healthy    </td></tr>\n",
       "\t<tr><td>3 </td><td>Jan 2024</td><td>Healthy    </td></tr>\n",
       "\t<tr><td>3 </td><td>Feb 2024</td><td>DC         </td></tr>\n",
       "\t<tr><td>3 </td><td>Apr 2024</td><td>Diseased   </td></tr>\n",
       "\t<tr><td>3 </td><td>Jun 2024</td><td>Diseased   </td></tr>\n",
       "\t<tr><td>3 </td><td>Aug 2024</td><td>Healthy    </td></tr>\n",
       "\t<tr><td>12</td><td>Jun 2019</td><td>Healthy    </td></tr>\n",
       "\t<tr><td>12</td><td>May 2022</td><td>Healthy    </td></tr>\n",
       "\t<tr><td>12</td><td>Dec 2022</td><td>Healthy    </td></tr>\n",
       "\t<tr><td>12</td><td>Sep 2023</td><td>Healthy    </td></tr>\n",
       "\t<tr><td>12</td><td>Nov 2023</td><td>CLP        </td></tr>\n",
       "\t<tr><td>⋮</td><td>⋮</td><td>⋮</td></tr>\n",
       "\t<tr><td>144</td><td>Nov 2023</td><td>CLP    </td></tr>\n",
       "\t<tr><td>144</td><td>Dec 2023</td><td>CLP    </td></tr>\n",
       "\t<tr><td>144</td><td>Jan 2024</td><td>CLP    </td></tr>\n",
       "\t<tr><td>144</td><td>Feb 2024</td><td>CLP    </td></tr>\n",
       "\t<tr><td>144</td><td>Apr 2024</td><td>Healthy</td></tr>\n",
       "\t<tr><td>144</td><td>Jun 2024</td><td>Healthy</td></tr>\n",
       "\t<tr><td>144</td><td>Aug 2024</td><td>Healthy</td></tr>\n",
       "\t<tr><td>147</td><td>Jun 2019</td><td>NA     </td></tr>\n",
       "\t<tr><td>147</td><td>May 2022</td><td>NA     </td></tr>\n",
       "\t<tr><td>147</td><td>Dec 2022</td><td>Healthy</td></tr>\n",
       "\t<tr><td>147</td><td>Sep 2023</td><td>Healthy</td></tr>\n",
       "\t<tr><td>147</td><td>Nov 2023</td><td>CLP    </td></tr>\n",
       "\t<tr><td>147</td><td>Dec 2023</td><td>CLP    </td></tr>\n",
       "\t<tr><td>147</td><td>Jan 2024</td><td>Healthy</td></tr>\n",
       "\t<tr><td>147</td><td>Feb 2024</td><td>Healthy</td></tr>\n",
       "\t<tr><td>147</td><td>Apr 2024</td><td>Healthy</td></tr>\n",
       "\t<tr><td>147</td><td>Jun 2024</td><td>Healthy</td></tr>\n",
       "\t<tr><td>147</td><td>Aug 2024</td><td>Healthy</td></tr>\n",
       "\t<tr><td>151</td><td>Jun 2019</td><td>NA     </td></tr>\n",
       "\t<tr><td>151</td><td>May 2022</td><td>NA     </td></tr>\n",
       "\t<tr><td>151</td><td>Dec 2022</td><td>Healthy</td></tr>\n",
       "\t<tr><td>151</td><td>Sep 2023</td><td>Healthy</td></tr>\n",
       "\t<tr><td>151</td><td>Nov 2023</td><td>CLB    </td></tr>\n",
       "\t<tr><td>151</td><td>Dec 2023</td><td>CLP    </td></tr>\n",
       "\t<tr><td>151</td><td>Dec 2023</td><td>CLB    </td></tr>\n",
       "\t<tr><td>151</td><td>Jan 2024</td><td>CLB    </td></tr>\n",
       "\t<tr><td>151</td><td>Feb 2024</td><td>CLP    </td></tr>\n",
       "\t<tr><td>151</td><td>Apr 2024</td><td>Healthy</td></tr>\n",
       "\t<tr><td>151</td><td>Jun 2024</td><td>Healthy</td></tr>\n",
       "\t<tr><td>151</td><td>Aug 2024</td><td>CLP    </td></tr>\n",
       "</tbody>\n",
       "</table>\n"
      ],
      "text/latex": [
       "A tibble: 428 × 3\n",
       "\\begin{tabular}{lll}\n",
       " year & month\\_year & condition\\\\\n",
       " <chr> & <chr> & <chr>\\\\\n",
       "\\hline\n",
       "\t 2  & Jun 2019 & Healthy    \\\\\n",
       "\t 2  & May 2022 & Healthy    \\\\\n",
       "\t 2  & Dec 2022 & Healthy    \\\\\n",
       "\t 2  & Sep 2023 & CLP        \\\\\n",
       "\t 2  & Sep 2023 & CLB        \\\\\n",
       "\t 2  & Nov 2023 & CLB        \\\\\n",
       "\t 2  & Dec 2023 & CLB        \\\\\n",
       "\t 2  & Jan 2024 & CLP        \\\\\n",
       "\t 2  & Jan 2024 & CLB        \\\\\n",
       "\t 2  & Feb 2024 & Healthy    \\\\\n",
       "\t 2  & Apr 2024 & Not\\_Visited\\\\\n",
       "\t 2  & Jun 2024 & Healthy    \\\\\n",
       "\t 2  & Aug 2024 & Healthy    \\\\\n",
       "\t 3  & Jun 2019 & Healthy    \\\\\n",
       "\t 3  & May 2022 & Diseased   \\\\\n",
       "\t 3  & Dec 2022 & Healthy    \\\\\n",
       "\t 3  & Sep 2023 & Diseased   \\\\\n",
       "\t 3  & Nov 2023 & CLP        \\\\\n",
       "\t 3  & Nov 2023 & CLB        \\\\\n",
       "\t 3  & Dec 2023 & Healthy    \\\\\n",
       "\t 3  & Jan 2024 & Healthy    \\\\\n",
       "\t 3  & Feb 2024 & DC         \\\\\n",
       "\t 3  & Apr 2024 & Diseased   \\\\\n",
       "\t 3  & Jun 2024 & Diseased   \\\\\n",
       "\t 3  & Aug 2024 & Healthy    \\\\\n",
       "\t 12 & Jun 2019 & Healthy    \\\\\n",
       "\t 12 & May 2022 & Healthy    \\\\\n",
       "\t 12 & Dec 2022 & Healthy    \\\\\n",
       "\t 12 & Sep 2023 & Healthy    \\\\\n",
       "\t 12 & Nov 2023 & CLP        \\\\\n",
       "\t ⋮ & ⋮ & ⋮\\\\\n",
       "\t 144 & Nov 2023 & CLP    \\\\\n",
       "\t 144 & Dec 2023 & CLP    \\\\\n",
       "\t 144 & Jan 2024 & CLP    \\\\\n",
       "\t 144 & Feb 2024 & CLP    \\\\\n",
       "\t 144 & Apr 2024 & Healthy\\\\\n",
       "\t 144 & Jun 2024 & Healthy\\\\\n",
       "\t 144 & Aug 2024 & Healthy\\\\\n",
       "\t 147 & Jun 2019 & NA     \\\\\n",
       "\t 147 & May 2022 & NA     \\\\\n",
       "\t 147 & Dec 2022 & Healthy\\\\\n",
       "\t 147 & Sep 2023 & Healthy\\\\\n",
       "\t 147 & Nov 2023 & CLP    \\\\\n",
       "\t 147 & Dec 2023 & CLP    \\\\\n",
       "\t 147 & Jan 2024 & Healthy\\\\\n",
       "\t 147 & Feb 2024 & Healthy\\\\\n",
       "\t 147 & Apr 2024 & Healthy\\\\\n",
       "\t 147 & Jun 2024 & Healthy\\\\\n",
       "\t 147 & Aug 2024 & Healthy\\\\\n",
       "\t 151 & Jun 2019 & NA     \\\\\n",
       "\t 151 & May 2022 & NA     \\\\\n",
       "\t 151 & Dec 2022 & Healthy\\\\\n",
       "\t 151 & Sep 2023 & Healthy\\\\\n",
       "\t 151 & Nov 2023 & CLB    \\\\\n",
       "\t 151 & Dec 2023 & CLP    \\\\\n",
       "\t 151 & Dec 2023 & CLB    \\\\\n",
       "\t 151 & Jan 2024 & CLB    \\\\\n",
       "\t 151 & Feb 2024 & CLP    \\\\\n",
       "\t 151 & Apr 2024 & Healthy\\\\\n",
       "\t 151 & Jun 2024 & Healthy\\\\\n",
       "\t 151 & Aug 2024 & CLP    \\\\\n",
       "\\end{tabular}\n"
      ],
      "text/markdown": [
       "\n",
       "A tibble: 428 × 3\n",
       "\n",
       "| year &lt;chr&gt; | month_year &lt;chr&gt; | condition &lt;chr&gt; |\n",
       "|---|---|---|\n",
       "| 2  | Jun 2019 | Healthy     |\n",
       "| 2  | May 2022 | Healthy     |\n",
       "| 2  | Dec 2022 | Healthy     |\n",
       "| 2  | Sep 2023 | CLP         |\n",
       "| 2  | Sep 2023 | CLB         |\n",
       "| 2  | Nov 2023 | CLB         |\n",
       "| 2  | Dec 2023 | CLB         |\n",
       "| 2  | Jan 2024 | CLP         |\n",
       "| 2  | Jan 2024 | CLB         |\n",
       "| 2  | Feb 2024 | Healthy     |\n",
       "| 2  | Apr 2024 | Not_Visited |\n",
       "| 2  | Jun 2024 | Healthy     |\n",
       "| 2  | Aug 2024 | Healthy     |\n",
       "| 3  | Jun 2019 | Healthy     |\n",
       "| 3  | May 2022 | Diseased    |\n",
       "| 3  | Dec 2022 | Healthy     |\n",
       "| 3  | Sep 2023 | Diseased    |\n",
       "| 3  | Nov 2023 | CLP         |\n",
       "| 3  | Nov 2023 | CLB         |\n",
       "| 3  | Dec 2023 | Healthy     |\n",
       "| 3  | Jan 2024 | Healthy     |\n",
       "| 3  | Feb 2024 | DC          |\n",
       "| 3  | Apr 2024 | Diseased    |\n",
       "| 3  | Jun 2024 | Diseased    |\n",
       "| 3  | Aug 2024 | Healthy     |\n",
       "| 12 | Jun 2019 | Healthy     |\n",
       "| 12 | May 2022 | Healthy     |\n",
       "| 12 | Dec 2022 | Healthy     |\n",
       "| 12 | Sep 2023 | Healthy     |\n",
       "| 12 | Nov 2023 | CLP         |\n",
       "| ⋮ | ⋮ | ⋮ |\n",
       "| 144 | Nov 2023 | CLP     |\n",
       "| 144 | Dec 2023 | CLP     |\n",
       "| 144 | Jan 2024 | CLP     |\n",
       "| 144 | Feb 2024 | CLP     |\n",
       "| 144 | Apr 2024 | Healthy |\n",
       "| 144 | Jun 2024 | Healthy |\n",
       "| 144 | Aug 2024 | Healthy |\n",
       "| 147 | Jun 2019 | NA      |\n",
       "| 147 | May 2022 | NA      |\n",
       "| 147 | Dec 2022 | Healthy |\n",
       "| 147 | Sep 2023 | Healthy |\n",
       "| 147 | Nov 2023 | CLP     |\n",
       "| 147 | Dec 2023 | CLP     |\n",
       "| 147 | Jan 2024 | Healthy |\n",
       "| 147 | Feb 2024 | Healthy |\n",
       "| 147 | Apr 2024 | Healthy |\n",
       "| 147 | Jun 2024 | Healthy |\n",
       "| 147 | Aug 2024 | Healthy |\n",
       "| 151 | Jun 2019 | NA      |\n",
       "| 151 | May 2022 | NA      |\n",
       "| 151 | Dec 2022 | Healthy |\n",
       "| 151 | Sep 2023 | Healthy |\n",
       "| 151 | Nov 2023 | CLB     |\n",
       "| 151 | Dec 2023 | CLP     |\n",
       "| 151 | Dec 2023 | CLB     |\n",
       "| 151 | Jan 2024 | CLB     |\n",
       "| 151 | Feb 2024 | CLP     |\n",
       "| 151 | Apr 2024 | Healthy |\n",
       "| 151 | Jun 2024 | Healthy |\n",
       "| 151 | Aug 2024 | CLP     |\n",
       "\n"
      ],
      "text/plain": [
       "    year month_year condition  \n",
       "1   2    Jun 2019   Healthy    \n",
       "2   2    May 2022   Healthy    \n",
       "3   2    Dec 2022   Healthy    \n",
       "4   2    Sep 2023   CLP        \n",
       "5   2    Sep 2023   CLB        \n",
       "6   2    Nov 2023   CLB        \n",
       "7   2    Dec 2023   CLB        \n",
       "8   2    Jan 2024   CLP        \n",
       "9   2    Jan 2024   CLB        \n",
       "10  2    Feb 2024   Healthy    \n",
       "11  2    Apr 2024   Not_Visited\n",
       "12  2    Jun 2024   Healthy    \n",
       "13  2    Aug 2024   Healthy    \n",
       "14  3    Jun 2019   Healthy    \n",
       "15  3    May 2022   Diseased   \n",
       "16  3    Dec 2022   Healthy    \n",
       "17  3    Sep 2023   Diseased   \n",
       "18  3    Nov 2023   CLP        \n",
       "19  3    Nov 2023   CLB        \n",
       "20  3    Dec 2023   Healthy    \n",
       "21  3    Jan 2024   Healthy    \n",
       "22  3    Feb 2024   DC         \n",
       "23  3    Apr 2024   Diseased   \n",
       "24  3    Jun 2024   Diseased   \n",
       "25  3    Aug 2024   Healthy    \n",
       "26  12   Jun 2019   Healthy    \n",
       "27  12   May 2022   Healthy    \n",
       "28  12   Dec 2022   Healthy    \n",
       "29  12   Sep 2023   Healthy    \n",
       "30  12   Nov 2023   CLP        \n",
       "⋮   ⋮    ⋮          ⋮          \n",
       "399 144  Nov 2023   CLP        \n",
       "400 144  Dec 2023   CLP        \n",
       "401 144  Jan 2024   CLP        \n",
       "402 144  Feb 2024   CLP        \n",
       "403 144  Apr 2024   Healthy    \n",
       "404 144  Jun 2024   Healthy    \n",
       "405 144  Aug 2024   Healthy    \n",
       "406 147  Jun 2019   NA         \n",
       "407 147  May 2022   NA         \n",
       "408 147  Dec 2022   Healthy    \n",
       "409 147  Sep 2023   Healthy    \n",
       "410 147  Nov 2023   CLP        \n",
       "411 147  Dec 2023   CLP        \n",
       "412 147  Jan 2024   Healthy    \n",
       "413 147  Feb 2024   Healthy    \n",
       "414 147  Apr 2024   Healthy    \n",
       "415 147  Jun 2024   Healthy    \n",
       "416 147  Aug 2024   Healthy    \n",
       "417 151  Jun 2019   NA         \n",
       "418 151  May 2022   NA         \n",
       "419 151  Dec 2022   Healthy    \n",
       "420 151  Sep 2023   Healthy    \n",
       "421 151  Nov 2023   CLB        \n",
       "422 151  Dec 2023   CLP        \n",
       "423 151  Dec 2023   CLB        \n",
       "424 151  Jan 2024   CLB        \n",
       "425 151  Feb 2024   CLP        \n",
       "426 151  Apr 2024   Healthy    \n",
       "427 151  Jun 2024   Healthy    \n",
       "428 151  Aug 2024   CLP        "
      ]
     },
     "metadata": {},
     "output_type": "display_data"
    }
   ],
   "source": [
    "# Separate multiple conditions into individual rows\n",
    "immune_long <- immune_long %>%\n",
    "  separate_rows(condition, sep = \",\\\\s*\") "
   ]
  },
  {
   "cell_type": "code",
   "execution_count": 81,
   "id": "8f590f4a-7cfb-42f4-bfdb-6a323badaacc",
   "metadata": {},
   "outputs": [],
   "source": [
    "# order based on date\n",
    "immune_parsed <- immune_long %>%\n",
    "  mutate(date = parse_date(paste(\"01\", month_year), format = \"%d %b %Y\"))\n",
    "# Order the data frame by the date column\n",
    "immune_ordered <- immune_parsed %>%\n",
    "  arrange(date) %>%\n",
    "  select(-date)  # Remove the temporary date column if no longer needed\n",
    "# exclude 2019-2022 \n",
    "immune_ordered <- immune_ordered %>%\n",
    "  filter(month_year != \"Jun 2019\" & month_year != \"May 2022\" & month_year != \"Dec 2022\")\n",
    "\n",
    "#specify order for ggplot\n",
    "immune_ordered <- immune_ordered %>%\n",
    "  mutate(month_year = factor(month_year, levels = unique(colonies_ordered$month_year)))\n"
   ]
  },
  {
   "cell_type": "code",
   "execution_count": 78,
   "id": "ac0526cd-1dda-4029-828f-30610de09b11",
   "metadata": {},
   "outputs": [
    {
     "data": {
      "text/html": [
       "<style>\n",
       ".list-inline {list-style: none; margin:0; padding: 0}\n",
       ".list-inline>li {display: inline-block}\n",
       ".list-inline>li:not(:last-child)::after {content: \"\\00b7\"; padding: 0 .5ex}\n",
       "</style>\n",
       "<ol class=list-inline><li>'Healthy'</li><li>NA</li><li>''</li><li>'Diseased'</li><li>'CLB'</li><li>'DC'</li><li>'CLP'</li><li>'Dead'</li><li>'Diseased_Other'</li><li>'Not_Visited'</li></ol>\n"
      ],
      "text/latex": [
       "\\begin{enumerate*}\n",
       "\\item 'Healthy'\n",
       "\\item NA\n",
       "\\item ''\n",
       "\\item 'Diseased'\n",
       "\\item 'CLB'\n",
       "\\item 'DC'\n",
       "\\item 'CLP'\n",
       "\\item 'Dead'\n",
       "\\item 'Diseased\\_Other'\n",
       "\\item 'Not\\_Visited'\n",
       "\\end{enumerate*}\n"
      ],
      "text/markdown": [
       "1. 'Healthy'\n",
       "2. NA\n",
       "3. ''\n",
       "4. 'Diseased'\n",
       "5. 'CLB'\n",
       "6. 'DC'\n",
       "7. 'CLP'\n",
       "8. 'Dead'\n",
       "9. 'Diseased_Other'\n",
       "10. 'Not_Visited'\n",
       "\n",
       "\n"
      ],
      "text/plain": [
       " [1] \"Healthy\"        NA               \"\"               \"Diseased\"      \n",
       " [5] \"CLB\"            \"DC\"             \"CLP\"            \"Dead\"          \n",
       " [9] \"Diseased_Other\" \"Not_Visited\"   "
      ]
     },
     "metadata": {},
     "output_type": "display_data"
    }
   ],
   "source": [
    "unique(immune_ordered$condition)"
   ]
  },
  {
   "cell_type": "code",
   "execution_count": 82,
   "id": "c41b17d5-fe85-4ecf-9697-128828fe7b0a",
   "metadata": {},
   "outputs": [
    {
     "data": {
      "image/png": "[encoded data removed]",
      "text/plain": [
       "plot without title"
      ]
     },
     "metadata": {
      "image/png": {
       "height": 600,
       "width": 1200
      }
     },
     "output_type": "display_data"
    }
   ],
   "source": [
    "immune_plot<-ggplot(immune_ordered, aes(x = month_year, fill = condition)) +\n",
    "  geom_bar(position = \"stack\", stat = \"count\") +  # Stacked bars\n",
    "  scale_fill_manual(values = condition_colors,na.value = 'gainsboro') +  # Custom fill colors\n",
    "  labs(x = \"Date\", y = \"# of Colonies\", title = \"Immune Corals - Health Status Over Time\", fill = \"Condition\") + # Custom legend title\n",
    "  theme(axis.text.x = element_text(angle = 45, hjust = 1),  # Rotate x-axis labels\n",
    "        axis.title = element_text(size = 14),  # Axis titles font size\n",
    "        axis.title.x = element_text(margin = margin(t = 10)),\n",
    "        legend.title = element_text(size = 12),  # Legend title settings\n",
    "        plot.title = element_text(size = 16, hjust = 0.5, face = \"bold\")) \n",
    "immune_plot"
   ]
  },
  {
   "cell_type": "code",
   "execution_count": 80,
   "id": "babd9f44-28a0-4f77-9929-33249038604f",
   "metadata": {},
   "outputs": [
    {
     "data": {
      "image/png": "[encoded data removed]",
      "text/plain": [
       "plot without title"
      ]
     },
     "metadata": {
      "image/png": {
       "height": 600,
       "width": 1200
      }
     },
     "output_type": "display_data"
    }
   ],
   "source": [
    "# Calculate proportions\n",
    "immune_ordered_prop <- immune_ordered %>%\n",
    "  group_by(month_year) %>%\n",
    "  mutate(total = n()) %>%  # Total number of colonies for each month_year\n",
    "  group_by(month_year, condition) %>%\n",
    "  summarise(count = n(), .groups = 'drop') %>%  # Count each condition within each month_year\n",
    "  mutate(prop = count / sum(count) * 100)  # Calculate percentage\n",
    "\n",
    "# Plot with percentages\n",
    "immune_plot <- ggplot(immune_ordered_prop, aes(x = month_year, y = prop, fill = condition)) +\n",
    "  geom_bar(position = \"stack\", stat = \"identity\") +  # Use stat = \"identity\" for precomputed values\n",
    "  scale_fill_manual(values = condition_colors, na.value = 'gainsboro') +  # Custom fill colors\n",
    "  labs(x = \"Date\", y = \"Percentage of Colonies\", title = \"Immune Corals - Health Status Over Time\", fill = \"Condition\") + # Custom legend title\n",
    "  theme(axis.text.x = element_text(angle = 45, hjust = 1),  # Rotate x-axis labels\n",
    "        axis.title = element_text(size = 14),  # Axis titles font size\n",
    "        axis.title.x = element_text(margin = margin(t = 10)),\n",
    "        legend.title = element_text(size = 12),  # Legend title settings\n",
    "        plot.title = element_text(size = 16, hjust = 0.5, face = \"bold\")) \n",
    "\n",
    "# Display the plot\n",
    "print(immune_plot)\n"
   ]
  },
  {
   "cell_type": "markdown",
   "id": "0432dd56-a1ba-49f5-b8b9-7212c35c4f38",
   "metadata": {
    "tags": []
   },
   "source": [
    "## Species Disease Tracking"
   ]
  },
  {
   "cell_type": "code",
   "execution_count": 42,
   "id": "af9360a9-6540-4a3e-b66e-2079759d61a3",
   "metadata": {},
   "outputs": [
    {
     "data": {
      "text/html": [
       "<style>\n",
       ".list-inline {list-style: none; margin:0; padding: 0}\n",
       ".list-inline>li {display: inline-block}\n",
       ".list-inline>li:not(:last-child)::after {content: \"\\00b7\"; padding: 0 .5ex}\n",
       "</style>\n",
       "<ol class=list-inline><li>'SSID'</li><li>'PAST'</li><li>'SSID'</li><li>'PSTR'</li><li>'SSID'</li><li>'PSTR'</li><li>'MCAV'</li><li>'MCAV'</li><li>'SSID'</li><li>'SSID'</li><li>'SSID'</li><li>'PSTR'</li><li>'PAST'</li><li>'MCAV'</li><li>'MCAV'</li><li>'SSID'</li><li>'SSID'</li><li>'MCAV'</li><li>'PAST'</li><li>'PAST'</li><li>'PAST'</li><li>'MCAV'</li><li>'MCAV'</li><li>'MCAV'</li><li>'MCAV'</li><li>'MMEA'</li><li>'MMEA'</li><li>'PSTR'</li><li>'PSTR'</li><li>'PSTR'</li><li>'PSTR'</li><li>'PAST'</li><li>'SSID'</li><li>'SSID'</li><li>'MCAV'</li><li>'PSTR'</li><li>'MCAV'</li><li>'PAST'</li><li>'MCAV'</li><li>'PAST'</li><li>'PSTR'</li><li>'MCAV'</li><li>'MCAV'</li><li>'MCAV'</li><li>'PSTR'</li><li>'PAST'</li><li>'CNAT'</li><li>'PSTR'</li><li>'SSID'</li><li>'SSID'</li><li>'PAST'</li><li>'MCAV'</li><li>'PSTR'</li><li>'SSID'</li><li>'SSID'</li><li>'SSID'</li><li>'SSID'</li><li>'SSID'</li><li>'MMEA'</li><li>'MMEA'</li><li>'MMEA'</li><li>'MMEA'</li><li>'MMEA'</li><li>'MMEA'</li><li>'PAST'</li><li>'PSTR'</li><li>'PSTR'</li><li>'MMEA'</li><li>'MCAV'</li><li>'SSID'</li><li>'PSTR'</li><li>'SSID'</li><li>'PAST'</li><li>'PAST'</li><li>'PAST'</li><li>'MCAV'</li><li>'PAST'</li><li>'PSTR'</li><li>'MCAV'</li><li>'PAST'</li><li>'MCAV'</li><li>'MCAV'</li><li>'PSTR'</li><li>'MCAV'</li><li>'PAST'</li><li>'SSID'</li><li>'PSTR'</li><li>'MCAV'</li><li>'MCAV'</li><li>'SSID'</li><li>'PAST'</li><li>'SSID'</li><li>'MMEA'</li><li>'SSID'</li><li>'MMEA'</li><li>'PSTR'</li><li>'PSTR'</li><li>'PSTR'</li><li>'SSID'</li><li>'PAST'</li><li>'MMEA'</li><li>'SSID'</li><li>'SSID'</li><li>'MMEA'</li><li>'PAST'</li><li>'SSID'</li></ol>\n"
      ],
      "text/latex": [
       "\\begin{enumerate*}\n",
       "\\item 'SSID'\n",
       "\\item 'PAST'\n",
       "\\item 'SSID'\n",
       "\\item 'PSTR'\n",
       "\\item 'SSID'\n",
       "\\item 'PSTR'\n",
       "\\item 'MCAV'\n",
       "\\item 'MCAV'\n",
       "\\item 'SSID'\n",
       "\\item 'SSID'\n",
       "\\item 'SSID'\n",
       "\\item 'PSTR'\n",
       "\\item 'PAST'\n",
       "\\item 'MCAV'\n",
       "\\item 'MCAV'\n",
       "\\item 'SSID'\n",
       "\\item 'SSID'\n",
       "\\item 'MCAV'\n",
       "\\item 'PAST'\n",
       "\\item 'PAST'\n",
       "\\item 'PAST'\n",
       "\\item 'MCAV'\n",
       "\\item 'MCAV'\n",
       "\\item 'MCAV'\n",
       "\\item 'MCAV'\n",
       "\\item 'MMEA'\n",
       "\\item 'MMEA'\n",
       "\\item 'PSTR'\n",
       "\\item 'PSTR'\n",
       "\\item 'PSTR'\n",
       "\\item 'PSTR'\n",
       "\\item 'PAST'\n",
       "\\item 'SSID'\n",
       "\\item 'SSID'\n",
       "\\item 'MCAV'\n",
       "\\item 'PSTR'\n",
       "\\item 'MCAV'\n",
       "\\item 'PAST'\n",
       "\\item 'MCAV'\n",
       "\\item 'PAST'\n",
       "\\item 'PSTR'\n",
       "\\item 'MCAV'\n",
       "\\item 'MCAV'\n",
       "\\item 'MCAV'\n",
       "\\item 'PSTR'\n",
       "\\item 'PAST'\n",
       "\\item 'CNAT'\n",
       "\\item 'PSTR'\n",
       "\\item 'SSID'\n",
       "\\item 'SSID'\n",
       "\\item 'PAST'\n",
       "\\item 'MCAV'\n",
       "\\item 'PSTR'\n",
       "\\item 'SSID'\n",
       "\\item 'SSID'\n",
       "\\item 'SSID'\n",
       "\\item 'SSID'\n",
       "\\item 'SSID'\n",
       "\\item 'MMEA'\n",
       "\\item 'MMEA'\n",
       "\\item 'MMEA'\n",
       "\\item 'MMEA'\n",
       "\\item 'MMEA'\n",
       "\\item 'MMEA'\n",
       "\\item 'PAST'\n",
       "\\item 'PSTR'\n",
       "\\item 'PSTR'\n",
       "\\item 'MMEA'\n",
       "\\item 'MCAV'\n",
       "\\item 'SSID'\n",
       "\\item 'PSTR'\n",
       "\\item 'SSID'\n",
       "\\item 'PAST'\n",
       "\\item 'PAST'\n",
       "\\item 'PAST'\n",
       "\\item 'MCAV'\n",
       "\\item 'PAST'\n",
       "\\item 'PSTR'\n",
       "\\item 'MCAV'\n",
       "\\item 'PAST'\n",
       "\\item 'MCAV'\n",
       "\\item 'MCAV'\n",
       "\\item 'PSTR'\n",
       "\\item 'MCAV'\n",
       "\\item 'PAST'\n",
       "\\item 'SSID'\n",
       "\\item 'PSTR'\n",
       "\\item 'MCAV'\n",
       "\\item 'MCAV'\n",
       "\\item 'SSID'\n",
       "\\item 'PAST'\n",
       "\\item 'SSID'\n",
       "\\item 'MMEA'\n",
       "\\item 'SSID'\n",
       "\\item 'MMEA'\n",
       "\\item 'PSTR'\n",
       "\\item 'PSTR'\n",
       "\\item 'PSTR'\n",
       "\\item 'SSID'\n",
       "\\item 'PAST'\n",
       "\\item 'MMEA'\n",
       "\\item 'SSID'\n",
       "\\item 'SSID'\n",
       "\\item 'MMEA'\n",
       "\\item 'PAST'\n",
       "\\item 'SSID'\n",
       "\\end{enumerate*}\n"
      ],
      "text/markdown": [
       "1. 'SSID'\n",
       "2. 'PAST'\n",
       "3. 'SSID'\n",
       "4. 'PSTR'\n",
       "5. 'SSID'\n",
       "6. 'PSTR'\n",
       "7. 'MCAV'\n",
       "8. 'MCAV'\n",
       "9. 'SSID'\n",
       "10. 'SSID'\n",
       "11. 'SSID'\n",
       "12. 'PSTR'\n",
       "13. 'PAST'\n",
       "14. 'MCAV'\n",
       "15. 'MCAV'\n",
       "16. 'SSID'\n",
       "17. 'SSID'\n",
       "18. 'MCAV'\n",
       "19. 'PAST'\n",
       "20. 'PAST'\n",
       "21. 'PAST'\n",
       "22. 'MCAV'\n",
       "23. 'MCAV'\n",
       "24. 'MCAV'\n",
       "25. 'MCAV'\n",
       "26. 'MMEA'\n",
       "27. 'MMEA'\n",
       "28. 'PSTR'\n",
       "29. 'PSTR'\n",
       "30. 'PSTR'\n",
       "31. 'PSTR'\n",
       "32. 'PAST'\n",
       "33. 'SSID'\n",
       "34. 'SSID'\n",
       "35. 'MCAV'\n",
       "36. 'PSTR'\n",
       "37. 'MCAV'\n",
       "38. 'PAST'\n",
       "39. 'MCAV'\n",
       "40. 'PAST'\n",
       "41. 'PSTR'\n",
       "42. 'MCAV'\n",
       "43. 'MCAV'\n",
       "44. 'MCAV'\n",
       "45. 'PSTR'\n",
       "46. 'PAST'\n",
       "47. 'CNAT'\n",
       "48. 'PSTR'\n",
       "49. 'SSID'\n",
       "50. 'SSID'\n",
       "51. 'PAST'\n",
       "52. 'MCAV'\n",
       "53. 'PSTR'\n",
       "54. 'SSID'\n",
       "55. 'SSID'\n",
       "56. 'SSID'\n",
       "57. 'SSID'\n",
       "58. 'SSID'\n",
       "59. 'MMEA'\n",
       "60. 'MMEA'\n",
       "61. 'MMEA'\n",
       "62. 'MMEA'\n",
       "63. 'MMEA'\n",
       "64. 'MMEA'\n",
       "65. 'PAST'\n",
       "66. 'PSTR'\n",
       "67. 'PSTR'\n",
       "68. 'MMEA'\n",
       "69. 'MCAV'\n",
       "70. 'SSID'\n",
       "71. 'PSTR'\n",
       "72. 'SSID'\n",
       "73. 'PAST'\n",
       "74. 'PAST'\n",
       "75. 'PAST'\n",
       "76. 'MCAV'\n",
       "77. 'PAST'\n",
       "78. 'PSTR'\n",
       "79. 'MCAV'\n",
       "80. 'PAST'\n",
       "81. 'MCAV'\n",
       "82. 'MCAV'\n",
       "83. 'PSTR'\n",
       "84. 'MCAV'\n",
       "85. 'PAST'\n",
       "86. 'SSID'\n",
       "87. 'PSTR'\n",
       "88. 'MCAV'\n",
       "89. 'MCAV'\n",
       "90. 'SSID'\n",
       "91. 'PAST'\n",
       "92. 'SSID'\n",
       "93. 'MMEA'\n",
       "94. 'SSID'\n",
       "95. 'MMEA'\n",
       "96. 'PSTR'\n",
       "97. 'PSTR'\n",
       "98. 'PSTR'\n",
       "99. 'SSID'\n",
       "100. 'PAST'\n",
       "101. 'MMEA'\n",
       "102. 'SSID'\n",
       "103. 'SSID'\n",
       "104. 'MMEA'\n",
       "105. 'PAST'\n",
       "106. 'SSID'\n",
       "\n",
       "\n"
      ],
      "text/plain": [
       "  [1] \"SSID\" \"PAST\" \"SSID\" \"PSTR\" \"SSID\" \"PSTR\" \"MCAV\" \"MCAV\" \"SSID\" \"SSID\"\n",
       " [11] \"SSID\" \"PSTR\" \"PAST\" \"MCAV\" \"MCAV\" \"SSID\" \"SSID\" \"MCAV\" \"PAST\" \"PAST\"\n",
       " [21] \"PAST\" \"MCAV\" \"MCAV\" \"MCAV\" \"MCAV\" \"MMEA\" \"MMEA\" \"PSTR\" \"PSTR\" \"PSTR\"\n",
       " [31] \"PSTR\" \"PAST\" \"SSID\" \"SSID\" \"MCAV\" \"PSTR\" \"MCAV\" \"PAST\" \"MCAV\" \"PAST\"\n",
       " [41] \"PSTR\" \"MCAV\" \"MCAV\" \"MCAV\" \"PSTR\" \"PAST\" \"CNAT\" \"PSTR\" \"SSID\" \"SSID\"\n",
       " [51] \"PAST\" \"MCAV\" \"PSTR\" \"SSID\" \"SSID\" \"SSID\" \"SSID\" \"SSID\" \"MMEA\" \"MMEA\"\n",
       " [61] \"MMEA\" \"MMEA\" \"MMEA\" \"MMEA\" \"PAST\" \"PSTR\" \"PSTR\" \"MMEA\" \"MCAV\" \"SSID\"\n",
       " [71] \"PSTR\" \"SSID\" \"PAST\" \"PAST\" \"PAST\" \"MCAV\" \"PAST\" \"PSTR\" \"MCAV\" \"PAST\"\n",
       " [81] \"MCAV\" \"MCAV\" \"PSTR\" \"MCAV\" \"PAST\" \"SSID\" \"PSTR\" \"MCAV\" \"MCAV\" \"SSID\"\n",
       " [91] \"PAST\" \"SSID\" \"MMEA\" \"SSID\" \"MMEA\" \"PSTR\" \"PSTR\" \"PSTR\" \"SSID\" \"PAST\"\n",
       "[101] \"MMEA\" \"SSID\" \"SSID\" \"MMEA\" \"PAST\" \"SSID\""
      ]
     },
     "metadata": {},
     "output_type": "display_data"
    }
   ],
   "source": [
    "disease_data$Species"
   ]
  },
  {
   "cell_type": "code",
   "execution_count": 43,
   "id": "c029df20-ca18-4790-8180-d8483cd8e68a",
   "metadata": {},
   "outputs": [],
   "source": [
    "some_species <- subset(disease_data, Species != 'CNAT')"
   ]
  },
  {
   "cell_type": "code",
   "execution_count": 48,
   "id": "547af3b8-c416-4cfb-92ff-e71030d6321b",
   "metadata": {},
   "outputs": [
    {
     "data": {
      "image/png": "[encoded data removed]",
      "text/plain": [
       "plot without title"
      ]
     },
     "metadata": {
      "image/png": {
       "height": 1200,
       "width": 1200
      }
     },
     "output_type": "display_data"
    }
   ],
   "source": [
    "# Reshape the data for plotting\n",
    "disease_data_long <- some_species %>%\n",
    "  pivot_longer(cols = c(\"Jun 2019\", \"May 2022\",\"Dec 2022\"),\n",
    "               names_to = \"month_year\",\n",
    "               values_to = \"condition\")\n",
    "\n",
    "# Convert month_year to a factor with correct order of levels\n",
    "disease_data_long <- disease_data_long %>%\n",
    "  mutate(month_year = factor(month_year, levels = unique(month_year)))\n",
    "\n",
    "# Now you can proceed with plotting\n",
    "\n",
    "\n",
    "# Plot the data with stacked bars and custom colors\n",
    "species_plot <- ggplot(disease_data_long, aes(x = Species, fill = condition)) +\n",
    "  geom_bar(position = \"stack\", stat = \"count\") +  # Side-by-side bars for each species\n",
    "  scale_fill_manual(values = condition_colors) +  # Custom fill colors\n",
    "  labs(x = \"Species\", y = \"# of Colonies\", title = \"Health Status Over Time\", fill = \"Condition\") + # Custom legend title\n",
    "  facet_wrap(~month_year, nrow = 1, scales = \"free_x\") +  # Separate bars for each year\n",
    "  theme(axis.text.x = element_text(angle = 45, hjust = 1),  # Rotate x-axis labels\n",
    "        axis.title = element_text(size = 14),  # Axis titles font size\n",
    "        axis.title.x = element_text(margin = margin(t = 10)),\n",
    "        legend.title = element_text(size = 12),  # Legend title settings\n",
    "        plot.title = element_text(size = 16, hjust = 0.5, face = \"bold\")) \n",
    "species_plot\n",
    "\n"
   ]
  },
  {
   "cell_type": "code",
   "execution_count": 45,
   "id": "5be57a89-dcd9-424c-85cb-6180079dfbbb",
   "metadata": {},
   "outputs": [
    {
     "data": {
      "text/html": [
       "<strong>png:</strong> 2"
      ],
      "text/latex": [
       "\\textbf{png:} 2"
      ],
      "text/markdown": [
       "**png:** 2"
      ],
      "text/plain": [
       "png \n",
       "  2 "
      ]
     },
     "metadata": {},
     "output_type": "display_data"
    }
   ],
   "source": [
    "pdf(\"species_plot.pdf\")\n",
    "print(species_plot)\n",
    "dev.off()"
   ]
  },
  {
   "cell_type": "code",
   "execution_count": 46,
   "id": "4146f5fe-cb3e-418f-9a59-59c43eb5bea4",
   "metadata": {},
   "outputs": [],
   "source": [
    "disease_dec2022_long<-disease_data_long[disease_data_long$month_year!=\"May 2022\",]"
   ]
  },
  {
   "cell_type": "code",
   "execution_count": 47,
   "id": "be198fea-ca4c-40b1-9dbe-b1e157e053da",
   "metadata": {},
   "outputs": [],
   "source": [
    "options(repr.plot.width=20, repr.plot.height=20)"
   ]
  },
  {
   "cell_type": "code",
   "execution_count": 49,
   "id": "73d4032b-f723-45f7-ba14-066e9f435580",
   "metadata": {},
   "outputs": [
    {
     "data": {
      "image/png": "[encoded data removed]",
      "text/plain": [
       "plot without title"
      ]
     },
     "metadata": {
      "image/png": {
       "height": 1200,
       "width": 1200
      }
     },
     "output_type": "display_data"
    }
   ],
   "source": [
    "speciesdec_plot <- ggplot(disease_dec2022_long, aes(x = Species, fill = condition)) +\n",
    "  geom_bar(position = \"stack\", stat = \"count\") +  # Side-by-side bars for each species\n",
    "  scale_fill_manual(values = condition_colors) +  # Custom fill colors\n",
    "  labs(x = \"Species\", y = \"# of Colonies\", title = \"Health Status Over Time\", fill = \"Condition\") + # Custom legend title\n",
    "  facet_wrap(~month_year, nrow = 1, scales = \"free_x\") +  # Separate bars for each year\n",
    "  theme(axis.text.x = element_text(angle = 45, hjust = 1, size = 14),  # Rotate and increase x-axis labels\n",
    "        axis.text.y = element_text(size = 14),  # Increase y-axis labels\n",
    "        axis.title = element_text(size = 18),  # Axis titles font size\n",
    "        axis.title.x = element_text(margin = margin(t = 10)),\n",
    "        legend.title = element_text(size = 18),  # Legend title font size\n",
    "        legend.text = element_text(size = 14),  # Increase legend text size\n",
    "        plot.title = element_text(size = 18, hjust = 0.5, face = \"bold\"),\n",
    "        strip.text = element_text(size = 14))  # Increase facet title text size\n",
    "\n",
    "speciesdec_plot"
   ]
  },
  {
   "cell_type": "code",
   "execution_count": 57,
   "id": "ce36c27a-a6b7-4e99-9fd7-58b15e00b9c0",
   "metadata": {},
   "outputs": [
    {
     "data": {
      "text/html": [
       "<strong>png:</strong> 2"
      ],
      "text/latex": [
       "\\textbf{png:} 2"
      ],
      "text/markdown": [
       "**png:** 2"
      ],
      "text/plain": [
       "png \n",
       "  2 "
      ]
     },
     "metadata": {},
     "output_type": "display_data"
    }
   ],
   "source": [
    "pdf(\"speciesdec_plot.pdf\")\n",
    "print(speciesdec_plot)\n",
    "dev.off()"
   ]
  },
  {
   "cell_type": "code",
   "execution_count": 50,
   "id": "29601081-b158-4db6-bcbd-09cbb684bc03",
   "metadata": {},
   "outputs": [],
   "source": [
    "disease_may2022_long<-disease_data_long[disease_data_long$month_year!=\"Dec 2022\",]"
   ]
  },
  {
   "cell_type": "code",
   "execution_count": 51,
   "id": "1e8bc9cb-290f-4c05-bd1b-40e9574025ef",
   "metadata": {},
   "outputs": [],
   "source": [
    "options(repr.plot.width=20, repr.plot.height=20)"
   ]
  },
  {
   "cell_type": "code",
   "execution_count": 52,
   "id": "c32512c2-0385-4c9d-b308-374b54cdf1de",
   "metadata": {},
   "outputs": [
    {
     "data": {
      "image/png": "[encoded data removed]",
      "text/plain": [
       "plot without title"
      ]
     },
     "metadata": {
      "image/png": {
       "height": 1200,
       "width": 1200
      }
     },
     "output_type": "display_data"
    }
   ],
   "source": [
    "speciesmay_plot <- ggplot(disease_may2022_long, aes(x = Species, fill = condition)) +\n",
    "  geom_bar(position = \"stack\", stat = \"count\") +  # Side-by-side bars for each species\n",
    "  scale_fill_manual(values = condition_colors) +  # Custom fill colors\n",
    "  labs(x = \"Species\", y = \"# of Colonies\", title = \"Health Status Over Time\", fill = \"Condition\") + # Custom legend title\n",
    "  facet_wrap(~month_year, nrow = 1, scales = \"free_x\") +  # Separate bars for each year\n",
    "  theme(axis.text.x = element_text(angle = 45, hjust = 1, size = 14),  # Rotate and increase x-axis labels\n",
    "        axis.text.y = element_text(size = 14),  # Increase y-axis labels\n",
    "        axis.title = element_text(size = 18),  # Axis titles font size\n",
    "        axis.title.x = element_text(margin = margin(t = 10)),\n",
    "        legend.title = element_text(size = 18),  # Legend title font size\n",
    "        legend.text = element_text(size = 14),  # Increase legend text size\n",
    "        plot.title = element_text(size = 18, hjust = 0.5, face = \"bold\"),\n",
    "        strip.text = element_text(size = 14))  # Increase facet title text size\n",
    "\n",
    "speciesmay_plot"
   ]
  },
  {
   "cell_type": "code",
   "execution_count": 53,
   "id": "540a855a-2945-4d0e-b79d-824a2572226a",
   "metadata": {},
   "outputs": [
    {
     "data": {
      "text/html": [
       "<strong>png:</strong> 2"
      ],
      "text/latex": [
       "\\textbf{png:} 2"
      ],
      "text/markdown": [
       "**png:** 2"
      ],
      "text/plain": [
       "png \n",
       "  2 "
      ]
     },
     "metadata": {},
     "output_type": "display_data"
    }
   ],
   "source": [
    "pdf(\"speciesmay_plot.pdf\")\n",
    "print(speciesmay_plot)\n",
    "dev.off()"
   ]
  },
  {
   "cell_type": "code",
   "execution_count": 32,
   "id": "68168a23-cea7-419c-bb3e-9dc63c2c07bf",
   "metadata": {},
   "outputs": [
    {
     "name": "stderr",
     "output_type": "stream",
     "text": [
      "Warning message in cbind(parts$left, chars$ellip_h, parts$right, deparse.level = 0L):\n",
      "“number of rows of result is not a multiple of vector length (arg 2)”\n",
      "Warning message in cbind(parts$left, chars$ellip_h, parts$right, deparse.level = 0L):\n",
      "“number of rows of result is not a multiple of vector length (arg 2)”\n",
      "Warning message in cbind(parts$left, chars$ellip_h, parts$right, deparse.level = 0L):\n",
      "“number of rows of result is not a multiple of vector length (arg 2)”\n",
      "Warning message in cbind(parts$left, chars$ellip_h, parts$right, deparse.level = 0L):\n",
      "“number of rows of result is not a multiple of vector length (arg 2)”\n"
     ]
    },
    {
     "data": {
      "text/html": [
       "<table class=\"dataframe\">\n",
       "<caption>A data.frame: 0 × 44</caption>\n",
       "<thead>\n",
       "\t<tr><th scope=col>Date_InitialTag</th><th scope=col>Transect</th><th scope=col>TransectNum</th><th scope=col>OldTagNum</th><th scope=col>NewTagNum</th><th scope=col>Species</th><th scope=col>Meter</th><th scope=col>Meters_90</th><th scope=col>Direction</th><th scope=col>Size_Class</th><th scope=col>⋯</th><th scope=col>012024_Percentage</th><th scope=col>022024_Condition</th><th scope=col>022024_Percentage</th><th scope=col>042024_Condition</th><th scope=col>042024_Percentage</th><th scope=col>checked_colonies</th><th scope=col>062024_Condition</th><th scope=col>062024_Percentage</th><th scope=col>Notes_062024</th><th scope=col>Year_tagged</th></tr>\n",
       "\t<tr><th scope=col>&lt;chr&gt;</th><th scope=col>&lt;chr&gt;</th><th scope=col>&lt;int&gt;</th><th scope=col>&lt;chr&gt;</th><th scope=col>&lt;chr&gt;</th><th scope=col>&lt;chr&gt;</th><th scope=col>&lt;dbl&gt;</th><th scope=col>&lt;dbl&gt;</th><th scope=col>&lt;chr&gt;</th><th scope=col>&lt;int&gt;</th><th scope=col>⋯</th><th scope=col>&lt;chr&gt;</th><th scope=col>&lt;chr&gt;</th><th scope=col>&lt;chr&gt;</th><th scope=col>&lt;chr&gt;</th><th scope=col>&lt;chr&gt;</th><th scope=col>&lt;chr&gt;</th><th scope=col>&lt;chr&gt;</th><th scope=col>&lt;chr&gt;</th><th scope=col>&lt;chr&gt;</th><th scope=col>&lt;chr&gt;</th></tr>\n",
       "</thead>\n",
       "<tbody>\n",
       "</tbody>\n",
       "</table>\n"
      ],
      "text/latex": [
       "A data.frame: 0 × 44\n",
       "\\begin{tabular}{lllllllllllllllllllll}\n",
       " Date\\_InitialTag & Transect & TransectNum & OldTagNum & NewTagNum & Species & Meter & Meters\\_90 & Direction & Size\\_Class & ⋯ & 012024\\_Percentage & 022024\\_Condition & 022024\\_Percentage & 042024\\_Condition & 042024\\_Percentage & checked\\_colonies & 062024\\_Condition & 062024\\_Percentage & Notes\\_062024 & Year\\_tagged\\\\\n",
       " <chr> & <chr> & <int> & <chr> & <chr> & <chr> & <dbl> & <dbl> & <chr> & <int> & ⋯ & <chr> & <chr> & <chr> & <chr> & <chr> & <chr> & <chr> & <chr> & <chr> & <chr>\\\\\n",
       "\\hline\n",
       "\\end{tabular}\n"
      ],
      "text/markdown": [
       "\n",
       "A data.frame: 0 × 44\n",
       "\n",
       "| Date_InitialTag &lt;chr&gt; | Transect &lt;chr&gt; | TransectNum &lt;int&gt; | OldTagNum &lt;chr&gt; | NewTagNum &lt;chr&gt; | Species &lt;chr&gt; | Meter &lt;dbl&gt; | Meters_90 &lt;dbl&gt; | Direction &lt;chr&gt; | Size_Class &lt;int&gt; | ⋯ ⋯ | 012024_Percentage &lt;chr&gt; | 022024_Condition &lt;chr&gt; | 022024_Percentage &lt;chr&gt; | 042024_Condition &lt;chr&gt; | 042024_Percentage &lt;chr&gt; | checked_colonies &lt;chr&gt; | 062024_Condition &lt;chr&gt; | 062024_Percentage &lt;chr&gt; | Notes_062024 &lt;chr&gt; | Year_tagged &lt;chr&gt; |\n",
       "|---|---|---|---|---|---|---|---|---|---|---|---|---|---|---|---|---|---|---|---|---|\n",
       "\n"
      ],
      "text/plain": [
       "     Date_InitialTag Transect TransectNum OldTagNum NewTagNum Species Meter\n",
       "     Meters_90 Direction Size_Class ⋯ 012024_Percentage 022024_Condition\n",
       "     022024_Percentage 042024_Condition 042024_Percentage checked_colonies\n",
       "     062024_Condition 062024_Percentage Notes_062024 Year_tagged"
      ]
     },
     "metadata": {},
     "output_type": "display_data"
    }
   ],
   "source": [
    "# look at na's \n",
    "colony_data[(is.na(colony_data[\"Year_tagged\"])),]\n",
    "# none left "
   ]
  },
  {
   "cell_type": "code",
   "execution_count": 33,
   "id": "2d1c2750-1582-486e-a440-e99e77b95e81",
   "metadata": {},
   "outputs": [
    {
     "data": {
      "text/html": [
       "<style>\n",
       ".list-inline {list-style: none; margin:0; padding: 0}\n",
       ".list-inline>li {display: inline-block}\n",
       ".list-inline>li:not(:last-child)::after {content: \"\\00b7\"; padding: 0 .5ex}\n",
       "</style>\n",
       "<ol class=list-inline><li>'Date_InitialTag'</li><li>'Transect'</li><li>'TransectNum'</li><li>'OldTagNum'</li><li>'NewTagNum'</li><li>'Species'</li><li>'Meter'</li><li>'Meters_90'</li><li>'Direction'</li><li>'Size_Class'</li><li>'MaxDiameter'</li><li>'Height'</li><li>'Date_DocumentedDisease'</li><li>'Date_DocumentedMortality'</li><li>'Notes_062019'</li><li>'Notes_052022'</li><li>'Notes_092023'</li><li>'Notes_112023'</li><li>'Notes_122023'</li><li>'Notes_012024'</li><li>'Notes_022024'</li><li>'Notes_042024'</li><li>'062019_Condition'</li><li>'062019_Percentage'</li><li>'052022_Condition'</li><li>'052022_Percentage'</li><li>'122022_Condition'</li><li>'092023_Condition'</li><li>'092023_Percentage'</li><li>'112023_Condition'</li><li>'112023_Percentage'</li><li>'122023_Condition'</li><li>'122023_Percentage'</li><li>'012024_Condition'</li><li>'012024_Percentage'</li><li>'022024_Condition'</li><li>'022024_Percentage'</li><li>'042024_Condition'</li><li>'042024_Percentage'</li><li>'checked_colonies'</li><li>'062024_Condition'</li><li>'062024_Percentage'</li><li>'Notes_062024'</li><li>'Year_tagged'</li></ol>\n"
      ],
      "text/latex": [
       "\\begin{enumerate*}\n",
       "\\item 'Date\\_InitialTag'\n",
       "\\item 'Transect'\n",
       "\\item 'TransectNum'\n",
       "\\item 'OldTagNum'\n",
       "\\item 'NewTagNum'\n",
       "\\item 'Species'\n",
       "\\item 'Meter'\n",
       "\\item 'Meters\\_90'\n",
       "\\item 'Direction'\n",
       "\\item 'Size\\_Class'\n",
       "\\item 'MaxDiameter'\n",
       "\\item 'Height'\n",
       "\\item 'Date\\_DocumentedDisease'\n",
       "\\item 'Date\\_DocumentedMortality'\n",
       "\\item 'Notes\\_062019'\n",
       "\\item 'Notes\\_052022'\n",
       "\\item 'Notes\\_092023'\n",
       "\\item 'Notes\\_112023'\n",
       "\\item 'Notes\\_122023'\n",
       "\\item 'Notes\\_012024'\n",
       "\\item 'Notes\\_022024'\n",
       "\\item 'Notes\\_042024'\n",
       "\\item '062019\\_Condition'\n",
       "\\item '062019\\_Percentage'\n",
       "\\item '052022\\_Condition'\n",
       "\\item '052022\\_Percentage'\n",
       "\\item '122022\\_Condition'\n",
       "\\item '092023\\_Condition'\n",
       "\\item '092023\\_Percentage'\n",
       "\\item '112023\\_Condition'\n",
       "\\item '112023\\_Percentage'\n",
       "\\item '122023\\_Condition'\n",
       "\\item '122023\\_Percentage'\n",
       "\\item '012024\\_Condition'\n",
       "\\item '012024\\_Percentage'\n",
       "\\item '022024\\_Condition'\n",
       "\\item '022024\\_Percentage'\n",
       "\\item '042024\\_Condition'\n",
       "\\item '042024\\_Percentage'\n",
       "\\item 'checked\\_colonies'\n",
       "\\item '062024\\_Condition'\n",
       "\\item '062024\\_Percentage'\n",
       "\\item 'Notes\\_062024'\n",
       "\\item 'Year\\_tagged'\n",
       "\\end{enumerate*}\n"
      ],
      "text/markdown": [
       "1. 'Date_InitialTag'\n",
       "2. 'Transect'\n",
       "3. 'TransectNum'\n",
       "4. 'OldTagNum'\n",
       "5. 'NewTagNum'\n",
       "6. 'Species'\n",
       "7. 'Meter'\n",
       "8. 'Meters_90'\n",
       "9. 'Direction'\n",
       "10. 'Size_Class'\n",
       "11. 'MaxDiameter'\n",
       "12. 'Height'\n",
       "13. 'Date_DocumentedDisease'\n",
       "14. 'Date_DocumentedMortality'\n",
       "15. 'Notes_062019'\n",
       "16. 'Notes_052022'\n",
       "17. 'Notes_092023'\n",
       "18. 'Notes_112023'\n",
       "19. 'Notes_122023'\n",
       "20. 'Notes_012024'\n",
       "21. 'Notes_022024'\n",
       "22. 'Notes_042024'\n",
       "23. '062019_Condition'\n",
       "24. '062019_Percentage'\n",
       "25. '052022_Condition'\n",
       "26. '052022_Percentage'\n",
       "27. '122022_Condition'\n",
       "28. '092023_Condition'\n",
       "29. '092023_Percentage'\n",
       "30. '112023_Condition'\n",
       "31. '112023_Percentage'\n",
       "32. '122023_Condition'\n",
       "33. '122023_Percentage'\n",
       "34. '012024_Condition'\n",
       "35. '012024_Percentage'\n",
       "36. '022024_Condition'\n",
       "37. '022024_Percentage'\n",
       "38. '042024_Condition'\n",
       "39. '042024_Percentage'\n",
       "40. 'checked_colonies'\n",
       "41. '062024_Condition'\n",
       "42. '062024_Percentage'\n",
       "43. 'Notes_062024'\n",
       "44. 'Year_tagged'\n",
       "\n",
       "\n"
      ],
      "text/plain": [
       " [1] \"Date_InitialTag\"          \"Transect\"                \n",
       " [3] \"TransectNum\"              \"OldTagNum\"               \n",
       " [5] \"NewTagNum\"                \"Species\"                 \n",
       " [7] \"Meter\"                    \"Meters_90\"               \n",
       " [9] \"Direction\"                \"Size_Class\"              \n",
       "[11] \"MaxDiameter\"              \"Height\"                  \n",
       "[13] \"Date_DocumentedDisease\"   \"Date_DocumentedMortality\"\n",
       "[15] \"Notes_062019\"             \"Notes_052022\"            \n",
       "[17] \"Notes_092023\"             \"Notes_112023\"            \n",
       "[19] \"Notes_122023\"             \"Notes_012024\"            \n",
       "[21] \"Notes_022024\"             \"Notes_042024\"            \n",
       "[23] \"062019_Condition\"         \"062019_Percentage\"       \n",
       "[25] \"052022_Condition\"         \"052022_Percentage\"       \n",
       "[27] \"122022_Condition\"         \"092023_Condition\"        \n",
       "[29] \"092023_Percentage\"        \"112023_Condition\"        \n",
       "[31] \"112023_Percentage\"        \"122023_Condition\"        \n",
       "[33] \"122023_Percentage\"        \"012024_Condition\"        \n",
       "[35] \"012024_Percentage\"        \"022024_Condition\"        \n",
       "[37] \"022024_Percentage\"        \"042024_Condition\"        \n",
       "[39] \"042024_Percentage\"        \"checked_colonies\"        \n",
       "[41] \"062024_Condition\"         \"062024_Percentage\"       \n",
       "[43] \"Notes_062024\"             \"Year_tagged\"             "
      ]
     },
     "metadata": {},
     "output_type": "display_data"
    }
   ],
   "source": [
    "colnames(colony_data)"
   ]
  },
  {
   "cell_type": "code",
   "execution_count": 34,
   "id": "e50de4a6-1803-43ff-bc76-57743279eb04",
   "metadata": {},
   "outputs": [],
   "source": [
    "#remove colonies with 'na' in year_tagged\n",
    "#colony_data <- drop_na(colony_data,\"Year_tagged\")\n",
    "# remove colonies tagged in 2024 \n",
    "colony_no2024 <- subset(colony_data, Year_tagged!=2024) "
   ]
  },
  {
   "cell_type": "code",
   "execution_count": 35,
   "id": "c658a4b6-33dd-4ac4-92ec-606a76d6cc8a",
   "metadata": {},
   "outputs": [
    {
     "name": "stdout",
     "output_type": "stream",
     "text": [
      "Percent of colonies that got diseased in 2022: 30.66667 %\n",
      "Percent of colonies that died in 2022: 27.33333 %\n",
      "Total percentage of colonies affected by sctld: 58 %"
     ]
    }
   ],
   "source": [
    "#filter for disease in 2022\n",
    "disease_2022_count <- colony_no2024 %>%\n",
    "  filter(grepl(\"\\\\d{1,2}/\\\\d{1,2}/22\", Date_DocumentedDisease))\n",
    "\n",
    "#filter for death in 2022\n",
    "death_2022_count <- colony_no2024 %>%\n",
    "  filter(grepl(\"\\\\d{1,2}/\\\\d{1,2}/22\", Date_DocumentedMortality)) \n",
    "percent_disease <- (nrow(disease_2022_count)/nrow(colony_no2024))*100\n",
    "percent_mortality <- (nrow(death_2022_count)/nrow(colony_no2024))*100\n",
    "\n",
    "cat(\"Percent of colonies that got diseased in 2022:\", percent_disease,'%')\n",
    "cat(\"\n",
    "Percent of colonies that died in 2022:\", percent_mortality,'%')\n",
    "cat(\"\n",
    "Total percentage of colonies affected by sctld:\", percent_disease+percent_mortality,'%')"
   ]
  },
  {
   "cell_type": "code",
   "execution_count": 36,
   "id": "95dacb32-5602-4943-8cf2-2ee89c41409a",
   "metadata": {},
   "outputs": [],
   "source": [
    "#Goal: calculate % of mcav that got disease from 2019 to 2022"
   ]
  },
  {
   "cell_type": "code",
   "execution_count": 37,
   "id": "22cdf885-7828-41aa-8b1b-5b30effbe913",
   "metadata": {},
   "outputs": [],
   "source": [
    "# sort for mcav only \n",
    "colony_mcav <- subset(colony_no2024, Species==\"MCAV\") "
   ]
  },
  {
   "cell_type": "code",
   "execution_count": 38,
   "id": "01b84b00-67d5-4ac4-bda6-80b1fd0285b3",
   "metadata": {},
   "outputs": [
    {
     "name": "stdout",
     "output_type": "stream",
     "text": [
      "Percent of mcav colonies that got diseased in 2022: 32.25806 %\n",
      "Percent of mcav colonies that died in 2022: 38.70968 %\n",
      "Total percentage of mcav colonies affected by sctld: 70.96774 %"
     ]
    }
   ],
   "source": [
    "#filter for disease in 2022\n",
    "disease_mcav2022_count <- colony_mcav %>%\n",
    "  filter(grepl(\"\\\\d{1,2}/\\\\d{1,2}/22\", Date_DocumentedDisease))\n",
    "\n",
    "death_mcav2022_count <- colony_mcav %>%\n",
    "  filter(grepl(\"\\\\d{1,2}/\\\\d{1,2}/22\", Date_DocumentedMortality)) \n",
    "mcav_dis<-(nrow(disease_mcav2022_count)/nrow(colony_mcav))*100\n",
    "mcav_ded<- (nrow(death_mcav2022_count)/nrow(colony_mcav))*100\n",
    "\n",
    "cat(\"Percent of mcav colonies that got diseased in 2022:\",mcav_dis ,'%')\n",
    "cat(\"\n",
    "Percent of mcav colonies that died in 2022:\",mcav_ded, '%')\n",
    "cat(\"\n",
    "Total percentage of mcav colonies affected by sctld:\", mcav_dis+mcav_ded,'%')"
   ]
  },
  {
   "cell_type": "code",
   "execution_count": 39,
   "id": "624785ce-e7c7-4086-85ef-480bb5b9d9fb",
   "metadata": {},
   "outputs": [],
   "source": [
    "# sort for past only \n",
    "colony_past <- subset(colony_no2024, Species==\"PAST\") "
   ]
  },
  {
   "cell_type": "code",
   "execution_count": 41,
   "id": "f51bcde7-98cd-4e53-83d6-2ea63c9ace70",
   "metadata": {},
   "outputs": [
    {
     "name": "stdout",
     "output_type": "stream",
     "text": [
      "Percent of pstr colonies that got diseased in 2022: 19.35484 %\n",
      "Percent of pstr colonies that died in 2022: 45.16129 %\n",
      "Total percentage of pstr colonies affected by sctld: 64.51613 %"
     ]
    }
   ],
   "source": [
    "# sort for PSTR only \n",
    "colony_pstr <- subset(colony_no2024, Species==\"PSTR\") \n",
    "#filter for disease in 2022\n",
    "disease_pstr2022_count <- colony_pstr %>%\n",
    "  filter(grepl(\"\\\\d{1,2}/\\\\d{1,2}/22\", Date_DocumentedDisease))\n",
    "\n",
    "death_pstr2022_count <- colony_pstr %>%\n",
    "  filter(grepl(\"\\\\d{1,2}/\\\\d{1,2}/22\", Date_DocumentedMortality)) \n",
    "pstr_dis<- (nrow(disease_pstr2022_count)/nrow(colony_pstr))*100\n",
    "pstr_ded<- (nrow(death_pstr2022_count)/nrow(colony_pstr))*100\n",
    "\n",
    "cat(\"Percent of pstr colonies that got diseased in 2022:\",pstr_dis ,'%')\n",
    "cat(\"\n",
    "Percent of pstr colonies that died in 2022:\", pstr_ded,'%')\n",
    "cat(\"\n",
    "Total percentage of pstr colonies affected by sctld:\", pstr_dis+pstr_ded,'%')"
   ]
  },
  {
   "cell_type": "code",
   "execution_count": 40,
   "id": "ec5ece3a-c64f-4f4e-a0ea-3ac1936a48ae",
   "metadata": {},
   "outputs": [
    {
     "name": "stdout",
     "output_type": "stream",
     "text": [
      "Percent of past colonies that got diseased in 2022: 15 %\n",
      "Percent of past colonies that died in 2022: 5 %"
     ]
    }
   ],
   "source": [
    "#filter for disease in 2022\n",
    "disease_past2022_count <- colony_past %>%\n",
    "  filter(grepl(\"\\\\d{1,2}/\\\\d{1,2}/22\", Date_DocumentedDisease))\n",
    "\n",
    "death_past2022_count <- colony_past %>%\n",
    "  filter(grepl(\"\\\\d{1,2}/\\\\d{1,2}/22\", Date_DocumentedMortality)) \n",
    "\n",
    "cat(\"Percent of past colonies that got diseased in 2022:\", (nrow(disease_past2022_count)/nrow(colony_past))*100,'%')\n",
    "cat(\"\n",
    "Percent of past colonies that died in 2022:\", (nrow(death_past2022_count)/nrow(colony_past))*100,'%')\n",
    "#nrow(colony_mcav)"
   ]
  },
  {
   "cell_type": "code",
   "execution_count": null,
   "id": "72567aa8-ee85-4786-8b22-733c44827461",
   "metadata": {},
   "outputs": [],
   "source": []
  }
 ],
 "metadata": {
  "kernelspec": {
   "display_name": "R [conda env:.conda-r_env]",
   "language": "R",
   "name": "conda-env-.conda-r_env-r"
  },
  "language_info": {
   "codemirror_mode": "r",
   "file_extension": ".r",
   "mimetype": "text/x-r-source",
   "name": "R",
   "pygments_lexer": "r",
   "version": "4.3.2"
  }
 },
 "nbformat": 4,
 "nbformat_minor": 5
}
