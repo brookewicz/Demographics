{
 "cells": [
  {
   "cell_type": "markdown",
   "id": "ba0af1d0-13da-4552-8e82-ea910e1ba17c",
   "metadata": {},
   "source": [
    "## Merge Leah's 2019-2022 data with CBC_Colony"
   ]
  },
  {
   "cell_type": "markdown",
   "id": "154c0056-f99f-4bca-9306-c2ec14d78981",
   "metadata": {},
   "source": [
    "- merging Leah's fate tracking notes (2019-2022) with github version of CBC_ColonyData & fixing discrepencies\n",
    "- establishing clearer rules for determining colony health statuses and fate tracking over time \n",
    "- also fixing some problem corals, noted by entries in column \"COLONIES_TO_LOOK_AT\""
   ]
  },
  {
   "cell_type": "raw",
   "id": "4478512a-c07c-4352-97d5-9991236fe5c0",
   "metadata": {},
   "source": [
    "install.packages(\"tidyverse\")\n",
    "install.packages(\"vegan\")\n",
    "install.packages(\"phyloseq\")\n",
    "install.packages(\"dplyr\")\n",
    "install.packages(\"ggplot2\")\n",
    "install.packages(\"stringr\")"
   ]
  },
  {
   "cell_type": "raw",
   "id": "4eecc2d4-5178-4c86-a0ac-ae865c214d0c",
   "metadata": {},
   "source": [
    "install.packages(\"RcppEigen\")\n",
    "install.packages(\"RcppArmadillo\")\n",
    "install.packages(\"locfit\")\n",
    "install.packages(\"glmnet\")\n",
    "install.packages(\"ade4\")\n",
    "install.packages(\"Wrench\")\n",
    "BiocManager::install(\"metagenomeSeq\")\n",
    "BiocManager::install(\"DESeq2\")\n",
    "BiocManager::install(\"phyloseq\")\n"
   ]
  },
  {
   "cell_type": "raw",
   "id": "3a6e58af-b9c4-4711-840d-5c7ff33d37aa",
   "metadata": {},
   "source": [
    "if (!requireNamespace(\"BiocManager\", quietly = TRUE))\n",
    "    install.packages(\"BiocManager\")\n",
    "\n",
    "BiocManager::install(\"phyloseq\", dependencies=TRUE)\n"
   ]
  },
  {
   "cell_type": "code",
   "execution_count": 8,
   "id": "d7e99e94-416f-4ab4-962a-3937f8a6b03a",
   "metadata": {},
   "outputs": [
    {
     "name": "stderr",
     "output_type": "stream",
     "text": [
      "── \u001b[1mAttaching core tidyverse packages\u001b[22m ──────────────────────── tidyverse 2.0.0 ──\n",
      "\u001b[32m✔\u001b[39m \u001b[34mdplyr    \u001b[39m 1.1.4     \u001b[32m✔\u001b[39m \u001b[34mreadr    \u001b[39m 2.1.5\n",
      "\u001b[32m✔\u001b[39m \u001b[34mforcats  \u001b[39m 1.0.0     \u001b[32m✔\u001b[39m \u001b[34mstringr  \u001b[39m 1.5.1\n",
      "\u001b[32m✔\u001b[39m \u001b[34mggplot2  \u001b[39m 3.5.1     \u001b[32m✔\u001b[39m \u001b[34mtibble   \u001b[39m 3.2.1\n",
      "\u001b[32m✔\u001b[39m \u001b[34mlubridate\u001b[39m 1.9.3     \u001b[32m✔\u001b[39m \u001b[34mtidyr    \u001b[39m 1.3.1\n",
      "\u001b[32m✔\u001b[39m \u001b[34mpurrr    \u001b[39m 1.0.2     \n",
      "── \u001b[1mConflicts\u001b[22m ────────────────────────────────────────── tidyverse_conflicts() ──\n",
      "\u001b[31m✖\u001b[39m \u001b[34mdplyr\u001b[39m::\u001b[32mfilter()\u001b[39m masks \u001b[34mstats\u001b[39m::filter()\n",
      "\u001b[31m✖\u001b[39m \u001b[34mdplyr\u001b[39m::\u001b[32mlag()\u001b[39m    masks \u001b[34mstats\u001b[39m::lag()\n",
      "\u001b[36mℹ\u001b[39m Use the conflicted package (\u001b[3m\u001b[34m<http://conflicted.r-lib.org/>\u001b[39m\u001b[23m) to force all conflicts to become errors\n",
      "Loading required package: permute\n",
      "\n",
      "Loading required package: lattice\n",
      "\n",
      "This is vegan 2.6-6.1\n",
      "\n"
     ]
    }
   ],
   "source": [
    "library(\"tidyverse\")\n",
    "library(\"vegan\")\n",
    "#library(\"phyloseq\")\n",
    "library(\"dplyr\")\n",
    "library(\"ggplot2\")\n",
    "library(\"stringr\")"
   ]
  },
  {
   "cell_type": "code",
   "execution_count": 1,
   "id": "f2445ae5-eb7a-434c-92a6-7ef4c27c7789",
   "metadata": {},
   "outputs": [
    {
     "data": {
      "text/html": [
       "'/Users/brookesienkiewicz/Documents/sctld/Demographics'"
      ],
      "text/latex": [
       "'/Users/brookesienkiewicz/Documents/sctld/Demographics'"
      ],
      "text/markdown": [
       "'/Users/brookesienkiewicz/Documents/sctld/Demographics'"
      ],
      "text/plain": [
       "[1] \"/Users/brookesienkiewicz/Documents/sctld/Demographics\""
      ]
     },
     "metadata": {},
     "output_type": "display_data"
    }
   ],
   "source": [
    "getwd()"
   ]
  },
  {
   "cell_type": "code",
   "execution_count": 2,
   "id": "fdde1063-2a57-4338-9c3a-8b40b6384fbe",
   "metadata": {},
   "outputs": [],
   "source": [
    "setwd('/Users//brookesienkiewicz/Documents/sctld/SCTLD_samples/Sample_Data/')"
   ]
  },
  {
   "cell_type": "markdown",
   "id": "253ee587-f200-43ab-8e56-dfe167ffcd2a",
   "metadata": {},
   "source": [
    "### Merge leah's data with github colonydata"
   ]
  },
  {
   "cell_type": "code",
   "execution_count": 3,
   "id": "1840d3b7-b4e7-4945-a660-37c86e9a80a3",
   "metadata": {},
   "outputs": [],
   "source": [
    "colony_data <- read.csv('CBC_ColonyData.csv')"
   ]
  },
  {
   "cell_type": "code",
   "execution_count": 78,
   "id": "e886ffa2-0748-4b6f-88dc-0637388d6e89",
   "metadata": {},
   "outputs": [],
   "source": [
    "leah_colony <- read.csv('/Users//brookesienkiewicz/Documents/sctld/Demographics/CBC_Fate_2019to2022.csv')"
   ]
  },
  {
   "cell_type": "code",
   "execution_count": 4,
   "id": "8363cad7-8ad3-4e0d-8755-52ebce7739a4",
   "metadata": {},
   "outputs": [],
   "source": [
    "colony_data <- colony_data[, -1]"
   ]
  },
  {
   "cell_type": "code",
   "execution_count": 5,
   "id": "25b01b54-04e9-4d58-8c1f-34c296d2786b",
   "metadata": {},
   "outputs": [],
   "source": [
    "# extract year from Date_InitialTag and add it to new column\n",
    "colony_data$Year_tagged <- format(as.Date(colony_data$Date_InitialTag, format=\"%m/%d/%y\"), \"%Y\")"
   ]
  },
  {
   "cell_type": "code",
   "execution_count": 81,
   "id": "a23da03c-6a8a-4a46-8385-1ddd5ce3c6b1",
   "metadata": {},
   "outputs": [
    {
     "data": {
      "text/html": [
       "<table class=\"dataframe\">\n",
       "<caption>A data.frame: 6 × 41</caption>\n",
       "<thead>\n",
       "\t<tr><th></th><th scope=col>Date_InitialTag</th><th scope=col>Transect</th><th scope=col>TransectNum</th><th scope=col>OldTagNum</th><th scope=col>NewTagNum</th><th scope=col>Species</th><th scope=col>Meter</th><th scope=col>Meters_90</th><th scope=col>Direction</th><th scope=col>Size_Class</th><th scope=col>⋯</th><th scope=col>X122023_Condition</th><th scope=col>X122023_Percentage</th><th scope=col>X012024_Condition</th><th scope=col>X012024_Percentage</th><th scope=col>X022024_Condition</th><th scope=col>X022024_Percentage</th><th scope=col>X042024_Condition</th><th scope=col>X042024_Percentage</th><th scope=col>COLONIES_TO_LOOK_AT</th><th scope=col>Year_tagged</th></tr>\n",
       "\t<tr><th></th><th scope=col>&lt;chr&gt;</th><th scope=col>&lt;chr&gt;</th><th scope=col>&lt;int&gt;</th><th scope=col>&lt;chr&gt;</th><th scope=col>&lt;chr&gt;</th><th scope=col>&lt;chr&gt;</th><th scope=col>&lt;dbl&gt;</th><th scope=col>&lt;dbl&gt;</th><th scope=col>&lt;chr&gt;</th><th scope=col>&lt;int&gt;</th><th scope=col>⋯</th><th scope=col>&lt;chr&gt;</th><th scope=col>&lt;chr&gt;</th><th scope=col>&lt;chr&gt;</th><th scope=col>&lt;chr&gt;</th><th scope=col>&lt;chr&gt;</th><th scope=col>&lt;chr&gt;</th><th scope=col>&lt;chr&gt;</th><th scope=col>&lt;chr&gt;</th><th scope=col>&lt;chr&gt;</th><th scope=col>&lt;chr&gt;</th></tr>\n",
       "</thead>\n",
       "<tbody>\n",
       "\t<tr><th scope=row>1</th><td>6/21/19 </td><td>CBC30N</td><td>1</td><td>349</td><td>1</td><td>SSID</td><td>1.5</td><td>0.50</td><td>right</td><td> 5</td><td>⋯</td><td>Diseased</td><td>    </td><td>Diseased</td><td></td><td>Diseased</td><td>   </td><td></td><td></td><td></td><td>2019</td></tr>\n",
       "\t<tr><th scope=row>2</th><td>6/21/19 </td><td>CBC30N</td><td>1</td><td>334</td><td>2</td><td>PAST</td><td>1.4</td><td>0.10</td><td>left </td><td> 4</td><td>⋯</td><td>CLB     </td><td>100%</td><td>Dead    </td><td></td><td>TL      </td><td>90%</td><td></td><td></td><td></td><td>2019</td></tr>\n",
       "\t<tr><th scope=row>3</th><td>6/21/19 </td><td>CBC30N</td><td>1</td><td>346</td><td>3</td><td>SSID</td><td>6.3</td><td>0.80</td><td>right</td><td> 5</td><td>⋯</td><td>CLP     </td><td>80% </td><td>CLP     </td><td></td><td>CLB     </td><td>98%</td><td></td><td></td><td></td><td>2019</td></tr>\n",
       "\t<tr><th scope=row>4</th><td>10/15/19</td><td>CBC30N</td><td>1</td><td>407</td><td>4</td><td>PSTR</td><td>6.5</td><td>0.50</td><td>right</td><td> 3</td><td>⋯</td><td>Dead    </td><td>    </td><td>Dead    </td><td></td><td>Dead    </td><td>   </td><td></td><td></td><td></td><td>2019</td></tr>\n",
       "\t<tr><th scope=row>5</th><td>6/24/19 </td><td>CBC30N</td><td>1</td><td>394</td><td>5</td><td>SSID</td><td>4.3</td><td>1.20</td><td>left </td><td> 5</td><td>⋯</td><td>Diseased</td><td>    </td><td>Diseased</td><td></td><td>Diseased</td><td>   </td><td></td><td></td><td></td><td>2019</td></tr>\n",
       "\t<tr><th scope=row>6</th><td>10/15/19</td><td>CBC30N</td><td>1</td><td>413</td><td>6</td><td>PSTR</td><td>8.3</td><td>1.75</td><td>left </td><td>NA</td><td>⋯</td><td>Dead    </td><td>    </td><td>Dead    </td><td></td><td>Dead    </td><td>   </td><td></td><td></td><td></td><td>2019</td></tr>\n",
       "</tbody>\n",
       "</table>\n"
      ],
      "text/latex": [
       "A data.frame: 6 × 41\n",
       "\\begin{tabular}{r|lllllllllllllllllllll}\n",
       "  & Date\\_InitialTag & Transect & TransectNum & OldTagNum & NewTagNum & Species & Meter & Meters\\_90 & Direction & Size\\_Class & ⋯ & X122023\\_Condition & X122023\\_Percentage & X012024\\_Condition & X012024\\_Percentage & X022024\\_Condition & X022024\\_Percentage & X042024\\_Condition & X042024\\_Percentage & COLONIES\\_TO\\_LOOK\\_AT & Year\\_tagged\\\\\n",
       "  & <chr> & <chr> & <int> & <chr> & <chr> & <chr> & <dbl> & <dbl> & <chr> & <int> & ⋯ & <chr> & <chr> & <chr> & <chr> & <chr> & <chr> & <chr> & <chr> & <chr> & <chr>\\\\\n",
       "\\hline\n",
       "\t1 & 6/21/19  & CBC30N & 1 & 349 & 1 & SSID & 1.5 & 0.50 & right &  5 & ⋯ & Diseased &      & Diseased &  & Diseased &     &  &  &  & 2019\\\\\n",
       "\t2 & 6/21/19  & CBC30N & 1 & 334 & 2 & PAST & 1.4 & 0.10 & left  &  4 & ⋯ & CLB      & 100\\% & Dead     &  & TL       & 90\\% &  &  &  & 2019\\\\\n",
       "\t3 & 6/21/19  & CBC30N & 1 & 346 & 3 & SSID & 6.3 & 0.80 & right &  5 & ⋯ & CLP      & 80\\%  & CLP      &  & CLB      & 98\\% &  &  &  & 2019\\\\\n",
       "\t4 & 10/15/19 & CBC30N & 1 & 407 & 4 & PSTR & 6.5 & 0.50 & right &  3 & ⋯ & Dead     &      & Dead     &  & Dead     &     &  &  &  & 2019\\\\\n",
       "\t5 & 6/24/19  & CBC30N & 1 & 394 & 5 & SSID & 4.3 & 1.20 & left  &  5 & ⋯ & Diseased &      & Diseased &  & Diseased &     &  &  &  & 2019\\\\\n",
       "\t6 & 10/15/19 & CBC30N & 1 & 413 & 6 & PSTR & 8.3 & 1.75 & left  & NA & ⋯ & Dead     &      & Dead     &  & Dead     &     &  &  &  & 2019\\\\\n",
       "\\end{tabular}\n"
      ],
      "text/markdown": [
       "\n",
       "A data.frame: 6 × 41\n",
       "\n",
       "| <!--/--> | Date_InitialTag &lt;chr&gt; | Transect &lt;chr&gt; | TransectNum &lt;int&gt; | OldTagNum &lt;chr&gt; | NewTagNum &lt;chr&gt; | Species &lt;chr&gt; | Meter &lt;dbl&gt; | Meters_90 &lt;dbl&gt; | Direction &lt;chr&gt; | Size_Class &lt;int&gt; | ⋯ ⋯ | X122023_Condition &lt;chr&gt; | X122023_Percentage &lt;chr&gt; | X012024_Condition &lt;chr&gt; | X012024_Percentage &lt;chr&gt; | X022024_Condition &lt;chr&gt; | X022024_Percentage &lt;chr&gt; | X042024_Condition &lt;chr&gt; | X042024_Percentage &lt;chr&gt; | COLONIES_TO_LOOK_AT &lt;chr&gt; | Year_tagged &lt;chr&gt; |\n",
       "|---|---|---|---|---|---|---|---|---|---|---|---|---|---|---|---|---|---|---|---|---|---|\n",
       "| 1 | 6/21/19  | CBC30N | 1 | 349 | 1 | SSID | 1.5 | 0.50 | right |  5 | ⋯ | Diseased | <!----> | Diseased | <!----> | Diseased | <!----> | <!----> | <!----> | <!----> | 2019 |\n",
       "| 2 | 6/21/19  | CBC30N | 1 | 334 | 2 | PAST | 1.4 | 0.10 | left  |  4 | ⋯ | CLB      | 100% | Dead     | <!----> | TL       | 90% | <!----> | <!----> | <!----> | 2019 |\n",
       "| 3 | 6/21/19  | CBC30N | 1 | 346 | 3 | SSID | 6.3 | 0.80 | right |  5 | ⋯ | CLP      | 80%  | CLP      | <!----> | CLB      | 98% | <!----> | <!----> | <!----> | 2019 |\n",
       "| 4 | 10/15/19 | CBC30N | 1 | 407 | 4 | PSTR | 6.5 | 0.50 | right |  3 | ⋯ | Dead     | <!----> | Dead     | <!----> | Dead     | <!----> | <!----> | <!----> | <!----> | 2019 |\n",
       "| 5 | 6/24/19  | CBC30N | 1 | 394 | 5 | SSID | 4.3 | 1.20 | left  |  5 | ⋯ | Diseased | <!----> | Diseased | <!----> | Diseased | <!----> | <!----> | <!----> | <!----> | 2019 |\n",
       "| 6 | 10/15/19 | CBC30N | 1 | 413 | 6 | PSTR | 8.3 | 1.75 | left  | NA | ⋯ | Dead     | <!----> | Dead     | <!----> | Dead     | <!----> | <!----> | <!----> | <!----> | 2019 |\n",
       "\n"
      ],
      "text/plain": [
       "  Date_InitialTag Transect TransectNum OldTagNum NewTagNum Species Meter\n",
       "1 6/21/19         CBC30N   1           349       1         SSID    1.5  \n",
       "2 6/21/19         CBC30N   1           334       2         PAST    1.4  \n",
       "3 6/21/19         CBC30N   1           346       3         SSID    6.3  \n",
       "4 10/15/19        CBC30N   1           407       4         PSTR    6.5  \n",
       "5 6/24/19         CBC30N   1           394       5         SSID    4.3  \n",
       "6 10/15/19        CBC30N   1           413       6         PSTR    8.3  \n",
       "  Meters_90 Direction Size_Class ⋯ X122023_Condition X122023_Percentage\n",
       "1 0.50      right      5         ⋯ Diseased                            \n",
       "2 0.10      left       4         ⋯ CLB               100%              \n",
       "3 0.80      right      5         ⋯ CLP               80%               \n",
       "4 0.50      right      3         ⋯ Dead                                \n",
       "5 1.20      left       5         ⋯ Diseased                            \n",
       "6 1.75      left      NA         ⋯ Dead                                \n",
       "  X012024_Condition X012024_Percentage X022024_Condition X022024_Percentage\n",
       "1 Diseased                             Diseased                            \n",
       "2 Dead                                 TL                90%               \n",
       "3 CLP                                  CLB               98%               \n",
       "4 Dead                                 Dead                                \n",
       "5 Diseased                             Diseased                            \n",
       "6 Dead                                 Dead                                \n",
       "  X042024_Condition X042024_Percentage COLONIES_TO_LOOK_AT Year_tagged\n",
       "1                                                          2019       \n",
       "2                                                          2019       \n",
       "3                                                          2019       \n",
       "4                                                          2019       \n",
       "5                                                          2019       \n",
       "6                                                          2019       "
      ]
     },
     "metadata": {},
     "output_type": "display_data"
    }
   ],
   "source": [
    "head(colony_data)"
   ]
  },
  {
   "cell_type": "code",
   "execution_count": 82,
   "id": "fc25a078-acb2-419e-923c-00d75b95d778",
   "metadata": {},
   "outputs": [
    {
     "data": {
      "text/html": [
       "<style>\n",
       ".list-inline {list-style: none; margin:0; padding: 0}\n",
       ".list-inline>li {display: inline-block}\n",
       ".list-inline>li:not(:last-child)::after {content: \"\\00b7\"; padding: 0 .5ex}\n",
       "</style>\n",
       "<ol class=list-inline><li>'Date_InitialTag'</li><li>'Transect'</li><li>'TransectNum'</li><li>'OldTagNum'</li><li>'NewTagNum'</li><li>'Species'</li><li>'Meter'</li><li>'Meters_90'</li><li>'Direction'</li><li>'Size_Class'</li><li>'Notes_June_2019'</li><li>'MaxDiameter'</li><li>'Height'</li><li>'Date_DocumentedDisease'</li><li>'Date_DocumentedMortality'</li><li>'Notes_May2022'</li><li>'Sept_2023'</li><li>'Nov_2023'</li><li>'Dec_2023'</li><li>'Jan_2024'</li><li>'Feb_2024'</li><li>'April_2024'</li><li>'X062019_Condition'</li><li>'X062019_Percentage'</li><li>'X052022_Condition'</li><li>'X122022_Condition'</li><li>'X052023_Condition'</li><li>'X092023_Condition'</li><li>'X092023_Percentage'</li><li>'X112023_Condition'</li><li>'X112023_Percentage'</li><li>'X122023_Condition'</li><li>'X122023_Percentage'</li><li>'X012024_Condition'</li><li>'X012024_Percentage'</li><li>'X022024_Condition'</li><li>'X022024_Percentage'</li><li>'X042024_Condition'</li><li>'X042024_Percentage'</li><li>'COLONIES_TO_LOOK_AT'</li><li>'Year_tagged'</li></ol>\n"
      ],
      "text/latex": [
       "\\begin{enumerate*}\n",
       "\\item 'Date\\_InitialTag'\n",
       "\\item 'Transect'\n",
       "\\item 'TransectNum'\n",
       "\\item 'OldTagNum'\n",
       "\\item 'NewTagNum'\n",
       "\\item 'Species'\n",
       "\\item 'Meter'\n",
       "\\item 'Meters\\_90'\n",
       "\\item 'Direction'\n",
       "\\item 'Size\\_Class'\n",
       "\\item 'Notes\\_June\\_2019'\n",
       "\\item 'MaxDiameter'\n",
       "\\item 'Height'\n",
       "\\item 'Date\\_DocumentedDisease'\n",
       "\\item 'Date\\_DocumentedMortality'\n",
       "\\item 'Notes\\_May2022'\n",
       "\\item 'Sept\\_2023'\n",
       "\\item 'Nov\\_2023'\n",
       "\\item 'Dec\\_2023'\n",
       "\\item 'Jan\\_2024'\n",
       "\\item 'Feb\\_2024'\n",
       "\\item 'April\\_2024'\n",
       "\\item 'X062019\\_Condition'\n",
       "\\item 'X062019\\_Percentage'\n",
       "\\item 'X052022\\_Condition'\n",
       "\\item 'X122022\\_Condition'\n",
       "\\item 'X052023\\_Condition'\n",
       "\\item 'X092023\\_Condition'\n",
       "\\item 'X092023\\_Percentage'\n",
       "\\item 'X112023\\_Condition'\n",
       "\\item 'X112023\\_Percentage'\n",
       "\\item 'X122023\\_Condition'\n",
       "\\item 'X122023\\_Percentage'\n",
       "\\item 'X012024\\_Condition'\n",
       "\\item 'X012024\\_Percentage'\n",
       "\\item 'X022024\\_Condition'\n",
       "\\item 'X022024\\_Percentage'\n",
       "\\item 'X042024\\_Condition'\n",
       "\\item 'X042024\\_Percentage'\n",
       "\\item 'COLONIES\\_TO\\_LOOK\\_AT'\n",
       "\\item 'Year\\_tagged'\n",
       "\\end{enumerate*}\n"
      ],
      "text/markdown": [
       "1. 'Date_InitialTag'\n",
       "2. 'Transect'\n",
       "3. 'TransectNum'\n",
       "4. 'OldTagNum'\n",
       "5. 'NewTagNum'\n",
       "6. 'Species'\n",
       "7. 'Meter'\n",
       "8. 'Meters_90'\n",
       "9. 'Direction'\n",
       "10. 'Size_Class'\n",
       "11. 'Notes_June_2019'\n",
       "12. 'MaxDiameter'\n",
       "13. 'Height'\n",
       "14. 'Date_DocumentedDisease'\n",
       "15. 'Date_DocumentedMortality'\n",
       "16. 'Notes_May2022'\n",
       "17. 'Sept_2023'\n",
       "18. 'Nov_2023'\n",
       "19. 'Dec_2023'\n",
       "20. 'Jan_2024'\n",
       "21. 'Feb_2024'\n",
       "22. 'April_2024'\n",
       "23. 'X062019_Condition'\n",
       "24. 'X062019_Percentage'\n",
       "25. 'X052022_Condition'\n",
       "26. 'X122022_Condition'\n",
       "27. 'X052023_Condition'\n",
       "28. 'X092023_Condition'\n",
       "29. 'X092023_Percentage'\n",
       "30. 'X112023_Condition'\n",
       "31. 'X112023_Percentage'\n",
       "32. 'X122023_Condition'\n",
       "33. 'X122023_Percentage'\n",
       "34. 'X012024_Condition'\n",
       "35. 'X012024_Percentage'\n",
       "36. 'X022024_Condition'\n",
       "37. 'X022024_Percentage'\n",
       "38. 'X042024_Condition'\n",
       "39. 'X042024_Percentage'\n",
       "40. 'COLONIES_TO_LOOK_AT'\n",
       "41. 'Year_tagged'\n",
       "\n",
       "\n"
      ],
      "text/plain": [
       " [1] \"Date_InitialTag\"          \"Transect\"                \n",
       " [3] \"TransectNum\"              \"OldTagNum\"               \n",
       " [5] \"NewTagNum\"                \"Species\"                 \n",
       " [7] \"Meter\"                    \"Meters_90\"               \n",
       " [9] \"Direction\"                \"Size_Class\"              \n",
       "[11] \"Notes_June_2019\"          \"MaxDiameter\"             \n",
       "[13] \"Height\"                   \"Date_DocumentedDisease\"  \n",
       "[15] \"Date_DocumentedMortality\" \"Notes_May2022\"           \n",
       "[17] \"Sept_2023\"                \"Nov_2023\"                \n",
       "[19] \"Dec_2023\"                 \"Jan_2024\"                \n",
       "[21] \"Feb_2024\"                 \"April_2024\"              \n",
       "[23] \"X062019_Condition\"        \"X062019_Percentage\"      \n",
       "[25] \"X052022_Condition\"        \"X122022_Condition\"       \n",
       "[27] \"X052023_Condition\"        \"X092023_Condition\"       \n",
       "[29] \"X092023_Percentage\"       \"X112023_Condition\"       \n",
       "[31] \"X112023_Percentage\"       \"X122023_Condition\"       \n",
       "[33] \"X122023_Percentage\"       \"X012024_Condition\"       \n",
       "[35] \"X012024_Percentage\"       \"X022024_Condition\"       \n",
       "[37] \"X022024_Percentage\"       \"X042024_Condition\"       \n",
       "[39] \"X042024_Percentage\"       \"COLONIES_TO_LOOK_AT\"     \n",
       "[41] \"Year_tagged\"             "
      ]
     },
     "metadata": {},
     "output_type": "display_data"
    }
   ],
   "source": [
    "colnames(colony_data)"
   ]
  },
  {
   "cell_type": "code",
   "execution_count": 83,
   "id": "4c51be13-403f-4e7a-83ce-81870c5f8b3e",
   "metadata": {},
   "outputs": [
    {
     "data": {
      "text/html": [
       "<style>\n",
       ".list-inline {list-style: none; margin:0; padding: 0}\n",
       ".list-inline>li {display: inline-block}\n",
       ".list-inline>li:not(:last-child)::after {content: \"\\00b7\"; padding: 0 .5ex}\n",
       "</style>\n",
       "<ol class=list-inline><li>'CBC Lagoon'</li><li>'CBC30N'</li><li>'SR30N'</li></ol>\n"
      ],
      "text/latex": [
       "\\begin{enumerate*}\n",
       "\\item 'CBC Lagoon'\n",
       "\\item 'CBC30N'\n",
       "\\item 'SR30N'\n",
       "\\end{enumerate*}\n"
      ],
      "text/markdown": [
       "1. 'CBC Lagoon'\n",
       "2. 'CBC30N'\n",
       "3. 'SR30N'\n",
       "\n",
       "\n"
      ],
      "text/plain": [
       "[1] \"CBC Lagoon\" \"CBC30N\"     \"SR30N\"     "
      ]
     },
     "metadata": {},
     "output_type": "display_data"
    }
   ],
   "source": [
    "# make col that combines species, tag, and transect \n",
    "# first match transect names\n",
    "leah_colony$Transect %>% unique()"
   ]
  },
  {
   "cell_type": "code",
   "execution_count": 84,
   "id": "5ddd8f5d-17c5-41eb-bde2-8126931f977c",
   "metadata": {},
   "outputs": [],
   "source": [
    "# replace CBC Lagoon to Lagoon \n",
    "leah_colony$Transect[leah_colony$Transect == \"CBC Lagoon\"] <- \"Lagoon\""
   ]
  },
  {
   "cell_type": "code",
   "execution_count": 85,
   "id": "ba56c64d-fa71-4869-b6b8-6f433a4d1eb2",
   "metadata": {},
   "outputs": [
    {
     "data": {
      "text/html": [
       "<style>\n",
       ".list-inline {list-style: none; margin:0; padding: 0}\n",
       ".list-inline>li {display: inline-block}\n",
       ".list-inline>li:not(:last-child)::after {content: \"\\00b7\"; padding: 0 .5ex}\n",
       "</style>\n",
       "<ol class=list-inline><li>'Lagoon'</li><li>'CBC30N'</li><li>'SR30N'</li></ol>\n"
      ],
      "text/latex": [
       "\\begin{enumerate*}\n",
       "\\item 'Lagoon'\n",
       "\\item 'CBC30N'\n",
       "\\item 'SR30N'\n",
       "\\end{enumerate*}\n"
      ],
      "text/markdown": [
       "1. 'Lagoon'\n",
       "2. 'CBC30N'\n",
       "3. 'SR30N'\n",
       "\n",
       "\n"
      ],
      "text/plain": [
       "[1] \"Lagoon\" \"CBC30N\" \"SR30N\" "
      ]
     },
     "metadata": {},
     "output_type": "display_data"
    }
   ],
   "source": [
    "# make col that combines species, tag, and transect \n",
    "# first match transect names\n",
    "leah_colony$Transect %>% unique()"
   ]
  },
  {
   "cell_type": "code",
   "execution_count": 86,
   "id": "ad546e5f-16e3-47b5-ae57-29db2916fbc1",
   "metadata": {},
   "outputs": [
    {
     "data": {
      "text/html": [
       "<table class=\"dataframe\">\n",
       "<caption>A data.frame: 6 × 10</caption>\n",
       "<thead>\n",
       "\t<tr><th></th><th scope=col>X</th><th scope=col>Species</th><th scope=col>Date_Initial</th><th scope=col>Max_Diameter</th><th scope=col>Height</th><th scope=col>New_Tag</th><th scope=col>Tag_Orig</th><th scope=col>Transect</th><th scope=col>Time_Point</th><th scope=col>Condition</th></tr>\n",
       "\t<tr><th></th><th scope=col>&lt;int&gt;</th><th scope=col>&lt;chr&gt;</th><th scope=col>&lt;chr&gt;</th><th scope=col>&lt;int&gt;</th><th scope=col>&lt;int&gt;</th><th scope=col>&lt;chr&gt;</th><th scope=col>&lt;chr&gt;</th><th scope=col>&lt;chr&gt;</th><th scope=col>&lt;chr&gt;</th><th scope=col>&lt;chr&gt;</th></tr>\n",
       "</thead>\n",
       "<tbody>\n",
       "\t<tr><th scope=row>1</th><td>1</td><td>PAST</td><td>2019-06-23</td><td>30</td><td>10</td><td>10</td><td>361</td><td>Lagoon</td><td>May22</td><td>Healthy </td></tr>\n",
       "\t<tr><th scope=row>2</th><td>2</td><td>MCAV</td><td>2019-06-23</td><td>27</td><td>34</td><td>14</td><td>369</td><td>Lagoon</td><td>May22</td><td>Healthy </td></tr>\n",
       "\t<tr><th scope=row>3</th><td>3</td><td>MCAV</td><td>2019-06-23</td><td>29</td><td>24</td><td>15</td><td>379</td><td>Lagoon</td><td>May22</td><td>Diseased</td></tr>\n",
       "\t<tr><th scope=row>4</th><td>4</td><td>MCAV</td><td>2019-06-23</td><td>29</td><td>14</td><td>17</td><td>301</td><td>Lagoon</td><td>May22</td><td>Diseased</td></tr>\n",
       "\t<tr><th scope=row>5</th><td>5</td><td>PAST</td><td>2019-06-23</td><td>18</td><td>13</td><td>18</td><td>365</td><td>Lagoon</td><td>May22</td><td>Diseased</td></tr>\n",
       "\t<tr><th scope=row>6</th><td>6</td><td>SSID</td><td>2019-06-23</td><td>32</td><td>27</td><td>19</td><td>300</td><td>Lagoon</td><td>May22</td><td>Diseased</td></tr>\n",
       "</tbody>\n",
       "</table>\n"
      ],
      "text/latex": [
       "A data.frame: 6 × 10\n",
       "\\begin{tabular}{r|llllllllll}\n",
       "  & X & Species & Date\\_Initial & Max\\_Diameter & Height & New\\_Tag & Tag\\_Orig & Transect & Time\\_Point & Condition\\\\\n",
       "  & <int> & <chr> & <chr> & <int> & <int> & <chr> & <chr> & <chr> & <chr> & <chr>\\\\\n",
       "\\hline\n",
       "\t1 & 1 & PAST & 2019-06-23 & 30 & 10 & 10 & 361 & Lagoon & May22 & Healthy \\\\\n",
       "\t2 & 2 & MCAV & 2019-06-23 & 27 & 34 & 14 & 369 & Lagoon & May22 & Healthy \\\\\n",
       "\t3 & 3 & MCAV & 2019-06-23 & 29 & 24 & 15 & 379 & Lagoon & May22 & Diseased\\\\\n",
       "\t4 & 4 & MCAV & 2019-06-23 & 29 & 14 & 17 & 301 & Lagoon & May22 & Diseased\\\\\n",
       "\t5 & 5 & PAST & 2019-06-23 & 18 & 13 & 18 & 365 & Lagoon & May22 & Diseased\\\\\n",
       "\t6 & 6 & SSID & 2019-06-23 & 32 & 27 & 19 & 300 & Lagoon & May22 & Diseased\\\\\n",
       "\\end{tabular}\n"
      ],
      "text/markdown": [
       "\n",
       "A data.frame: 6 × 10\n",
       "\n",
       "| <!--/--> | X &lt;int&gt; | Species &lt;chr&gt; | Date_Initial &lt;chr&gt; | Max_Diameter &lt;int&gt; | Height &lt;int&gt; | New_Tag &lt;chr&gt; | Tag_Orig &lt;chr&gt; | Transect &lt;chr&gt; | Time_Point &lt;chr&gt; | Condition &lt;chr&gt; |\n",
       "|---|---|---|---|---|---|---|---|---|---|---|\n",
       "| 1 | 1 | PAST | 2019-06-23 | 30 | 10 | 10 | 361 | Lagoon | May22 | Healthy  |\n",
       "| 2 | 2 | MCAV | 2019-06-23 | 27 | 34 | 14 | 369 | Lagoon | May22 | Healthy  |\n",
       "| 3 | 3 | MCAV | 2019-06-23 | 29 | 24 | 15 | 379 | Lagoon | May22 | Diseased |\n",
       "| 4 | 4 | MCAV | 2019-06-23 | 29 | 14 | 17 | 301 | Lagoon | May22 | Diseased |\n",
       "| 5 | 5 | PAST | 2019-06-23 | 18 | 13 | 18 | 365 | Lagoon | May22 | Diseased |\n",
       "| 6 | 6 | SSID | 2019-06-23 | 32 | 27 | 19 | 300 | Lagoon | May22 | Diseased |\n",
       "\n"
      ],
      "text/plain": [
       "  X Species Date_Initial Max_Diameter Height New_Tag Tag_Orig Transect\n",
       "1 1 PAST    2019-06-23   30           10     10      361      Lagoon  \n",
       "2 2 MCAV    2019-06-23   27           34     14      369      Lagoon  \n",
       "3 3 MCAV    2019-06-23   29           24     15      379      Lagoon  \n",
       "4 4 MCAV    2019-06-23   29           14     17      301      Lagoon  \n",
       "5 5 PAST    2019-06-23   18           13     18      365      Lagoon  \n",
       "6 6 SSID    2019-06-23   32           27     19      300      Lagoon  \n",
       "  Time_Point Condition\n",
       "1 May22      Healthy  \n",
       "2 May22      Healthy  \n",
       "3 May22      Diseased \n",
       "4 May22      Diseased \n",
       "5 May22      Diseased \n",
       "6 May22      Diseased "
      ]
     },
     "metadata": {},
     "output_type": "display_data"
    }
   ],
   "source": [
    "# look at Leah's data \n",
    "head(leah_colony)"
   ]
  },
  {
   "cell_type": "code",
   "execution_count": 87,
   "id": "5febc87b-5412-47e0-87f3-c3081d76a7ef",
   "metadata": {},
   "outputs": [
    {
     "data": {
      "text/html": [
       "20"
      ],
      "text/latex": [
       "20"
      ],
      "text/markdown": [
       "20"
      ],
      "text/plain": [
       "[1] 20"
      ]
     },
     "metadata": {},
     "output_type": "display_data"
    }
   ],
   "source": [
    "# nas in tag num?\n",
    "sum(is.na(leah_colony$New_Tag))"
   ]
  },
  {
   "cell_type": "code",
   "execution_count": 88,
   "id": "db9de5d4-f30f-45ac-a073-c37c40282cf0",
   "metadata": {},
   "outputs": [],
   "source": [
    "# replace new tag num with old tag num where that are nas\n",
    "leah_colony$New_Tag <- ifelse(is.na(leah_colony$New_Tag), leah_colony$Tag_Orig, leah_colony$New_Tag)"
   ]
  },
  {
   "cell_type": "code",
   "execution_count": 89,
   "id": "e6086974-f502-49ad-8bfd-3efac635c1fc",
   "metadata": {},
   "outputs": [
    {
     "data": {
      "text/html": [
       "<style>\n",
       ".list-inline {list-style: none; margin:0; padding: 0}\n",
       ".list-inline>li {display: inline-block}\n",
       ".list-inline>li:not(:last-child)::after {content: \"\\00b7\"; padding: 0 .5ex}\n",
       "</style>\n",
       "<ol class=list-inline><li>'PAST_10_Lagoon'</li><li>'MCAV_14_Lagoon'</li><li>'MCAV_15_Lagoon'</li><li>'MCAV_17_Lagoon'</li><li>'PAST_18_Lagoon'</li><li>'SSID_19_Lagoon'</li></ol>\n"
      ],
      "text/latex": [
       "\\begin{enumerate*}\n",
       "\\item 'PAST\\_10\\_Lagoon'\n",
       "\\item 'MCAV\\_14\\_Lagoon'\n",
       "\\item 'MCAV\\_15\\_Lagoon'\n",
       "\\item 'MCAV\\_17\\_Lagoon'\n",
       "\\item 'PAST\\_18\\_Lagoon'\n",
       "\\item 'SSID\\_19\\_Lagoon'\n",
       "\\end{enumerate*}\n"
      ],
      "text/markdown": [
       "1. 'PAST_10_Lagoon'\n",
       "2. 'MCAV_14_Lagoon'\n",
       "3. 'MCAV_15_Lagoon'\n",
       "4. 'MCAV_17_Lagoon'\n",
       "5. 'PAST_18_Lagoon'\n",
       "6. 'SSID_19_Lagoon'\n",
       "\n",
       "\n"
      ],
      "text/plain": [
       "[1] \"PAST_10_Lagoon\" \"MCAV_14_Lagoon\" \"MCAV_15_Lagoon\" \"MCAV_17_Lagoon\"\n",
       "[5] \"PAST_18_Lagoon\" \"SSID_19_Lagoon\""
      ]
     },
     "metadata": {},
     "output_type": "display_data"
    }
   ],
   "source": [
    "# make col that combines species, tag, and transect in leah's data\n",
    "leah_colony$ID <- paste(leah_colony$Species, leah_colony$New_Tag, leah_colony$Transect, sep = \"_\")\n",
    "head(leah_colony$ID)"
   ]
  },
  {
   "cell_type": "code",
   "execution_count": 90,
   "id": "3456fd70-5679-4d7f-9adc-7322d73ed2fe",
   "metadata": {},
   "outputs": [
    {
     "data": {
      "text/html": [
       "<style>\n",
       ".list-inline {list-style: none; margin:0; padding: 0}\n",
       ".list-inline>li {display: inline-block}\n",
       ".list-inline>li:not(:last-child)::after {content: \"\\00b7\"; padding: 0 .5ex}\n",
       "</style>\n",
       "<ol class=list-inline><li>'SSID_1_CBC30N'</li><li>'PAST_2_CBC30N'</li><li>'SSID_3_CBC30N'</li><li>'PSTR_4_CBC30N'</li><li>'SSID_5_CBC30N'</li><li>'PSTR_6_CBC30N'</li></ol>\n"
      ],
      "text/latex": [
       "\\begin{enumerate*}\n",
       "\\item 'SSID\\_1\\_CBC30N'\n",
       "\\item 'PAST\\_2\\_CBC30N'\n",
       "\\item 'SSID\\_3\\_CBC30N'\n",
       "\\item 'PSTR\\_4\\_CBC30N'\n",
       "\\item 'SSID\\_5\\_CBC30N'\n",
       "\\item 'PSTR\\_6\\_CBC30N'\n",
       "\\end{enumerate*}\n"
      ],
      "text/markdown": [
       "1. 'SSID_1_CBC30N'\n",
       "2. 'PAST_2_CBC30N'\n",
       "3. 'SSID_3_CBC30N'\n",
       "4. 'PSTR_4_CBC30N'\n",
       "5. 'SSID_5_CBC30N'\n",
       "6. 'PSTR_6_CBC30N'\n",
       "\n",
       "\n"
      ],
      "text/plain": [
       "[1] \"SSID_1_CBC30N\" \"PAST_2_CBC30N\" \"SSID_3_CBC30N\" \"PSTR_4_CBC30N\"\n",
       "[5] \"SSID_5_CBC30N\" \"PSTR_6_CBC30N\""
      ]
     },
     "metadata": {},
     "output_type": "display_data"
    }
   ],
   "source": [
    "# make col that combines species, tag, and transect in colony data\n",
    "colony_data$ID <- paste(colony_data$Species, colony_data$NewTagNum, colony_data$Transect, sep = \"_\")\n",
    "head(colony_data$ID)"
   ]
  },
  {
   "cell_type": "code",
   "execution_count": 91,
   "id": "171a2eec-d405-4e7c-94b9-4dcca24d9bdd",
   "metadata": {},
   "outputs": [
    {
     "data": {
      "text/html": [
       "<table class=\"dataframe\">\n",
       "<caption>A tibble: 6 × 4</caption>\n",
       "<thead>\n",
       "\t<tr><th scope=col>ID</th><th scope=col>lh_Condition_May22</th><th scope=col>lh_Condition_Dec22</th><th scope=col>lh_Condition_Oct19</th></tr>\n",
       "\t<tr><th scope=col>&lt;chr&gt;</th><th scope=col>&lt;chr&gt;</th><th scope=col>&lt;chr&gt;</th><th scope=col>&lt;chr&gt;</th></tr>\n",
       "</thead>\n",
       "<tbody>\n",
       "\t<tr><td>PAST_10_Lagoon</td><td>Healthy </td><td>Healthy </td><td>Healthy</td></tr>\n",
       "\t<tr><td>MCAV_14_Lagoon</td><td>Healthy </td><td>Healthy </td><td>Healthy</td></tr>\n",
       "\t<tr><td>MCAV_15_Lagoon</td><td>Diseased</td><td>Diseased</td><td>Healthy</td></tr>\n",
       "\t<tr><td>MCAV_17_Lagoon</td><td>Diseased</td><td>Dead    </td><td>Healthy</td></tr>\n",
       "\t<tr><td>PAST_18_Lagoon</td><td>Diseased</td><td>Diseased</td><td>Healthy</td></tr>\n",
       "\t<tr><td>SSID_19_Lagoon</td><td>Diseased</td><td>Diseased</td><td>Healthy</td></tr>\n",
       "</tbody>\n",
       "</table>\n"
      ],
      "text/latex": [
       "A tibble: 6 × 4\n",
       "\\begin{tabular}{llll}\n",
       " ID & lh\\_Condition\\_May22 & lh\\_Condition\\_Dec22 & lh\\_Condition\\_Oct19\\\\\n",
       " <chr> & <chr> & <chr> & <chr>\\\\\n",
       "\\hline\n",
       "\t PAST\\_10\\_Lagoon & Healthy  & Healthy  & Healthy\\\\\n",
       "\t MCAV\\_14\\_Lagoon & Healthy  & Healthy  & Healthy\\\\\n",
       "\t MCAV\\_15\\_Lagoon & Diseased & Diseased & Healthy\\\\\n",
       "\t MCAV\\_17\\_Lagoon & Diseased & Dead     & Healthy\\\\\n",
       "\t PAST\\_18\\_Lagoon & Diseased & Diseased & Healthy\\\\\n",
       "\t SSID\\_19\\_Lagoon & Diseased & Diseased & Healthy\\\\\n",
       "\\end{tabular}\n"
      ],
      "text/markdown": [
       "\n",
       "A tibble: 6 × 4\n",
       "\n",
       "| ID &lt;chr&gt; | lh_Condition_May22 &lt;chr&gt; | lh_Condition_Dec22 &lt;chr&gt; | lh_Condition_Oct19 &lt;chr&gt; |\n",
       "|---|---|---|---|\n",
       "| PAST_10_Lagoon | Healthy  | Healthy  | Healthy |\n",
       "| MCAV_14_Lagoon | Healthy  | Healthy  | Healthy |\n",
       "| MCAV_15_Lagoon | Diseased | Diseased | Healthy |\n",
       "| MCAV_17_Lagoon | Diseased | Dead     | Healthy |\n",
       "| PAST_18_Lagoon | Diseased | Diseased | Healthy |\n",
       "| SSID_19_Lagoon | Diseased | Diseased | Healthy |\n",
       "\n"
      ],
      "text/plain": [
       "  ID             lh_Condition_May22 lh_Condition_Dec22 lh_Condition_Oct19\n",
       "1 PAST_10_Lagoon Healthy            Healthy            Healthy           \n",
       "2 MCAV_14_Lagoon Healthy            Healthy            Healthy           \n",
       "3 MCAV_15_Lagoon Diseased           Diseased           Healthy           \n",
       "4 MCAV_17_Lagoon Diseased           Dead               Healthy           \n",
       "5 PAST_18_Lagoon Diseased           Diseased           Healthy           \n",
       "6 SSID_19_Lagoon Diseased           Diseased           Healthy           "
      ]
     },
     "metadata": {},
     "output_type": "display_data"
    }
   ],
   "source": [
    "# separate 2019 and 5/22, 12/22 conditions in leah's data\n",
    "wide_data <- pivot_wider(\n",
    "  data = leah_colony,\n",
    "  id_cols = ID,\n",
    "  names_from = Time_Point,\n",
    "  values_from = Condition,\n",
    "  names_prefix = \"lh_Condition_\"\n",
    ")\n",
    "head(wide_data)"
   ]
  },
  {
   "cell_type": "code",
   "execution_count": 92,
   "id": "e5a05c2d-a5b4-48ec-80be-d28a93fc1a5a",
   "metadata": {},
   "outputs": [
    {
     "data": {
      "text/html": [
       "<table class=\"dataframe\">\n",
       "<caption>A data.frame: 6 × 42</caption>\n",
       "<thead>\n",
       "\t<tr><th></th><th scope=col>Date_InitialTag</th><th scope=col>Transect</th><th scope=col>TransectNum</th><th scope=col>OldTagNum</th><th scope=col>NewTagNum</th><th scope=col>Species</th><th scope=col>Meter</th><th scope=col>Meters_90</th><th scope=col>Direction</th><th scope=col>Size_Class</th><th scope=col>⋯</th><th scope=col>X122023_Percentage</th><th scope=col>X012024_Condition</th><th scope=col>X012024_Percentage</th><th scope=col>X022024_Condition</th><th scope=col>X022024_Percentage</th><th scope=col>X042024_Condition</th><th scope=col>X042024_Percentage</th><th scope=col>COLONIES_TO_LOOK_AT</th><th scope=col>Year_tagged</th><th scope=col>ID</th></tr>\n",
       "\t<tr><th></th><th scope=col>&lt;chr&gt;</th><th scope=col>&lt;chr&gt;</th><th scope=col>&lt;int&gt;</th><th scope=col>&lt;chr&gt;</th><th scope=col>&lt;chr&gt;</th><th scope=col>&lt;chr&gt;</th><th scope=col>&lt;dbl&gt;</th><th scope=col>&lt;dbl&gt;</th><th scope=col>&lt;chr&gt;</th><th scope=col>&lt;int&gt;</th><th scope=col>⋯</th><th scope=col>&lt;chr&gt;</th><th scope=col>&lt;chr&gt;</th><th scope=col>&lt;chr&gt;</th><th scope=col>&lt;chr&gt;</th><th scope=col>&lt;chr&gt;</th><th scope=col>&lt;chr&gt;</th><th scope=col>&lt;chr&gt;</th><th scope=col>&lt;chr&gt;</th><th scope=col>&lt;chr&gt;</th><th scope=col>&lt;chr&gt;</th></tr>\n",
       "</thead>\n",
       "<tbody>\n",
       "\t<tr><th scope=row>1</th><td>6/21/19 </td><td>CBC30N</td><td>1</td><td>349</td><td>1</td><td>SSID</td><td>1.5</td><td>0.50</td><td>right</td><td> 5</td><td>⋯</td><td>    </td><td>Diseased</td><td></td><td>Diseased</td><td>   </td><td></td><td></td><td></td><td>2019</td><td>SSID_1_CBC30N</td></tr>\n",
       "\t<tr><th scope=row>2</th><td>6/21/19 </td><td>CBC30N</td><td>1</td><td>334</td><td>2</td><td>PAST</td><td>1.4</td><td>0.10</td><td>left </td><td> 4</td><td>⋯</td><td>100%</td><td>Dead    </td><td></td><td>TL      </td><td>90%</td><td></td><td></td><td></td><td>2019</td><td>PAST_2_CBC30N</td></tr>\n",
       "\t<tr><th scope=row>3</th><td>6/21/19 </td><td>CBC30N</td><td>1</td><td>346</td><td>3</td><td>SSID</td><td>6.3</td><td>0.80</td><td>right</td><td> 5</td><td>⋯</td><td>80% </td><td>CLP     </td><td></td><td>CLB     </td><td>98%</td><td></td><td></td><td></td><td>2019</td><td>SSID_3_CBC30N</td></tr>\n",
       "\t<tr><th scope=row>4</th><td>10/15/19</td><td>CBC30N</td><td>1</td><td>407</td><td>4</td><td>PSTR</td><td>6.5</td><td>0.50</td><td>right</td><td> 3</td><td>⋯</td><td>    </td><td>Dead    </td><td></td><td>Dead    </td><td>   </td><td></td><td></td><td></td><td>2019</td><td>PSTR_4_CBC30N</td></tr>\n",
       "\t<tr><th scope=row>5</th><td>6/24/19 </td><td>CBC30N</td><td>1</td><td>394</td><td>5</td><td>SSID</td><td>4.3</td><td>1.20</td><td>left </td><td> 5</td><td>⋯</td><td>    </td><td>Diseased</td><td></td><td>Diseased</td><td>   </td><td></td><td></td><td></td><td>2019</td><td>SSID_5_CBC30N</td></tr>\n",
       "\t<tr><th scope=row>6</th><td>10/15/19</td><td>CBC30N</td><td>1</td><td>413</td><td>6</td><td>PSTR</td><td>8.3</td><td>1.75</td><td>left </td><td>NA</td><td>⋯</td><td>    </td><td>Dead    </td><td></td><td>Dead    </td><td>   </td><td></td><td></td><td></td><td>2019</td><td>PSTR_6_CBC30N</td></tr>\n",
       "</tbody>\n",
       "</table>\n"
      ],
      "text/latex": [
       "A data.frame: 6 × 42\n",
       "\\begin{tabular}{r|lllllllllllllllllllll}\n",
       "  & Date\\_InitialTag & Transect & TransectNum & OldTagNum & NewTagNum & Species & Meter & Meters\\_90 & Direction & Size\\_Class & ⋯ & X122023\\_Percentage & X012024\\_Condition & X012024\\_Percentage & X022024\\_Condition & X022024\\_Percentage & X042024\\_Condition & X042024\\_Percentage & COLONIES\\_TO\\_LOOK\\_AT & Year\\_tagged & ID\\\\\n",
       "  & <chr> & <chr> & <int> & <chr> & <chr> & <chr> & <dbl> & <dbl> & <chr> & <int> & ⋯ & <chr> & <chr> & <chr> & <chr> & <chr> & <chr> & <chr> & <chr> & <chr> & <chr>\\\\\n",
       "\\hline\n",
       "\t1 & 6/21/19  & CBC30N & 1 & 349 & 1 & SSID & 1.5 & 0.50 & right &  5 & ⋯ &      & Diseased &  & Diseased &     &  &  &  & 2019 & SSID\\_1\\_CBC30N\\\\\n",
       "\t2 & 6/21/19  & CBC30N & 1 & 334 & 2 & PAST & 1.4 & 0.10 & left  &  4 & ⋯ & 100\\% & Dead     &  & TL       & 90\\% &  &  &  & 2019 & PAST\\_2\\_CBC30N\\\\\n",
       "\t3 & 6/21/19  & CBC30N & 1 & 346 & 3 & SSID & 6.3 & 0.80 & right &  5 & ⋯ & 80\\%  & CLP      &  & CLB      & 98\\% &  &  &  & 2019 & SSID\\_3\\_CBC30N\\\\\n",
       "\t4 & 10/15/19 & CBC30N & 1 & 407 & 4 & PSTR & 6.5 & 0.50 & right &  3 & ⋯ &      & Dead     &  & Dead     &     &  &  &  & 2019 & PSTR\\_4\\_CBC30N\\\\\n",
       "\t5 & 6/24/19  & CBC30N & 1 & 394 & 5 & SSID & 4.3 & 1.20 & left  &  5 & ⋯ &      & Diseased &  & Diseased &     &  &  &  & 2019 & SSID\\_5\\_CBC30N\\\\\n",
       "\t6 & 10/15/19 & CBC30N & 1 & 413 & 6 & PSTR & 8.3 & 1.75 & left  & NA & ⋯ &      & Dead     &  & Dead     &     &  &  &  & 2019 & PSTR\\_6\\_CBC30N\\\\\n",
       "\\end{tabular}\n"
      ],
      "text/markdown": [
       "\n",
       "A data.frame: 6 × 42\n",
       "\n",
       "| <!--/--> | Date_InitialTag &lt;chr&gt; | Transect &lt;chr&gt; | TransectNum &lt;int&gt; | OldTagNum &lt;chr&gt; | NewTagNum &lt;chr&gt; | Species &lt;chr&gt; | Meter &lt;dbl&gt; | Meters_90 &lt;dbl&gt; | Direction &lt;chr&gt; | Size_Class &lt;int&gt; | ⋯ ⋯ | X122023_Percentage &lt;chr&gt; | X012024_Condition &lt;chr&gt; | X012024_Percentage &lt;chr&gt; | X022024_Condition &lt;chr&gt; | X022024_Percentage &lt;chr&gt; | X042024_Condition &lt;chr&gt; | X042024_Percentage &lt;chr&gt; | COLONIES_TO_LOOK_AT &lt;chr&gt; | Year_tagged &lt;chr&gt; | ID &lt;chr&gt; |\n",
       "|---|---|---|---|---|---|---|---|---|---|---|---|---|---|---|---|---|---|---|---|---|---|\n",
       "| 1 | 6/21/19  | CBC30N | 1 | 349 | 1 | SSID | 1.5 | 0.50 | right |  5 | ⋯ | <!----> | Diseased | <!----> | Diseased | <!----> | <!----> | <!----> | <!----> | 2019 | SSID_1_CBC30N |\n",
       "| 2 | 6/21/19  | CBC30N | 1 | 334 | 2 | PAST | 1.4 | 0.10 | left  |  4 | ⋯ | 100% | Dead     | <!----> | TL       | 90% | <!----> | <!----> | <!----> | 2019 | PAST_2_CBC30N |\n",
       "| 3 | 6/21/19  | CBC30N | 1 | 346 | 3 | SSID | 6.3 | 0.80 | right |  5 | ⋯ | 80%  | CLP      | <!----> | CLB      | 98% | <!----> | <!----> | <!----> | 2019 | SSID_3_CBC30N |\n",
       "| 4 | 10/15/19 | CBC30N | 1 | 407 | 4 | PSTR | 6.5 | 0.50 | right |  3 | ⋯ | <!----> | Dead     | <!----> | Dead     | <!----> | <!----> | <!----> | <!----> | 2019 | PSTR_4_CBC30N |\n",
       "| 5 | 6/24/19  | CBC30N | 1 | 394 | 5 | SSID | 4.3 | 1.20 | left  |  5 | ⋯ | <!----> | Diseased | <!----> | Diseased | <!----> | <!----> | <!----> | <!----> | 2019 | SSID_5_CBC30N |\n",
       "| 6 | 10/15/19 | CBC30N | 1 | 413 | 6 | PSTR | 8.3 | 1.75 | left  | NA | ⋯ | <!----> | Dead     | <!----> | Dead     | <!----> | <!----> | <!----> | <!----> | 2019 | PSTR_6_CBC30N |\n",
       "\n"
      ],
      "text/plain": [
       "  Date_InitialTag Transect TransectNum OldTagNum NewTagNum Species Meter\n",
       "1 6/21/19         CBC30N   1           349       1         SSID    1.5  \n",
       "2 6/21/19         CBC30N   1           334       2         PAST    1.4  \n",
       "3 6/21/19         CBC30N   1           346       3         SSID    6.3  \n",
       "4 10/15/19        CBC30N   1           407       4         PSTR    6.5  \n",
       "5 6/24/19         CBC30N   1           394       5         SSID    4.3  \n",
       "6 10/15/19        CBC30N   1           413       6         PSTR    8.3  \n",
       "  Meters_90 Direction Size_Class ⋯ X122023_Percentage X012024_Condition\n",
       "1 0.50      right      5         ⋯                    Diseased         \n",
       "2 0.10      left       4         ⋯ 100%               Dead             \n",
       "3 0.80      right      5         ⋯ 80%                CLP              \n",
       "4 0.50      right      3         ⋯                    Dead             \n",
       "5 1.20      left       5         ⋯                    Diseased         \n",
       "6 1.75      left      NA         ⋯                    Dead             \n",
       "  X012024_Percentage X022024_Condition X022024_Percentage X042024_Condition\n",
       "1                    Diseased                                              \n",
       "2                    TL                90%                                 \n",
       "3                    CLB               98%                                 \n",
       "4                    Dead                                                  \n",
       "5                    Diseased                                              \n",
       "6                    Dead                                                  \n",
       "  X042024_Percentage COLONIES_TO_LOOK_AT Year_tagged ID           \n",
       "1                                        2019        SSID_1_CBC30N\n",
       "2                                        2019        PAST_2_CBC30N\n",
       "3                                        2019        SSID_3_CBC30N\n",
       "4                                        2019        PSTR_4_CBC30N\n",
       "5                                        2019        SSID_5_CBC30N\n",
       "6                                        2019        PSTR_6_CBC30N"
      ]
     },
     "metadata": {},
     "output_type": "display_data"
    }
   ],
   "source": [
    "# get subset of colonies tagged in 2019 (to be able to track since the beginning)\n",
    "colonies_2019 <- subset(colony_data, colony_data$Year_tagged==\"2019\")\n",
    "head(colonies_2019)"
   ]
  },
  {
   "cell_type": "code",
   "execution_count": 93,
   "id": "65706e12-bf11-48fc-b426-9e226665b9d3",
   "metadata": {},
   "outputs": [
    {
     "data": {
      "text/html": [
       "<style>\n",
       ".list-inline {list-style: none; margin:0; padding: 0}\n",
       ".list-inline>li {display: inline-block}\n",
       ".list-inline>li:not(:last-child)::after {content: \"\\00b7\"; padding: 0 .5ex}\n",
       "</style>\n",
       "<ol class=list-inline><li>'CBC30N'</li><li>'SR30N'</li><li>'Lagoon'</li></ol>\n"
      ],
      "text/latex": [
       "\\begin{enumerate*}\n",
       "\\item 'CBC30N'\n",
       "\\item 'SR30N'\n",
       "\\item 'Lagoon'\n",
       "\\end{enumerate*}\n"
      ],
      "text/markdown": [
       "1. 'CBC30N'\n",
       "2. 'SR30N'\n",
       "3. 'Lagoon'\n",
       "\n",
       "\n"
      ],
      "text/plain": [
       "[1] \"CBC30N\" \"SR30N\"  \"Lagoon\""
      ]
     },
     "metadata": {},
     "output_type": "display_data"
    }
   ],
   "source": [
    "colonies_2019$Transect %>% unique()"
   ]
  },
  {
   "cell_type": "code",
   "execution_count": 94,
   "id": "b3dec850-6353-4a62-9306-160818d12b0f",
   "metadata": {
    "scrolled": true
   },
   "outputs": [
    {
     "data": {
      "text/html": [
       "<table class=\"dataframe\">\n",
       "<caption>A data.frame: 6 × 45</caption>\n",
       "<thead>\n",
       "\t<tr><th></th><th scope=col>ID</th><th scope=col>lh_Condition_May22</th><th scope=col>lh_Condition_Dec22</th><th scope=col>lh_Condition_Oct19</th><th scope=col>Date_InitialTag</th><th scope=col>Transect</th><th scope=col>TransectNum</th><th scope=col>OldTagNum</th><th scope=col>NewTagNum</th><th scope=col>Species</th><th scope=col>⋯</th><th scope=col>X122023_Condition</th><th scope=col>X122023_Percentage</th><th scope=col>X012024_Condition</th><th scope=col>X012024_Percentage</th><th scope=col>X022024_Condition</th><th scope=col>X022024_Percentage</th><th scope=col>X042024_Condition</th><th scope=col>X042024_Percentage</th><th scope=col>COLONIES_TO_LOOK_AT</th><th scope=col>Year_tagged</th></tr>\n",
       "\t<tr><th></th><th scope=col>&lt;chr&gt;</th><th scope=col>&lt;chr&gt;</th><th scope=col>&lt;chr&gt;</th><th scope=col>&lt;chr&gt;</th><th scope=col>&lt;chr&gt;</th><th scope=col>&lt;chr&gt;</th><th scope=col>&lt;int&gt;</th><th scope=col>&lt;chr&gt;</th><th scope=col>&lt;chr&gt;</th><th scope=col>&lt;chr&gt;</th><th scope=col>⋯</th><th scope=col>&lt;chr&gt;</th><th scope=col>&lt;chr&gt;</th><th scope=col>&lt;chr&gt;</th><th scope=col>&lt;chr&gt;</th><th scope=col>&lt;chr&gt;</th><th scope=col>&lt;chr&gt;</th><th scope=col>&lt;chr&gt;</th><th scope=col>&lt;chr&gt;</th><th scope=col>&lt;chr&gt;</th><th scope=col>&lt;chr&gt;</th></tr>\n",
       "</thead>\n",
       "<tbody>\n",
       "\t<tr><th scope=row>1</th><td>CNAT_64_SR30N </td><td>Healthy </td><td>Healthy </td><td>Healthy</td><td>6/21/19</td><td>SR30N </td><td>2</td><td>354</td><td>64</td><td>CNAT</td><td>⋯</td><td>CLP    </td><td></td><td>Dead   </td><td></td><td>CLP    </td><td></td><td></td><td></td><td></td><td>2019</td></tr>\n",
       "\t<tr><th scope=row>2</th><td>MCAV_12_Lagoon</td><td>Dead    </td><td>Dead    </td><td>Healthy</td><td>6/23/19</td><td>Lagoon</td><td>3</td><td>304</td><td>12</td><td>MCAV</td><td>⋯</td><td>Dead   </td><td></td><td>Dead   </td><td></td><td>Dead   </td><td></td><td></td><td></td><td></td><td>2019</td></tr>\n",
       "\t<tr><th scope=row>3</th><td>MCAV_14_CBC30N</td><td>Diseased</td><td>Dead    </td><td>Healthy</td><td>6/24/19</td><td>CBC30N</td><td>1</td><td>381</td><td>14</td><td>MCAV</td><td>⋯</td><td>Dead   </td><td></td><td>Dead   </td><td></td><td>Dead   </td><td></td><td></td><td></td><td></td><td>2019</td></tr>\n",
       "\t<tr><th scope=row>4</th><td>MCAV_14_Lagoon</td><td>Healthy </td><td>Healthy </td><td>Healthy</td><td>6/23/19</td><td>Lagoon</td><td>3</td><td>369</td><td>14</td><td>MCAV</td><td>⋯</td><td>Healthy</td><td></td><td>Healthy</td><td></td><td>Healthy</td><td></td><td></td><td></td><td></td><td>2019</td></tr>\n",
       "\t<tr><th scope=row>5</th><td>MCAV_15_CBC30N</td><td>Diseased</td><td>Dead    </td><td>Healthy</td><td>6/26/19</td><td>CBC30N</td><td>1</td><td>359</td><td>15</td><td>MCAV</td><td>⋯</td><td>Dead   </td><td></td><td>Dead   </td><td></td><td>Dead   </td><td></td><td></td><td></td><td></td><td>2019</td></tr>\n",
       "\t<tr><th scope=row>6</th><td>MCAV_15_Lagoon</td><td>Diseased</td><td>Diseased</td><td>Healthy</td><td>6/23/19</td><td>Lagoon</td><td>3</td><td>379</td><td>15</td><td>MCAV</td><td>⋯</td><td>Dead   </td><td></td><td>Dead   </td><td></td><td>Dead   </td><td></td><td></td><td></td><td></td><td>2019</td></tr>\n",
       "</tbody>\n",
       "</table>\n"
      ],
      "text/latex": [
       "A data.frame: 6 × 45\n",
       "\\begin{tabular}{r|lllllllllllllllllllll}\n",
       "  & ID & lh\\_Condition\\_May22 & lh\\_Condition\\_Dec22 & lh\\_Condition\\_Oct19 & Date\\_InitialTag & Transect & TransectNum & OldTagNum & NewTagNum & Species & ⋯ & X122023\\_Condition & X122023\\_Percentage & X012024\\_Condition & X012024\\_Percentage & X022024\\_Condition & X022024\\_Percentage & X042024\\_Condition & X042024\\_Percentage & COLONIES\\_TO\\_LOOK\\_AT & Year\\_tagged\\\\\n",
       "  & <chr> & <chr> & <chr> & <chr> & <chr> & <chr> & <int> & <chr> & <chr> & <chr> & ⋯ & <chr> & <chr> & <chr> & <chr> & <chr> & <chr> & <chr> & <chr> & <chr> & <chr>\\\\\n",
       "\\hline\n",
       "\t1 & CNAT\\_64\\_SR30N  & Healthy  & Healthy  & Healthy & 6/21/19 & SR30N  & 2 & 354 & 64 & CNAT & ⋯ & CLP     &  & Dead    &  & CLP     &  &  &  &  & 2019\\\\\n",
       "\t2 & MCAV\\_12\\_Lagoon & Dead     & Dead     & Healthy & 6/23/19 & Lagoon & 3 & 304 & 12 & MCAV & ⋯ & Dead    &  & Dead    &  & Dead    &  &  &  &  & 2019\\\\\n",
       "\t3 & MCAV\\_14\\_CBC30N & Diseased & Dead     & Healthy & 6/24/19 & CBC30N & 1 & 381 & 14 & MCAV & ⋯ & Dead    &  & Dead    &  & Dead    &  &  &  &  & 2019\\\\\n",
       "\t4 & MCAV\\_14\\_Lagoon & Healthy  & Healthy  & Healthy & 6/23/19 & Lagoon & 3 & 369 & 14 & MCAV & ⋯ & Healthy &  & Healthy &  & Healthy &  &  &  &  & 2019\\\\\n",
       "\t5 & MCAV\\_15\\_CBC30N & Diseased & Dead     & Healthy & 6/26/19 & CBC30N & 1 & 359 & 15 & MCAV & ⋯ & Dead    &  & Dead    &  & Dead    &  &  &  &  & 2019\\\\\n",
       "\t6 & MCAV\\_15\\_Lagoon & Diseased & Diseased & Healthy & 6/23/19 & Lagoon & 3 & 379 & 15 & MCAV & ⋯ & Dead    &  & Dead    &  & Dead    &  &  &  &  & 2019\\\\\n",
       "\\end{tabular}\n"
      ],
      "text/markdown": [
       "\n",
       "A data.frame: 6 × 45\n",
       "\n",
       "| <!--/--> | ID &lt;chr&gt; | lh_Condition_May22 &lt;chr&gt; | lh_Condition_Dec22 &lt;chr&gt; | lh_Condition_Oct19 &lt;chr&gt; | Date_InitialTag &lt;chr&gt; | Transect &lt;chr&gt; | TransectNum &lt;int&gt; | OldTagNum &lt;chr&gt; | NewTagNum &lt;chr&gt; | Species &lt;chr&gt; | ⋯ ⋯ | X122023_Condition &lt;chr&gt; | X122023_Percentage &lt;chr&gt; | X012024_Condition &lt;chr&gt; | X012024_Percentage &lt;chr&gt; | X022024_Condition &lt;chr&gt; | X022024_Percentage &lt;chr&gt; | X042024_Condition &lt;chr&gt; | X042024_Percentage &lt;chr&gt; | COLONIES_TO_LOOK_AT &lt;chr&gt; | Year_tagged &lt;chr&gt; |\n",
       "|---|---|---|---|---|---|---|---|---|---|---|---|---|---|---|---|---|---|---|---|---|---|\n",
       "| 1 | CNAT_64_SR30N  | Healthy  | Healthy  | Healthy | 6/21/19 | SR30N  | 2 | 354 | 64 | CNAT | ⋯ | CLP     | <!----> | Dead    | <!----> | CLP     | <!----> | <!----> | <!----> | <!----> | 2019 |\n",
       "| 2 | MCAV_12_Lagoon | Dead     | Dead     | Healthy | 6/23/19 | Lagoon | 3 | 304 | 12 | MCAV | ⋯ | Dead    | <!----> | Dead    | <!----> | Dead    | <!----> | <!----> | <!----> | <!----> | 2019 |\n",
       "| 3 | MCAV_14_CBC30N | Diseased | Dead     | Healthy | 6/24/19 | CBC30N | 1 | 381 | 14 | MCAV | ⋯ | Dead    | <!----> | Dead    | <!----> | Dead    | <!----> | <!----> | <!----> | <!----> | 2019 |\n",
       "| 4 | MCAV_14_Lagoon | Healthy  | Healthy  | Healthy | 6/23/19 | Lagoon | 3 | 369 | 14 | MCAV | ⋯ | Healthy | <!----> | Healthy | <!----> | Healthy | <!----> | <!----> | <!----> | <!----> | 2019 |\n",
       "| 5 | MCAV_15_CBC30N | Diseased | Dead     | Healthy | 6/26/19 | CBC30N | 1 | 359 | 15 | MCAV | ⋯ | Dead    | <!----> | Dead    | <!----> | Dead    | <!----> | <!----> | <!----> | <!----> | 2019 |\n",
       "| 6 | MCAV_15_Lagoon | Diseased | Diseased | Healthy | 6/23/19 | Lagoon | 3 | 379 | 15 | MCAV | ⋯ | Dead    | <!----> | Dead    | <!----> | Dead    | <!----> | <!----> | <!----> | <!----> | 2019 |\n",
       "\n"
      ],
      "text/plain": [
       "  ID             lh_Condition_May22 lh_Condition_Dec22 lh_Condition_Oct19\n",
       "1 CNAT_64_SR30N  Healthy            Healthy            Healthy           \n",
       "2 MCAV_12_Lagoon Dead               Dead               Healthy           \n",
       "3 MCAV_14_CBC30N Diseased           Dead               Healthy           \n",
       "4 MCAV_14_Lagoon Healthy            Healthy            Healthy           \n",
       "5 MCAV_15_CBC30N Diseased           Dead               Healthy           \n",
       "6 MCAV_15_Lagoon Diseased           Diseased           Healthy           \n",
       "  Date_InitialTag Transect TransectNum OldTagNum NewTagNum Species ⋯\n",
       "1 6/21/19         SR30N    2           354       64        CNAT    ⋯\n",
       "2 6/23/19         Lagoon   3           304       12        MCAV    ⋯\n",
       "3 6/24/19         CBC30N   1           381       14        MCAV    ⋯\n",
       "4 6/23/19         Lagoon   3           369       14        MCAV    ⋯\n",
       "5 6/26/19         CBC30N   1           359       15        MCAV    ⋯\n",
       "6 6/23/19         Lagoon   3           379       15        MCAV    ⋯\n",
       "  X122023_Condition X122023_Percentage X012024_Condition X012024_Percentage\n",
       "1 CLP                                  Dead                                \n",
       "2 Dead                                 Dead                                \n",
       "3 Dead                                 Dead                                \n",
       "4 Healthy                              Healthy                             \n",
       "5 Dead                                 Dead                                \n",
       "6 Dead                                 Dead                                \n",
       "  X022024_Condition X022024_Percentage X042024_Condition X042024_Percentage\n",
       "1 CLP                                                                      \n",
       "2 Dead                                                                     \n",
       "3 Dead                                                                     \n",
       "4 Healthy                                                                  \n",
       "5 Dead                                                                     \n",
       "6 Dead                                                                     \n",
       "  COLONIES_TO_LOOK_AT Year_tagged\n",
       "1                     2019       \n",
       "2                     2019       \n",
       "3                     2019       \n",
       "4                     2019       \n",
       "5                     2019       \n",
       "6                     2019       "
      ]
     },
     "metadata": {},
     "output_type": "display_data"
    }
   ],
   "source": [
    "# pull rows that are present in both dfs\n",
    "matching_rows <- merge(wide_data, colonies_2019, by = 'ID')\n",
    "head(matching_rows)"
   ]
  },
  {
   "cell_type": "code",
   "execution_count": 95,
   "id": "ebe5abf0-bcff-4ae8-b555-bbcf36cb6519",
   "metadata": {},
   "outputs": [],
   "source": [
    "# look at leah's condition (\"Condition_date\") vs colony_data condition (\"X052022_Condition\")\n",
    "match_conditions<-matching_rows[, c(\"ID\", \"Transect\",\"lh_Condition_Oct19\",\"lh_Condition_May22\",\"lh_Condition_Dec22\",\"X062019_Condition\",\"X052022_Condition\",\"X122022_Condition\")]"
   ]
  },
  {
   "cell_type": "code",
   "execution_count": 96,
   "id": "69401e93-2f51-4647-afe4-459e6945d237",
   "metadata": {
    "scrolled": true
   },
   "outputs": [],
   "source": [
    "nas <- is.na(match_conditions)"
   ]
  },
  {
   "cell_type": "code",
   "execution_count": 97,
   "id": "57fedb6f-8044-432d-afb3-93fda8223e97",
   "metadata": {
    "scrolled": true
   },
   "outputs": [
    {
     "data": {
      "text/html": [
       "<table class=\"dataframe\">\n",
       "<caption>A data.frame: 1 × 8</caption>\n",
       "<thead>\n",
       "\t<tr><th></th><th scope=col>ID</th><th scope=col>Transect</th><th scope=col>lh_Condition_Oct19</th><th scope=col>lh_Condition_May22</th><th scope=col>lh_Condition_Dec22</th><th scope=col>X062019_Condition</th><th scope=col>X052022_Condition</th><th scope=col>X122022_Condition</th></tr>\n",
       "\t<tr><th></th><th scope=col>&lt;chr&gt;</th><th scope=col>&lt;chr&gt;</th><th scope=col>&lt;chr&gt;</th><th scope=col>&lt;chr&gt;</th><th scope=col>&lt;chr&gt;</th><th scope=col>&lt;chr&gt;</th><th scope=col>&lt;chr&gt;</th><th scope=col>&lt;chr&gt;</th></tr>\n",
       "</thead>\n",
       "<tbody>\n",
       "\t<tr><th scope=row>11</th><td>MCAV_24_CBC30N</td><td>CBC30N</td><td>NA</td><td>Healthy</td><td>Healthy</td><td>Healthy</td><td>Healthy</td><td>Healthy</td></tr>\n",
       "</tbody>\n",
       "</table>\n"
      ],
      "text/latex": [
       "A data.frame: 1 × 8\n",
       "\\begin{tabular}{r|llllllll}\n",
       "  & ID & Transect & lh\\_Condition\\_Oct19 & lh\\_Condition\\_May22 & lh\\_Condition\\_Dec22 & X062019\\_Condition & X052022\\_Condition & X122022\\_Condition\\\\\n",
       "  & <chr> & <chr> & <chr> & <chr> & <chr> & <chr> & <chr> & <chr>\\\\\n",
       "\\hline\n",
       "\t11 & MCAV\\_24\\_CBC30N & CBC30N & NA & Healthy & Healthy & Healthy & Healthy & Healthy\\\\\n",
       "\\end{tabular}\n"
      ],
      "text/markdown": [
       "\n",
       "A data.frame: 1 × 8\n",
       "\n",
       "| <!--/--> | ID &lt;chr&gt; | Transect &lt;chr&gt; | lh_Condition_Oct19 &lt;chr&gt; | lh_Condition_May22 &lt;chr&gt; | lh_Condition_Dec22 &lt;chr&gt; | X062019_Condition &lt;chr&gt; | X052022_Condition &lt;chr&gt; | X122022_Condition &lt;chr&gt; |\n",
       "|---|---|---|---|---|---|---|---|---|\n",
       "| 11 | MCAV_24_CBC30N | CBC30N | NA | Healthy | Healthy | Healthy | Healthy | Healthy |\n",
       "\n"
      ],
      "text/plain": [
       "   ID             Transect lh_Condition_Oct19 lh_Condition_May22\n",
       "11 MCAV_24_CBC30N CBC30N   NA                 Healthy           \n",
       "   lh_Condition_Dec22 X062019_Condition X052022_Condition X122022_Condition\n",
       "11 Healthy            Healthy           Healthy           Healthy          "
      ]
     },
     "metadata": {},
     "output_type": "display_data"
    }
   ],
   "source": [
    "rows_with_na <- match_conditions[apply(nas, 1, any), ]\n",
    "\n",
    "# Print the rows with NA values\n",
    "rows_with_na"
   ]
  },
  {
   "cell_type": "code",
   "execution_count": 98,
   "id": "6d5c920c-b435-45cb-ace4-4057b14d2bc5",
   "metadata": {},
   "outputs": [],
   "source": [
    "# replace na with healthy \n",
    "row_index <- which(match_conditions$ID == \"MCAV_24_CBC30N\")\n",
    "\n",
    "# Replace the entry in lh_Condition_Oct19 at the identified row index\n",
    "match_conditions$lh_Condition_Oct19[row_index] <- \"Healthy\""
   ]
  },
  {
   "cell_type": "code",
   "execution_count": 99,
   "id": "9a41c30f-137a-4c44-be78-b4fa1319afb5",
   "metadata": {},
   "outputs": [
    {
     "data": {
      "text/html": [
       "<style>\n",
       ".list-inline {list-style: none; margin:0; padding: 0}\n",
       ".list-inline>li {display: inline-block}\n",
       ".list-inline>li:not(:last-child)::after {content: \"\\00b7\"; padding: 0 .5ex}\n",
       "</style>\n",
       "<ol class=list-inline><li>'ID'</li><li>'Transect'</li><li>'lh_Condition_Oct19'</li><li>'lh_Condition_May22'</li><li>'lh_Condition_Dec22'</li><li>'X062019_Condition'</li><li>'X052022_Condition'</li><li>'X122022_Condition'</li></ol>\n"
      ],
      "text/latex": [
       "\\begin{enumerate*}\n",
       "\\item 'ID'\n",
       "\\item 'Transect'\n",
       "\\item 'lh\\_Condition\\_Oct19'\n",
       "\\item 'lh\\_Condition\\_May22'\n",
       "\\item 'lh\\_Condition\\_Dec22'\n",
       "\\item 'X062019\\_Condition'\n",
       "\\item 'X052022\\_Condition'\n",
       "\\item 'X122022\\_Condition'\n",
       "\\end{enumerate*}\n"
      ],
      "text/markdown": [
       "1. 'ID'\n",
       "2. 'Transect'\n",
       "3. 'lh_Condition_Oct19'\n",
       "4. 'lh_Condition_May22'\n",
       "5. 'lh_Condition_Dec22'\n",
       "6. 'X062019_Condition'\n",
       "7. 'X052022_Condition'\n",
       "8. 'X122022_Condition'\n",
       "\n",
       "\n"
      ],
      "text/plain": [
       "[1] \"ID\"                 \"Transect\"           \"lh_Condition_Oct19\"\n",
       "[4] \"lh_Condition_May22\" \"lh_Condition_Dec22\" \"X062019_Condition\" \n",
       "[7] \"X052022_Condition\"  \"X122022_Condition\" "
      ]
     },
     "metadata": {},
     "output_type": "display_data"
    }
   ],
   "source": [
    "colnames(match_conditions)"
   ]
  },
  {
   "cell_type": "code",
   "execution_count": 100,
   "id": "059b7dd9-8936-4f3d-9124-f14c0f414fc5",
   "metadata": {},
   "outputs": [
    {
     "data": {
      "text/html": [
       "<table class=\"dataframe\">\n",
       "<caption>A data.frame: 0 × 8</caption>\n",
       "<thead>\n",
       "\t<tr><th scope=col>ID</th><th scope=col>Transect</th><th scope=col>lh_Condition_Oct19</th><th scope=col>lh_Condition_May22</th><th scope=col>lh_Condition_Dec22</th><th scope=col>X062019_Condition</th><th scope=col>X052022_Condition</th><th scope=col>X122022_Condition</th></tr>\n",
       "\t<tr><th scope=col>&lt;chr&gt;</th><th scope=col>&lt;chr&gt;</th><th scope=col>&lt;chr&gt;</th><th scope=col>&lt;chr&gt;</th><th scope=col>&lt;chr&gt;</th><th scope=col>&lt;chr&gt;</th><th scope=col>&lt;chr&gt;</th><th scope=col>&lt;chr&gt;</th></tr>\n",
       "</thead>\n",
       "<tbody>\n",
       "</tbody>\n",
       "</table>\n"
      ],
      "text/latex": [
       "A data.frame: 0 × 8\n",
       "\\begin{tabular}{llllllll}\n",
       " ID & Transect & lh\\_Condition\\_Oct19 & lh\\_Condition\\_May22 & lh\\_Condition\\_Dec22 & X062019\\_Condition & X052022\\_Condition & X122022\\_Condition\\\\\n",
       " <chr> & <chr> & <chr> & <chr> & <chr> & <chr> & <chr> & <chr>\\\\\n",
       "\\hline\n",
       "\\end{tabular}\n"
      ],
      "text/markdown": [
       "\n",
       "A data.frame: 0 × 8\n",
       "\n",
       "| ID &lt;chr&gt; | Transect &lt;chr&gt; | lh_Condition_Oct19 &lt;chr&gt; | lh_Condition_May22 &lt;chr&gt; | lh_Condition_Dec22 &lt;chr&gt; | X062019_Condition &lt;chr&gt; | X052022_Condition &lt;chr&gt; | X122022_Condition &lt;chr&gt; |\n",
       "|---|---|---|---|---|---|---|---|\n",
       "\n"
      ],
      "text/plain": [
       "     ID Transect lh_Condition_Oct19 lh_Condition_May22 lh_Condition_Dec22\n",
       "     X062019_Condition X052022_Condition X122022_Condition"
      ]
     },
     "metadata": {},
     "output_type": "display_data"
    }
   ],
   "source": [
    "# for each year, find rows where they don't match (mismatched conditions)\n",
    "mismatched_conditions19 <- match_conditions[match_conditions$lh_Condition_Oct19 != match_conditions$X062019_Condition, ]\n",
    "mismatched_conditions19"
   ]
  },
  {
   "cell_type": "code",
   "execution_count": 101,
   "id": "f15ab49a-0581-4c4d-aa39-dcea4f352324",
   "metadata": {},
   "outputs": [
    {
     "data": {
      "text/html": [
       "<table class=\"dataframe\">\n",
       "<caption>A data.frame: 10 × 8</caption>\n",
       "<thead>\n",
       "\t<tr><th></th><th scope=col>ID</th><th scope=col>Transect</th><th scope=col>lh_Condition_Oct19</th><th scope=col>lh_Condition_May22</th><th scope=col>lh_Condition_Dec22</th><th scope=col>X062019_Condition</th><th scope=col>X052022_Condition</th><th scope=col>X122022_Condition</th></tr>\n",
       "\t<tr><th></th><th scope=col>&lt;chr&gt;</th><th scope=col>&lt;chr&gt;</th><th scope=col>&lt;chr&gt;</th><th scope=col>&lt;chr&gt;</th><th scope=col>&lt;chr&gt;</th><th scope=col>&lt;chr&gt;</th><th scope=col>&lt;chr&gt;</th><th scope=col>&lt;chr&gt;</th></tr>\n",
       "</thead>\n",
       "<tbody>\n",
       "\t<tr><th scope=row>16</th><td>MCAV_61_SR30N </td><td>SR30N </td><td>Healthy</td><td>Dead                   </td><td>Dead                   </td><td>Healthy</td><td>Healthy</td><td>Dead    </td></tr>\n",
       "\t<tr><th scope=row>18</th><td>MCAV_7_CBC30N </td><td>CBC30N</td><td>Healthy</td><td>Increased Old Mortality</td><td>Healthy                </td><td>Healthy</td><td>Healthy</td><td>Healthy </td></tr>\n",
       "\t<tr><th scope=row>27</th><td>PAST_13_Lagoon</td><td>Lagoon</td><td>Healthy</td><td>Increased Old Mortality</td><td>Increased Old Mortality</td><td>Healthy</td><td>Healthy</td><td>Healthy </td></tr>\n",
       "\t<tr><th scope=row>33</th><td>PAST_24_Lagoon</td><td>Lagoon</td><td>Healthy</td><td>Healthy                </td><td>Healthy                </td><td>Healthy</td><td>Dead   </td><td>Dead    </td></tr>\n",
       "\t<tr><th scope=row>35</th><td>PAST_56_SR30N </td><td>SR30N </td><td>Healthy</td><td>Diseased               </td><td>Healthy                </td><td>Healthy</td><td>Healthy</td><td>Healthy </td></tr>\n",
       "\t<tr><th scope=row>39</th><td>PAST_68_SR30N </td><td>SR30N </td><td>Healthy</td><td>Diseased               </td><td>Healthy                </td><td>Healthy</td><td>Healthy</td><td>Healthy </td></tr>\n",
       "\t<tr><th scope=row>50</th><td>PSTR_4_Lagoon </td><td>Lagoon</td><td>Healthy</td><td>Diseased               </td><td>Healthy                </td><td>Healthy</td><td>Healthy</td><td>Healthy </td></tr>\n",
       "\t<tr><th scope=row>54</th><td>PSTR_62_SR30N </td><td>SR30N </td><td>Healthy</td><td>Increased Old Mortality</td><td>Dead                   </td><td>Healthy</td><td>Healthy</td><td>Dead    </td></tr>\n",
       "\t<tr><th scope=row>58</th><td>SSID_10_CBC30N</td><td>CBC30N</td><td>Healthy</td><td>Diseased               </td><td>Diseased               </td><td>Healthy</td><td>Healthy</td><td>Diseased</td></tr>\n",
       "\t<tr><th scope=row>64</th><td>SSID_26_Lagoon</td><td>Lagoon</td><td>Healthy</td><td>Diseased               </td><td>Diseased               </td><td>Healthy</td><td>Dead   </td><td>Dead    </td></tr>\n",
       "</tbody>\n",
       "</table>\n"
      ],
      "text/latex": [
       "A data.frame: 10 × 8\n",
       "\\begin{tabular}{r|llllllll}\n",
       "  & ID & Transect & lh\\_Condition\\_Oct19 & lh\\_Condition\\_May22 & lh\\_Condition\\_Dec22 & X062019\\_Condition & X052022\\_Condition & X122022\\_Condition\\\\\n",
       "  & <chr> & <chr> & <chr> & <chr> & <chr> & <chr> & <chr> & <chr>\\\\\n",
       "\\hline\n",
       "\t16 & MCAV\\_61\\_SR30N  & SR30N  & Healthy & Dead                    & Dead                    & Healthy & Healthy & Dead    \\\\\n",
       "\t18 & MCAV\\_7\\_CBC30N  & CBC30N & Healthy & Increased Old Mortality & Healthy                 & Healthy & Healthy & Healthy \\\\\n",
       "\t27 & PAST\\_13\\_Lagoon & Lagoon & Healthy & Increased Old Mortality & Increased Old Mortality & Healthy & Healthy & Healthy \\\\\n",
       "\t33 & PAST\\_24\\_Lagoon & Lagoon & Healthy & Healthy                 & Healthy                 & Healthy & Dead    & Dead    \\\\\n",
       "\t35 & PAST\\_56\\_SR30N  & SR30N  & Healthy & Diseased                & Healthy                 & Healthy & Healthy & Healthy \\\\\n",
       "\t39 & PAST\\_68\\_SR30N  & SR30N  & Healthy & Diseased                & Healthy                 & Healthy & Healthy & Healthy \\\\\n",
       "\t50 & PSTR\\_4\\_Lagoon  & Lagoon & Healthy & Diseased                & Healthy                 & Healthy & Healthy & Healthy \\\\\n",
       "\t54 & PSTR\\_62\\_SR30N  & SR30N  & Healthy & Increased Old Mortality & Dead                    & Healthy & Healthy & Dead    \\\\\n",
       "\t58 & SSID\\_10\\_CBC30N & CBC30N & Healthy & Diseased                & Diseased                & Healthy & Healthy & Diseased\\\\\n",
       "\t64 & SSID\\_26\\_Lagoon & Lagoon & Healthy & Diseased                & Diseased                & Healthy & Dead    & Dead    \\\\\n",
       "\\end{tabular}\n"
      ],
      "text/markdown": [
       "\n",
       "A data.frame: 10 × 8\n",
       "\n",
       "| <!--/--> | ID &lt;chr&gt; | Transect &lt;chr&gt; | lh_Condition_Oct19 &lt;chr&gt; | lh_Condition_May22 &lt;chr&gt; | lh_Condition_Dec22 &lt;chr&gt; | X062019_Condition &lt;chr&gt; | X052022_Condition &lt;chr&gt; | X122022_Condition &lt;chr&gt; |\n",
       "|---|---|---|---|---|---|---|---|---|\n",
       "| 16 | MCAV_61_SR30N  | SR30N  | Healthy | Dead                    | Dead                    | Healthy | Healthy | Dead     |\n",
       "| 18 | MCAV_7_CBC30N  | CBC30N | Healthy | Increased Old Mortality | Healthy                 | Healthy | Healthy | Healthy  |\n",
       "| 27 | PAST_13_Lagoon | Lagoon | Healthy | Increased Old Mortality | Increased Old Mortality | Healthy | Healthy | Healthy  |\n",
       "| 33 | PAST_24_Lagoon | Lagoon | Healthy | Healthy                 | Healthy                 | Healthy | Dead    | Dead     |\n",
       "| 35 | PAST_56_SR30N  | SR30N  | Healthy | Diseased                | Healthy                 | Healthy | Healthy | Healthy  |\n",
       "| 39 | PAST_68_SR30N  | SR30N  | Healthy | Diseased                | Healthy                 | Healthy | Healthy | Healthy  |\n",
       "| 50 | PSTR_4_Lagoon  | Lagoon | Healthy | Diseased                | Healthy                 | Healthy | Healthy | Healthy  |\n",
       "| 54 | PSTR_62_SR30N  | SR30N  | Healthy | Increased Old Mortality | Dead                    | Healthy | Healthy | Dead     |\n",
       "| 58 | SSID_10_CBC30N | CBC30N | Healthy | Diseased                | Diseased                | Healthy | Healthy | Diseased |\n",
       "| 64 | SSID_26_Lagoon | Lagoon | Healthy | Diseased                | Diseased                | Healthy | Dead    | Dead     |\n",
       "\n"
      ],
      "text/plain": [
       "   ID             Transect lh_Condition_Oct19 lh_Condition_May22     \n",
       "16 MCAV_61_SR30N  SR30N    Healthy            Dead                   \n",
       "18 MCAV_7_CBC30N  CBC30N   Healthy            Increased Old Mortality\n",
       "27 PAST_13_Lagoon Lagoon   Healthy            Increased Old Mortality\n",
       "33 PAST_24_Lagoon Lagoon   Healthy            Healthy                \n",
       "35 PAST_56_SR30N  SR30N    Healthy            Diseased               \n",
       "39 PAST_68_SR30N  SR30N    Healthy            Diseased               \n",
       "50 PSTR_4_Lagoon  Lagoon   Healthy            Diseased               \n",
       "54 PSTR_62_SR30N  SR30N    Healthy            Increased Old Mortality\n",
       "58 SSID_10_CBC30N CBC30N   Healthy            Diseased               \n",
       "64 SSID_26_Lagoon Lagoon   Healthy            Diseased               \n",
       "   lh_Condition_Dec22      X062019_Condition X052022_Condition\n",
       "16 Dead                    Healthy           Healthy          \n",
       "18 Healthy                 Healthy           Healthy          \n",
       "27 Increased Old Mortality Healthy           Healthy          \n",
       "33 Healthy                 Healthy           Dead             \n",
       "35 Healthy                 Healthy           Healthy          \n",
       "39 Healthy                 Healthy           Healthy          \n",
       "50 Healthy                 Healthy           Healthy          \n",
       "54 Dead                    Healthy           Healthy          \n",
       "58 Diseased                Healthy           Healthy          \n",
       "64 Diseased                Healthy           Dead             \n",
       "   X122022_Condition\n",
       "16 Dead             \n",
       "18 Healthy          \n",
       "27 Healthy          \n",
       "33 Dead             \n",
       "35 Healthy          \n",
       "39 Healthy          \n",
       "50 Healthy          \n",
       "54 Dead             \n",
       "58 Diseased         \n",
       "64 Dead             "
      ]
     },
     "metadata": {},
     "output_type": "display_data"
    }
   ],
   "source": [
    "# for each year, find rows where they don't match (mismatched conditions)\n",
    "mismatched_conditions522 <- match_conditions[match_conditions$lh_Condition_May22 != match_conditions$X052022_Condition, ]\n",
    "mismatched_conditions522"
   ]
  },
  {
   "cell_type": "code",
   "execution_count": 102,
   "id": "2b4e4a05-6722-4c02-8fbc-1b989f910c94",
   "metadata": {},
   "outputs": [
    {
     "data": {
      "text/html": [
       "<table class=\"dataframe\">\n",
       "<caption>A data.frame: 4 × 8</caption>\n",
       "<thead>\n",
       "\t<tr><th></th><th scope=col>ID</th><th scope=col>Transect</th><th scope=col>lh_Condition_Oct19</th><th scope=col>lh_Condition_May22</th><th scope=col>lh_Condition_Dec22</th><th scope=col>X062019_Condition</th><th scope=col>X052022_Condition</th><th scope=col>X122022_Condition</th></tr>\n",
       "\t<tr><th></th><th scope=col>&lt;chr&gt;</th><th scope=col>&lt;chr&gt;</th><th scope=col>&lt;chr&gt;</th><th scope=col>&lt;chr&gt;</th><th scope=col>&lt;chr&gt;</th><th scope=col>&lt;chr&gt;</th><th scope=col>&lt;chr&gt;</th><th scope=col>&lt;chr&gt;</th></tr>\n",
       "</thead>\n",
       "<tbody>\n",
       "\t<tr><th scope=row>16</th><td>MCAV_61_SR30N</td><td>SR30N</td><td>Healthy</td><td>Dead                   </td><td>Dead   </td><td>Healthy</td><td>Healthy</td><td>Dead   </td></tr>\n",
       "\t<tr><th scope=row>35</th><td>PAST_56_SR30N</td><td>SR30N</td><td>Healthy</td><td>Diseased               </td><td>Healthy</td><td>Healthy</td><td>Healthy</td><td>Healthy</td></tr>\n",
       "\t<tr><th scope=row>39</th><td>PAST_68_SR30N</td><td>SR30N</td><td>Healthy</td><td>Diseased               </td><td>Healthy</td><td>Healthy</td><td>Healthy</td><td>Healthy</td></tr>\n",
       "\t<tr><th scope=row>54</th><td>PSTR_62_SR30N</td><td>SR30N</td><td>Healthy</td><td>Increased Old Mortality</td><td>Dead   </td><td>Healthy</td><td>Healthy</td><td>Dead   </td></tr>\n",
       "</tbody>\n",
       "</table>\n"
      ],
      "text/latex": [
       "A data.frame: 4 × 8\n",
       "\\begin{tabular}{r|llllllll}\n",
       "  & ID & Transect & lh\\_Condition\\_Oct19 & lh\\_Condition\\_May22 & lh\\_Condition\\_Dec22 & X062019\\_Condition & X052022\\_Condition & X122022\\_Condition\\\\\n",
       "  & <chr> & <chr> & <chr> & <chr> & <chr> & <chr> & <chr> & <chr>\\\\\n",
       "\\hline\n",
       "\t16 & MCAV\\_61\\_SR30N & SR30N & Healthy & Dead                    & Dead    & Healthy & Healthy & Dead   \\\\\n",
       "\t35 & PAST\\_56\\_SR30N & SR30N & Healthy & Diseased                & Healthy & Healthy & Healthy & Healthy\\\\\n",
       "\t39 & PAST\\_68\\_SR30N & SR30N & Healthy & Diseased                & Healthy & Healthy & Healthy & Healthy\\\\\n",
       "\t54 & PSTR\\_62\\_SR30N & SR30N & Healthy & Increased Old Mortality & Dead    & Healthy & Healthy & Dead   \\\\\n",
       "\\end{tabular}\n"
      ],
      "text/markdown": [
       "\n",
       "A data.frame: 4 × 8\n",
       "\n",
       "| <!--/--> | ID &lt;chr&gt; | Transect &lt;chr&gt; | lh_Condition_Oct19 &lt;chr&gt; | lh_Condition_May22 &lt;chr&gt; | lh_Condition_Dec22 &lt;chr&gt; | X062019_Condition &lt;chr&gt; | X052022_Condition &lt;chr&gt; | X122022_Condition &lt;chr&gt; |\n",
       "|---|---|---|---|---|---|---|---|---|\n",
       "| 16 | MCAV_61_SR30N | SR30N | Healthy | Dead                    | Dead    | Healthy | Healthy | Dead    |\n",
       "| 35 | PAST_56_SR30N | SR30N | Healthy | Diseased                | Healthy | Healthy | Healthy | Healthy |\n",
       "| 39 | PAST_68_SR30N | SR30N | Healthy | Diseased                | Healthy | Healthy | Healthy | Healthy |\n",
       "| 54 | PSTR_62_SR30N | SR30N | Healthy | Increased Old Mortality | Dead    | Healthy | Healthy | Dead    |\n",
       "\n"
      ],
      "text/plain": [
       "   ID            Transect lh_Condition_Oct19 lh_Condition_May22     \n",
       "16 MCAV_61_SR30N SR30N    Healthy            Dead                   \n",
       "35 PAST_56_SR30N SR30N    Healthy            Diseased               \n",
       "39 PAST_68_SR30N SR30N    Healthy            Diseased               \n",
       "54 PSTR_62_SR30N SR30N    Healthy            Increased Old Mortality\n",
       "   lh_Condition_Dec22 X062019_Condition X052022_Condition X122022_Condition\n",
       "16 Dead               Healthy           Healthy           Dead             \n",
       "35 Healthy            Healthy           Healthy           Healthy          \n",
       "39 Healthy            Healthy           Healthy           Healthy          \n",
       "54 Dead               Healthy           Healthy           Dead             "
      ]
     },
     "metadata": {},
     "output_type": "display_data"
    }
   ],
   "source": [
    "# sort by transect \n",
    "mismatched_conditions522[(mismatched_conditions522$Transect==\"SR30N\"),]\n"
   ]
  },
  {
   "cell_type": "code",
   "execution_count": 143,
   "id": "bddf20bb-e6e3-4981-882a-b4a3ace293d9",
   "metadata": {},
   "outputs": [],
   "source": [
    "# unclear if mcav 61 was diseased in 05/22 or 12/22\n",
    "# notes for 5/22 \"Damage, mostly dead\" and \"Moved in storm? Found upside down and righted colony, few polyps left\" \n",
    "# datasheets: sampled as healthy in 5/22, labelled as dead in 12/22  \n",
    "## LEAVE AS HEALTHY  in 5/22, dead after\n",
    "\n",
    "# past 56 sampled as diseased 5/22, but healthy in 12/22\n",
    "# looks diseased in 5/22 https://drive.google.com/drive/u/0/folders/1OhCgbgrVgvgabie2Zx2IW6kfoEHOpYgd\n",
    "# pic in 12/22 doesn't look healthy (but is NOT diseased) but sampled as healthy https://drive.google.com/drive/u/0/folders/1Y4SxDofp0PDFFKvjuFr6wN3znsbBzS6J\n",
    "## CHANGE 5/22 to diseased, leave as healthy after\n",
    "colony_data[colony_data$ID==\"PAST_56_SR30N\",c(\"X052022_Condition\")]<- \"Diseased\"\n",
    "\n",
    "# past 68 sampled as healthy in 5/22, healthy in 12/22, \n",
    "## LEAVE AS HEALTHY \n",
    "\n",
    "# past 62 (406) sampled as healthy in 5/22 but labelled as inc old mort & ' one spot of focal CL', dead in 12/22  \n",
    "# https://drive.google.com/drive/u/0/folders/1OhCgbgrVgvgabie2Zx2IW6kfoEHOpYgd\n",
    "## LEAVE AS healthy 5/22 & dead in 12/22\n"
   ]
  },
  {
   "cell_type": "code",
   "execution_count": 14,
   "id": "d54bb8aa-ba87-4775-8e8e-1ab3de3e8711",
   "metadata": {},
   "outputs": [],
   "source": [
    "# add to list of colonies to double check at the end \n",
    "colonies_to_check <- list('MCAV_61_SR30N', 'PAST_56_SR30N', 'PAST_68_SR30N', 'PSTR_62_SR30N')"
   ]
  },
  {
   "cell_type": "code",
   "execution_count": 104,
   "id": "89ecf4d3-242d-4b70-a11b-ad3327cf727e",
   "metadata": {},
   "outputs": [
    {
     "data": {
      "text/html": [
       "<table class=\"dataframe\">\n",
       "<caption>A data.frame: 2 × 8</caption>\n",
       "<thead>\n",
       "\t<tr><th></th><th scope=col>ID</th><th scope=col>Transect</th><th scope=col>lh_Condition_Oct19</th><th scope=col>lh_Condition_May22</th><th scope=col>lh_Condition_Dec22</th><th scope=col>X062019_Condition</th><th scope=col>X052022_Condition</th><th scope=col>X122022_Condition</th></tr>\n",
       "\t<tr><th></th><th scope=col>&lt;chr&gt;</th><th scope=col>&lt;chr&gt;</th><th scope=col>&lt;chr&gt;</th><th scope=col>&lt;chr&gt;</th><th scope=col>&lt;chr&gt;</th><th scope=col>&lt;chr&gt;</th><th scope=col>&lt;chr&gt;</th><th scope=col>&lt;chr&gt;</th></tr>\n",
       "</thead>\n",
       "<tbody>\n",
       "\t<tr><th scope=row>18</th><td>MCAV_7_CBC30N </td><td>CBC30N</td><td>Healthy</td><td>Increased Old Mortality</td><td>Healthy </td><td>Healthy</td><td>Healthy</td><td>Healthy </td></tr>\n",
       "\t<tr><th scope=row>58</th><td>SSID_10_CBC30N</td><td>CBC30N</td><td>Healthy</td><td>Diseased               </td><td>Diseased</td><td>Healthy</td><td>Healthy</td><td>Diseased</td></tr>\n",
       "</tbody>\n",
       "</table>\n"
      ],
      "text/latex": [
       "A data.frame: 2 × 8\n",
       "\\begin{tabular}{r|llllllll}\n",
       "  & ID & Transect & lh\\_Condition\\_Oct19 & lh\\_Condition\\_May22 & lh\\_Condition\\_Dec22 & X062019\\_Condition & X052022\\_Condition & X122022\\_Condition\\\\\n",
       "  & <chr> & <chr> & <chr> & <chr> & <chr> & <chr> & <chr> & <chr>\\\\\n",
       "\\hline\n",
       "\t18 & MCAV\\_7\\_CBC30N  & CBC30N & Healthy & Increased Old Mortality & Healthy  & Healthy & Healthy & Healthy \\\\\n",
       "\t58 & SSID\\_10\\_CBC30N & CBC30N & Healthy & Diseased                & Diseased & Healthy & Healthy & Diseased\\\\\n",
       "\\end{tabular}\n"
      ],
      "text/markdown": [
       "\n",
       "A data.frame: 2 × 8\n",
       "\n",
       "| <!--/--> | ID &lt;chr&gt; | Transect &lt;chr&gt; | lh_Condition_Oct19 &lt;chr&gt; | lh_Condition_May22 &lt;chr&gt; | lh_Condition_Dec22 &lt;chr&gt; | X062019_Condition &lt;chr&gt; | X052022_Condition &lt;chr&gt; | X122022_Condition &lt;chr&gt; |\n",
       "|---|---|---|---|---|---|---|---|---|\n",
       "| 18 | MCAV_7_CBC30N  | CBC30N | Healthy | Increased Old Mortality | Healthy  | Healthy | Healthy | Healthy  |\n",
       "| 58 | SSID_10_CBC30N | CBC30N | Healthy | Diseased                | Diseased | Healthy | Healthy | Diseased |\n",
       "\n"
      ],
      "text/plain": [
       "   ID             Transect lh_Condition_Oct19 lh_Condition_May22     \n",
       "18 MCAV_7_CBC30N  CBC30N   Healthy            Increased Old Mortality\n",
       "58 SSID_10_CBC30N CBC30N   Healthy            Diseased               \n",
       "   lh_Condition_Dec22 X062019_Condition X052022_Condition X122022_Condition\n",
       "18 Healthy            Healthy           Healthy           Healthy          \n",
       "58 Diseased           Healthy           Healthy           Diseased         "
      ]
     },
     "metadata": {},
     "output_type": "display_data"
    }
   ],
   "source": [
    "# sort by transect \n",
    "mismatched_conditions522[(mismatched_conditions522$Transect==\"CBC30N\"),]"
   ]
  },
  {
   "cell_type": "code",
   "execution_count": 145,
   "id": "d9e16da3-98db-4a70-b8d0-e4a10875f344",
   "metadata": {},
   "outputs": [],
   "source": [
    "# mcav 7 - sampled as healthy 5/22, increased partial old mortality \n",
    "## LEAVE as healthy\n",
    "\n",
    "# ssid 10 - 5/22 diseased or healthy?\n",
    "# sampled as diseased tissue \n",
    "## CHANGE TO diseased 5/22\n",
    "colony_data[colony_data$ID==\"SSID_10_CBC30N\",c(\"X052022_Condition\")]<- \"Diseased\""
   ]
  },
  {
   "cell_type": "code",
   "execution_count": 15,
   "id": "72e1e521-d265-42ca-9e66-dc0952362236",
   "metadata": {},
   "outputs": [],
   "source": [
    "colonies_to_check <- append(colonies_to_check, c(\"MCAV_7_CBC30N\",\"SSID_10_CBC30N\"))"
   ]
  },
  {
   "cell_type": "code",
   "execution_count": 106,
   "id": "dd2cdb85-0ca7-448c-8280-575ea33bd2f7",
   "metadata": {},
   "outputs": [
    {
     "data": {
      "text/html": [
       "<table class=\"dataframe\">\n",
       "<caption>A data.frame: 4 × 8</caption>\n",
       "<thead>\n",
       "\t<tr><th></th><th scope=col>ID</th><th scope=col>Transect</th><th scope=col>lh_Condition_Oct19</th><th scope=col>lh_Condition_May22</th><th scope=col>lh_Condition_Dec22</th><th scope=col>X062019_Condition</th><th scope=col>X052022_Condition</th><th scope=col>X122022_Condition</th></tr>\n",
       "\t<tr><th></th><th scope=col>&lt;chr&gt;</th><th scope=col>&lt;chr&gt;</th><th scope=col>&lt;chr&gt;</th><th scope=col>&lt;chr&gt;</th><th scope=col>&lt;chr&gt;</th><th scope=col>&lt;chr&gt;</th><th scope=col>&lt;chr&gt;</th><th scope=col>&lt;chr&gt;</th></tr>\n",
       "</thead>\n",
       "<tbody>\n",
       "\t<tr><th scope=row>27</th><td>PAST_13_Lagoon</td><td>Lagoon</td><td>Healthy</td><td>Increased Old Mortality</td><td>Increased Old Mortality</td><td>Healthy</td><td>Healthy</td><td>Healthy</td></tr>\n",
       "\t<tr><th scope=row>33</th><td>PAST_24_Lagoon</td><td>Lagoon</td><td>Healthy</td><td>Healthy                </td><td>Healthy                </td><td>Healthy</td><td>Dead   </td><td>Dead   </td></tr>\n",
       "\t<tr><th scope=row>50</th><td>PSTR_4_Lagoon </td><td>Lagoon</td><td>Healthy</td><td>Diseased               </td><td>Healthy                </td><td>Healthy</td><td>Healthy</td><td>Healthy</td></tr>\n",
       "\t<tr><th scope=row>64</th><td>SSID_26_Lagoon</td><td>Lagoon</td><td>Healthy</td><td>Diseased               </td><td>Diseased               </td><td>Healthy</td><td>Dead   </td><td>Dead   </td></tr>\n",
       "</tbody>\n",
       "</table>\n"
      ],
      "text/latex": [
       "A data.frame: 4 × 8\n",
       "\\begin{tabular}{r|llllllll}\n",
       "  & ID & Transect & lh\\_Condition\\_Oct19 & lh\\_Condition\\_May22 & lh\\_Condition\\_Dec22 & X062019\\_Condition & X052022\\_Condition & X122022\\_Condition\\\\\n",
       "  & <chr> & <chr> & <chr> & <chr> & <chr> & <chr> & <chr> & <chr>\\\\\n",
       "\\hline\n",
       "\t27 & PAST\\_13\\_Lagoon & Lagoon & Healthy & Increased Old Mortality & Increased Old Mortality & Healthy & Healthy & Healthy\\\\\n",
       "\t33 & PAST\\_24\\_Lagoon & Lagoon & Healthy & Healthy                 & Healthy                 & Healthy & Dead    & Dead   \\\\\n",
       "\t50 & PSTR\\_4\\_Lagoon  & Lagoon & Healthy & Diseased                & Healthy                 & Healthy & Healthy & Healthy\\\\\n",
       "\t64 & SSID\\_26\\_Lagoon & Lagoon & Healthy & Diseased                & Diseased                & Healthy & Dead    & Dead   \\\\\n",
       "\\end{tabular}\n"
      ],
      "text/markdown": [
       "\n",
       "A data.frame: 4 × 8\n",
       "\n",
       "| <!--/--> | ID &lt;chr&gt; | Transect &lt;chr&gt; | lh_Condition_Oct19 &lt;chr&gt; | lh_Condition_May22 &lt;chr&gt; | lh_Condition_Dec22 &lt;chr&gt; | X062019_Condition &lt;chr&gt; | X052022_Condition &lt;chr&gt; | X122022_Condition &lt;chr&gt; |\n",
       "|---|---|---|---|---|---|---|---|---|\n",
       "| 27 | PAST_13_Lagoon | Lagoon | Healthy | Increased Old Mortality | Increased Old Mortality | Healthy | Healthy | Healthy |\n",
       "| 33 | PAST_24_Lagoon | Lagoon | Healthy | Healthy                 | Healthy                 | Healthy | Dead    | Dead    |\n",
       "| 50 | PSTR_4_Lagoon  | Lagoon | Healthy | Diseased                | Healthy                 | Healthy | Healthy | Healthy |\n",
       "| 64 | SSID_26_Lagoon | Lagoon | Healthy | Diseased                | Diseased                | Healthy | Dead    | Dead    |\n",
       "\n"
      ],
      "text/plain": [
       "   ID             Transect lh_Condition_Oct19 lh_Condition_May22     \n",
       "27 PAST_13_Lagoon Lagoon   Healthy            Increased Old Mortality\n",
       "33 PAST_24_Lagoon Lagoon   Healthy            Healthy                \n",
       "50 PSTR_4_Lagoon  Lagoon   Healthy            Diseased               \n",
       "64 SSID_26_Lagoon Lagoon   Healthy            Diseased               \n",
       "   lh_Condition_Dec22      X062019_Condition X052022_Condition\n",
       "27 Increased Old Mortality Healthy           Healthy          \n",
       "33 Healthy                 Healthy           Dead             \n",
       "50 Healthy                 Healthy           Healthy          \n",
       "64 Diseased                Healthy           Dead             \n",
       "   X122022_Condition\n",
       "27 Healthy          \n",
       "33 Dead             \n",
       "50 Healthy          \n",
       "64 Dead             "
      ]
     },
     "metadata": {},
     "output_type": "display_data"
    }
   ],
   "source": [
    "# sort by transect \n",
    "mismatched_conditions522[(mismatched_conditions522$Transect==\"Lagoon\"),]"
   ]
  },
  {
   "cell_type": "code",
   "execution_count": 146,
   "id": "4e5d76b6-dcbc-401f-b280-8f045c8399fc",
   "metadata": {},
   "outputs": [],
   "source": [
    "# past 13 \n",
    "## LEAVE as healthy \n",
    "\n",
    "# past 24 \n",
    "# NOT sampled in 5/22 (presumed dead?) https://drive.google.com/drive/u/0/folders/1neqfKWg7dLPKk1f4FS6QuN_CXcLy9eOe\n",
    "# sampled in 12/22 as healthy (to me - this looks like a different coral) https://drive.google.com/drive/u/0/folders/1WPO_drh8oriwWwarB7gQ4g5aGgrd7Qyu\n",
    "# I don't even see it in 2019 photos: https://drive.google.com/drive/u/0/folders/1LeYcwxCL0uu-b3GyRJiC6dyUuUP3hDC7\n",
    "# never sampled again after that (guessing it was presumed dead?)\n",
    "## CHANGE to healthy 5/22 and 12/22, not visited after that \n",
    "colony_data[colony_data$ID==\"PAST_24_Lagoon\",c(\"X052022_Condition\")]<- \"Healthy\"\n",
    "colony_data[colony_data$ID==\"PAST_24_Lagoon\",c(\"X122022_Condition\")]<- \"Healthy\"\n",
    "\n",
    "# pstr 4\n",
    "# sampled as healthy 2019 - 2022, leah's notes say ' TL (F, SA) - sampled as healthy!!' with condition as 'Diseased/Arrested TL' in 5/22\n",
    "## LEAVE as healthy \n",
    "\n",
    "# ssid 26\n",
    "# sampled as diseased in 12/22, no sample in 5/22 \n",
    "# looks alive but diseased in all 2022, never sampled after (guessing it was presumed dead?)\n",
    "## CHANGE to diseased in 5/22 https://drive.google.com/drive/u/0/folders/1neqfKWg7dLPKk1f4FS6QuN_CXcLy9eOe\n",
    "colony_data[colony_data$ID==\"SSID_26_Lagoon\",c(\"X052022_Condition\")]<- \"Diseased\""
   ]
  },
  {
   "cell_type": "code",
   "execution_count": 16,
   "id": "2041f783-e036-42f1-86eb-b15fb9b2fa6d",
   "metadata": {},
   "outputs": [],
   "source": [
    "colonies_to_check <- append(colonies_to_check, c(\"PAST_13_Lagoon\",\"PAST_24_Lagoon\",'PSTR_4_Lagoon', 'SSID_26_Lagoon'))"
   ]
  },
  {
   "cell_type": "code",
   "execution_count": 126,
   "id": "6637b7e0-1fa1-420d-810c-12b898619ad2",
   "metadata": {},
   "outputs": [
    {
     "data": {
      "text/html": [
       "<style>\n",
       ".list-inline {list-style: none; margin:0; padding: 0}\n",
       ".list-inline>li {display: inline-block}\n",
       ".list-inline>li:not(:last-child)::after {content: \"\\00b7\"; padding: 0 .5ex}\n",
       "</style>\n",
       "<ol class=list-inline><li>'X062019_Condition'</li><li>'X052022_Condition'</li><li>'X122022_Condition'</li><li>'X052023_Condition'</li><li>'X092023_Condition'</li><li>'X112023_Condition'</li><li>'X122023_Condition'</li><li>'X012024_Condition'</li><li>'X022024_Condition'</li><li>'X042024_Condition'</li></ol>\n"
      ],
      "text/latex": [
       "\\begin{enumerate*}\n",
       "\\item 'X062019\\_Condition'\n",
       "\\item 'X052022\\_Condition'\n",
       "\\item 'X122022\\_Condition'\n",
       "\\item 'X052023\\_Condition'\n",
       "\\item 'X092023\\_Condition'\n",
       "\\item 'X112023\\_Condition'\n",
       "\\item 'X122023\\_Condition'\n",
       "\\item 'X012024\\_Condition'\n",
       "\\item 'X022024\\_Condition'\n",
       "\\item 'X042024\\_Condition'\n",
       "\\end{enumerate*}\n"
      ],
      "text/markdown": [
       "1. 'X062019_Condition'\n",
       "2. 'X052022_Condition'\n",
       "3. 'X122022_Condition'\n",
       "4. 'X052023_Condition'\n",
       "5. 'X092023_Condition'\n",
       "6. 'X112023_Condition'\n",
       "7. 'X122023_Condition'\n",
       "8. 'X012024_Condition'\n",
       "9. 'X022024_Condition'\n",
       "10. 'X042024_Condition'\n",
       "\n",
       "\n"
      ],
      "text/plain": [
       " [1] \"X062019_Condition\" \"X052022_Condition\" \"X122022_Condition\"\n",
       " [4] \"X052023_Condition\" \"X092023_Condition\" \"X112023_Condition\"\n",
       " [7] \"X122023_Condition\" \"X012024_Condition\" \"X022024_Condition\"\n",
       "[10] \"X042024_Condition\""
      ]
     },
     "metadata": {},
     "output_type": "display_data"
    }
   ],
   "source": [
    "# add not visited to the rest of PAST_24_Lagoon condition dates \n",
    "condition_columns<-colnames(colony_data)[grepl(\"Condition\",colnames(colony_data))]\n",
    "condition_columns"
   ]
  },
  {
   "cell_type": "code",
   "execution_count": 127,
   "id": "761c79da-2795-4ff4-a6f0-51d06e896467",
   "metadata": {},
   "outputs": [
    {
     "data": {
      "text/html": [
       "<style>\n",
       ".list-inline {list-style: none; margin:0; padding: 0}\n",
       ".list-inline>li {display: inline-block}\n",
       ".list-inline>li:not(:last-child)::after {content: \"\\00b7\"; padding: 0 .5ex}\n",
       "</style>\n",
       "<ol class=list-inline><li>'X052023_Condition'</li><li>'X092023_Condition'</li><li>'X112023_Condition'</li><li>'X122023_Condition'</li><li>'X012024_Condition'</li><li>'X022024_Condition'</li><li>'X042024_Condition'</li></ol>\n"
      ],
      "text/latex": [
       "\\begin{enumerate*}\n",
       "\\item 'X052023\\_Condition'\n",
       "\\item 'X092023\\_Condition'\n",
       "\\item 'X112023\\_Condition'\n",
       "\\item 'X122023\\_Condition'\n",
       "\\item 'X012024\\_Condition'\n",
       "\\item 'X022024\\_Condition'\n",
       "\\item 'X042024\\_Condition'\n",
       "\\end{enumerate*}\n"
      ],
      "text/markdown": [
       "1. 'X052023_Condition'\n",
       "2. 'X092023_Condition'\n",
       "3. 'X112023_Condition'\n",
       "4. 'X122023_Condition'\n",
       "5. 'X012024_Condition'\n",
       "6. 'X022024_Condition'\n",
       "7. 'X042024_Condition'\n",
       "\n",
       "\n"
      ],
      "text/plain": [
       "[1] \"X052023_Condition\" \"X092023_Condition\" \"X112023_Condition\"\n",
       "[4] \"X122023_Condition\" \"X012024_Condition\" \"X022024_Condition\"\n",
       "[7] \"X042024_Condition\""
      ]
     },
     "metadata": {},
     "output_type": "display_data"
    }
   ],
   "source": [
    "filter_condition_columns <- condition_columns[!condition_columns %in% c('X062019_Condition', 'X052022_Condition','X122022_Condition')]\n",
    "filter_condition_columns"
   ]
  },
  {
   "cell_type": "code",
   "execution_count": 117,
   "id": "35c0e78d-3954-47ee-b154-d0023792b59f",
   "metadata": {},
   "outputs": [],
   "source": [
    "colony_data[colony_data$ID==\"PAST_24_Lagoon\",filter_condition_columns]<- \"Not_visited\""
   ]
  },
  {
   "cell_type": "code",
   "execution_count": 120,
   "id": "d58f2e43-d250-48b0-b7c3-de7bc8909782",
   "metadata": {},
   "outputs": [
    {
     "data": {
      "text/html": [
       "<table class=\"dataframe\">\n",
       "<caption>A data.frame: 10 × 8</caption>\n",
       "<thead>\n",
       "\t<tr><th></th><th scope=col>ID</th><th scope=col>Transect</th><th scope=col>lh_Condition_Oct19</th><th scope=col>lh_Condition_May22</th><th scope=col>lh_Condition_Dec22</th><th scope=col>X062019_Condition</th><th scope=col>X052022_Condition</th><th scope=col>X122022_Condition</th></tr>\n",
       "\t<tr><th></th><th scope=col>&lt;chr&gt;</th><th scope=col>&lt;chr&gt;</th><th scope=col>&lt;chr&gt;</th><th scope=col>&lt;chr&gt;</th><th scope=col>&lt;chr&gt;</th><th scope=col>&lt;chr&gt;</th><th scope=col>&lt;chr&gt;</th><th scope=col>&lt;chr&gt;</th></tr>\n",
       "</thead>\n",
       "<tbody>\n",
       "\t<tr><th scope=row>14</th><td>MCAV_59_SR30N </td><td>SR30N </td><td>Healthy</td><td>Diseased               </td><td>Increased Old Mortality</td><td>Healthy</td><td>Diseased</td><td>Diseased</td></tr>\n",
       "\t<tr><th scope=row>27</th><td>PAST_13_Lagoon</td><td>Lagoon</td><td>Healthy</td><td>Increased Old Mortality</td><td>Increased Old Mortality</td><td>Healthy</td><td>Healthy </td><td>Healthy </td></tr>\n",
       "\t<tr><th scope=row>29</th><td>PAST_19_CBC30N</td><td>CBC30N</td><td>Healthy</td><td>Diseased               </td><td>Dead                   </td><td>Healthy</td><td>Diseased</td><td>Diseased</td></tr>\n",
       "\t<tr><th scope=row>33</th><td>PAST_24_Lagoon</td><td>Lagoon</td><td>Healthy</td><td>Healthy                </td><td>Healthy                </td><td>Healthy</td><td>Dead    </td><td>Dead    </td></tr>\n",
       "\t<tr><th scope=row>64</th><td>SSID_26_Lagoon</td><td>Lagoon</td><td>Healthy</td><td>Diseased               </td><td>Diseased               </td><td>Healthy</td><td>Dead    </td><td>Dead    </td></tr>\n",
       "\t<tr><th scope=row>66</th><td>SSID_3_CBC30N </td><td>CBC30N</td><td>Healthy</td><td>Diseased               </td><td>Healthy                </td><td>Healthy</td><td>Diseased</td><td>Diseased</td></tr>\n",
       "\t<tr><th scope=row>68</th><td>SSID_33_Lagoon</td><td>Lagoon</td><td>Healthy</td><td>Healthy                </td><td>Healthy                </td><td>Healthy</td><td>Healthy </td><td>Diseased</td></tr>\n",
       "\t<tr><th scope=row>69</th><td>SSID_36_Lagoon</td><td>Lagoon</td><td>Healthy</td><td>Diseased               </td><td>Healthy                </td><td>Healthy</td><td>Diseased</td><td>Diseased</td></tr>\n",
       "\t<tr><th scope=row>73</th><td>SSID_51_SR30N </td><td>SR30N </td><td>Healthy</td><td>Diseased               </td><td>Not Found              </td><td>Healthy</td><td>Diseased</td><td>Diseased</td></tr>\n",
       "\t<tr><th scope=row>80</th><td>SSID_74_SR30N </td><td>SR30N </td><td>Healthy</td><td>Healthy                </td><td>Diseased               </td><td>Healthy</td><td>Healthy </td><td>Healthy </td></tr>\n",
       "</tbody>\n",
       "</table>\n"
      ],
      "text/latex": [
       "A data.frame: 10 × 8\n",
       "\\begin{tabular}{r|llllllll}\n",
       "  & ID & Transect & lh\\_Condition\\_Oct19 & lh\\_Condition\\_May22 & lh\\_Condition\\_Dec22 & X062019\\_Condition & X052022\\_Condition & X122022\\_Condition\\\\\n",
       "  & <chr> & <chr> & <chr> & <chr> & <chr> & <chr> & <chr> & <chr>\\\\\n",
       "\\hline\n",
       "\t14 & MCAV\\_59\\_SR30N  & SR30N  & Healthy & Diseased                & Increased Old Mortality & Healthy & Diseased & Diseased\\\\\n",
       "\t27 & PAST\\_13\\_Lagoon & Lagoon & Healthy & Increased Old Mortality & Increased Old Mortality & Healthy & Healthy  & Healthy \\\\\n",
       "\t29 & PAST\\_19\\_CBC30N & CBC30N & Healthy & Diseased                & Dead                    & Healthy & Diseased & Diseased\\\\\n",
       "\t33 & PAST\\_24\\_Lagoon & Lagoon & Healthy & Healthy                 & Healthy                 & Healthy & Dead     & Dead    \\\\\n",
       "\t64 & SSID\\_26\\_Lagoon & Lagoon & Healthy & Diseased                & Diseased                & Healthy & Dead     & Dead    \\\\\n",
       "\t66 & SSID\\_3\\_CBC30N  & CBC30N & Healthy & Diseased                & Healthy                 & Healthy & Diseased & Diseased\\\\\n",
       "\t68 & SSID\\_33\\_Lagoon & Lagoon & Healthy & Healthy                 & Healthy                 & Healthy & Healthy  & Diseased\\\\\n",
       "\t69 & SSID\\_36\\_Lagoon & Lagoon & Healthy & Diseased                & Healthy                 & Healthy & Diseased & Diseased\\\\\n",
       "\t73 & SSID\\_51\\_SR30N  & SR30N  & Healthy & Diseased                & Not Found               & Healthy & Diseased & Diseased\\\\\n",
       "\t80 & SSID\\_74\\_SR30N  & SR30N  & Healthy & Healthy                 & Diseased                & Healthy & Healthy  & Healthy \\\\\n",
       "\\end{tabular}\n"
      ],
      "text/markdown": [
       "\n",
       "A data.frame: 10 × 8\n",
       "\n",
       "| <!--/--> | ID &lt;chr&gt; | Transect &lt;chr&gt; | lh_Condition_Oct19 &lt;chr&gt; | lh_Condition_May22 &lt;chr&gt; | lh_Condition_Dec22 &lt;chr&gt; | X062019_Condition &lt;chr&gt; | X052022_Condition &lt;chr&gt; | X122022_Condition &lt;chr&gt; |\n",
       "|---|---|---|---|---|---|---|---|---|\n",
       "| 14 | MCAV_59_SR30N  | SR30N  | Healthy | Diseased                | Increased Old Mortality | Healthy | Diseased | Diseased |\n",
       "| 27 | PAST_13_Lagoon | Lagoon | Healthy | Increased Old Mortality | Increased Old Mortality | Healthy | Healthy  | Healthy  |\n",
       "| 29 | PAST_19_CBC30N | CBC30N | Healthy | Diseased                | Dead                    | Healthy | Diseased | Diseased |\n",
       "| 33 | PAST_24_Lagoon | Lagoon | Healthy | Healthy                 | Healthy                 | Healthy | Dead     | Dead     |\n",
       "| 64 | SSID_26_Lagoon | Lagoon | Healthy | Diseased                | Diseased                | Healthy | Dead     | Dead     |\n",
       "| 66 | SSID_3_CBC30N  | CBC30N | Healthy | Diseased                | Healthy                 | Healthy | Diseased | Diseased |\n",
       "| 68 | SSID_33_Lagoon | Lagoon | Healthy | Healthy                 | Healthy                 | Healthy | Healthy  | Diseased |\n",
       "| 69 | SSID_36_Lagoon | Lagoon | Healthy | Diseased                | Healthy                 | Healthy | Diseased | Diseased |\n",
       "| 73 | SSID_51_SR30N  | SR30N  | Healthy | Diseased                | Not Found               | Healthy | Diseased | Diseased |\n",
       "| 80 | SSID_74_SR30N  | SR30N  | Healthy | Healthy                 | Diseased                | Healthy | Healthy  | Healthy  |\n",
       "\n"
      ],
      "text/plain": [
       "   ID             Transect lh_Condition_Oct19 lh_Condition_May22     \n",
       "14 MCAV_59_SR30N  SR30N    Healthy            Diseased               \n",
       "27 PAST_13_Lagoon Lagoon   Healthy            Increased Old Mortality\n",
       "29 PAST_19_CBC30N CBC30N   Healthy            Diseased               \n",
       "33 PAST_24_Lagoon Lagoon   Healthy            Healthy                \n",
       "64 SSID_26_Lagoon Lagoon   Healthy            Diseased               \n",
       "66 SSID_3_CBC30N  CBC30N   Healthy            Diseased               \n",
       "68 SSID_33_Lagoon Lagoon   Healthy            Healthy                \n",
       "69 SSID_36_Lagoon Lagoon   Healthy            Diseased               \n",
       "73 SSID_51_SR30N  SR30N    Healthy            Diseased               \n",
       "80 SSID_74_SR30N  SR30N    Healthy            Healthy                \n",
       "   lh_Condition_Dec22      X062019_Condition X052022_Condition\n",
       "14 Increased Old Mortality Healthy           Diseased         \n",
       "27 Increased Old Mortality Healthy           Healthy          \n",
       "29 Dead                    Healthy           Diseased         \n",
       "33 Healthy                 Healthy           Dead             \n",
       "64 Diseased                Healthy           Dead             \n",
       "66 Healthy                 Healthy           Diseased         \n",
       "68 Healthy                 Healthy           Healthy          \n",
       "69 Healthy                 Healthy           Diseased         \n",
       "73 Not Found               Healthy           Diseased         \n",
       "80 Diseased                Healthy           Healthy          \n",
       "   X122022_Condition\n",
       "14 Diseased         \n",
       "27 Healthy          \n",
       "29 Diseased         \n",
       "33 Dead             \n",
       "64 Dead             \n",
       "66 Diseased         \n",
       "68 Diseased         \n",
       "69 Diseased         \n",
       "73 Diseased         \n",
       "80 Healthy          "
      ]
     },
     "metadata": {},
     "output_type": "display_data"
    }
   ],
   "source": [
    "# for each year, find rows where they don't match (mismatched conditions)\n",
    "mismatched_conditions1222 <- match_conditions[match_conditions$lh_Condition_Dec22 != match_conditions$X122022_Condition, ]\n",
    "mismatched_conditions1222"
   ]
  },
  {
   "cell_type": "code",
   "execution_count": 121,
   "id": "a3f59804-2671-4353-8228-cb274e371248",
   "metadata": {},
   "outputs": [
    {
     "data": {
      "text/html": [
       "<table class=\"dataframe\">\n",
       "<caption>A data.frame: 3 × 8</caption>\n",
       "<thead>\n",
       "\t<tr><th></th><th scope=col>ID</th><th scope=col>Transect</th><th scope=col>lh_Condition_Oct19</th><th scope=col>lh_Condition_May22</th><th scope=col>lh_Condition_Dec22</th><th scope=col>X062019_Condition</th><th scope=col>X052022_Condition</th><th scope=col>X122022_Condition</th></tr>\n",
       "\t<tr><th></th><th scope=col>&lt;chr&gt;</th><th scope=col>&lt;chr&gt;</th><th scope=col>&lt;chr&gt;</th><th scope=col>&lt;chr&gt;</th><th scope=col>&lt;chr&gt;</th><th scope=col>&lt;chr&gt;</th><th scope=col>&lt;chr&gt;</th><th scope=col>&lt;chr&gt;</th></tr>\n",
       "</thead>\n",
       "<tbody>\n",
       "\t<tr><th scope=row>14</th><td>MCAV_59_SR30N</td><td>SR30N</td><td>Healthy</td><td>Diseased</td><td>Increased Old Mortality</td><td>Healthy</td><td>Diseased</td><td>Diseased</td></tr>\n",
       "\t<tr><th scope=row>73</th><td>SSID_51_SR30N</td><td>SR30N</td><td>Healthy</td><td>Diseased</td><td>Not Found              </td><td>Healthy</td><td>Diseased</td><td>Diseased</td></tr>\n",
       "\t<tr><th scope=row>80</th><td>SSID_74_SR30N</td><td>SR30N</td><td>Healthy</td><td>Healthy </td><td>Diseased               </td><td>Healthy</td><td>Healthy </td><td>Healthy </td></tr>\n",
       "</tbody>\n",
       "</table>\n"
      ],
      "text/latex": [
       "A data.frame: 3 × 8\n",
       "\\begin{tabular}{r|llllllll}\n",
       "  & ID & Transect & lh\\_Condition\\_Oct19 & lh\\_Condition\\_May22 & lh\\_Condition\\_Dec22 & X062019\\_Condition & X052022\\_Condition & X122022\\_Condition\\\\\n",
       "  & <chr> & <chr> & <chr> & <chr> & <chr> & <chr> & <chr> & <chr>\\\\\n",
       "\\hline\n",
       "\t14 & MCAV\\_59\\_SR30N & SR30N & Healthy & Diseased & Increased Old Mortality & Healthy & Diseased & Diseased\\\\\n",
       "\t73 & SSID\\_51\\_SR30N & SR30N & Healthy & Diseased & Not Found               & Healthy & Diseased & Diseased\\\\\n",
       "\t80 & SSID\\_74\\_SR30N & SR30N & Healthy & Healthy  & Diseased                & Healthy & Healthy  & Healthy \\\\\n",
       "\\end{tabular}\n"
      ],
      "text/markdown": [
       "\n",
       "A data.frame: 3 × 8\n",
       "\n",
       "| <!--/--> | ID &lt;chr&gt; | Transect &lt;chr&gt; | lh_Condition_Oct19 &lt;chr&gt; | lh_Condition_May22 &lt;chr&gt; | lh_Condition_Dec22 &lt;chr&gt; | X062019_Condition &lt;chr&gt; | X052022_Condition &lt;chr&gt; | X122022_Condition &lt;chr&gt; |\n",
       "|---|---|---|---|---|---|---|---|---|\n",
       "| 14 | MCAV_59_SR30N | SR30N | Healthy | Diseased | Increased Old Mortality | Healthy | Diseased | Diseased |\n",
       "| 73 | SSID_51_SR30N | SR30N | Healthy | Diseased | Not Found               | Healthy | Diseased | Diseased |\n",
       "| 80 | SSID_74_SR30N | SR30N | Healthy | Healthy  | Diseased                | Healthy | Healthy  | Healthy  |\n",
       "\n"
      ],
      "text/plain": [
       "   ID            Transect lh_Condition_Oct19 lh_Condition_May22\n",
       "14 MCAV_59_SR30N SR30N    Healthy            Diseased          \n",
       "73 SSID_51_SR30N SR30N    Healthy            Diseased          \n",
       "80 SSID_74_SR30N SR30N    Healthy            Healthy           \n",
       "   lh_Condition_Dec22      X062019_Condition X052022_Condition\n",
       "14 Increased Old Mortality Healthy           Diseased         \n",
       "73 Not Found               Healthy           Diseased         \n",
       "80 Diseased                Healthy           Healthy          \n",
       "   X122022_Condition\n",
       "14 Diseased         \n",
       "73 Diseased         \n",
       "80 Healthy          "
      ]
     },
     "metadata": {},
     "output_type": "display_data"
    }
   ],
   "source": [
    "# sort by transect \n",
    "mismatched_conditions1222[(mismatched_conditions1222$Transect==\"SR30N\"),]"
   ]
  },
  {
   "cell_type": "code",
   "execution_count": 147,
   "id": "2b320dca-7c08-4191-a232-dddd5e02f0c7",
   "metadata": {},
   "outputs": [
    {
     "data": {
      "text/html": [
       "<table class=\"dataframe\">\n",
       "<caption>A data.frame: 1 × 7</caption>\n",
       "<thead>\n",
       "\t<tr><th></th><th scope=col>X052023_Condition</th><th scope=col>X092023_Condition</th><th scope=col>X112023_Condition</th><th scope=col>X122023_Condition</th><th scope=col>X012024_Condition</th><th scope=col>X022024_Condition</th><th scope=col>X042024_Condition</th></tr>\n",
       "\t<tr><th></th><th scope=col>&lt;chr&gt;</th><th scope=col>&lt;chr&gt;</th><th scope=col>&lt;chr&gt;</th><th scope=col>&lt;chr&gt;</th><th scope=col>&lt;chr&gt;</th><th scope=col>&lt;chr&gt;</th><th scope=col>&lt;chr&gt;</th></tr>\n",
       "</thead>\n",
       "<tbody>\n",
       "\t<tr><th scope=row>50</th><td>Healthy</td><td>CLP</td><td>CLP</td><td>CLP</td><td>Healthy</td><td>Healthy</td><td></td></tr>\n",
       "</tbody>\n",
       "</table>\n"
      ],
      "text/latex": [
       "A data.frame: 1 × 7\n",
       "\\begin{tabular}{r|lllllll}\n",
       "  & X052023\\_Condition & X092023\\_Condition & X112023\\_Condition & X122023\\_Condition & X012024\\_Condition & X022024\\_Condition & X042024\\_Condition\\\\\n",
       "  & <chr> & <chr> & <chr> & <chr> & <chr> & <chr> & <chr>\\\\\n",
       "\\hline\n",
       "\t50 & Healthy & CLP & CLP & CLP & Healthy & Healthy & \\\\\n",
       "\\end{tabular}\n"
      ],
      "text/markdown": [
       "\n",
       "A data.frame: 1 × 7\n",
       "\n",
       "| <!--/--> | X052023_Condition &lt;chr&gt; | X092023_Condition &lt;chr&gt; | X112023_Condition &lt;chr&gt; | X122023_Condition &lt;chr&gt; | X012024_Condition &lt;chr&gt; | X022024_Condition &lt;chr&gt; | X042024_Condition &lt;chr&gt; |\n",
       "|---|---|---|---|---|---|---|---|\n",
       "| 50 | Healthy | CLP | CLP | CLP | Healthy | Healthy | <!----> |\n",
       "\n"
      ],
      "text/plain": [
       "   X052023_Condition X092023_Condition X112023_Condition X122023_Condition\n",
       "50 Healthy           CLP               CLP               CLP              \n",
       "   X012024_Condition X022024_Condition X042024_Condition\n",
       "50 Healthy           Healthy                            "
      ]
     },
     "metadata": {},
     "output_type": "display_data"
    },
    {
     "data": {
      "text/html": [
       "<table class=\"dataframe\">\n",
       "<caption>A data.frame: 1 × 10</caption>\n",
       "<thead>\n",
       "\t<tr><th></th><th scope=col>X062019_Condition</th><th scope=col>X052022_Condition</th><th scope=col>X122022_Condition</th><th scope=col>X052023_Condition</th><th scope=col>X092023_Condition</th><th scope=col>X112023_Condition</th><th scope=col>X122023_Condition</th><th scope=col>X012024_Condition</th><th scope=col>X022024_Condition</th><th scope=col>X042024_Condition</th></tr>\n",
       "\t<tr><th></th><th scope=col>&lt;chr&gt;</th><th scope=col>&lt;chr&gt;</th><th scope=col>&lt;chr&gt;</th><th scope=col>&lt;chr&gt;</th><th scope=col>&lt;chr&gt;</th><th scope=col>&lt;chr&gt;</th><th scope=col>&lt;chr&gt;</th><th scope=col>&lt;chr&gt;</th><th scope=col>&lt;chr&gt;</th><th scope=col>&lt;chr&gt;</th></tr>\n",
       "</thead>\n",
       "<tbody>\n",
       "\t<tr><th scope=row>50</th><td>Healthy</td><td>Diseased</td><td>Healthy</td><td>Healthy</td><td>CLP</td><td>CLP</td><td>CLP</td><td>Healthy</td><td>Healthy</td><td></td></tr>\n",
       "</tbody>\n",
       "</table>\n"
      ],
      "text/latex": [
       "A data.frame: 1 × 10\n",
       "\\begin{tabular}{r|llllllllll}\n",
       "  & X062019\\_Condition & X052022\\_Condition & X122022\\_Condition & X052023\\_Condition & X092023\\_Condition & X112023\\_Condition & X122023\\_Condition & X012024\\_Condition & X022024\\_Condition & X042024\\_Condition\\\\\n",
       "  & <chr> & <chr> & <chr> & <chr> & <chr> & <chr> & <chr> & <chr> & <chr> & <chr>\\\\\n",
       "\\hline\n",
       "\t50 & Healthy & Diseased & Healthy & Healthy & CLP & CLP & CLP & Healthy & Healthy & \\\\\n",
       "\\end{tabular}\n"
      ],
      "text/markdown": [
       "\n",
       "A data.frame: 1 × 10\n",
       "\n",
       "| <!--/--> | X062019_Condition &lt;chr&gt; | X052022_Condition &lt;chr&gt; | X122022_Condition &lt;chr&gt; | X052023_Condition &lt;chr&gt; | X092023_Condition &lt;chr&gt; | X112023_Condition &lt;chr&gt; | X122023_Condition &lt;chr&gt; | X012024_Condition &lt;chr&gt; | X022024_Condition &lt;chr&gt; | X042024_Condition &lt;chr&gt; |\n",
       "|---|---|---|---|---|---|---|---|---|---|---|\n",
       "| 50 | Healthy | Diseased | Healthy | Healthy | CLP | CLP | CLP | Healthy | Healthy | <!----> |\n",
       "\n"
      ],
      "text/plain": [
       "   X062019_Condition X052022_Condition X122022_Condition X052023_Condition\n",
       "50 Healthy           Diseased          Healthy           Healthy          \n",
       "   X092023_Condition X112023_Condition X122023_Condition X012024_Condition\n",
       "50 CLP               CLP               CLP               Healthy          \n",
       "   X022024_Condition X042024_Condition\n",
       "50 Healthy                            "
      ]
     },
     "metadata": {},
     "output_type": "display_data"
    }
   ],
   "source": [
    "# mcav 59 \n",
    "# not sampled after 2019 until 2024 - notes in 5/22 say missed sample\n",
    "# looks like sctld in 5/22 https://drive.google.com/drive/u/0/folders/1OhCgbgrVgvgabie2Zx2IW6kfoEHOpYgd\n",
    "# doesn't look like TL in 12/22 but no sample anyway https://drive.google.com/drive/u/0/folders/1Y4SxDofp0PDFFKvjuFr6wN3znsbBzS6J\n",
    "# maybe looks a little pale in 2023 but stayed pretty much the same since 12/22 https://drive.google.com/drive/u/0/folders/1048Vv_PCukpgXwjENUzXZeehxhV3oyh7\n",
    "## CHANGE to diseased 5/22\n",
    "colony_data[colony_data$ID==\"MCAV_59_SR30N\",c(\"X052022_Condition\")]<- \"Diseased\"\n",
    "## CHANGE to healthy for 12/22\n",
    "colony_data[colony_data$ID==\"MCAV_59_SR30N\",c(\"X122022_Condition\")]<- \"Healthy\"\n",
    "colony_data[colony_data$ID==\"MCAV_59_SR30N\",c(\"X052023_Condition\")]<- \"Healthy\"\n",
    "## UPDATE status 9/23 pale \n",
    "colony_data[colony_data$ID==\"MCAV_59_SR30N\",filter_condition_columns]\n",
    "colony_data[colony_data$ID==\"MCAV_59_SR30N\",c(\"X092023_Condition\")]<- \"CLP\"\n",
    "colony_data[colony_data$ID==\"MCAV_59_SR30N\",c(\"X112023_Condition\")]<- \"CLP\"\n",
    "colony_data[colony_data$ID==\"MCAV_59_SR30N\",c(\"X122023_Condition\")]<- \"CLP\"\n",
    "# can't find photos b/w 9/23 - 01/24\n",
    "colony_data[colony_data$ID==\"MCAV_59_SR30N\",c(\"X012024_Condition\")]<- \"Healthy\"\n",
    "colony_data[colony_data$ID==\"MCAV_59_SR30N\",c(\"X022024_Condition\")]<- \"Healthy\"\n",
    "colony_data[colony_data$ID==\"MCAV_59_SR30N\",condition_columns]"
   ]
  },
  {
   "cell_type": "code",
   "execution_count": 17,
   "id": "42e342f4-4141-43d9-8c98-e307dd33fa06",
   "metadata": {},
   "outputs": [],
   "source": [
    "colonies_to_check <- append(colonies_to_check, c('MCAV_59_SR30N','SSID_51_SR30N','SSID_74_SR30N'))"
   ]
  },
  {
   "cell_type": "code",
   "execution_count": 133,
   "id": "f709249f-f394-4cd5-970b-227f9d4668d8",
   "metadata": {},
   "outputs": [
    {
     "data": {
      "text/html": [
       "<table class=\"dataframe\">\n",
       "<caption>A data.frame: 1 × 10</caption>\n",
       "<thead>\n",
       "\t<tr><th></th><th scope=col>X062019_Condition</th><th scope=col>X052022_Condition</th><th scope=col>X122022_Condition</th><th scope=col>X052023_Condition</th><th scope=col>X092023_Condition</th><th scope=col>X112023_Condition</th><th scope=col>X122023_Condition</th><th scope=col>X012024_Condition</th><th scope=col>X022024_Condition</th><th scope=col>X042024_Condition</th></tr>\n",
       "\t<tr><th></th><th scope=col>&lt;chr&gt;</th><th scope=col>&lt;chr&gt;</th><th scope=col>&lt;chr&gt;</th><th scope=col>&lt;chr&gt;</th><th scope=col>&lt;chr&gt;</th><th scope=col>&lt;chr&gt;</th><th scope=col>&lt;chr&gt;</th><th scope=col>&lt;chr&gt;</th><th scope=col>&lt;chr&gt;</th><th scope=col>&lt;chr&gt;</th></tr>\n",
       "</thead>\n",
       "<tbody>\n",
       "\t<tr><th scope=row>42</th><td>Healthy</td><td>Diseased</td><td>Dead</td><td>Dead</td><td>Dead</td><td>Dead</td><td>Dead</td><td>Dead</td><td>Dead</td><td>Dead</td></tr>\n",
       "</tbody>\n",
       "</table>\n"
      ],
      "text/latex": [
       "A data.frame: 1 × 10\n",
       "\\begin{tabular}{r|llllllllll}\n",
       "  & X062019\\_Condition & X052022\\_Condition & X122022\\_Condition & X052023\\_Condition & X092023\\_Condition & X112023\\_Condition & X122023\\_Condition & X012024\\_Condition & X022024\\_Condition & X042024\\_Condition\\\\\n",
       "  & <chr> & <chr> & <chr> & <chr> & <chr> & <chr> & <chr> & <chr> & <chr> & <chr>\\\\\n",
       "\\hline\n",
       "\t42 & Healthy & Diseased & Dead & Dead & Dead & Dead & Dead & Dead & Dead & Dead\\\\\n",
       "\\end{tabular}\n"
      ],
      "text/markdown": [
       "\n",
       "A data.frame: 1 × 10\n",
       "\n",
       "| <!--/--> | X062019_Condition &lt;chr&gt; | X052022_Condition &lt;chr&gt; | X122022_Condition &lt;chr&gt; | X052023_Condition &lt;chr&gt; | X092023_Condition &lt;chr&gt; | X112023_Condition &lt;chr&gt; | X122023_Condition &lt;chr&gt; | X012024_Condition &lt;chr&gt; | X022024_Condition &lt;chr&gt; | X042024_Condition &lt;chr&gt; |\n",
       "|---|---|---|---|---|---|---|---|---|---|---|\n",
       "| 42 | Healthy | Diseased | Dead | Dead | Dead | Dead | Dead | Dead | Dead | Dead |\n",
       "\n"
      ],
      "text/plain": [
       "   X062019_Condition X052022_Condition X122022_Condition X052023_Condition\n",
       "42 Healthy           Diseased          Dead              Dead             \n",
       "   X092023_Condition X112023_Condition X122023_Condition X012024_Condition\n",
       "42 Dead              Dead              Dead              Dead             \n",
       "   X022024_Condition X042024_Condition\n",
       "42 Dead              Dead             "
      ]
     },
     "metadata": {},
     "output_type": "display_data"
    },
    {
     "data": {
      "text/html": [
       "<table class=\"dataframe\">\n",
       "<caption>A data.frame: 1 × 10</caption>\n",
       "<thead>\n",
       "\t<tr><th></th><th scope=col>X062019_Condition</th><th scope=col>X052022_Condition</th><th scope=col>X122022_Condition</th><th scope=col>X052023_Condition</th><th scope=col>X092023_Condition</th><th scope=col>X112023_Condition</th><th scope=col>X122023_Condition</th><th scope=col>X012024_Condition</th><th scope=col>X022024_Condition</th><th scope=col>X042024_Condition</th></tr>\n",
       "\t<tr><th></th><th scope=col>&lt;chr&gt;</th><th scope=col>&lt;chr&gt;</th><th scope=col>&lt;chr&gt;</th><th scope=col>&lt;chr&gt;</th><th scope=col>&lt;chr&gt;</th><th scope=col>&lt;chr&gt;</th><th scope=col>&lt;chr&gt;</th><th scope=col>&lt;chr&gt;</th><th scope=col>&lt;chr&gt;</th><th scope=col>&lt;chr&gt;</th></tr>\n",
       "</thead>\n",
       "<tbody>\n",
       "\t<tr><th scope=row>42</th><td>Healthy</td><td>Diseased</td><td>Dead</td><td>Dead</td><td>Dead</td><td>Dead</td><td>Dead</td><td>Dead</td><td>Dead</td><td>Dead</td></tr>\n",
       "</tbody>\n",
       "</table>\n"
      ],
      "text/latex": [
       "A data.frame: 1 × 10\n",
       "\\begin{tabular}{r|llllllllll}\n",
       "  & X062019\\_Condition & X052022\\_Condition & X122022\\_Condition & X052023\\_Condition & X092023\\_Condition & X112023\\_Condition & X122023\\_Condition & X012024\\_Condition & X022024\\_Condition & X042024\\_Condition\\\\\n",
       "  & <chr> & <chr> & <chr> & <chr> & <chr> & <chr> & <chr> & <chr> & <chr> & <chr>\\\\\n",
       "\\hline\n",
       "\t42 & Healthy & Diseased & Dead & Dead & Dead & Dead & Dead & Dead & Dead & Dead\\\\\n",
       "\\end{tabular}\n"
      ],
      "text/markdown": [
       "\n",
       "A data.frame: 1 × 10\n",
       "\n",
       "| <!--/--> | X062019_Condition &lt;chr&gt; | X052022_Condition &lt;chr&gt; | X122022_Condition &lt;chr&gt; | X052023_Condition &lt;chr&gt; | X092023_Condition &lt;chr&gt; | X112023_Condition &lt;chr&gt; | X122023_Condition &lt;chr&gt; | X012024_Condition &lt;chr&gt; | X022024_Condition &lt;chr&gt; | X042024_Condition &lt;chr&gt; |\n",
       "|---|---|---|---|---|---|---|---|---|---|---|\n",
       "| 42 | Healthy | Diseased | Dead | Dead | Dead | Dead | Dead | Dead | Dead | Dead |\n",
       "\n"
      ],
      "text/plain": [
       "   X062019_Condition X052022_Condition X122022_Condition X052023_Condition\n",
       "42 Healthy           Diseased          Dead              Dead             \n",
       "   X092023_Condition X112023_Condition X122023_Condition X012024_Condition\n",
       "42 Dead              Dead              Dead              Dead             \n",
       "   X022024_Condition X042024_Condition\n",
       "42 Dead              Dead             "
      ]
     },
     "metadata": {},
     "output_type": "display_data"
    }
   ],
   "source": [
    "# ssid 51 \n",
    "# 5/22 sample notes: TL/DC very little tissue; no pic of coral but tagged with yellow numberless tag\n",
    "# not found 12/22 \n",
    "# 9/23 this is the weird one that says 'not 51 but adjacent'.. don't see a picture \n",
    "# 11/23 note says '51/not 51' & '90% CLB; Coral next to 51; Sampled RNA/DNA at bleaching/healthy margin; immune was bleached tissue'\n",
    "# safe to assume ACTUAL 51 was never sampled after 5/22 and then this is a random coral sampled starting in 2023?\n",
    "# 01 & 04 2024 sampled 51??\n",
    "# dont see pic in 2019 or 2024 \n",
    "## ACTUAL 51: healthy 2019, diseased in 5/22, dead 12/22 and beyond.. also change sample type to diseased tissue in 5/22\n",
    "## change the tag num for the one sampled in 9/23 to NOT51. make note about how it was newly sampled in 2023 and has no actual tag \n",
    "colony_data[colony_data$ID==\"SSID_51_SR30N\",condition_columns]\n",
    "colony_data[colony_data$ID==\"SSID_51_SR30N\",c(\"X052022_Condition\")]<- \"Diseased\"\n",
    "colony_data[colony_data$ID==\"SSID_51_SR30N\",c(\"X122022_Condition\")]<- \"Dead\"\n",
    "colony_data[colony_data$ID==\"SSID_51_SR30N\",filter_condition_columns]<- \"Dead\""
   ]
  },
  {
   "cell_type": "code",
   "execution_count": 140,
   "id": "ca115a3e-ad66-4794-ae10-55fffe3d8746",
   "metadata": {},
   "outputs": [
    {
     "data": {
      "text/html": [
       "<style>\n",
       ".list-inline {list-style: none; margin:0; padding: 0}\n",
       ".list-inline>li {display: inline-block}\n",
       ".list-inline>li:not(:last-child)::after {content: \"\\00b7\"; padding: 0 .5ex}\n",
       "</style>\n",
       "<ol class=list-inline><li>'1'</li><li>'2'</li><li>'3'</li><li>'4'</li><li>'5'</li><li>'6'</li><li>'7'</li><li>'8'</li><li>'9'</li><li>'10'</li><li>'11'</li><li>'12'</li><li>'13'</li><li>'14'</li><li>'15'</li><li>'16'</li><li>'17'</li><li>'24'</li><li>'19'</li><li>'20'</li><li>'21'</li><li>'22'</li><li>'23'</li><li>'25'</li><li>'27'</li><li>'35'</li><li>NA</li><li>'28'</li><li>'29'</li><li>'30'</li><li>'31'</li><li>'32'</li><li>'51'</li><li>'52'</li><li>'53'</li><li>'54'</li><li>'55'</li><li>'56'</li><li>'57'</li><li>'58'</li><li>'59'</li><li>'60'</li><li>'61'</li><li>'62'</li><li>'63'</li><li>'64'</li><li>'65'</li><li>'66'</li><li>'67'</li><li>'68'</li><li>'69'</li><li>'70'</li><li>'71'</li><li>'72'</li><li>'73'</li><li>'74'</li><li>'75'</li><li>'76'</li><li>'77'</li><li>'78'</li><li>'79'</li><li>'80'</li><li>'not_found'</li><li>'18'</li><li>'26'</li><li>'33'</li><li>'34'</li><li>'36'</li><li>'37'</li><li>'38'</li><li>'39'</li><li>'43'</li><li>'92'</li><li>'93'</li><li>'94'</li><li>'95'</li><li>'96'</li><li>'97'</li><li>'98'</li><li>'100'</li><li>'50'</li><li>'49'</li><li>'48'</li><li>'47'</li><li>'46'</li><li>'45'</li><li>'44'</li><li>'42'</li><li>'41'</li><li>'40'</li></ol>\n"
      ],
      "text/latex": [
       "\\begin{enumerate*}\n",
       "\\item '1'\n",
       "\\item '2'\n",
       "\\item '3'\n",
       "\\item '4'\n",
       "\\item '5'\n",
       "\\item '6'\n",
       "\\item '7'\n",
       "\\item '8'\n",
       "\\item '9'\n",
       "\\item '10'\n",
       "\\item '11'\n",
       "\\item '12'\n",
       "\\item '13'\n",
       "\\item '14'\n",
       "\\item '15'\n",
       "\\item '16'\n",
       "\\item '17'\n",
       "\\item '24'\n",
       "\\item '19'\n",
       "\\item '20'\n",
       "\\item '21'\n",
       "\\item '22'\n",
       "\\item '23'\n",
       "\\item '25'\n",
       "\\item '27'\n",
       "\\item '35'\n",
       "\\item NA\n",
       "\\item '28'\n",
       "\\item '29'\n",
       "\\item '30'\n",
       "\\item '31'\n",
       "\\item '32'\n",
       "\\item '51'\n",
       "\\item '52'\n",
       "\\item '53'\n",
       "\\item '54'\n",
       "\\item '55'\n",
       "\\item '56'\n",
       "\\item '57'\n",
       "\\item '58'\n",
       "\\item '59'\n",
       "\\item '60'\n",
       "\\item '61'\n",
       "\\item '62'\n",
       "\\item '63'\n",
       "\\item '64'\n",
       "\\item '65'\n",
       "\\item '66'\n",
       "\\item '67'\n",
       "\\item '68'\n",
       "\\item '69'\n",
       "\\item '70'\n",
       "\\item '71'\n",
       "\\item '72'\n",
       "\\item '73'\n",
       "\\item '74'\n",
       "\\item '75'\n",
       "\\item '76'\n",
       "\\item '77'\n",
       "\\item '78'\n",
       "\\item '79'\n",
       "\\item '80'\n",
       "\\item 'not\\_found'\n",
       "\\item '18'\n",
       "\\item '26'\n",
       "\\item '33'\n",
       "\\item '34'\n",
       "\\item '36'\n",
       "\\item '37'\n",
       "\\item '38'\n",
       "\\item '39'\n",
       "\\item '43'\n",
       "\\item '92'\n",
       "\\item '93'\n",
       "\\item '94'\n",
       "\\item '95'\n",
       "\\item '96'\n",
       "\\item '97'\n",
       "\\item '98'\n",
       "\\item '100'\n",
       "\\item '50'\n",
       "\\item '49'\n",
       "\\item '48'\n",
       "\\item '47'\n",
       "\\item '46'\n",
       "\\item '45'\n",
       "\\item '44'\n",
       "\\item '42'\n",
       "\\item '41'\n",
       "\\item '40'\n",
       "\\end{enumerate*}\n"
      ],
      "text/markdown": [
       "1. '1'\n",
       "2. '2'\n",
       "3. '3'\n",
       "4. '4'\n",
       "5. '5'\n",
       "6. '6'\n",
       "7. '7'\n",
       "8. '8'\n",
       "9. '9'\n",
       "10. '10'\n",
       "11. '11'\n",
       "12. '12'\n",
       "13. '13'\n",
       "14. '14'\n",
       "15. '15'\n",
       "16. '16'\n",
       "17. '17'\n",
       "18. '24'\n",
       "19. '19'\n",
       "20. '20'\n",
       "21. '21'\n",
       "22. '22'\n",
       "23. '23'\n",
       "24. '25'\n",
       "25. '27'\n",
       "26. '35'\n",
       "27. NA\n",
       "28. '28'\n",
       "29. '29'\n",
       "30. '30'\n",
       "31. '31'\n",
       "32. '32'\n",
       "33. '51'\n",
       "34. '52'\n",
       "35. '53'\n",
       "36. '54'\n",
       "37. '55'\n",
       "38. '56'\n",
       "39. '57'\n",
       "40. '58'\n",
       "41. '59'\n",
       "42. '60'\n",
       "43. '61'\n",
       "44. '62'\n",
       "45. '63'\n",
       "46. '64'\n",
       "47. '65'\n",
       "48. '66'\n",
       "49. '67'\n",
       "50. '68'\n",
       "51. '69'\n",
       "52. '70'\n",
       "53. '71'\n",
       "54. '72'\n",
       "55. '73'\n",
       "56. '74'\n",
       "57. '75'\n",
       "58. '76'\n",
       "59. '77'\n",
       "60. '78'\n",
       "61. '79'\n",
       "62. '80'\n",
       "63. 'not_found'\n",
       "64. '18'\n",
       "65. '26'\n",
       "66. '33'\n",
       "67. '34'\n",
       "68. '36'\n",
       "69. '37'\n",
       "70. '38'\n",
       "71. '39'\n",
       "72. '43'\n",
       "73. '92'\n",
       "74. '93'\n",
       "75. '94'\n",
       "76. '95'\n",
       "77. '96'\n",
       "78. '97'\n",
       "79. '98'\n",
       "80. '100'\n",
       "81. '50'\n",
       "82. '49'\n",
       "83. '48'\n",
       "84. '47'\n",
       "85. '46'\n",
       "86. '45'\n",
       "87. '44'\n",
       "88. '42'\n",
       "89. '41'\n",
       "90. '40'\n",
       "\n",
       "\n"
      ],
      "text/plain": [
       " [1] \"1\"         \"2\"         \"3\"         \"4\"         \"5\"         \"6\"        \n",
       " [7] \"7\"         \"8\"         \"9\"         \"10\"        \"11\"        \"12\"       \n",
       "[13] \"13\"        \"14\"        \"15\"        \"16\"        \"17\"        \"24\"       \n",
       "[19] \"19\"        \"20\"        \"21\"        \"22\"        \"23\"        \"25\"       \n",
       "[25] \"27\"        \"35\"        NA          \"28\"        \"29\"        \"30\"       \n",
       "[31] \"31\"        \"32\"        \"51\"        \"52\"        \"53\"        \"54\"       \n",
       "[37] \"55\"        \"56\"        \"57\"        \"58\"        \"59\"        \"60\"       \n",
       "[43] \"61\"        \"62\"        \"63\"        \"64\"        \"65\"        \"66\"       \n",
       "[49] \"67\"        \"68\"        \"69\"        \"70\"        \"71\"        \"72\"       \n",
       "[55] \"73\"        \"74\"        \"75\"        \"76\"        \"77\"        \"78\"       \n",
       "[61] \"79\"        \"80\"        \"not_found\" \"18\"        \"26\"        \"33\"       \n",
       "[67] \"34\"        \"36\"        \"37\"        \"38\"        \"39\"        \"43\"       \n",
       "[73] \"92\"        \"93\"        \"94\"        \"95\"        \"96\"        \"97\"       \n",
       "[79] \"98\"        \"100\"       \"50\"        \"49\"        \"48\"        \"47\"       \n",
       "[85] \"46\"        \"45\"        \"44\"        \"42\"        \"41\"        \"40\"       "
      ]
     },
     "metadata": {},
     "output_type": "display_data"
    }
   ],
   "source": [
    "## change the tag num for the one sampled in 9/23 to NOT51. make note about how it was newly sampled in 2023 and has no actual tag \n",
    "#colony_data[grepl(\"51\", colony_data$NewTagNum), ]\n",
    "colony_data$NewTagNum %>% unique()\n",
    "\n",
    "## 51/not 51 is just in sample data not colony data \n",
    "# ADD to colony data? (will do manually)"
   ]
  },
  {
   "cell_type": "code",
   "execution_count": 141,
   "id": "4f678d11-eeb7-4a75-9e25-6328025cbacc",
   "metadata": {},
   "outputs": [],
   "source": [
    "# ssid 74\n",
    "# sampled as diseased in 12/22\n",
    "## CHANGE to diseased \n",
    "colony_data[colony_data$ID==\"SSID_74_SR30N\",c(\"X122022_Condition\")]<- \"Diseased\""
   ]
  },
  {
   "cell_type": "code",
   "execution_count": 142,
   "id": "667a08c0-0636-4c79-8796-cc19cc1e03e6",
   "metadata": {},
   "outputs": [
    {
     "data": {
      "text/html": [
       "<table class=\"dataframe\">\n",
       "<caption>A data.frame: 2 × 8</caption>\n",
       "<thead>\n",
       "\t<tr><th></th><th scope=col>ID</th><th scope=col>Transect</th><th scope=col>lh_Condition_Oct19</th><th scope=col>lh_Condition_May22</th><th scope=col>lh_Condition_Dec22</th><th scope=col>X062019_Condition</th><th scope=col>X052022_Condition</th><th scope=col>X122022_Condition</th></tr>\n",
       "\t<tr><th></th><th scope=col>&lt;chr&gt;</th><th scope=col>&lt;chr&gt;</th><th scope=col>&lt;chr&gt;</th><th scope=col>&lt;chr&gt;</th><th scope=col>&lt;chr&gt;</th><th scope=col>&lt;chr&gt;</th><th scope=col>&lt;chr&gt;</th><th scope=col>&lt;chr&gt;</th></tr>\n",
       "</thead>\n",
       "<tbody>\n",
       "\t<tr><th scope=row>29</th><td>PAST_19_CBC30N</td><td>CBC30N</td><td>Healthy</td><td>Diseased</td><td>Dead   </td><td>Healthy</td><td>Diseased</td><td>Diseased</td></tr>\n",
       "\t<tr><th scope=row>66</th><td>SSID_3_CBC30N </td><td>CBC30N</td><td>Healthy</td><td>Diseased</td><td>Healthy</td><td>Healthy</td><td>Diseased</td><td>Diseased</td></tr>\n",
       "</tbody>\n",
       "</table>\n"
      ],
      "text/latex": [
       "A data.frame: 2 × 8\n",
       "\\begin{tabular}{r|llllllll}\n",
       "  & ID & Transect & lh\\_Condition\\_Oct19 & lh\\_Condition\\_May22 & lh\\_Condition\\_Dec22 & X062019\\_Condition & X052022\\_Condition & X122022\\_Condition\\\\\n",
       "  & <chr> & <chr> & <chr> & <chr> & <chr> & <chr> & <chr> & <chr>\\\\\n",
       "\\hline\n",
       "\t29 & PAST\\_19\\_CBC30N & CBC30N & Healthy & Diseased & Dead    & Healthy & Diseased & Diseased\\\\\n",
       "\t66 & SSID\\_3\\_CBC30N  & CBC30N & Healthy & Diseased & Healthy & Healthy & Diseased & Diseased\\\\\n",
       "\\end{tabular}\n"
      ],
      "text/markdown": [
       "\n",
       "A data.frame: 2 × 8\n",
       "\n",
       "| <!--/--> | ID &lt;chr&gt; | Transect &lt;chr&gt; | lh_Condition_Oct19 &lt;chr&gt; | lh_Condition_May22 &lt;chr&gt; | lh_Condition_Dec22 &lt;chr&gt; | X062019_Condition &lt;chr&gt; | X052022_Condition &lt;chr&gt; | X122022_Condition &lt;chr&gt; |\n",
       "|---|---|---|---|---|---|---|---|---|\n",
       "| 29 | PAST_19_CBC30N | CBC30N | Healthy | Diseased | Dead    | Healthy | Diseased | Diseased |\n",
       "| 66 | SSID_3_CBC30N  | CBC30N | Healthy | Diseased | Healthy | Healthy | Diseased | Diseased |\n",
       "\n"
      ],
      "text/plain": [
       "   ID             Transect lh_Condition_Oct19 lh_Condition_May22\n",
       "29 PAST_19_CBC30N CBC30N   Healthy            Diseased          \n",
       "66 SSID_3_CBC30N  CBC30N   Healthy            Diseased          \n",
       "   lh_Condition_Dec22 X062019_Condition X052022_Condition X122022_Condition\n",
       "29 Dead               Healthy           Diseased          Diseased         \n",
       "66 Healthy            Healthy           Diseased          Diseased         "
      ]
     },
     "metadata": {},
     "output_type": "display_data"
    }
   ],
   "source": [
    "mismatched_conditions1222[(mismatched_conditions1222$Transect==\"CBC30N\"),]"
   ]
  },
  {
   "cell_type": "code",
   "execution_count": 148,
   "id": "2906422d-876e-4666-86af-dad4a4df42b9",
   "metadata": {},
   "outputs": [],
   "source": [
    "# past 19\n",
    "# sampled as healthy since 2019 \n",
    "# i think it does look diseased in 5/2022 https://drive.google.com/drive/u/0/folders/1ZLEumaeRQxZuQPliu6cyrt9UIuoEsaJl\n",
    "# definitely not dead - there's like 3 right next to each other so maybe that's why Leah put dead?\n",
    "## CHANGE to Healthy 12/2022 - https://drive.google.com/drive/u/0/folders/1t2QVNPuMeeFzvaX7h6GEl-oKBJG9_pFn\n",
    "## CHANGE sample type in 5/22 to diseased_tissue\n",
    "colony_data[colony_data$ID==\"PAST_19_CBC30N\",c(\"X122022_Condition\")]<- \"Healthy\"\n",
    "\n",
    "# ssid 3\n",
    "# looks healthy in 12/22 https://drive.google.com/drive/u/0/folders/1t2QVNPuMeeFzvaX7h6GEl-oKBJG9_pFn\n",
    "## CHANGE to healthy \n",
    "colony_data[colony_data$ID==\"SSID_3_CBC30N\",c(\"X122022_Condition\")]<- \"Healthy\""
   ]
  },
  {
   "cell_type": "code",
   "execution_count": 18,
   "id": "07698c9f-8bbe-4bd5-b407-bd3e2d8ad518",
   "metadata": {},
   "outputs": [],
   "source": [
    "colonies_to_check <- append(colonies_to_check, c('PAST_19_CBC30N','SSID_3_CBC30N'))"
   ]
  },
  {
   "cell_type": "code",
   "execution_count": 149,
   "id": "35918bfb-0c0b-45aa-8c6a-eddc5cae04c1",
   "metadata": {},
   "outputs": [
    {
     "data": {
      "text/html": [
       "<table class=\"dataframe\">\n",
       "<caption>A data.frame: 5 × 8</caption>\n",
       "<thead>\n",
       "\t<tr><th></th><th scope=col>ID</th><th scope=col>Transect</th><th scope=col>lh_Condition_Oct19</th><th scope=col>lh_Condition_May22</th><th scope=col>lh_Condition_Dec22</th><th scope=col>X062019_Condition</th><th scope=col>X052022_Condition</th><th scope=col>X122022_Condition</th></tr>\n",
       "\t<tr><th></th><th scope=col>&lt;chr&gt;</th><th scope=col>&lt;chr&gt;</th><th scope=col>&lt;chr&gt;</th><th scope=col>&lt;chr&gt;</th><th scope=col>&lt;chr&gt;</th><th scope=col>&lt;chr&gt;</th><th scope=col>&lt;chr&gt;</th><th scope=col>&lt;chr&gt;</th></tr>\n",
       "</thead>\n",
       "<tbody>\n",
       "\t<tr><th scope=row>27</th><td>PAST_13_Lagoon</td><td>Lagoon</td><td>Healthy</td><td>Increased Old Mortality</td><td>Increased Old Mortality</td><td>Healthy</td><td>Healthy </td><td>Healthy </td></tr>\n",
       "\t<tr><th scope=row>33</th><td>PAST_24_Lagoon</td><td>Lagoon</td><td>Healthy</td><td>Healthy                </td><td>Healthy                </td><td>Healthy</td><td>Dead    </td><td>Dead    </td></tr>\n",
       "\t<tr><th scope=row>64</th><td>SSID_26_Lagoon</td><td>Lagoon</td><td>Healthy</td><td>Diseased               </td><td>Diseased               </td><td>Healthy</td><td>Dead    </td><td>Dead    </td></tr>\n",
       "\t<tr><th scope=row>68</th><td>SSID_33_Lagoon</td><td>Lagoon</td><td>Healthy</td><td>Healthy                </td><td>Healthy                </td><td>Healthy</td><td>Healthy </td><td>Diseased</td></tr>\n",
       "\t<tr><th scope=row>69</th><td>SSID_36_Lagoon</td><td>Lagoon</td><td>Healthy</td><td>Diseased               </td><td>Healthy                </td><td>Healthy</td><td>Diseased</td><td>Diseased</td></tr>\n",
       "</tbody>\n",
       "</table>\n"
      ],
      "text/latex": [
       "A data.frame: 5 × 8\n",
       "\\begin{tabular}{r|llllllll}\n",
       "  & ID & Transect & lh\\_Condition\\_Oct19 & lh\\_Condition\\_May22 & lh\\_Condition\\_Dec22 & X062019\\_Condition & X052022\\_Condition & X122022\\_Condition\\\\\n",
       "  & <chr> & <chr> & <chr> & <chr> & <chr> & <chr> & <chr> & <chr>\\\\\n",
       "\\hline\n",
       "\t27 & PAST\\_13\\_Lagoon & Lagoon & Healthy & Increased Old Mortality & Increased Old Mortality & Healthy & Healthy  & Healthy \\\\\n",
       "\t33 & PAST\\_24\\_Lagoon & Lagoon & Healthy & Healthy                 & Healthy                 & Healthy & Dead     & Dead    \\\\\n",
       "\t64 & SSID\\_26\\_Lagoon & Lagoon & Healthy & Diseased                & Diseased                & Healthy & Dead     & Dead    \\\\\n",
       "\t68 & SSID\\_33\\_Lagoon & Lagoon & Healthy & Healthy                 & Healthy                 & Healthy & Healthy  & Diseased\\\\\n",
       "\t69 & SSID\\_36\\_Lagoon & Lagoon & Healthy & Diseased                & Healthy                 & Healthy & Diseased & Diseased\\\\\n",
       "\\end{tabular}\n"
      ],
      "text/markdown": [
       "\n",
       "A data.frame: 5 × 8\n",
       "\n",
       "| <!--/--> | ID &lt;chr&gt; | Transect &lt;chr&gt; | lh_Condition_Oct19 &lt;chr&gt; | lh_Condition_May22 &lt;chr&gt; | lh_Condition_Dec22 &lt;chr&gt; | X062019_Condition &lt;chr&gt; | X052022_Condition &lt;chr&gt; | X122022_Condition &lt;chr&gt; |\n",
       "|---|---|---|---|---|---|---|---|---|\n",
       "| 27 | PAST_13_Lagoon | Lagoon | Healthy | Increased Old Mortality | Increased Old Mortality | Healthy | Healthy  | Healthy  |\n",
       "| 33 | PAST_24_Lagoon | Lagoon | Healthy | Healthy                 | Healthy                 | Healthy | Dead     | Dead     |\n",
       "| 64 | SSID_26_Lagoon | Lagoon | Healthy | Diseased                | Diseased                | Healthy | Dead     | Dead     |\n",
       "| 68 | SSID_33_Lagoon | Lagoon | Healthy | Healthy                 | Healthy                 | Healthy | Healthy  | Diseased |\n",
       "| 69 | SSID_36_Lagoon | Lagoon | Healthy | Diseased                | Healthy                 | Healthy | Diseased | Diseased |\n",
       "\n"
      ],
      "text/plain": [
       "   ID             Transect lh_Condition_Oct19 lh_Condition_May22     \n",
       "27 PAST_13_Lagoon Lagoon   Healthy            Increased Old Mortality\n",
       "33 PAST_24_Lagoon Lagoon   Healthy            Healthy                \n",
       "64 SSID_26_Lagoon Lagoon   Healthy            Diseased               \n",
       "68 SSID_33_Lagoon Lagoon   Healthy            Healthy                \n",
       "69 SSID_36_Lagoon Lagoon   Healthy            Diseased               \n",
       "   lh_Condition_Dec22      X062019_Condition X052022_Condition\n",
       "27 Increased Old Mortality Healthy           Healthy          \n",
       "33 Healthy                 Healthy           Dead             \n",
       "64 Diseased                Healthy           Dead             \n",
       "68 Healthy                 Healthy           Healthy          \n",
       "69 Healthy                 Healthy           Diseased         \n",
       "   X122022_Condition\n",
       "27 Healthy          \n",
       "33 Dead             \n",
       "64 Dead             \n",
       "68 Diseased         \n",
       "69 Diseased         "
      ]
     },
     "metadata": {},
     "output_type": "display_data"
    }
   ],
   "source": [
    "mismatched_conditions1222[(mismatched_conditions1222$Transect==\"Lagoon\"),]"
   ]
  },
  {
   "cell_type": "code",
   "execution_count": 150,
   "id": "57169252-6ad4-46b9-a5e1-6215e0d157f5",
   "metadata": {},
   "outputs": [],
   "source": [
    "# past 13\n",
    "## LEAVE as healthy (disregard inc old mort)\n",
    "\n",
    "# past 24 - see above for 5/22 issues\n",
    "# 5/22 notes say missed sample and 12/22 sampled as healthy: think we labelled as dead and then never returned again\n",
    "# (old tag 314) https://drive.google.com/drive/u/0/folders/1LeYcwxCL0uu-b3GyRJiC6dyUuUP3hDC7\n",
    "# 5/22 https://drive.google.com/drive/u/0/folders/1neqfKWg7dLPKk1f4FS6QuN_CXcLy9eOe\n",
    "## CHANGE to healthy in 5/22 and 12/22 and then...?\n",
    "## RESOLUTION ABOVE - fixed\n",
    "\n",
    "# ssid 26 - see above for 5/22 issues\n",
    "# sampled as diseased in 12/22, no sample in 5/22 \n",
    "# looks alive but diseased in all 2022, never sampled after (guessing it was presumed dead?)\n",
    "## CHANGE to diseased in 12/22? https://drive.google.com/drive/u/0/folders/1WPO_drh8oriwWwarB7gQ4g5aGgrd7Qyu\n",
    "colony_data[colony_data$ID==\"SSID_26_Lagoon\",c(\"X122022_Condition\")]<- \"Diseased\"\n",
    "colony_data[colony_data$ID==\"SSID_26_Lagoon\",filter_condition_columns] <- \"Not_visited\"\n",
    "\n",
    "# ssid 33 \n",
    "# looks healthy 12/22, always sampled as healthy https://drive.google.com/drive/u/0/folders/1WPO_drh8oriwWwarB7gQ4g5aGgrd7Qyu\n",
    "## CHANGE to Healthy \n",
    "colony_data[colony_data$ID==\"SSID_33_Lagoon\",c(\"X122022_Condition\")]<- \"Healthy\"\n",
    "\n",
    "# ssid 36 \n",
    "# sampled as diseased 5/22, healthy as 12/22 \n",
    "# looks healthy 12/22 https://drive.google.com/drive/u/0/folders/1WPO_drh8oriwWwarB7gQ4g5aGgrd7Qyu\n",
    "## CHANGE to healthy 12/22\n",
    "colony_data[colony_data$ID==\"SSID_36_Lagoon\",c(\"X122022_Condition\")]<- \"Healthy\""
   ]
  },
  {
   "cell_type": "code",
   "execution_count": 19,
   "id": "d5a87fd1-5b5c-48cf-9916-e4263917af57",
   "metadata": {
    "scrolled": true
   },
   "outputs": [
    {
     "data": {
      "text/html": [
       "<ol>\n",
       "\t<li>'MCAV_61_SR30N'</li>\n",
       "\t<li>'PAST_56_SR30N'</li>\n",
       "\t<li>'PAST_68_SR30N'</li>\n",
       "\t<li>'PSTR_62_SR30N'</li>\n",
       "\t<li>'MCAV_7_CBC30N'</li>\n",
       "\t<li>'SSID_10_CBC30N'</li>\n",
       "\t<li>'PAST_13_Lagoon'</li>\n",
       "\t<li>'PAST_24_Lagoon'</li>\n",
       "\t<li>'PSTR_4_Lagoon'</li>\n",
       "\t<li>'SSID_26_Lagoon'</li>\n",
       "\t<li>'MCAV_59_SR30N'</li>\n",
       "\t<li>'SSID_51_SR30N'</li>\n",
       "\t<li>'SSID_74_SR30N'</li>\n",
       "\t<li>'PAST_19_CBC30N'</li>\n",
       "\t<li>'SSID_3_CBC30N'</li>\n",
       "\t<li>'PAST_13_Lagoon'</li>\n",
       "\t<li>'PAST_24_Lagoon'</li>\n",
       "\t<li>'SSID_26_Lagoon'</li>\n",
       "\t<li>'SSID_33_Lagoon'</li>\n",
       "\t<li>'SSID_36_Lagoon'</li>\n",
       "</ol>\n"
      ],
      "text/latex": [
       "\\begin{enumerate}\n",
       "\\item 'MCAV\\_61\\_SR30N'\n",
       "\\item 'PAST\\_56\\_SR30N'\n",
       "\\item 'PAST\\_68\\_SR30N'\n",
       "\\item 'PSTR\\_62\\_SR30N'\n",
       "\\item 'MCAV\\_7\\_CBC30N'\n",
       "\\item 'SSID\\_10\\_CBC30N'\n",
       "\\item 'PAST\\_13\\_Lagoon'\n",
       "\\item 'PAST\\_24\\_Lagoon'\n",
       "\\item 'PSTR\\_4\\_Lagoon'\n",
       "\\item 'SSID\\_26\\_Lagoon'\n",
       "\\item 'MCAV\\_59\\_SR30N'\n",
       "\\item 'SSID\\_51\\_SR30N'\n",
       "\\item 'SSID\\_74\\_SR30N'\n",
       "\\item 'PAST\\_19\\_CBC30N'\n",
       "\\item 'SSID\\_3\\_CBC30N'\n",
       "\\item 'PAST\\_13\\_Lagoon'\n",
       "\\item 'PAST\\_24\\_Lagoon'\n",
       "\\item 'SSID\\_26\\_Lagoon'\n",
       "\\item 'SSID\\_33\\_Lagoon'\n",
       "\\item 'SSID\\_36\\_Lagoon'\n",
       "\\end{enumerate}\n"
      ],
      "text/markdown": [
       "1. 'MCAV_61_SR30N'\n",
       "2. 'PAST_56_SR30N'\n",
       "3. 'PAST_68_SR30N'\n",
       "4. 'PSTR_62_SR30N'\n",
       "5. 'MCAV_7_CBC30N'\n",
       "6. 'SSID_10_CBC30N'\n",
       "7. 'PAST_13_Lagoon'\n",
       "8. 'PAST_24_Lagoon'\n",
       "9. 'PSTR_4_Lagoon'\n",
       "10. 'SSID_26_Lagoon'\n",
       "11. 'MCAV_59_SR30N'\n",
       "12. 'SSID_51_SR30N'\n",
       "13. 'SSID_74_SR30N'\n",
       "14. 'PAST_19_CBC30N'\n",
       "15. 'SSID_3_CBC30N'\n",
       "16. 'PAST_13_Lagoon'\n",
       "17. 'PAST_24_Lagoon'\n",
       "18. 'SSID_26_Lagoon'\n",
       "19. 'SSID_33_Lagoon'\n",
       "20. 'SSID_36_Lagoon'\n",
       "\n",
       "\n"
      ],
      "text/plain": [
       "[[1]]\n",
       "[1] \"MCAV_61_SR30N\"\n",
       "\n",
       "[[2]]\n",
       "[1] \"PAST_56_SR30N\"\n",
       "\n",
       "[[3]]\n",
       "[1] \"PAST_68_SR30N\"\n",
       "\n",
       "[[4]]\n",
       "[1] \"PSTR_62_SR30N\"\n",
       "\n",
       "[[5]]\n",
       "[1] \"MCAV_7_CBC30N\"\n",
       "\n",
       "[[6]]\n",
       "[1] \"SSID_10_CBC30N\"\n",
       "\n",
       "[[7]]\n",
       "[1] \"PAST_13_Lagoon\"\n",
       "\n",
       "[[8]]\n",
       "[1] \"PAST_24_Lagoon\"\n",
       "\n",
       "[[9]]\n",
       "[1] \"PSTR_4_Lagoon\"\n",
       "\n",
       "[[10]]\n",
       "[1] \"SSID_26_Lagoon\"\n",
       "\n",
       "[[11]]\n",
       "[1] \"MCAV_59_SR30N\"\n",
       "\n",
       "[[12]]\n",
       "[1] \"SSID_51_SR30N\"\n",
       "\n",
       "[[13]]\n",
       "[1] \"SSID_74_SR30N\"\n",
       "\n",
       "[[14]]\n",
       "[1] \"PAST_19_CBC30N\"\n",
       "\n",
       "[[15]]\n",
       "[1] \"SSID_3_CBC30N\"\n",
       "\n",
       "[[16]]\n",
       "[1] \"PAST_13_Lagoon\"\n",
       "\n",
       "[[17]]\n",
       "[1] \"PAST_24_Lagoon\"\n",
       "\n",
       "[[18]]\n",
       "[1] \"SSID_26_Lagoon\"\n",
       "\n",
       "[[19]]\n",
       "[1] \"SSID_33_Lagoon\"\n",
       "\n",
       "[[20]]\n",
       "[1] \"SSID_36_Lagoon\"\n"
      ]
     },
     "metadata": {},
     "output_type": "display_data"
    }
   ],
   "source": [
    "colonies_to_check <- append(colonies_to_check, c('PAST_13_Lagoon','PAST_24_Lagoon','SSID_26_Lagoon','SSID_33_Lagoon','SSID_36_Lagoon'))\n",
    "colonies_to_check"
   ]
  },
  {
   "cell_type": "code",
   "execution_count": 154,
   "id": "b4884038-394e-4d33-822d-951d7c081ef5",
   "metadata": {},
   "outputs": [
    {
     "data": {
      "text/html": [
       "<table class=\"dataframe\">\n",
       "<caption>A data.frame: 17 × 11</caption>\n",
       "<thead>\n",
       "\t<tr><th></th><th scope=col>ID</th><th scope=col>X062019_Condition</th><th scope=col>X052022_Condition</th><th scope=col>X122022_Condition</th><th scope=col>X052023_Condition</th><th scope=col>X092023_Condition</th><th scope=col>X112023_Condition</th><th scope=col>X122023_Condition</th><th scope=col>X012024_Condition</th><th scope=col>X022024_Condition</th><th scope=col>X042024_Condition</th></tr>\n",
       "\t<tr><th></th><th scope=col>&lt;chr&gt;</th><th scope=col>&lt;chr&gt;</th><th scope=col>&lt;chr&gt;</th><th scope=col>&lt;chr&gt;</th><th scope=col>&lt;chr&gt;</th><th scope=col>&lt;chr&gt;</th><th scope=col>&lt;chr&gt;</th><th scope=col>&lt;chr&gt;</th><th scope=col>&lt;chr&gt;</th><th scope=col>&lt;chr&gt;</th><th scope=col>&lt;chr&gt;</th></tr>\n",
       "</thead>\n",
       "<tbody>\n",
       "\t<tr><th scope=row>3</th><td>SSID_3_CBC30N </td><td>Healthy</td><td>Diseased</td><td>Healthy </td><td>Diseased   </td><td>CLP,CLD    </td><td>CLP,CLB    </td><td>CLP        </td><td>CLP        </td><td>CLB        </td><td>           </td></tr>\n",
       "\t<tr><th scope=row>7</th><td>MCAV_7_CBC30N </td><td>Healthy</td><td>Healthy </td><td>Healthy </td><td>Healthy    </td><td>Healthy    </td><td>Healthy    </td><td>Healthy    </td><td>Healthy    </td><td>Healthy    </td><td>           </td></tr>\n",
       "\t<tr><th scope=row>10</th><td>SSID_10_CBC30N</td><td>Healthy</td><td>Diseased</td><td>Diseased</td><td>Diseased   </td><td>Dead       </td><td>Dead       </td><td>Dead       </td><td>Dead       </td><td>Dead       </td><td>           </td></tr>\n",
       "\t<tr><th scope=row>19</th><td>PAST_19_CBC30N</td><td>Healthy</td><td>Diseased</td><td>Healthy </td><td>Diseased   </td><td>Diseased   </td><td>Diseased   </td><td>Diseased   </td><td>Diseased   </td><td>Diseased   </td><td>           </td></tr>\n",
       "\t<tr><th scope=row>42</th><td>SSID_51_SR30N </td><td>Healthy</td><td>Diseased</td><td>Dead    </td><td>Dead       </td><td>Dead       </td><td>Dead       </td><td>Dead       </td><td>Dead       </td><td>Dead       </td><td>Dead       </td></tr>\n",
       "\t<tr><th scope=row>47</th><td>PAST_56_SR30N </td><td>Healthy</td><td>Diseased</td><td>Healthy </td><td>Healthy    </td><td>Healthy    </td><td>Healthy    </td><td>Healthy    </td><td>Healthy    </td><td>Healthy    </td><td>Dead       </td></tr>\n",
       "\t<tr><th scope=row>50</th><td>MCAV_59_SR30N </td><td>Healthy</td><td>Diseased</td><td>Healthy </td><td>Healthy    </td><td>CLP        </td><td>CLP        </td><td>CLP        </td><td>Healthy    </td><td>Healthy    </td><td>           </td></tr>\n",
       "\t<tr><th scope=row>52</th><td>MCAV_61_SR30N </td><td>Healthy</td><td>Healthy </td><td>Dead    </td><td>Dead       </td><td>Dead       </td><td>Dead       </td><td>Dead       </td><td>Dead       </td><td>Dead       </td><td>           </td></tr>\n",
       "\t<tr><th scope=row>53</th><td>PSTR_62_SR30N </td><td>Healthy</td><td>Healthy </td><td>Dead    </td><td>Dead       </td><td>Dead       </td><td>Dead       </td><td>Dead       </td><td>Dead       </td><td>Dead       </td><td>           </td></tr>\n",
       "\t<tr><th scope=row>59</th><td>PAST_68_SR30N </td><td>Healthy</td><td>Healthy </td><td>Healthy </td><td>Healthy    </td><td>Healthy    </td><td>Healthy    </td><td>Healthy    </td><td>Healthy    </td><td>Healthy    </td><td>           </td></tr>\n",
       "\t<tr><th scope=row>65</th><td>SSID_74_SR30N </td><td>Healthy</td><td>Healthy </td><td>Diseased</td><td>Healthy    </td><td>Healthy    </td><td>Healthy    </td><td>Healthy    </td><td>Healthy    </td><td>Healthy    </td><td>           </td></tr>\n",
       "\t<tr><th scope=row>86</th><td>PSTR_4_Lagoon </td><td>Healthy</td><td>Healthy </td><td>Healthy </td><td>Healthy    </td><td>Healthy    </td><td>Healthy    </td><td>Healthy    </td><td>Healthy    </td><td>Healthy    </td><td>           </td></tr>\n",
       "\t<tr><th scope=row>95</th><td>PAST_13_Lagoon</td><td>Healthy</td><td>Healthy </td><td>Healthy </td><td>Healthy    </td><td>Healthy    </td><td>Healthy    </td><td>Healthy    </td><td>Healthy    </td><td>Healthy    </td><td>           </td></tr>\n",
       "\t<tr><th scope=row>106</th><td>PAST_24_Lagoon</td><td>Healthy</td><td>Healthy </td><td>Healthy </td><td>Not_visited</td><td>Not_visited</td><td>Not_visited</td><td>Not_visited</td><td>Not_visited</td><td>Not_visited</td><td>Not_visited</td></tr>\n",
       "\t<tr><th scope=row>107</th><td>SSID_26_Lagoon</td><td>Healthy</td><td>Diseased</td><td>Diseased</td><td>Not_visited</td><td>Not_visited</td><td>Not_visited</td><td>Not_visited</td><td>Not_visited</td><td>Not_visited</td><td>Not_visited</td></tr>\n",
       "\t<tr><th scope=row>114</th><td>SSID_33_Lagoon</td><td>Healthy</td><td>Healthy </td><td>Healthy </td><td>Diseased   </td><td>CLP,CLD    </td><td>CLP,CLB    </td><td>Healthy    </td><td>CLP,CLB    </td><td>Healthy    </td><td>           </td></tr>\n",
       "\t<tr><th scope=row>117</th><td>SSID_36_Lagoon</td><td>Healthy</td><td>Diseased</td><td>Healthy </td><td>Diseased   </td><td>Diseased   </td><td>Diseased   </td><td>Diseased   </td><td>Diseased   </td><td>Diseased   </td><td>           </td></tr>\n",
       "</tbody>\n",
       "</table>\n"
      ],
      "text/latex": [
       "A data.frame: 17 × 11\n",
       "\\begin{tabular}{r|lllllllllll}\n",
       "  & ID & X062019\\_Condition & X052022\\_Condition & X122022\\_Condition & X052023\\_Condition & X092023\\_Condition & X112023\\_Condition & X122023\\_Condition & X012024\\_Condition & X022024\\_Condition & X042024\\_Condition\\\\\n",
       "  & <chr> & <chr> & <chr> & <chr> & <chr> & <chr> & <chr> & <chr> & <chr> & <chr> & <chr>\\\\\n",
       "\\hline\n",
       "\t3 & SSID\\_3\\_CBC30N  & Healthy & Diseased & Healthy  & Diseased    & CLP,CLD     & CLP,CLB     & CLP         & CLP         & CLB         &            \\\\\n",
       "\t7 & MCAV\\_7\\_CBC30N  & Healthy & Healthy  & Healthy  & Healthy     & Healthy     & Healthy     & Healthy     & Healthy     & Healthy     &            \\\\\n",
       "\t10 & SSID\\_10\\_CBC30N & Healthy & Diseased & Diseased & Diseased    & Dead        & Dead        & Dead        & Dead        & Dead        &            \\\\\n",
       "\t19 & PAST\\_19\\_CBC30N & Healthy & Diseased & Healthy  & Diseased    & Diseased    & Diseased    & Diseased    & Diseased    & Diseased    &            \\\\\n",
       "\t42 & SSID\\_51\\_SR30N  & Healthy & Diseased & Dead     & Dead        & Dead        & Dead        & Dead        & Dead        & Dead        & Dead       \\\\\n",
       "\t47 & PAST\\_56\\_SR30N  & Healthy & Diseased & Healthy  & Healthy     & Healthy     & Healthy     & Healthy     & Healthy     & Healthy     & Dead       \\\\\n",
       "\t50 & MCAV\\_59\\_SR30N  & Healthy & Diseased & Healthy  & Healthy     & CLP         & CLP         & CLP         & Healthy     & Healthy     &            \\\\\n",
       "\t52 & MCAV\\_61\\_SR30N  & Healthy & Healthy  & Dead     & Dead        & Dead        & Dead        & Dead        & Dead        & Dead        &            \\\\\n",
       "\t53 & PSTR\\_62\\_SR30N  & Healthy & Healthy  & Dead     & Dead        & Dead        & Dead        & Dead        & Dead        & Dead        &            \\\\\n",
       "\t59 & PAST\\_68\\_SR30N  & Healthy & Healthy  & Healthy  & Healthy     & Healthy     & Healthy     & Healthy     & Healthy     & Healthy     &            \\\\\n",
       "\t65 & SSID\\_74\\_SR30N  & Healthy & Healthy  & Diseased & Healthy     & Healthy     & Healthy     & Healthy     & Healthy     & Healthy     &            \\\\\n",
       "\t86 & PSTR\\_4\\_Lagoon  & Healthy & Healthy  & Healthy  & Healthy     & Healthy     & Healthy     & Healthy     & Healthy     & Healthy     &            \\\\\n",
       "\t95 & PAST\\_13\\_Lagoon & Healthy & Healthy  & Healthy  & Healthy     & Healthy     & Healthy     & Healthy     & Healthy     & Healthy     &            \\\\\n",
       "\t106 & PAST\\_24\\_Lagoon & Healthy & Healthy  & Healthy  & Not\\_visited & Not\\_visited & Not\\_visited & Not\\_visited & Not\\_visited & Not\\_visited & Not\\_visited\\\\\n",
       "\t107 & SSID\\_26\\_Lagoon & Healthy & Diseased & Diseased & Not\\_visited & Not\\_visited & Not\\_visited & Not\\_visited & Not\\_visited & Not\\_visited & Not\\_visited\\\\\n",
       "\t114 & SSID\\_33\\_Lagoon & Healthy & Healthy  & Healthy  & Diseased    & CLP,CLD     & CLP,CLB     & Healthy     & CLP,CLB     & Healthy     &            \\\\\n",
       "\t117 & SSID\\_36\\_Lagoon & Healthy & Diseased & Healthy  & Diseased    & Diseased    & Diseased    & Diseased    & Diseased    & Diseased    &            \\\\\n",
       "\\end{tabular}\n"
      ],
      "text/markdown": [
       "\n",
       "A data.frame: 17 × 11\n",
       "\n",
       "| <!--/--> | ID &lt;chr&gt; | X062019_Condition &lt;chr&gt; | X052022_Condition &lt;chr&gt; | X122022_Condition &lt;chr&gt; | X052023_Condition &lt;chr&gt; | X092023_Condition &lt;chr&gt; | X112023_Condition &lt;chr&gt; | X122023_Condition &lt;chr&gt; | X012024_Condition &lt;chr&gt; | X022024_Condition &lt;chr&gt; | X042024_Condition &lt;chr&gt; |\n",
       "|---|---|---|---|---|---|---|---|---|---|---|---|\n",
       "| 3 | SSID_3_CBC30N  | Healthy | Diseased | Healthy  | Diseased    | CLP,CLD     | CLP,CLB     | CLP         | CLP         | CLB         | <!----> |\n",
       "| 7 | MCAV_7_CBC30N  | Healthy | Healthy  | Healthy  | Healthy     | Healthy     | Healthy     | Healthy     | Healthy     | Healthy     | <!----> |\n",
       "| 10 | SSID_10_CBC30N | Healthy | Diseased | Diseased | Diseased    | Dead        | Dead        | Dead        | Dead        | Dead        | <!----> |\n",
       "| 19 | PAST_19_CBC30N | Healthy | Diseased | Healthy  | Diseased    | Diseased    | Diseased    | Diseased    | Diseased    | Diseased    | <!----> |\n",
       "| 42 | SSID_51_SR30N  | Healthy | Diseased | Dead     | Dead        | Dead        | Dead        | Dead        | Dead        | Dead        | Dead        |\n",
       "| 47 | PAST_56_SR30N  | Healthy | Diseased | Healthy  | Healthy     | Healthy     | Healthy     | Healthy     | Healthy     | Healthy     | Dead        |\n",
       "| 50 | MCAV_59_SR30N  | Healthy | Diseased | Healthy  | Healthy     | CLP         | CLP         | CLP         | Healthy     | Healthy     | <!----> |\n",
       "| 52 | MCAV_61_SR30N  | Healthy | Healthy  | Dead     | Dead        | Dead        | Dead        | Dead        | Dead        | Dead        | <!----> |\n",
       "| 53 | PSTR_62_SR30N  | Healthy | Healthy  | Dead     | Dead        | Dead        | Dead        | Dead        | Dead        | Dead        | <!----> |\n",
       "| 59 | PAST_68_SR30N  | Healthy | Healthy  | Healthy  | Healthy     | Healthy     | Healthy     | Healthy     | Healthy     | Healthy     | <!----> |\n",
       "| 65 | SSID_74_SR30N  | Healthy | Healthy  | Diseased | Healthy     | Healthy     | Healthy     | Healthy     | Healthy     | Healthy     | <!----> |\n",
       "| 86 | PSTR_4_Lagoon  | Healthy | Healthy  | Healthy  | Healthy     | Healthy     | Healthy     | Healthy     | Healthy     | Healthy     | <!----> |\n",
       "| 95 | PAST_13_Lagoon | Healthy | Healthy  | Healthy  | Healthy     | Healthy     | Healthy     | Healthy     | Healthy     | Healthy     | <!----> |\n",
       "| 106 | PAST_24_Lagoon | Healthy | Healthy  | Healthy  | Not_visited | Not_visited | Not_visited | Not_visited | Not_visited | Not_visited | Not_visited |\n",
       "| 107 | SSID_26_Lagoon | Healthy | Diseased | Diseased | Not_visited | Not_visited | Not_visited | Not_visited | Not_visited | Not_visited | Not_visited |\n",
       "| 114 | SSID_33_Lagoon | Healthy | Healthy  | Healthy  | Diseased    | CLP,CLD     | CLP,CLB     | Healthy     | CLP,CLB     | Healthy     | <!----> |\n",
       "| 117 | SSID_36_Lagoon | Healthy | Diseased | Healthy  | Diseased    | Diseased    | Diseased    | Diseased    | Diseased    | Diseased    | <!----> |\n",
       "\n"
      ],
      "text/plain": [
       "    ID             X062019_Condition X052022_Condition X122022_Condition\n",
       "3   SSID_3_CBC30N  Healthy           Diseased          Healthy          \n",
       "7   MCAV_7_CBC30N  Healthy           Healthy           Healthy          \n",
       "10  SSID_10_CBC30N Healthy           Diseased          Diseased         \n",
       "19  PAST_19_CBC30N Healthy           Diseased          Healthy          \n",
       "42  SSID_51_SR30N  Healthy           Diseased          Dead             \n",
       "47  PAST_56_SR30N  Healthy           Diseased          Healthy          \n",
       "50  MCAV_59_SR30N  Healthy           Diseased          Healthy          \n",
       "52  MCAV_61_SR30N  Healthy           Healthy           Dead             \n",
       "53  PSTR_62_SR30N  Healthy           Healthy           Dead             \n",
       "59  PAST_68_SR30N  Healthy           Healthy           Healthy          \n",
       "65  SSID_74_SR30N  Healthy           Healthy           Diseased         \n",
       "86  PSTR_4_Lagoon  Healthy           Healthy           Healthy          \n",
       "95  PAST_13_Lagoon Healthy           Healthy           Healthy          \n",
       "106 PAST_24_Lagoon Healthy           Healthy           Healthy          \n",
       "107 SSID_26_Lagoon Healthy           Diseased          Diseased         \n",
       "114 SSID_33_Lagoon Healthy           Healthy           Healthy          \n",
       "117 SSID_36_Lagoon Healthy           Diseased          Healthy          \n",
       "    X052023_Condition X092023_Condition X112023_Condition X122023_Condition\n",
       "3   Diseased          CLP,CLD           CLP,CLB           CLP              \n",
       "7   Healthy           Healthy           Healthy           Healthy          \n",
       "10  Diseased          Dead              Dead              Dead             \n",
       "19  Diseased          Diseased          Diseased          Diseased         \n",
       "42  Dead              Dead              Dead              Dead             \n",
       "47  Healthy           Healthy           Healthy           Healthy          \n",
       "50  Healthy           CLP               CLP               CLP              \n",
       "52  Dead              Dead              Dead              Dead             \n",
       "53  Dead              Dead              Dead              Dead             \n",
       "59  Healthy           Healthy           Healthy           Healthy          \n",
       "65  Healthy           Healthy           Healthy           Healthy          \n",
       "86  Healthy           Healthy           Healthy           Healthy          \n",
       "95  Healthy           Healthy           Healthy           Healthy          \n",
       "106 Not_visited       Not_visited       Not_visited       Not_visited      \n",
       "107 Not_visited       Not_visited       Not_visited       Not_visited      \n",
       "114 Diseased          CLP,CLD           CLP,CLB           Healthy          \n",
       "117 Diseased          Diseased          Diseased          Diseased         \n",
       "    X012024_Condition X022024_Condition X042024_Condition\n",
       "3   CLP               CLB                                \n",
       "7   Healthy           Healthy                            \n",
       "10  Dead              Dead                               \n",
       "19  Diseased          Diseased                           \n",
       "42  Dead              Dead              Dead             \n",
       "47  Healthy           Healthy           Dead             \n",
       "50  Healthy           Healthy                            \n",
       "52  Dead              Dead                               \n",
       "53  Dead              Dead                               \n",
       "59  Healthy           Healthy                            \n",
       "65  Healthy           Healthy                            \n",
       "86  Healthy           Healthy                            \n",
       "95  Healthy           Healthy                            \n",
       "106 Not_visited       Not_visited       Not_visited      \n",
       "107 Not_visited       Not_visited       Not_visited      \n",
       "114 CLP,CLB           Healthy                            \n",
       "117 Diseased          Diseased                           "
      ]
     },
     "metadata": {},
     "output_type": "display_data"
    }
   ],
   "source": [
    "# double check all conditions for all colonies \n",
    "colony_data[colony_data$ID %in% colonies_to_check,c(\"ID\",condition_columns)]"
   ]
  },
  {
   "cell_type": "code",
   "execution_count": 248,
   "id": "41cc8476-afb1-477a-8d83-34faa97beffa",
   "metadata": {},
   "outputs": [
    {
     "data": {
      "text/html": [
       "<style>\n",
       ".list-inline {list-style: none; margin:0; padding: 0}\n",
       ".list-inline>li {display: inline-block}\n",
       ".list-inline>li:not(:last-child)::after {content: \"\\00b7\"; padding: 0 .5ex}\n",
       "</style>\n",
       "<ol class=list-inline><li>'X052023_Condition'</li><li>'X092023_Condition'</li><li>'X112023_Condition'</li><li>'X122023_Condition'</li><li>'X012024_Condition'</li><li>'X022024_Condition'</li><li>'X042024_Condition'</li></ol>\n"
      ],
      "text/latex": [
       "\\begin{enumerate*}\n",
       "\\item 'X052023\\_Condition'\n",
       "\\item 'X092023\\_Condition'\n",
       "\\item 'X112023\\_Condition'\n",
       "\\item 'X122023\\_Condition'\n",
       "\\item 'X012024\\_Condition'\n",
       "\\item 'X022024\\_Condition'\n",
       "\\item 'X042024\\_Condition'\n",
       "\\end{enumerate*}\n"
      ],
      "text/markdown": [
       "1. 'X052023_Condition'\n",
       "2. 'X092023_Condition'\n",
       "3. 'X112023_Condition'\n",
       "4. 'X122023_Condition'\n",
       "5. 'X012024_Condition'\n",
       "6. 'X022024_Condition'\n",
       "7. 'X042024_Condition'\n",
       "\n",
       "\n"
      ],
      "text/plain": [
       "[1] \"X052023_Condition\" \"X092023_Condition\" \"X112023_Condition\"\n",
       "[4] \"X122023_Condition\" \"X012024_Condition\" \"X022024_Condition\"\n",
       "[7] \"X042024_Condition\""
      ]
     },
     "metadata": {},
     "output_type": "display_data"
    }
   ],
   "source": [
    "filter_condition_columns"
   ]
  },
  {
   "cell_type": "code",
   "execution_count": 157,
   "id": "8c8f639d-7c5c-4271-b1be-090be6d79620",
   "metadata": {},
   "outputs": [],
   "source": [
    "colony_data[colony_data$ID==\"SSID_3_CBC30N\",c(\"X122023_Condition\",\"X012024_Condition\",\"X022024_Condition\")] <- \"Healthy\""
   ]
  },
  {
   "cell_type": "code",
   "execution_count": 158,
   "id": "da3c759b-8265-413b-8d74-98723a10b7f5",
   "metadata": {},
   "outputs": [],
   "source": [
    "# healthy in 9/23, not visited 11/23 or 12/23, healthy 01/24 and onward \n",
    "colony_data[colony_data$ID==\"PAST_19_CBC30N\",c(\"X052023_Condition\",\"X092023_Condition\",\"X012024_Condition\",\"X022024_Condition\")]<- \"Healthy\"\n",
    "colony_data[colony_data$ID==\"PAST_19_CBC30N\",c('X112023_Condition','X122023_Condition')]<- \"Not_visited\""
   ]
  },
  {
   "cell_type": "code",
   "execution_count": 159,
   "id": "8464e963-a6ca-4dc2-8d4a-2a896ae0ece9",
   "metadata": {},
   "outputs": [],
   "source": [
    "# disease 9/23, not visited 11/23, 12/23, 1/24, or 2/24\n",
    "colony_data[colony_data$ID==\"SSID_74_SR30N\",c(\"X092023_Condition\")] <- \"Diseased\"\n",
    "colony_data[colony_data$ID==\"SSID_74_SR30N\",c('X112023_Condition','X122023_Condition',\"X012024_Condition\",\"X022024_Condition\")]<- \"Not_visited\""
   ]
  },
  {
   "cell_type": "code",
   "execution_count": 160,
   "id": "05cd444a-7827-43d9-ad09-cad5d7c5d23b",
   "metadata": {},
   "outputs": [],
   "source": [
    "# 9/23 sample notes are dc 10% which I agree with from pic, not visited 11/23 or 12/23, healthy 01/2024\n",
    "colony_data[colony_data$ID==\"SSID_36_Lagoon\",c(\"X092023_Condition\")] <- \"CLD\"\n",
    "colony_data[colony_data$ID==\"SSID_36_Lagoon\",c(\"X092023_Percentage\")] <- \"10%\"\n",
    "colony_data[colony_data$ID==\"SSID_36_Lagoon\",c(\"X112023_Condition\",'X122023_Condition')] <- \"Not_visited\"\n",
    "colony_data[colony_data$ID==\"SSID_36_Lagoon\",c(\"X012024_Condition\")] <- \"Healthy\""
   ]
  },
  {
   "cell_type": "code",
   "execution_count": 162,
   "id": "3cba2242-9806-4b23-80f4-4a6d4efc41f2",
   "metadata": {},
   "outputs": [
    {
     "data": {
      "text/html": [
       "'/Users/brookesienkiewicz/Documents/sctld/SCTLD_samples/Sample_Data'"
      ],
      "text/latex": [
       "'/Users/brookesienkiewicz/Documents/sctld/SCTLD\\_samples/Sample\\_Data'"
      ],
      "text/markdown": [
       "'/Users/brookesienkiewicz/Documents/sctld/SCTLD_samples/Sample_Data'"
      ],
      "text/plain": [
       "[1] \"/Users/brookesienkiewicz/Documents/sctld/SCTLD_samples/Sample_Data\""
      ]
     },
     "metadata": {},
     "output_type": "display_data"
    }
   ],
   "source": [
    "getwd()"
   ]
  },
  {
   "cell_type": "code",
   "execution_count": 164,
   "id": "d1d17163-0aba-44a0-8c0b-8628b59478fb",
   "metadata": {},
   "outputs": [
    {
     "data": {
      "text/html": [
       "<style>\n",
       ".list-inline {list-style: none; margin:0; padding: 0}\n",
       ".list-inline>li {display: inline-block}\n",
       ".list-inline>li:not(:last-child)::after {content: \"\\00b7\"; padding: 0 .5ex}\n",
       "</style>\n",
       "<ol class=list-inline><li>'Date_InitialTag'</li><li>'Transect'</li><li>'TransectNum'</li><li>'OldTagNum'</li><li>'NewTagNum'</li><li>'Species'</li><li>'Meter'</li><li>'Meters_90'</li><li>'Direction'</li><li>'Size_Class'</li><li>'Notes_June_2019'</li><li>'MaxDiameter'</li><li>'Height'</li><li>'Date_DocumentedDisease'</li><li>'Date_DocumentedMortality'</li><li>'Notes_May2022'</li><li>'Sept_2023'</li><li>'Nov_2023'</li><li>'Dec_2023'</li><li>'Jan_2024'</li><li>'Feb_2024'</li><li>'April_2024'</li><li>'X062019_Condition'</li><li>'X062019_Percentage'</li><li>'X052022_Condition'</li><li>'X122022_Condition'</li><li>'X052023_Condition'</li><li>'X092023_Condition'</li><li>'X092023_Percentage'</li><li>'X112023_Condition'</li><li>'X112023_Percentage'</li><li>'X122023_Condition'</li><li>'X122023_Percentage'</li><li>'X012024_Condition'</li><li>'X012024_Percentage'</li><li>'X022024_Condition'</li><li>'X022024_Percentage'</li><li>'X042024_Condition'</li><li>'X042024_Percentage'</li><li>'COLONIES_TO_LOOK_AT'</li></ol>\n"
      ],
      "text/latex": [
       "\\begin{enumerate*}\n",
       "\\item 'Date\\_InitialTag'\n",
       "\\item 'Transect'\n",
       "\\item 'TransectNum'\n",
       "\\item 'OldTagNum'\n",
       "\\item 'NewTagNum'\n",
       "\\item 'Species'\n",
       "\\item 'Meter'\n",
       "\\item 'Meters\\_90'\n",
       "\\item 'Direction'\n",
       "\\item 'Size\\_Class'\n",
       "\\item 'Notes\\_June\\_2019'\n",
       "\\item 'MaxDiameter'\n",
       "\\item 'Height'\n",
       "\\item 'Date\\_DocumentedDisease'\n",
       "\\item 'Date\\_DocumentedMortality'\n",
       "\\item 'Notes\\_May2022'\n",
       "\\item 'Sept\\_2023'\n",
       "\\item 'Nov\\_2023'\n",
       "\\item 'Dec\\_2023'\n",
       "\\item 'Jan\\_2024'\n",
       "\\item 'Feb\\_2024'\n",
       "\\item 'April\\_2024'\n",
       "\\item 'X062019\\_Condition'\n",
       "\\item 'X062019\\_Percentage'\n",
       "\\item 'X052022\\_Condition'\n",
       "\\item 'X122022\\_Condition'\n",
       "\\item 'X052023\\_Condition'\n",
       "\\item 'X092023\\_Condition'\n",
       "\\item 'X092023\\_Percentage'\n",
       "\\item 'X112023\\_Condition'\n",
       "\\item 'X112023\\_Percentage'\n",
       "\\item 'X122023\\_Condition'\n",
       "\\item 'X122023\\_Percentage'\n",
       "\\item 'X012024\\_Condition'\n",
       "\\item 'X012024\\_Percentage'\n",
       "\\item 'X022024\\_Condition'\n",
       "\\item 'X022024\\_Percentage'\n",
       "\\item 'X042024\\_Condition'\n",
       "\\item 'X042024\\_Percentage'\n",
       "\\item 'COLONIES\\_TO\\_LOOK\\_AT'\n",
       "\\end{enumerate*}\n"
      ],
      "text/markdown": [
       "1. 'Date_InitialTag'\n",
       "2. 'Transect'\n",
       "3. 'TransectNum'\n",
       "4. 'OldTagNum'\n",
       "5. 'NewTagNum'\n",
       "6. 'Species'\n",
       "7. 'Meter'\n",
       "8. 'Meters_90'\n",
       "9. 'Direction'\n",
       "10. 'Size_Class'\n",
       "11. 'Notes_June_2019'\n",
       "12. 'MaxDiameter'\n",
       "13. 'Height'\n",
       "14. 'Date_DocumentedDisease'\n",
       "15. 'Date_DocumentedMortality'\n",
       "16. 'Notes_May2022'\n",
       "17. 'Sept_2023'\n",
       "18. 'Nov_2023'\n",
       "19. 'Dec_2023'\n",
       "20. 'Jan_2024'\n",
       "21. 'Feb_2024'\n",
       "22. 'April_2024'\n",
       "23. 'X062019_Condition'\n",
       "24. 'X062019_Percentage'\n",
       "25. 'X052022_Condition'\n",
       "26. 'X122022_Condition'\n",
       "27. 'X052023_Condition'\n",
       "28. 'X092023_Condition'\n",
       "29. 'X092023_Percentage'\n",
       "30. 'X112023_Condition'\n",
       "31. 'X112023_Percentage'\n",
       "32. 'X122023_Condition'\n",
       "33. 'X122023_Percentage'\n",
       "34. 'X012024_Condition'\n",
       "35. 'X012024_Percentage'\n",
       "36. 'X022024_Condition'\n",
       "37. 'X022024_Percentage'\n",
       "38. 'X042024_Condition'\n",
       "39. 'X042024_Percentage'\n",
       "40. 'COLONIES_TO_LOOK_AT'\n",
       "\n",
       "\n"
      ],
      "text/plain": [
       " [1] \"Date_InitialTag\"          \"Transect\"                \n",
       " [3] \"TransectNum\"              \"OldTagNum\"               \n",
       " [5] \"NewTagNum\"                \"Species\"                 \n",
       " [7] \"Meter\"                    \"Meters_90\"               \n",
       " [9] \"Direction\"                \"Size_Class\"              \n",
       "[11] \"Notes_June_2019\"          \"MaxDiameter\"             \n",
       "[13] \"Height\"                   \"Date_DocumentedDisease\"  \n",
       "[15] \"Date_DocumentedMortality\" \"Notes_May2022\"           \n",
       "[17] \"Sept_2023\"                \"Nov_2023\"                \n",
       "[19] \"Dec_2023\"                 \"Jan_2024\"                \n",
       "[21] \"Feb_2024\"                 \"April_2024\"              \n",
       "[23] \"X062019_Condition\"        \"X062019_Percentage\"      \n",
       "[25] \"X052022_Condition\"        \"X122022_Condition\"       \n",
       "[27] \"X052023_Condition\"        \"X092023_Condition\"       \n",
       "[29] \"X092023_Percentage\"       \"X112023_Condition\"       \n",
       "[31] \"X112023_Percentage\"       \"X122023_Condition\"       \n",
       "[33] \"X122023_Percentage\"       \"X012024_Condition\"       \n",
       "[35] \"X012024_Percentage\"       \"X022024_Condition\"       \n",
       "[37] \"X022024_Percentage\"       \"X042024_Condition\"       \n",
       "[39] \"X042024_Percentage\"       \"COLONIES_TO_LOOK_AT\"     "
      ]
     },
     "metadata": {},
     "output_type": "display_data"
    }
   ],
   "source": [
    "colnames(colony_data)"
   ]
  },
  {
   "cell_type": "markdown",
   "id": "aa2bf839-f628-44b2-841a-60835369b340",
   "metadata": {},
   "source": [
    "### Fix Problem Corals "
   ]
  },
  {
   "cell_type": "code",
   "execution_count": null,
   "id": "5fe3671e-931c-4301-8bb0-40572122c396",
   "metadata": {},
   "outputs": [],
   "source": [
    "# rename condition columns to drop the X \n",
    "colnames(colony_data) <- gsub(\"^X\", \"\", colnames(colony_data))"
   ]
  },
  {
   "cell_type": "code",
   "execution_count": 165,
   "id": "eba3e7ff-1965-4b1d-b7a1-7ae195f59175",
   "metadata": {},
   "outputs": [
    {
     "data": {
      "text/html": [
       "<style>\n",
       ".list-inline {list-style: none; margin:0; padding: 0}\n",
       ".list-inline>li {display: inline-block}\n",
       ".list-inline>li:not(:last-child)::after {content: \"\\00b7\"; padding: 0 .5ex}\n",
       "</style>\n",
       "<ol class=list-inline><li>''</li><li>''</li><li>''</li><li>''</li><li>''</li><li>''</li><li>''</li><li>''</li><li>''</li><li>''</li><li>''</li><li>''</li><li>''</li><li>''</li><li>''</li><li>''</li><li>''</li><li>''</li><li>''</li><li>''</li><li>''</li><li>''</li><li>''</li><li>''</li><li>''</li><li>''</li><li>''</li><li>''</li><li>''</li><li>''</li><li>''</li><li>''</li><li>''</li><li>''</li><li>''</li><li>''</li><li>'THIS_ONE - year tagged?'</li><li>'THIS_ONE - year tagged? Not visited after 052022?'</li><li>'THIS_ONE - year tagged?'</li><li>'THIS_ONE - year tagged? Not visited after 052022?'</li><li>'THIS_ONE - not visited after paling? Is it dead?'</li><li>''</li><li>''</li><li>''</li><li>''</li><li>''</li><li>''</li><li>''</li><li>''</li><li>''</li><li>''</li><li>''</li><li>''</li><li>''</li><li>''</li><li>''</li><li>''</li><li>''</li><li>''</li><li>''</li><li>''</li><li>''</li><li>''</li><li>''</li><li>''</li><li>''</li><li>''</li><li>''</li><li>''</li><li>''</li><li>''</li><li>''</li><li>''</li><li>''</li><li>''</li><li>'THIS_ONE - date mortality?'</li><li>'THIS_ONE'</li><li>''</li><li>''</li><li>''</li><li>''</li><li>'THIS_ONE - date mortality?'</li><li>''</li><li>''</li><li>''</li><li>''</li><li>''</li><li>''</li><li>''</li><li>''</li><li>''</li><li>''</li><li>''</li><li>''</li><li>''</li><li>''</li><li>''</li><li>''</li><li>''</li><li>''</li><li>''</li><li>''</li><li>''</li><li>''</li><li>''</li><li>''</li><li>''</li><li>''</li><li>''</li><li>''</li><li>''</li><li>''</li><li>''</li><li>''</li><li>''</li><li>''</li><li>''</li><li>''</li><li>''</li><li>''</li><li>''</li><li>''</li><li>''</li><li>''</li><li>''</li><li>''</li><li>''</li><li>''</li><li>''</li><li>''</li><li>'THIS_ONE - date mortality?'</li><li>''</li><li>''</li><li>''</li><li>''</li><li>''</li><li>''</li><li>''</li><li>''</li><li>''</li><li>''</li><li>''</li><li>''</li><li>''</li><li>''</li><li>''</li><li>''</li><li>''</li><li>''</li><li>''</li><li>''</li><li>''</li><li>''</li><li>''</li><li>''</li><li>''</li><li>''</li><li>''</li><li>''</li><li>''</li><li>''</li><li>''</li><li>''</li><li>''</li><li>''</li><li>''</li><li>''</li><li>''</li><li>''</li><li>''</li><li>''</li><li>''</li><li>''</li><li>''</li><li>''</li><li>''</li><li>''</li><li>''</li><li>''</li><li>''</li><li>''</li><li>''</li><li>''</li><li>''</li><li>''</li><li>''</li><li>''</li><li>''</li><li>''</li><li>''</li><li>''</li><li>''</li><li>''</li><li>''</li><li>''</li><li>''</li><li>''</li><li>''</li><li>''</li><li>''</li><li>''</li><li>''</li><li>''</li><li>''</li><li>''</li><li>''</li><li>''</li><li>''</li><li>''</li><li>''</li><li>''</li><li>''</li><li>''</li><li>''</li><li>''</li><li>''</li><li>''</li></ol>\n"
      ],
      "text/latex": [
       "\\begin{enumerate*}\n",
       "\\item ''\n",
       "\\item ''\n",
       "\\item ''\n",
       "\\item ''\n",
       "\\item ''\n",
       "\\item ''\n",
       "\\item ''\n",
       "\\item ''\n",
       "\\item ''\n",
       "\\item ''\n",
       "\\item ''\n",
       "\\item ''\n",
       "\\item ''\n",
       "\\item ''\n",
       "\\item ''\n",
       "\\item ''\n",
       "\\item ''\n",
       "\\item ''\n",
       "\\item ''\n",
       "\\item ''\n",
       "\\item ''\n",
       "\\item ''\n",
       "\\item ''\n",
       "\\item ''\n",
       "\\item ''\n",
       "\\item ''\n",
       "\\item ''\n",
       "\\item ''\n",
       "\\item ''\n",
       "\\item ''\n",
       "\\item ''\n",
       "\\item ''\n",
       "\\item ''\n",
       "\\item ''\n",
       "\\item ''\n",
       "\\item ''\n",
       "\\item 'THIS\\_ONE - year tagged?'\n",
       "\\item 'THIS\\_ONE - year tagged? Not visited after 052022?'\n",
       "\\item 'THIS\\_ONE - year tagged?'\n",
       "\\item 'THIS\\_ONE - year tagged? Not visited after 052022?'\n",
       "\\item 'THIS\\_ONE - not visited after paling? Is it dead?'\n",
       "\\item ''\n",
       "\\item ''\n",
       "\\item ''\n",
       "\\item ''\n",
       "\\item ''\n",
       "\\item ''\n",
       "\\item ''\n",
       "\\item ''\n",
       "\\item ''\n",
       "\\item ''\n",
       "\\item ''\n",
       "\\item ''\n",
       "\\item ''\n",
       "\\item ''\n",
       "\\item ''\n",
       "\\item ''\n",
       "\\item ''\n",
       "\\item ''\n",
       "\\item ''\n",
       "\\item ''\n",
       "\\item ''\n",
       "\\item ''\n",
       "\\item ''\n",
       "\\item ''\n",
       "\\item ''\n",
       "\\item ''\n",
       "\\item ''\n",
       "\\item ''\n",
       "\\item ''\n",
       "\\item ''\n",
       "\\item ''\n",
       "\\item ''\n",
       "\\item ''\n",
       "\\item ''\n",
       "\\item 'THIS\\_ONE - date mortality?'\n",
       "\\item 'THIS\\_ONE'\n",
       "\\item ''\n",
       "\\item ''\n",
       "\\item ''\n",
       "\\item ''\n",
       "\\item 'THIS\\_ONE - date mortality?'\n",
       "\\item ''\n",
       "\\item ''\n",
       "\\item ''\n",
       "\\item ''\n",
       "\\item ''\n",
       "\\item ''\n",
       "\\item ''\n",
       "\\item ''\n",
       "\\item ''\n",
       "\\item ''\n",
       "\\item ''\n",
       "\\item ''\n",
       "\\item ''\n",
       "\\item ''\n",
       "\\item ''\n",
       "\\item ''\n",
       "\\item ''\n",
       "\\item ''\n",
       "\\item ''\n",
       "\\item ''\n",
       "\\item ''\n",
       "\\item ''\n",
       "\\item ''\n",
       "\\item ''\n",
       "\\item ''\n",
       "\\item ''\n",
       "\\item ''\n",
       "\\item ''\n",
       "\\item ''\n",
       "\\item ''\n",
       "\\item ''\n",
       "\\item ''\n",
       "\\item ''\n",
       "\\item ''\n",
       "\\item ''\n",
       "\\item ''\n",
       "\\item ''\n",
       "\\item ''\n",
       "\\item ''\n",
       "\\item ''\n",
       "\\item ''\n",
       "\\item ''\n",
       "\\item ''\n",
       "\\item ''\n",
       "\\item ''\n",
       "\\item ''\n",
       "\\item ''\n",
       "\\item ''\n",
       "\\item 'THIS\\_ONE - date mortality?'\n",
       "\\item ''\n",
       "\\item ''\n",
       "\\item ''\n",
       "\\item ''\n",
       "\\item ''\n",
       "\\item ''\n",
       "\\item ''\n",
       "\\item ''\n",
       "\\item ''\n",
       "\\item ''\n",
       "\\item ''\n",
       "\\item ''\n",
       "\\item ''\n",
       "\\item ''\n",
       "\\item ''\n",
       "\\item ''\n",
       "\\item ''\n",
       "\\item ''\n",
       "\\item ''\n",
       "\\item ''\n",
       "\\item ''\n",
       "\\item ''\n",
       "\\item ''\n",
       "\\item ''\n",
       "\\item ''\n",
       "\\item ''\n",
       "\\item ''\n",
       "\\item ''\n",
       "\\item ''\n",
       "\\item ''\n",
       "\\item ''\n",
       "\\item ''\n",
       "\\item ''\n",
       "\\item ''\n",
       "\\item ''\n",
       "\\item ''\n",
       "\\item ''\n",
       "\\item ''\n",
       "\\item ''\n",
       "\\item ''\n",
       "\\item ''\n",
       "\\item ''\n",
       "\\item ''\n",
       "\\item ''\n",
       "\\item ''\n",
       "\\item ''\n",
       "\\item ''\n",
       "\\item ''\n",
       "\\item ''\n",
       "\\item ''\n",
       "\\item ''\n",
       "\\item ''\n",
       "\\item ''\n",
       "\\item ''\n",
       "\\item ''\n",
       "\\item ''\n",
       "\\item ''\n",
       "\\item ''\n",
       "\\item ''\n",
       "\\item ''\n",
       "\\item ''\n",
       "\\item ''\n",
       "\\item ''\n",
       "\\item ''\n",
       "\\item ''\n",
       "\\item ''\n",
       "\\item ''\n",
       "\\item ''\n",
       "\\item ''\n",
       "\\item ''\n",
       "\\item ''\n",
       "\\item ''\n",
       "\\item ''\n",
       "\\item ''\n",
       "\\item ''\n",
       "\\item ''\n",
       "\\item ''\n",
       "\\item ''\n",
       "\\item ''\n",
       "\\item ''\n",
       "\\item ''\n",
       "\\item ''\n",
       "\\item ''\n",
       "\\item ''\n",
       "\\item ''\n",
       "\\item ''\n",
       "\\end{enumerate*}\n"
      ],
      "text/markdown": [
       "1. ''\n",
       "2. ''\n",
       "3. ''\n",
       "4. ''\n",
       "5. ''\n",
       "6. ''\n",
       "7. ''\n",
       "8. ''\n",
       "9. ''\n",
       "10. ''\n",
       "11. ''\n",
       "12. ''\n",
       "13. ''\n",
       "14. ''\n",
       "15. ''\n",
       "16. ''\n",
       "17. ''\n",
       "18. ''\n",
       "19. ''\n",
       "20. ''\n",
       "21. ''\n",
       "22. ''\n",
       "23. ''\n",
       "24. ''\n",
       "25. ''\n",
       "26. ''\n",
       "27. ''\n",
       "28. ''\n",
       "29. ''\n",
       "30. ''\n",
       "31. ''\n",
       "32. ''\n",
       "33. ''\n",
       "34. ''\n",
       "35. ''\n",
       "36. ''\n",
       "37. 'THIS_ONE - year tagged?'\n",
       "38. 'THIS_ONE - year tagged? Not visited after 052022?'\n",
       "39. 'THIS_ONE - year tagged?'\n",
       "40. 'THIS_ONE - year tagged? Not visited after 052022?'\n",
       "41. 'THIS_ONE - not visited after paling? Is it dead?'\n",
       "42. ''\n",
       "43. ''\n",
       "44. ''\n",
       "45. ''\n",
       "46. ''\n",
       "47. ''\n",
       "48. ''\n",
       "49. ''\n",
       "50. ''\n",
       "51. ''\n",
       "52. ''\n",
       "53. ''\n",
       "54. ''\n",
       "55. ''\n",
       "56. ''\n",
       "57. ''\n",
       "58. ''\n",
       "59. ''\n",
       "60. ''\n",
       "61. ''\n",
       "62. ''\n",
       "63. ''\n",
       "64. ''\n",
       "65. ''\n",
       "66. ''\n",
       "67. ''\n",
       "68. ''\n",
       "69. ''\n",
       "70. ''\n",
       "71. ''\n",
       "72. ''\n",
       "73. ''\n",
       "74. ''\n",
       "75. ''\n",
       "76. 'THIS_ONE - date mortality?'\n",
       "77. 'THIS_ONE'\n",
       "78. ''\n",
       "79. ''\n",
       "80. ''\n",
       "81. ''\n",
       "82. 'THIS_ONE - date mortality?'\n",
       "83. ''\n",
       "84. ''\n",
       "85. ''\n",
       "86. ''\n",
       "87. ''\n",
       "88. ''\n",
       "89. ''\n",
       "90. ''\n",
       "91. ''\n",
       "92. ''\n",
       "93. ''\n",
       "94. ''\n",
       "95. ''\n",
       "96. ''\n",
       "97. ''\n",
       "98. ''\n",
       "99. ''\n",
       "100. ''\n",
       "101. ''\n",
       "102. ''\n",
       "103. ''\n",
       "104. ''\n",
       "105. ''\n",
       "106. ''\n",
       "107. ''\n",
       "108. ''\n",
       "109. ''\n",
       "110. ''\n",
       "111. ''\n",
       "112. ''\n",
       "113. ''\n",
       "114. ''\n",
       "115. ''\n",
       "116. ''\n",
       "117. ''\n",
       "118. ''\n",
       "119. ''\n",
       "120. ''\n",
       "121. ''\n",
       "122. ''\n",
       "123. ''\n",
       "124. ''\n",
       "125. ''\n",
       "126. ''\n",
       "127. ''\n",
       "128. ''\n",
       "129. ''\n",
       "130. ''\n",
       "131. 'THIS_ONE - date mortality?'\n",
       "132. ''\n",
       "133. ''\n",
       "134. ''\n",
       "135. ''\n",
       "136. ''\n",
       "137. ''\n",
       "138. ''\n",
       "139. ''\n",
       "140. ''\n",
       "141. ''\n",
       "142. ''\n",
       "143. ''\n",
       "144. ''\n",
       "145. ''\n",
       "146. ''\n",
       "147. ''\n",
       "148. ''\n",
       "149. ''\n",
       "150. ''\n",
       "151. ''\n",
       "152. ''\n",
       "153. ''\n",
       "154. ''\n",
       "155. ''\n",
       "156. ''\n",
       "157. ''\n",
       "158. ''\n",
       "159. ''\n",
       "160. ''\n",
       "161. ''\n",
       "162. ''\n",
       "163. ''\n",
       "164. ''\n",
       "165. ''\n",
       "166. ''\n",
       "167. ''\n",
       "168. ''\n",
       "169. ''\n",
       "170. ''\n",
       "171. ''\n",
       "172. ''\n",
       "173. ''\n",
       "174. ''\n",
       "175. ''\n",
       "176. ''\n",
       "177. ''\n",
       "178. ''\n",
       "179. ''\n",
       "180. ''\n",
       "181. ''\n",
       "182. ''\n",
       "183. ''\n",
       "184. ''\n",
       "185. ''\n",
       "186. ''\n",
       "187. ''\n",
       "188. ''\n",
       "189. ''\n",
       "190. ''\n",
       "191. ''\n",
       "192. ''\n",
       "193. ''\n",
       "194. ''\n",
       "195. ''\n",
       "196. ''\n",
       "197. ''\n",
       "198. ''\n",
       "199. ''\n",
       "200. ''\n",
       "201. ''\n",
       "202. ''\n",
       "203. ''\n",
       "204. ''\n",
       "205. ''\n",
       "206. ''\n",
       "207. ''\n",
       "208. ''\n",
       "209. ''\n",
       "210. ''\n",
       "211. ''\n",
       "212. ''\n",
       "213. ''\n",
       "214. ''\n",
       "215. ''\n",
       "216. ''\n",
       "217. ''\n",
       "\n",
       "\n"
      ],
      "text/plain": [
       "  [1] \"\"                                                 \n",
       "  [2] \"\"                                                 \n",
       "  [3] \"\"                                                 \n",
       "  [4] \"\"                                                 \n",
       "  [5] \"\"                                                 \n",
       "  [6] \"\"                                                 \n",
       "  [7] \"\"                                                 \n",
       "  [8] \"\"                                                 \n",
       "  [9] \"\"                                                 \n",
       " [10] \"\"                                                 \n",
       " [11] \"\"                                                 \n",
       " [12] \"\"                                                 \n",
       " [13] \"\"                                                 \n",
       " [14] \"\"                                                 \n",
       " [15] \"\"                                                 \n",
       " [16] \"\"                                                 \n",
       " [17] \"\"                                                 \n",
       " [18] \"\"                                                 \n",
       " [19] \"\"                                                 \n",
       " [20] \"\"                                                 \n",
       " [21] \"\"                                                 \n",
       " [22] \"\"                                                 \n",
       " [23] \"\"                                                 \n",
       " [24] \"\"                                                 \n",
       " [25] \"\"                                                 \n",
       " [26] \"\"                                                 \n",
       " [27] \"\"                                                 \n",
       " [28] \"\"                                                 \n",
       " [29] \"\"                                                 \n",
       " [30] \"\"                                                 \n",
       " [31] \"\"                                                 \n",
       " [32] \"\"                                                 \n",
       " [33] \"\"                                                 \n",
       " [34] \"\"                                                 \n",
       " [35] \"\"                                                 \n",
       " [36] \"\"                                                 \n",
       " [37] \"THIS_ONE - year tagged?\"                          \n",
       " [38] \"THIS_ONE - year tagged? Not visited after 052022?\"\n",
       " [39] \"THIS_ONE - year tagged?\"                          \n",
       " [40] \"THIS_ONE - year tagged? Not visited after 052022?\"\n",
       " [41] \"THIS_ONE - not visited after paling? Is it dead?\" \n",
       " [42] \"\"                                                 \n",
       " [43] \"\"                                                 \n",
       " [44] \"\"                                                 \n",
       " [45] \"\"                                                 \n",
       " [46] \"\"                                                 \n",
       " [47] \"\"                                                 \n",
       " [48] \"\"                                                 \n",
       " [49] \"\"                                                 \n",
       " [50] \"\"                                                 \n",
       " [51] \"\"                                                 \n",
       " [52] \"\"                                                 \n",
       " [53] \"\"                                                 \n",
       " [54] \"\"                                                 \n",
       " [55] \"\"                                                 \n",
       " [56] \"\"                                                 \n",
       " [57] \"\"                                                 \n",
       " [58] \"\"                                                 \n",
       " [59] \"\"                                                 \n",
       " [60] \"\"                                                 \n",
       " [61] \"\"                                                 \n",
       " [62] \"\"                                                 \n",
       " [63] \"\"                                                 \n",
       " [64] \"\"                                                 \n",
       " [65] \"\"                                                 \n",
       " [66] \"\"                                                 \n",
       " [67] \"\"                                                 \n",
       " [68] \"\"                                                 \n",
       " [69] \"\"                                                 \n",
       " [70] \"\"                                                 \n",
       " [71] \"\"                                                 \n",
       " [72] \"\"                                                 \n",
       " [73] \"\"                                                 \n",
       " [74] \"\"                                                 \n",
       " [75] \"\"                                                 \n",
       " [76] \"THIS_ONE - date mortality?\"                       \n",
       " [77] \"THIS_ONE\"                                         \n",
       " [78] \"\"                                                 \n",
       " [79] \"\"                                                 \n",
       " [80] \"\"                                                 \n",
       " [81] \"\"                                                 \n",
       " [82] \"THIS_ONE - date mortality?\"                       \n",
       " [83] \"\"                                                 \n",
       " [84] \"\"                                                 \n",
       " [85] \"\"                                                 \n",
       " [86] \"\"                                                 \n",
       " [87] \"\"                                                 \n",
       " [88] \"\"                                                 \n",
       " [89] \"\"                                                 \n",
       " [90] \"\"                                                 \n",
       " [91] \"\"                                                 \n",
       " [92] \"\"                                                 \n",
       " [93] \"\"                                                 \n",
       " [94] \"\"                                                 \n",
       " [95] \"\"                                                 \n",
       " [96] \"\"                                                 \n",
       " [97] \"\"                                                 \n",
       " [98] \"\"                                                 \n",
       " [99] \"\"                                                 \n",
       "[100] \"\"                                                 \n",
       "[101] \"\"                                                 \n",
       "[102] \"\"                                                 \n",
       "[103] \"\"                                                 \n",
       "[104] \"\"                                                 \n",
       "[105] \"\"                                                 \n",
       "[106] \"\"                                                 \n",
       "[107] \"\"                                                 \n",
       "[108] \"\"                                                 \n",
       "[109] \"\"                                                 \n",
       "[110] \"\"                                                 \n",
       "[111] \"\"                                                 \n",
       "[112] \"\"                                                 \n",
       "[113] \"\"                                                 \n",
       "[114] \"\"                                                 \n",
       "[115] \"\"                                                 \n",
       "[116] \"\"                                                 \n",
       "[117] \"\"                                                 \n",
       "[118] \"\"                                                 \n",
       "[119] \"\"                                                 \n",
       "[120] \"\"                                                 \n",
       "[121] \"\"                                                 \n",
       "[122] \"\"                                                 \n",
       "[123] \"\"                                                 \n",
       "[124] \"\"                                                 \n",
       "[125] \"\"                                                 \n",
       "[126] \"\"                                                 \n",
       "[127] \"\"                                                 \n",
       "[128] \"\"                                                 \n",
       "[129] \"\"                                                 \n",
       "[130] \"\"                                                 \n",
       "[131] \"THIS_ONE - date mortality?\"                       \n",
       "[132] \"\"                                                 \n",
       "[133] \"\"                                                 \n",
       "[134] \"\"                                                 \n",
       "[135] \"\"                                                 \n",
       "[136] \"\"                                                 \n",
       "[137] \"\"                                                 \n",
       "[138] \"\"                                                 \n",
       "[139] \"\"                                                 \n",
       "[140] \"\"                                                 \n",
       "[141] \"\"                                                 \n",
       "[142] \"\"                                                 \n",
       "[143] \"\"                                                 \n",
       "[144] \"\"                                                 \n",
       "[145] \"\"                                                 \n",
       "[146] \"\"                                                 \n",
       "[147] \"\"                                                 \n",
       "[148] \"\"                                                 \n",
       "[149] \"\"                                                 \n",
       "[150] \"\"                                                 \n",
       "[151] \"\"                                                 \n",
       "[152] \"\"                                                 \n",
       "[153] \"\"                                                 \n",
       "[154] \"\"                                                 \n",
       "[155] \"\"                                                 \n",
       "[156] \"\"                                                 \n",
       "[157] \"\"                                                 \n",
       "[158] \"\"                                                 \n",
       "[159] \"\"                                                 \n",
       "[160] \"\"                                                 \n",
       "[161] \"\"                                                 \n",
       "[162] \"\"                                                 \n",
       "[163] \"\"                                                 \n",
       "[164] \"\"                                                 \n",
       "[165] \"\"                                                 \n",
       "[166] \"\"                                                 \n",
       "[167] \"\"                                                 \n",
       "[168] \"\"                                                 \n",
       "[169] \"\"                                                 \n",
       "[170] \"\"                                                 \n",
       "[171] \"\"                                                 \n",
       "[172] \"\"                                                 \n",
       "[173] \"\"                                                 \n",
       "[174] \"\"                                                 \n",
       "[175] \"\"                                                 \n",
       "[176] \"\"                                                 \n",
       "[177] \"\"                                                 \n",
       "[178] \"\"                                                 \n",
       "[179] \"\"                                                 \n",
       "[180] \"\"                                                 \n",
       "[181] \"\"                                                 \n",
       "[182] \"\"                                                 \n",
       "[183] \"\"                                                 \n",
       "[184] \"\"                                                 \n",
       "[185] \"\"                                                 \n",
       "[186] \"\"                                                 \n",
       "[187] \"\"                                                 \n",
       "[188] \"\"                                                 \n",
       "[189] \"\"                                                 \n",
       "[190] \"\"                                                 \n",
       "[191] \"\"                                                 \n",
       "[192] \"\"                                                 \n",
       "[193] \"\"                                                 \n",
       "[194] \"\"                                                 \n",
       "[195] \"\"                                                 \n",
       "[196] \"\"                                                 \n",
       "[197] \"\"                                                 \n",
       "[198] \"\"                                                 \n",
       "[199] \"\"                                                 \n",
       "[200] \"\"                                                 \n",
       "[201] \"\"                                                 \n",
       "[202] \"\"                                                 \n",
       "[203] \"\"                                                 \n",
       "[204] \"\"                                                 \n",
       "[205] \"\"                                                 \n",
       "[206] \"\"                                                 \n",
       "[207] \"\"                                                 \n",
       "[208] \"\"                                                 \n",
       "[209] \"\"                                                 \n",
       "[210] \"\"                                                 \n",
       "[211] \"\"                                                 \n",
       "[212] \"\"                                                 \n",
       "[213] \"\"                                                 \n",
       "[214] \"\"                                                 \n",
       "[215] \"\"                                                 \n",
       "[216] \"\"                                                 \n",
       "[217] \"\"                                                 "
      ]
     },
     "metadata": {},
     "output_type": "display_data"
    }
   ],
   "source": [
    "colony_data$COLONIES_TO_LOOK_AT"
   ]
  },
  {
   "cell_type": "code",
   "execution_count": 170,
   "id": "23733656-d6fc-4c5d-8e14-603659d72a2d",
   "metadata": {},
   "outputs": [
    {
     "data": {
      "text/html": [
       "<table class=\"dataframe\">\n",
       "<caption>A data.frame: 9 × 40</caption>\n",
       "<thead>\n",
       "\t<tr><th></th><th scope=col>Date_InitialTag</th><th scope=col>Transect</th><th scope=col>TransectNum</th><th scope=col>OldTagNum</th><th scope=col>NewTagNum</th><th scope=col>Species</th><th scope=col>Meter</th><th scope=col>Meters_90</th><th scope=col>Direction</th><th scope=col>Size_Class</th><th scope=col>⋯</th><th scope=col>X112023_Percentage</th><th scope=col>X122023_Condition</th><th scope=col>X122023_Percentage</th><th scope=col>X012024_Condition</th><th scope=col>X012024_Percentage</th><th scope=col>X022024_Condition</th><th scope=col>X022024_Percentage</th><th scope=col>X042024_Condition</th><th scope=col>X042024_Percentage</th><th scope=col>COLONIES_TO_LOOK_AT</th></tr>\n",
       "\t<tr><th></th><th scope=col>&lt;chr&gt;</th><th scope=col>&lt;chr&gt;</th><th scope=col>&lt;int&gt;</th><th scope=col>&lt;chr&gt;</th><th scope=col>&lt;chr&gt;</th><th scope=col>&lt;chr&gt;</th><th scope=col>&lt;dbl&gt;</th><th scope=col>&lt;dbl&gt;</th><th scope=col>&lt;chr&gt;</th><th scope=col>&lt;int&gt;</th><th scope=col>⋯</th><th scope=col>&lt;chr&gt;</th><th scope=col>&lt;chr&gt;</th><th scope=col>&lt;chr&gt;</th><th scope=col>&lt;chr&gt;</th><th scope=col>&lt;chr&gt;</th><th scope=col>&lt;chr&gt;</th><th scope=col>&lt;chr&gt;</th><th scope=col>&lt;chr&gt;</th><th scope=col>&lt;chr&gt;</th><th scope=col>&lt;chr&gt;</th></tr>\n",
       "</thead>\n",
       "<tbody>\n",
       "\t<tr><th scope=row>37</th><td>       </td><td>SR30N </td><td>2</td><td>NA </td><td>28       </td><td>PSTR</td><td>15.6</td><td>1.2</td><td>right</td><td>NA</td><td>⋯</td><td></td><td>Dead    </td><td></td><td>Dead    </td><td></td><td>Dead    </td><td></td><td></td><td></td><td>THIS_ONE - year tagged?                          </td></tr>\n",
       "\t<tr><th scope=row>38</th><td>       </td><td>SR30N </td><td>2</td><td>NA </td><td>29       </td><td>OFAV</td><td>16.0</td><td>1.1</td><td>right</td><td>NA</td><td>⋯</td><td></td><td>NA      </td><td></td><td>NA      </td><td></td><td>NA      </td><td></td><td></td><td></td><td>THIS_ONE - year tagged? Not visited after 052022?</td></tr>\n",
       "\t<tr><th scope=row>39</th><td>       </td><td>SR30N </td><td>2</td><td>NA </td><td>30       </td><td>OANN</td><td>21.6</td><td>4.2</td><td>left </td><td>NA</td><td>⋯</td><td></td><td>Diseased</td><td></td><td>Diseased</td><td></td><td>Diseased</td><td></td><td></td><td></td><td>THIS_ONE - year tagged?                          </td></tr>\n",
       "\t<tr><th scope=row>40</th><td>       </td><td>SR30N </td><td>2</td><td>NA </td><td>31       </td><td>DLAB</td><td>23.0</td><td>2.7</td><td>left </td><td>NA</td><td>⋯</td><td></td><td>NA      </td><td></td><td>NA      </td><td></td><td>NA      </td><td></td><td></td><td></td><td>THIS_ONE - year tagged? Not visited after 052022?</td></tr>\n",
       "\t<tr><th scope=row>41</th><td>       </td><td>SR30N </td><td>2</td><td>NA </td><td>32       </td><td>PSTR</td><td> 5.0</td><td>5.0</td><td>right</td><td>NA</td><td>⋯</td><td></td><td>CLP     </td><td></td><td>CLP     </td><td></td><td>CLP     </td><td></td><td></td><td></td><td>THIS_ONE - not visited after paling? Is it dead? </td></tr>\n",
       "\t<tr><th scope=row>76</th><td>6/22/19</td><td>SR30N </td><td>2</td><td>311</td><td>NA       </td><td>MMEA</td><td>14.6</td><td>2.3</td><td>right</td><td> 3</td><td>⋯</td><td></td><td>Healthy </td><td></td><td>Healthy </td><td></td><td>Healthy </td><td></td><td></td><td></td><td>THIS_ONE - date mortality?                       </td></tr>\n",
       "\t<tr><th scope=row>77</th><td>6/25/19</td><td>SR30N </td><td>2</td><td>347</td><td>NA       </td><td>PAST</td><td>19.8</td><td>1.9</td><td>left </td><td> 4</td><td>⋯</td><td></td><td>Healthy </td><td></td><td>Healthy </td><td></td><td>Healthy </td><td></td><td></td><td></td><td>THIS_ONE                                         </td></tr>\n",
       "\t<tr><th scope=row>82</th><td>6/22/19</td><td>SR30N </td><td>2</td><td>325</td><td>not_found</td><td>MMEA</td><td>11.0</td><td>3.8</td><td>left </td><td> 4</td><td>⋯</td><td></td><td>Healthy </td><td></td><td>Healthy </td><td></td><td>Healthy </td><td></td><td></td><td></td><td>THIS_ONE - date mortality?                       </td></tr>\n",
       "\t<tr><th scope=row>131</th><td>6/23/19</td><td>Lagoon</td><td>3</td><td>378</td><td>not_found</td><td>MMEA</td><td>21.9</td><td>4.5</td><td>left </td><td> 4</td><td>⋯</td><td></td><td>Healthy </td><td></td><td>Healthy </td><td></td><td>Healthy </td><td></td><td></td><td></td><td>THIS_ONE - date mortality?                       </td></tr>\n",
       "</tbody>\n",
       "</table>\n"
      ],
      "text/latex": [
       "A data.frame: 9 × 40\n",
       "\\begin{tabular}{r|lllllllllllllllllllll}\n",
       "  & Date\\_InitialTag & Transect & TransectNum & OldTagNum & NewTagNum & Species & Meter & Meters\\_90 & Direction & Size\\_Class & ⋯ & X112023\\_Percentage & X122023\\_Condition & X122023\\_Percentage & X012024\\_Condition & X012024\\_Percentage & X022024\\_Condition & X022024\\_Percentage & X042024\\_Condition & X042024\\_Percentage & COLONIES\\_TO\\_LOOK\\_AT\\\\\n",
       "  & <chr> & <chr> & <int> & <chr> & <chr> & <chr> & <dbl> & <dbl> & <chr> & <int> & ⋯ & <chr> & <chr> & <chr> & <chr> & <chr> & <chr> & <chr> & <chr> & <chr> & <chr>\\\\\n",
       "\\hline\n",
       "\t37 &         & SR30N  & 2 & NA  & 28        & PSTR & 15.6 & 1.2 & right & NA & ⋯ &  & Dead     &  & Dead     &  & Dead     &  &  &  & THIS\\_ONE - year tagged?                          \\\\\n",
       "\t38 &         & SR30N  & 2 & NA  & 29        & OFAV & 16.0 & 1.1 & right & NA & ⋯ &  & NA       &  & NA       &  & NA       &  &  &  & THIS\\_ONE - year tagged? Not visited after 052022?\\\\\n",
       "\t39 &         & SR30N  & 2 & NA  & 30        & OANN & 21.6 & 4.2 & left  & NA & ⋯ &  & Diseased &  & Diseased &  & Diseased &  &  &  & THIS\\_ONE - year tagged?                          \\\\\n",
       "\t40 &         & SR30N  & 2 & NA  & 31        & DLAB & 23.0 & 2.7 & left  & NA & ⋯ &  & NA       &  & NA       &  & NA       &  &  &  & THIS\\_ONE - year tagged? Not visited after 052022?\\\\\n",
       "\t41 &         & SR30N  & 2 & NA  & 32        & PSTR &  5.0 & 5.0 & right & NA & ⋯ &  & CLP      &  & CLP      &  & CLP      &  &  &  & THIS\\_ONE - not visited after paling? Is it dead? \\\\\n",
       "\t76 & 6/22/19 & SR30N  & 2 & 311 & NA        & MMEA & 14.6 & 2.3 & right &  3 & ⋯ &  & Healthy  &  & Healthy  &  & Healthy  &  &  &  & THIS\\_ONE - date mortality?                       \\\\\n",
       "\t77 & 6/25/19 & SR30N  & 2 & 347 & NA        & PAST & 19.8 & 1.9 & left  &  4 & ⋯ &  & Healthy  &  & Healthy  &  & Healthy  &  &  &  & THIS\\_ONE                                         \\\\\n",
       "\t82 & 6/22/19 & SR30N  & 2 & 325 & not\\_found & MMEA & 11.0 & 3.8 & left  &  4 & ⋯ &  & Healthy  &  & Healthy  &  & Healthy  &  &  &  & THIS\\_ONE - date mortality?                       \\\\\n",
       "\t131 & 6/23/19 & Lagoon & 3 & 378 & not\\_found & MMEA & 21.9 & 4.5 & left  &  4 & ⋯ &  & Healthy  &  & Healthy  &  & Healthy  &  &  &  & THIS\\_ONE - date mortality?                       \\\\\n",
       "\\end{tabular}\n"
      ],
      "text/markdown": [
       "\n",
       "A data.frame: 9 × 40\n",
       "\n",
       "| <!--/--> | Date_InitialTag &lt;chr&gt; | Transect &lt;chr&gt; | TransectNum &lt;int&gt; | OldTagNum &lt;chr&gt; | NewTagNum &lt;chr&gt; | Species &lt;chr&gt; | Meter &lt;dbl&gt; | Meters_90 &lt;dbl&gt; | Direction &lt;chr&gt; | Size_Class &lt;int&gt; | ⋯ ⋯ | X112023_Percentage &lt;chr&gt; | X122023_Condition &lt;chr&gt; | X122023_Percentage &lt;chr&gt; | X012024_Condition &lt;chr&gt; | X012024_Percentage &lt;chr&gt; | X022024_Condition &lt;chr&gt; | X022024_Percentage &lt;chr&gt; | X042024_Condition &lt;chr&gt; | X042024_Percentage &lt;chr&gt; | COLONIES_TO_LOOK_AT &lt;chr&gt; |\n",
       "|---|---|---|---|---|---|---|---|---|---|---|---|---|---|---|---|---|---|---|---|---|---|\n",
       "| 37 | <!----> | SR30N  | 2 | NA  | 28        | PSTR | 15.6 | 1.2 | right | NA | ⋯ | <!----> | Dead     | <!----> | Dead     | <!----> | Dead     | <!----> | <!----> | <!----> | THIS_ONE - year tagged?                           |\n",
       "| 38 | <!----> | SR30N  | 2 | NA  | 29        | OFAV | 16.0 | 1.1 | right | NA | ⋯ | <!----> | NA       | <!----> | NA       | <!----> | NA       | <!----> | <!----> | <!----> | THIS_ONE - year tagged? Not visited after 052022? |\n",
       "| 39 | <!----> | SR30N  | 2 | NA  | 30        | OANN | 21.6 | 4.2 | left  | NA | ⋯ | <!----> | Diseased | <!----> | Diseased | <!----> | Diseased | <!----> | <!----> | <!----> | THIS_ONE - year tagged?                           |\n",
       "| 40 | <!----> | SR30N  | 2 | NA  | 31        | DLAB | 23.0 | 2.7 | left  | NA | ⋯ | <!----> | NA       | <!----> | NA       | <!----> | NA       | <!----> | <!----> | <!----> | THIS_ONE - year tagged? Not visited after 052022? |\n",
       "| 41 | <!----> | SR30N  | 2 | NA  | 32        | PSTR |  5.0 | 5.0 | right | NA | ⋯ | <!----> | CLP      | <!----> | CLP      | <!----> | CLP      | <!----> | <!----> | <!----> | THIS_ONE - not visited after paling? Is it dead?  |\n",
       "| 76 | 6/22/19 | SR30N  | 2 | 311 | NA        | MMEA | 14.6 | 2.3 | right |  3 | ⋯ | <!----> | Healthy  | <!----> | Healthy  | <!----> | Healthy  | <!----> | <!----> | <!----> | THIS_ONE - date mortality?                        |\n",
       "| 77 | 6/25/19 | SR30N  | 2 | 347 | NA        | PAST | 19.8 | 1.9 | left  |  4 | ⋯ | <!----> | Healthy  | <!----> | Healthy  | <!----> | Healthy  | <!----> | <!----> | <!----> | THIS_ONE                                          |\n",
       "| 82 | 6/22/19 | SR30N  | 2 | 325 | not_found | MMEA | 11.0 | 3.8 | left  |  4 | ⋯ | <!----> | Healthy  | <!----> | Healthy  | <!----> | Healthy  | <!----> | <!----> | <!----> | THIS_ONE - date mortality?                        |\n",
       "| 131 | 6/23/19 | Lagoon | 3 | 378 | not_found | MMEA | 21.9 | 4.5 | left  |  4 | ⋯ | <!----> | Healthy  | <!----> | Healthy  | <!----> | Healthy  | <!----> | <!----> | <!----> | THIS_ONE - date mortality?                        |\n",
       "\n"
      ],
      "text/plain": [
       "    Date_InitialTag Transect TransectNum OldTagNum NewTagNum Species Meter\n",
       "37                  SR30N    2           NA        28        PSTR    15.6 \n",
       "38                  SR30N    2           NA        29        OFAV    16.0 \n",
       "39                  SR30N    2           NA        30        OANN    21.6 \n",
       "40                  SR30N    2           NA        31        DLAB    23.0 \n",
       "41                  SR30N    2           NA        32        PSTR     5.0 \n",
       "76  6/22/19         SR30N    2           311       NA        MMEA    14.6 \n",
       "77  6/25/19         SR30N    2           347       NA        PAST    19.8 \n",
       "82  6/22/19         SR30N    2           325       not_found MMEA    11.0 \n",
       "131 6/23/19         Lagoon   3           378       not_found MMEA    21.9 \n",
       "    Meters_90 Direction Size_Class ⋯ X112023_Percentage X122023_Condition\n",
       "37  1.2       right     NA         ⋯                    Dead             \n",
       "38  1.1       right     NA         ⋯                    NA               \n",
       "39  4.2       left      NA         ⋯                    Diseased         \n",
       "40  2.7       left      NA         ⋯                    NA               \n",
       "41  5.0       right     NA         ⋯                    CLP              \n",
       "76  2.3       right      3         ⋯                    Healthy          \n",
       "77  1.9       left       4         ⋯                    Healthy          \n",
       "82  3.8       left       4         ⋯                    Healthy          \n",
       "131 4.5       left       4         ⋯                    Healthy          \n",
       "    X122023_Percentage X012024_Condition X012024_Percentage X022024_Condition\n",
       "37                     Dead                                 Dead             \n",
       "38                     NA                                   NA               \n",
       "39                     Diseased                             Diseased         \n",
       "40                     NA                                   NA               \n",
       "41                     CLP                                  CLP              \n",
       "76                     Healthy                              Healthy          \n",
       "77                     Healthy                              Healthy          \n",
       "82                     Healthy                              Healthy          \n",
       "131                    Healthy                              Healthy          \n",
       "    X022024_Percentage X042024_Condition X042024_Percentage\n",
       "37                                                         \n",
       "38                                                         \n",
       "39                                                         \n",
       "40                                                         \n",
       "41                                                         \n",
       "76                                                         \n",
       "77                                                         \n",
       "82                                                         \n",
       "131                                                        \n",
       "    COLONIES_TO_LOOK_AT                              \n",
       "37  THIS_ONE - year tagged?                          \n",
       "38  THIS_ONE - year tagged? Not visited after 052022?\n",
       "39  THIS_ONE - year tagged?                          \n",
       "40  THIS_ONE - year tagged? Not visited after 052022?\n",
       "41  THIS_ONE - not visited after paling? Is it dead? \n",
       "76  THIS_ONE - date mortality?                       \n",
       "77  THIS_ONE                                         \n",
       "82  THIS_ONE - date mortality?                       \n",
       "131 THIS_ONE - date mortality?                       "
      ]
     },
     "metadata": {},
     "output_type": "display_data"
    }
   ],
   "source": [
    "colony_data[colony_data$COLONIES_TO_LOOK_AT != \"\", ]"
   ]
  },
  {
   "cell_type": "code",
   "execution_count": 177,
   "id": "224a8535-73ca-4d0a-b347-e38a917f3cb3",
   "metadata": {
    "scrolled": true
   },
   "outputs": [
    {
     "data": {
      "text/html": [
       "<table class=\"dataframe\">\n",
       "<caption>A data.frame: 3 × 9</caption>\n",
       "<thead>\n",
       "\t<tr><th></th><th scope=col>Transect</th><th scope=col>OldTagNum</th><th scope=col>NewTagNum</th><th scope=col>Notes_June_2019</th><th scope=col>Date_DocumentedDisease</th><th scope=col>Date_DocumentedMortality</th><th scope=col>Notes_May2022</th><th scope=col>X052022_Condition</th><th scope=col>X122022_Condition</th></tr>\n",
       "\t<tr><th></th><th scope=col>&lt;chr&gt;</th><th scope=col>&lt;chr&gt;</th><th scope=col>&lt;chr&gt;</th><th scope=col>&lt;chr&gt;</th><th scope=col>&lt;chr&gt;</th><th scope=col>&lt;chr&gt;</th><th scope=col>&lt;chr&gt;</th><th scope=col>&lt;chr&gt;</th><th scope=col>&lt;chr&gt;</th></tr>\n",
       "</thead>\n",
       "<tbody>\n",
       "\t<tr><th scope=row>76</th><td>SR30N </td><td>311</td><td>NA       </td><td>processing_delayed_because_of_power_steering_failure,_tow_time</td><td>Healthy</td><td>Healthy</td><td>NA</td><td>Healthy</td><td>Healthy</td></tr>\n",
       "\t<tr><th scope=row>82</th><td>SR30N </td><td>325</td><td>not_found</td><td>processing_delayed_because_of_power_steering_failure,_tow_time</td><td>Healthy</td><td>Healthy</td><td>NA</td><td>Healthy</td><td>Healthy</td></tr>\n",
       "\t<tr><th scope=row>131</th><td>Lagoon</td><td>378</td><td>not_found</td><td>                                                              </td><td>Healthy</td><td>Healthy</td><td>NA</td><td>Healthy</td><td>Healthy</td></tr>\n",
       "</tbody>\n",
       "</table>\n"
      ],
      "text/latex": [
       "A data.frame: 3 × 9\n",
       "\\begin{tabular}{r|lllllllll}\n",
       "  & Transect & OldTagNum & NewTagNum & Notes\\_June\\_2019 & Date\\_DocumentedDisease & Date\\_DocumentedMortality & Notes\\_May2022 & X052022\\_Condition & X122022\\_Condition\\\\\n",
       "  & <chr> & <chr> & <chr> & <chr> & <chr> & <chr> & <chr> & <chr> & <chr>\\\\\n",
       "\\hline\n",
       "\t76 & SR30N  & 311 & NA        & processing\\_delayed\\_because\\_of\\_power\\_steering\\_failure,\\_tow\\_time & Healthy & Healthy & NA & Healthy & Healthy\\\\\n",
       "\t82 & SR30N  & 325 & not\\_found & processing\\_delayed\\_because\\_of\\_power\\_steering\\_failure,\\_tow\\_time & Healthy & Healthy & NA & Healthy & Healthy\\\\\n",
       "\t131 & Lagoon & 378 & not\\_found &                                                                & Healthy & Healthy & NA & Healthy & Healthy\\\\\n",
       "\\end{tabular}\n"
      ],
      "text/markdown": [
       "\n",
       "A data.frame: 3 × 9\n",
       "\n",
       "| <!--/--> | Transect &lt;chr&gt; | OldTagNum &lt;chr&gt; | NewTagNum &lt;chr&gt; | Notes_June_2019 &lt;chr&gt; | Date_DocumentedDisease &lt;chr&gt; | Date_DocumentedMortality &lt;chr&gt; | Notes_May2022 &lt;chr&gt; | X052022_Condition &lt;chr&gt; | X122022_Condition &lt;chr&gt; |\n",
       "|---|---|---|---|---|---|---|---|---|---|\n",
       "| 76 | SR30N  | 311 | NA        | processing_delayed_because_of_power_steering_failure,_tow_time | Healthy | Healthy | NA | Healthy | Healthy |\n",
       "| 82 | SR30N  | 325 | not_found | processing_delayed_because_of_power_steering_failure,_tow_time | Healthy | Healthy | NA | Healthy | Healthy |\n",
       "| 131 | Lagoon | 378 | not_found | <!----> | Healthy | Healthy | NA | Healthy | Healthy |\n",
       "\n"
      ],
      "text/plain": [
       "    Transect OldTagNum NewTagNum\n",
       "76  SR30N    311       NA       \n",
       "82  SR30N    325       not_found\n",
       "131 Lagoon   378       not_found\n",
       "    Notes_June_2019                                               \n",
       "76  processing_delayed_because_of_power_steering_failure,_tow_time\n",
       "82  processing_delayed_because_of_power_steering_failure,_tow_time\n",
       "131                                                               \n",
       "    Date_DocumentedDisease Date_DocumentedMortality Notes_May2022\n",
       "76  Healthy                Healthy                  NA           \n",
       "82  Healthy                Healthy                  NA           \n",
       "131 Healthy                Healthy                  NA           \n",
       "    X052022_Condition X122022_Condition\n",
       "76  Healthy           Healthy          \n",
       "82  Healthy           Healthy          \n",
       "131 Healthy           Healthy          "
      ]
     },
     "metadata": {},
     "output_type": "display_data"
    }
   ],
   "source": [
    "# label MMEA as dead (5/22) and put newtagnum as oldtagnum\n",
    "mmea_rows <- (colony_data$COLONIES_TO_LOOK_AT != \"\") & (colony_data$Species==\"MMEA\")\n",
    "colony_data[mmea_rows, c(\"Transect\",'OldTagNum','NewTagNum','Notes_June_2019','Date_DocumentedDisease','Date_DocumentedMortality','Notes_May2022','X052022_Condition','X122022_Condition')]"
   ]
  },
  {
   "cell_type": "code",
   "execution_count": 187,
   "id": "48f1ae01-fe56-435a-9e53-55658a092d5c",
   "metadata": {},
   "outputs": [],
   "source": [
    "# label MMEA as dead (5/22) and put newtagnum as oldtagnum\n",
    "colony_data[mmea_rows,\"NewTagNum\"]<- colony_data[mmea_rows,\"OldTagNum\"]\n",
    "colony_data[mmea_rows,condition_columns]<-\"Dead\"\n",
    "colony_data[mmea_rows,\"Date_DocumentedDisease\"]<-\"Unknown\"\n",
    "colony_data[mmea_rows,\"Date_DocumentedMortality\"]<-\"5/20/22\""
   ]
  },
  {
   "cell_type": "code",
   "execution_count": 196,
   "id": "2295f654-29a3-4314-bad3-a32a878a4490",
   "metadata": {},
   "outputs": [],
   "source": [
    "colony_notfound<- (colony_data$COLONIES_TO_LOOK_AT != \"\") & (colony_data$Species==\"MMEA\") & (colony_data$OldTagNum==\"325\" | colony_data$OldTagNum==\"378\")\n",
    "colony_data[colony_notfound, \"Notes_May2022\"]<-\"Not_found\""
   ]
  },
  {
   "cell_type": "code",
   "execution_count": 197,
   "id": "7b3bff6c-8f8c-460f-a907-60a6901cad5e",
   "metadata": {},
   "outputs": [
    {
     "data": {
      "text/html": [
       "<table class=\"dataframe\">\n",
       "<caption>A data.frame: 3 × 9</caption>\n",
       "<thead>\n",
       "\t<tr><th></th><th scope=col>Transect</th><th scope=col>OldTagNum</th><th scope=col>NewTagNum</th><th scope=col>Notes_June_2019</th><th scope=col>Date_DocumentedDisease</th><th scope=col>Date_DocumentedMortality</th><th scope=col>Notes_May2022</th><th scope=col>X052022_Condition</th><th scope=col>X122022_Condition</th></tr>\n",
       "\t<tr><th></th><th scope=col>&lt;chr&gt;</th><th scope=col>&lt;chr&gt;</th><th scope=col>&lt;chr&gt;</th><th scope=col>&lt;chr&gt;</th><th scope=col>&lt;chr&gt;</th><th scope=col>&lt;chr&gt;</th><th scope=col>&lt;chr&gt;</th><th scope=col>&lt;chr&gt;</th><th scope=col>&lt;chr&gt;</th></tr>\n",
       "</thead>\n",
       "<tbody>\n",
       "\t<tr><th scope=row>76</th><td>SR30N </td><td>311</td><td>311</td><td>processing_delayed_because_of_power_steering_failure,_tow_time</td><td>Unknown</td><td>5/20/22</td><td>NA       </td><td>Dead</td><td>Dead</td></tr>\n",
       "\t<tr><th scope=row>82</th><td>SR30N </td><td>325</td><td>325</td><td>processing_delayed_because_of_power_steering_failure,_tow_time</td><td>Unknown</td><td>5/20/22</td><td>Not_found</td><td>Dead</td><td>Dead</td></tr>\n",
       "\t<tr><th scope=row>131</th><td>Lagoon</td><td>378</td><td>378</td><td>                                                              </td><td>Unknown</td><td>5/20/22</td><td>Not_found</td><td>Dead</td><td>Dead</td></tr>\n",
       "</tbody>\n",
       "</table>\n"
      ],
      "text/latex": [
       "A data.frame: 3 × 9\n",
       "\\begin{tabular}{r|lllllllll}\n",
       "  & Transect & OldTagNum & NewTagNum & Notes\\_June\\_2019 & Date\\_DocumentedDisease & Date\\_DocumentedMortality & Notes\\_May2022 & X052022\\_Condition & X122022\\_Condition\\\\\n",
       "  & <chr> & <chr> & <chr> & <chr> & <chr> & <chr> & <chr> & <chr> & <chr>\\\\\n",
       "\\hline\n",
       "\t76 & SR30N  & 311 & 311 & processing\\_delayed\\_because\\_of\\_power\\_steering\\_failure,\\_tow\\_time & Unknown & 5/20/22 & NA        & Dead & Dead\\\\\n",
       "\t82 & SR30N  & 325 & 325 & processing\\_delayed\\_because\\_of\\_power\\_steering\\_failure,\\_tow\\_time & Unknown & 5/20/22 & Not\\_found & Dead & Dead\\\\\n",
       "\t131 & Lagoon & 378 & 378 &                                                                & Unknown & 5/20/22 & Not\\_found & Dead & Dead\\\\\n",
       "\\end{tabular}\n"
      ],
      "text/markdown": [
       "\n",
       "A data.frame: 3 × 9\n",
       "\n",
       "| <!--/--> | Transect &lt;chr&gt; | OldTagNum &lt;chr&gt; | NewTagNum &lt;chr&gt; | Notes_June_2019 &lt;chr&gt; | Date_DocumentedDisease &lt;chr&gt; | Date_DocumentedMortality &lt;chr&gt; | Notes_May2022 &lt;chr&gt; | X052022_Condition &lt;chr&gt; | X122022_Condition &lt;chr&gt; |\n",
       "|---|---|---|---|---|---|---|---|---|---|\n",
       "| 76 | SR30N  | 311 | 311 | processing_delayed_because_of_power_steering_failure,_tow_time | Unknown | 5/20/22 | NA        | Dead | Dead |\n",
       "| 82 | SR30N  | 325 | 325 | processing_delayed_because_of_power_steering_failure,_tow_time | Unknown | 5/20/22 | Not_found | Dead | Dead |\n",
       "| 131 | Lagoon | 378 | 378 | <!----> | Unknown | 5/20/22 | Not_found | Dead | Dead |\n",
       "\n"
      ],
      "text/plain": [
       "    Transect OldTagNum NewTagNum\n",
       "76  SR30N    311       311      \n",
       "82  SR30N    325       325      \n",
       "131 Lagoon   378       378      \n",
       "    Notes_June_2019                                               \n",
       "76  processing_delayed_because_of_power_steering_failure,_tow_time\n",
       "82  processing_delayed_because_of_power_steering_failure,_tow_time\n",
       "131                                                               \n",
       "    Date_DocumentedDisease Date_DocumentedMortality Notes_May2022\n",
       "76  Unknown                5/20/22                  NA           \n",
       "82  Unknown                5/20/22                  Not_found    \n",
       "131 Unknown                5/20/22                  Not_found    \n",
       "    X052022_Condition X122022_Condition\n",
       "76  Dead              Dead             \n",
       "82  Dead              Dead             \n",
       "131 Dead              Dead             "
      ]
     },
     "metadata": {},
     "output_type": "display_data"
    }
   ],
   "source": [
    "colony_data[mmea_rows, c(\"Transect\",'OldTagNum','NewTagNum','Notes_June_2019','Date_DocumentedDisease','Date_DocumentedMortality','Notes_May2022','X052022_Condition','X122022_Condition')]"
   ]
  },
  {
   "cell_type": "code",
   "execution_count": 237,
   "id": "0d9bbada-dc8f-431a-bb63-cfc81f37c79f",
   "metadata": {},
   "outputs": [
    {
     "data": {
      "text/html": [
       "<style>\n",
       ".list-inline {list-style: none; margin:0; padding: 0}\n",
       ".list-inline>li {display: inline-block}\n",
       ".list-inline>li:not(:last-child)::after {content: \"\\00b7\"; padding: 0 .5ex}\n",
       "</style>\n",
       "<ol class=list-inline><li>'062019_Condition'</li><li>'052022_Condition'</li><li>'122022_Condition'</li><li>'092023_Condition'</li><li>'112023_Condition'</li><li>'122023_Condition'</li><li>'012024_Condition'</li><li>'022024_Condition'</li><li>'042024_Condition'</li></ol>\n"
      ],
      "text/latex": [
       "\\begin{enumerate*}\n",
       "\\item '062019\\_Condition'\n",
       "\\item '052022\\_Condition'\n",
       "\\item '122022\\_Condition'\n",
       "\\item '092023\\_Condition'\n",
       "\\item '112023\\_Condition'\n",
       "\\item '122023\\_Condition'\n",
       "\\item '012024\\_Condition'\n",
       "\\item '022024\\_Condition'\n",
       "\\item '042024\\_Condition'\n",
       "\\end{enumerate*}\n"
      ],
      "text/markdown": [
       "1. '062019_Condition'\n",
       "2. '052022_Condition'\n",
       "3. '122022_Condition'\n",
       "4. '092023_Condition'\n",
       "5. '112023_Condition'\n",
       "6. '122023_Condition'\n",
       "7. '012024_Condition'\n",
       "8. '022024_Condition'\n",
       "9. '042024_Condition'\n",
       "\n",
       "\n"
      ],
      "text/plain": [
       "[1] \"062019_Condition\" \"052022_Condition\" \"122022_Condition\" \"092023_Condition\"\n",
       "[5] \"112023_Condition\" \"122023_Condition\" \"012024_Condition\" \"022024_Condition\"\n",
       "[9] \"042024_Condition\""
      ]
     },
     "metadata": {},
     "output_type": "display_data"
    }
   ],
   "source": [
    "condition_columns<-gsub(\"^X\", \"\", condition_columns)\n",
    "condition_columns <- setdiff(condition_columns, '052023_Condition')\n",
    "condition_columns"
   ]
  },
  {
   "cell_type": "code",
   "execution_count": 238,
   "id": "347d045f-f907-469f-98e2-0c0279d5d261",
   "metadata": {
    "scrolled": true
   },
   "outputs": [
    {
     "data": {
      "text/html": [
       "<style>\n",
       ".list-inline {list-style: none; margin:0; padding: 0}\n",
       ".list-inline>li {display: inline-block}\n",
       ".list-inline>li:not(:last-child)::after {content: \"\\00b7\"; padding: 0 .5ex}\n",
       "</style>\n",
       "<ol class=list-inline><li>'062019_Condition'</li><li>'052022_Condition'</li><li>'122022_Condition'</li><li>'092023_Condition'</li><li>'112023_Condition'</li><li>'122023_Condition'</li><li>'012024_Condition'</li><li>'022024_Condition'</li><li>'042024_Condition'</li><li>'Date_InitialTag'</li><li>'Transect'</li><li>'OldTagNum'</li><li>'NewTagNum'</li><li>'Species'</li><li>'Notes_Jun2019'</li><li>'Date_DocumentedDisease'</li><li>'Date_DocumentedMortality'</li><li>'Notes_May2022'</li></ol>\n"
      ],
      "text/latex": [
       "\\begin{enumerate*}\n",
       "\\item '062019\\_Condition'\n",
       "\\item '052022\\_Condition'\n",
       "\\item '122022\\_Condition'\n",
       "\\item '092023\\_Condition'\n",
       "\\item '112023\\_Condition'\n",
       "\\item '122023\\_Condition'\n",
       "\\item '012024\\_Condition'\n",
       "\\item '022024\\_Condition'\n",
       "\\item '042024\\_Condition'\n",
       "\\item 'Date\\_InitialTag'\n",
       "\\item 'Transect'\n",
       "\\item 'OldTagNum'\n",
       "\\item 'NewTagNum'\n",
       "\\item 'Species'\n",
       "\\item 'Notes\\_Jun2019'\n",
       "\\item 'Date\\_DocumentedDisease'\n",
       "\\item 'Date\\_DocumentedMortality'\n",
       "\\item 'Notes\\_May2022'\n",
       "\\end{enumerate*}\n"
      ],
      "text/markdown": [
       "1. '062019_Condition'\n",
       "2. '052022_Condition'\n",
       "3. '122022_Condition'\n",
       "4. '092023_Condition'\n",
       "5. '112023_Condition'\n",
       "6. '122023_Condition'\n",
       "7. '012024_Condition'\n",
       "8. '022024_Condition'\n",
       "9. '042024_Condition'\n",
       "10. 'Date_InitialTag'\n",
       "11. 'Transect'\n",
       "12. 'OldTagNum'\n",
       "13. 'NewTagNum'\n",
       "14. 'Species'\n",
       "15. 'Notes_Jun2019'\n",
       "16. 'Date_DocumentedDisease'\n",
       "17. 'Date_DocumentedMortality'\n",
       "18. 'Notes_May2022'\n",
       "\n",
       "\n"
      ],
      "text/plain": [
       " [1] \"062019_Condition\"         \"052022_Condition\"        \n",
       " [3] \"122022_Condition\"         \"092023_Condition\"        \n",
       " [5] \"112023_Condition\"         \"122023_Condition\"        \n",
       " [7] \"012024_Condition\"         \"022024_Condition\"        \n",
       " [9] \"042024_Condition\"         \"Date_InitialTag\"         \n",
       "[11] \"Transect\"                 \"OldTagNum\"               \n",
       "[13] \"NewTagNum\"                \"Species\"                 \n",
       "[15] \"Notes_Jun2019\"            \"Date_DocumentedDisease\"  \n",
       "[17] \"Date_DocumentedMortality\" \"Notes_May2022\"           "
      ]
     },
     "metadata": {},
     "output_type": "display_data"
    }
   ],
   "source": [
    "view_cols<- append(condition_columns,c(\"Date_InitialTag\",\"Transect\",'OldTagNum','NewTagNum','Species','Notes_Jun2019','Date_DocumentedDisease','Date_DocumentedMortality','Notes_May2022'))\n",
    "view_cols"
   ]
  },
  {
   "cell_type": "code",
   "execution_count": 240,
   "id": "ae5d6672-5994-4b98-abce-0010f83abe95",
   "metadata": {},
   "outputs": [
    {
     "data": {
      "text/html": [
       "<table class=\"dataframe\">\n",
       "<caption>A data.frame: 9 × 18</caption>\n",
       "<thead>\n",
       "\t<tr><th></th><th scope=col>062019_Condition</th><th scope=col>052022_Condition</th><th scope=col>122022_Condition</th><th scope=col>092023_Condition</th><th scope=col>112023_Condition</th><th scope=col>122023_Condition</th><th scope=col>012024_Condition</th><th scope=col>022024_Condition</th><th scope=col>042024_Condition</th><th scope=col>Date_InitialTag</th><th scope=col>Transect</th><th scope=col>OldTagNum</th><th scope=col>NewTagNum</th><th scope=col>Species</th><th scope=col>Notes_Jun2019</th><th scope=col>Date_DocumentedDisease</th><th scope=col>Date_DocumentedMortality</th><th scope=col>Notes_May2022</th></tr>\n",
       "\t<tr><th></th><th scope=col>&lt;chr&gt;</th><th scope=col>&lt;chr&gt;</th><th scope=col>&lt;chr&gt;</th><th scope=col>&lt;chr&gt;</th><th scope=col>&lt;chr&gt;</th><th scope=col>&lt;chr&gt;</th><th scope=col>&lt;chr&gt;</th><th scope=col>&lt;chr&gt;</th><th scope=col>&lt;chr&gt;</th><th scope=col>&lt;chr&gt;</th><th scope=col>&lt;chr&gt;</th><th scope=col>&lt;chr&gt;</th><th scope=col>&lt;chr&gt;</th><th scope=col>&lt;chr&gt;</th><th scope=col>&lt;chr&gt;</th><th scope=col>&lt;chr&gt;</th><th scope=col>&lt;chr&gt;</th><th scope=col>&lt;chr&gt;</th></tr>\n",
       "</thead>\n",
       "<tbody>\n",
       "\t<tr><th scope=row>37</th><td>NA     </td><td>NA     </td><td>Diseased</td><td>Dead    </td><td>Dead    </td><td>Dead    </td><td>Dead    </td><td>Dead    </td><td>    </td><td>       </td><td>SR30N </td><td>NA </td><td>28 </td><td>PSTR</td><td>                                                              </td><td>12/4/22</td><td>9/26/23 </td><td>                      </td></tr>\n",
       "\t<tr><th scope=row>38</th><td>NA     </td><td>CLP,CLB</td><td>100%,50%</td><td>NA      </td><td>NA      </td><td>NA      </td><td>NA      </td><td>NA      </td><td>    </td><td>       </td><td>SR30N </td><td>NA </td><td>29 </td><td>OFAV</td><td>                                                              </td><td>Healthy</td><td>Healthy </td><td>50% Bleach, 100% Pale </td></tr>\n",
       "\t<tr><th scope=row>39</th><td>NA     </td><td>NA     </td><td>Diseased</td><td>Diseased</td><td>Diseased</td><td>Diseased</td><td>Diseased</td><td>Diseased</td><td>    </td><td>       </td><td>SR30N </td><td>NA </td><td>30 </td><td>OANN</td><td>                                                              </td><td>12/4/22</td><td>Diseased</td><td>                      </td></tr>\n",
       "\t<tr><th scope=row>40</th><td>NA     </td><td>NA     </td><td>NA      </td><td>NA      </td><td>NA      </td><td>NA      </td><td>NA      </td><td>NA      </td><td>    </td><td>       </td><td>SR30N </td><td>NA </td><td>31 </td><td>DLAB</td><td>                                                              </td><td>Healthy</td><td>Healthy </td><td>                      </td></tr>\n",
       "\t<tr><th scope=row>41</th><td>NA     </td><td>NA     </td><td>NA      </td><td>CLP     </td><td>CLP     </td><td>CLP     </td><td>CLP     </td><td>CLP     </td><td>    </td><td>       </td><td>SR30N </td><td>NA </td><td>32 </td><td>PSTR</td><td>                                                              </td><td>Healthy</td><td>Healthy </td><td>                      </td></tr>\n",
       "\t<tr><th scope=row>76</th><td>Dead   </td><td>Dead   </td><td>Dead    </td><td>Dead    </td><td>Dead    </td><td>Dead    </td><td>Dead    </td><td>Dead    </td><td>Dead</td><td>6/22/19</td><td>SR30N </td><td>311</td><td>311</td><td>MMEA</td><td>processing_delayed_because_of_power_steering_failure,_tow_time</td><td>Unknown</td><td>5/20/22 </td><td>NA                    </td></tr>\n",
       "\t<tr><th scope=row>77</th><td>Healthy</td><td>Healthy</td><td>Healthy </td><td>Healthy </td><td>Healthy </td><td>Healthy </td><td>Healthy </td><td>Healthy </td><td>    </td><td>6/25/19</td><td>SR30N </td><td>347</td><td>NA </td><td>PAST</td><td>tag_cut_off                                                   </td><td>NA     </td><td>NA      </td><td>NA                    </td></tr>\n",
       "\t<tr><th scope=row>82</th><td>Dead   </td><td>Dead   </td><td>Dead    </td><td>Dead    </td><td>Dead    </td><td>Dead    </td><td>Dead    </td><td>Dead    </td><td>Dead</td><td>6/22/19</td><td>SR30N </td><td>325</td><td>325</td><td>MMEA</td><td>processing_delayed_because_of_power_steering_failure,_tow_time</td><td>Unknown</td><td>5/20/22 </td><td>Not_found             </td></tr>\n",
       "\t<tr><th scope=row>131</th><td>Dead   </td><td>Dead   </td><td>Dead    </td><td>Dead    </td><td>Dead    </td><td>Dead    </td><td>Dead    </td><td>Dead    </td><td>Dead</td><td>6/23/19</td><td>Lagoon</td><td>378</td><td>378</td><td>MMEA</td><td>                                                              </td><td>Unknown</td><td>5/20/22 </td><td>Not_found             </td></tr>\n",
       "</tbody>\n",
       "</table>\n"
      ],
      "text/latex": [
       "A data.frame: 9 × 18\n",
       "\\begin{tabular}{r|llllllllllllllllll}\n",
       "  & 062019\\_Condition & 052022\\_Condition & 122022\\_Condition & 092023\\_Condition & 112023\\_Condition & 122023\\_Condition & 012024\\_Condition & 022024\\_Condition & 042024\\_Condition & Date\\_InitialTag & Transect & OldTagNum & NewTagNum & Species & Notes\\_Jun2019 & Date\\_DocumentedDisease & Date\\_DocumentedMortality & Notes\\_May2022\\\\\n",
       "  & <chr> & <chr> & <chr> & <chr> & <chr> & <chr> & <chr> & <chr> & <chr> & <chr> & <chr> & <chr> & <chr> & <chr> & <chr> & <chr> & <chr> & <chr>\\\\\n",
       "\\hline\n",
       "\t37 & NA      & NA      & Diseased & Dead     & Dead     & Dead     & Dead     & Dead     &      &         & SR30N  & NA  & 28  & PSTR &                                                                & 12/4/22 & 9/26/23  &                       \\\\\n",
       "\t38 & NA      & CLP,CLB & 100\\%,50\\% & NA       & NA       & NA       & NA       & NA       &      &         & SR30N  & NA  & 29  & OFAV &                                                                & Healthy & Healthy  & 50\\% Bleach, 100\\% Pale \\\\\n",
       "\t39 & NA      & NA      & Diseased & Diseased & Diseased & Diseased & Diseased & Diseased &      &         & SR30N  & NA  & 30  & OANN &                                                                & 12/4/22 & Diseased &                       \\\\\n",
       "\t40 & NA      & NA      & NA       & NA       & NA       & NA       & NA       & NA       &      &         & SR30N  & NA  & 31  & DLAB &                                                                & Healthy & Healthy  &                       \\\\\n",
       "\t41 & NA      & NA      & NA       & CLP      & CLP      & CLP      & CLP      & CLP      &      &         & SR30N  & NA  & 32  & PSTR &                                                                & Healthy & Healthy  &                       \\\\\n",
       "\t76 & Dead    & Dead    & Dead     & Dead     & Dead     & Dead     & Dead     & Dead     & Dead & 6/22/19 & SR30N  & 311 & 311 & MMEA & processing\\_delayed\\_because\\_of\\_power\\_steering\\_failure,\\_tow\\_time & Unknown & 5/20/22  & NA                    \\\\\n",
       "\t77 & Healthy & Healthy & Healthy  & Healthy  & Healthy  & Healthy  & Healthy  & Healthy  &      & 6/25/19 & SR30N  & 347 & NA  & PAST & tag\\_cut\\_off                                                    & NA      & NA       & NA                    \\\\\n",
       "\t82 & Dead    & Dead    & Dead     & Dead     & Dead     & Dead     & Dead     & Dead     & Dead & 6/22/19 & SR30N  & 325 & 325 & MMEA & processing\\_delayed\\_because\\_of\\_power\\_steering\\_failure,\\_tow\\_time & Unknown & 5/20/22  & Not\\_found             \\\\\n",
       "\t131 & Dead    & Dead    & Dead     & Dead     & Dead     & Dead     & Dead     & Dead     & Dead & 6/23/19 & Lagoon & 378 & 378 & MMEA &                                                                & Unknown & 5/20/22  & Not\\_found             \\\\\n",
       "\\end{tabular}\n"
      ],
      "text/markdown": [
       "\n",
       "A data.frame: 9 × 18\n",
       "\n",
       "| <!--/--> | 062019_Condition &lt;chr&gt; | 052022_Condition &lt;chr&gt; | 122022_Condition &lt;chr&gt; | 092023_Condition &lt;chr&gt; | 112023_Condition &lt;chr&gt; | 122023_Condition &lt;chr&gt; | 012024_Condition &lt;chr&gt; | 022024_Condition &lt;chr&gt; | 042024_Condition &lt;chr&gt; | Date_InitialTag &lt;chr&gt; | Transect &lt;chr&gt; | OldTagNum &lt;chr&gt; | NewTagNum &lt;chr&gt; | Species &lt;chr&gt; | Notes_Jun2019 &lt;chr&gt; | Date_DocumentedDisease &lt;chr&gt; | Date_DocumentedMortality &lt;chr&gt; | Notes_May2022 &lt;chr&gt; |\n",
       "|---|---|---|---|---|---|---|---|---|---|---|---|---|---|---|---|---|---|---|\n",
       "| 37 | NA      | NA      | Diseased | Dead     | Dead     | Dead     | Dead     | Dead     | <!----> | <!----> | SR30N  | NA  | 28  | PSTR | <!----> | 12/4/22 | 9/26/23  | <!----> |\n",
       "| 38 | NA      | CLP,CLB | 100%,50% | NA       | NA       | NA       | NA       | NA       | <!----> | <!----> | SR30N  | NA  | 29  | OFAV | <!----> | Healthy | Healthy  | 50% Bleach, 100% Pale  |\n",
       "| 39 | NA      | NA      | Diseased | Diseased | Diseased | Diseased | Diseased | Diseased | <!----> | <!----> | SR30N  | NA  | 30  | OANN | <!----> | 12/4/22 | Diseased | <!----> |\n",
       "| 40 | NA      | NA      | NA       | NA       | NA       | NA       | NA       | NA       | <!----> | <!----> | SR30N  | NA  | 31  | DLAB | <!----> | Healthy | Healthy  | <!----> |\n",
       "| 41 | NA      | NA      | NA       | CLP      | CLP      | CLP      | CLP      | CLP      | <!----> | <!----> | SR30N  | NA  | 32  | PSTR | <!----> | Healthy | Healthy  | <!----> |\n",
       "| 76 | Dead    | Dead    | Dead     | Dead     | Dead     | Dead     | Dead     | Dead     | Dead | 6/22/19 | SR30N  | 311 | 311 | MMEA | processing_delayed_because_of_power_steering_failure,_tow_time | Unknown | 5/20/22  | NA                     |\n",
       "| 77 | Healthy | Healthy | Healthy  | Healthy  | Healthy  | Healthy  | Healthy  | Healthy  | <!----> | 6/25/19 | SR30N  | 347 | NA  | PAST | tag_cut_off                                                    | NA      | NA       | NA                     |\n",
       "| 82 | Dead    | Dead    | Dead     | Dead     | Dead     | Dead     | Dead     | Dead     | Dead | 6/22/19 | SR30N  | 325 | 325 | MMEA | processing_delayed_because_of_power_steering_failure,_tow_time | Unknown | 5/20/22  | Not_found              |\n",
       "| 131 | Dead    | Dead    | Dead     | Dead     | Dead     | Dead     | Dead     | Dead     | Dead | 6/23/19 | Lagoon | 378 | 378 | MMEA | <!----> | Unknown | 5/20/22  | Not_found              |\n",
       "\n"
      ],
      "text/plain": [
       "    062019_Condition 052022_Condition 122022_Condition 092023_Condition\n",
       "37  NA               NA               Diseased         Dead            \n",
       "38  NA               CLP,CLB          100%,50%         NA              \n",
       "39  NA               NA               Diseased         Diseased        \n",
       "40  NA               NA               NA               NA              \n",
       "41  NA               NA               NA               CLP             \n",
       "76  Dead             Dead             Dead             Dead            \n",
       "77  Healthy          Healthy          Healthy          Healthy         \n",
       "82  Dead             Dead             Dead             Dead            \n",
       "131 Dead             Dead             Dead             Dead            \n",
       "    112023_Condition 122023_Condition 012024_Condition 022024_Condition\n",
       "37  Dead             Dead             Dead             Dead            \n",
       "38  NA               NA               NA               NA              \n",
       "39  Diseased         Diseased         Diseased         Diseased        \n",
       "40  NA               NA               NA               NA              \n",
       "41  CLP              CLP              CLP              CLP             \n",
       "76  Dead             Dead             Dead             Dead            \n",
       "77  Healthy          Healthy          Healthy          Healthy         \n",
       "82  Dead             Dead             Dead             Dead            \n",
       "131 Dead             Dead             Dead             Dead            \n",
       "    042024_Condition Date_InitialTag Transect OldTagNum NewTagNum Species\n",
       "37                                   SR30N    NA        28        PSTR   \n",
       "38                                   SR30N    NA        29        OFAV   \n",
       "39                                   SR30N    NA        30        OANN   \n",
       "40                                   SR30N    NA        31        DLAB   \n",
       "41                                   SR30N    NA        32        PSTR   \n",
       "76  Dead             6/22/19         SR30N    311       311       MMEA   \n",
       "77                   6/25/19         SR30N    347       NA        PAST   \n",
       "82  Dead             6/22/19         SR30N    325       325       MMEA   \n",
       "131 Dead             6/23/19         Lagoon   378       378       MMEA   \n",
       "    Notes_Jun2019                                                 \n",
       "37                                                                \n",
       "38                                                                \n",
       "39                                                                \n",
       "40                                                                \n",
       "41                                                                \n",
       "76  processing_delayed_because_of_power_steering_failure,_tow_time\n",
       "77  tag_cut_off                                                   \n",
       "82  processing_delayed_because_of_power_steering_failure,_tow_time\n",
       "131                                                               \n",
       "    Date_DocumentedDisease Date_DocumentedMortality Notes_May2022         \n",
       "37  12/4/22                9/26/23                                        \n",
       "38  Healthy                Healthy                  50% Bleach, 100% Pale \n",
       "39  12/4/22                Diseased                                       \n",
       "40  Healthy                Healthy                                        \n",
       "41  Healthy                Healthy                                        \n",
       "76  Unknown                5/20/22                  NA                    \n",
       "77  NA                     NA                       NA                    \n",
       "82  Unknown                5/20/22                  Not_found             \n",
       "131 Unknown                5/20/22                  Not_found             "
      ]
     },
     "metadata": {},
     "output_type": "display_data"
    }
   ],
   "source": [
    "colony_data[colony_data$COLONIES_TO_LOOK_AT != \"\",view_cols]"
   ]
  },
  {
   "cell_type": "code",
   "execution_count": 244,
   "id": "23f0f9a1-70f0-4b4d-94e5-19d64a5ba0bb",
   "metadata": {},
   "outputs": [],
   "source": [
    "# ofav 29 & tagged may22, rest 12/22\n",
    "ofav29<-(colony_data$COLONIES_TO_LOOK_AT != \"\") & (colony_data$Species=='OFAV') & (colony_data$NewTagNum=='29')\n",
    "colony_data[ofav29,\"Date_InitialTag\"]<- '5/24/22'\n",
    "# no pic in 5/22 but taking from notes:\n",
    "colony_data[ofav29,\"052022_Percentage\"]<- '100%,50%'\n",
    "# samples taken in 12/22 were healthy (no pics)\n",
    "colony_data[ofav29,\"122022_Condition\"]<- 'Healthy'\n",
    "# sampling notes: CLB 50%; CLP 10%, matches picture \n",
    "colony_data[ofav29,\"092023_Condition\"]<- 'CLP,CLB'\n",
    "colony_data[ofav29,\"092023_Percentage\"]<- '10%,50%'\n",
    "# not visited 11/23,12/23 & no pics\n",
    "colony_data[ofav29,c(\"112023_Condition\",\"122023_Condition\")]<- \"Not_visited\"\n",
    "# healthy 1/24 but no sample (pics)\n",
    "colony_data[ofav29,\"012024_Condition\"]<- 'Healthy'\n",
    "# healthy 4/24 (pics)\n",
    "colony_data[ofav29,\"042024_Condition\"]<- 'Healthy'"
   ]
  },
  {
   "cell_type": "code",
   "execution_count": 255,
   "id": "67ada695-16a4-4e23-8cc0-37cbc9062761",
   "metadata": {},
   "outputs": [],
   "source": [
    "# pstr 28: first and only samples appear 12/22 (diseased)\n",
    "pstr28<-(colony_data$COLONIES_TO_LOOK_AT != \"\") & (colony_data$Species=='PSTR') & (colony_data$NewTagNum=='28')\n",
    "colony_data[pstr28,\"Date_InitialTag\"]<- '12/5/2022'\n",
    "# pic in 9/23 shows dead - leave conditions as is "
   ]
  },
  {
   "cell_type": "code",
   "execution_count": 245,
   "id": "59567c1a-c2de-4e39-8226-d0d1ccdbaa10",
   "metadata": {},
   "outputs": [],
   "source": [
    "# oann 30\n",
    "oann30<-(colony_data$COLONIES_TO_LOOK_AT != \"\") & (colony_data$Species=='OANN') & (colony_data$NewTagNum=='30')\n",
    "colony_data[oann30,\"Date_InitialTag\"]<- '12/5/2022'\n",
    "# 9/23 bleaching. sample notes: CLB 80%; CLP 10%. sample type labeled as disease tissue and margin tho..\n",
    "colony_data[oann30,\"092023_Condition\"]<- 'CLP,CLB'\n",
    "colony_data[oann30,\"092023_Percentage\"]<- '10%,80%'\n",
    "# not visited again until 4/24 - healthy \n",
    "colony_data[oann30,c(\"112023_Condition\",'122023_Condition','012024_Condition','022024_Condition')]<- 'Not_visited'\n",
    "colony_data[oann30,\"042024_Condition\"]<- 'Healthy'"
   ]
  },
  {
   "cell_type": "code",
   "execution_count": 246,
   "id": "919b7a78-3dd3-4ab0-88bf-2da64916f314",
   "metadata": {},
   "outputs": [],
   "source": [
    "# dlab 31 - tagged 12/22\n",
    "dlab31<-(colony_data$COLONIES_TO_LOOK_AT != \"\") & (colony_data$Species=='DLAB') & (colony_data$NewTagNum=='31')\n",
    "colony_data[dlab31,\"Date_InitialTag\"]<- '12/5/2022'\n",
    "# healthy 12/22, 9/23, healthy 1/24 (but not sampled??), 4/24\n",
    "colony_data[dlab31,c(\"122022_Condition\",\"092023_Condition\",'012024_Condition','042024_Condition')]<- \"Healthy\"\n",
    "# not visited 11/23, 12/23, 2/24\n",
    "colony_data[dlab31,c(\"112023_Condition\",'122023_Condition','022024_Condition')]<- \"Not_visited\""
   ]
  },
  {
   "cell_type": "code",
   "execution_count": 247,
   "id": "dcf365a4-3567-477e-a774-c382fb43697c",
   "metadata": {},
   "outputs": [],
   "source": [
    "# pstr 32 - tagged 12/22\n",
    "pstr32<-(colony_data$COLONIES_TO_LOOK_AT != \"\") & (colony_data$Species=='PSTR') & (colony_data$NewTagNum=='32')\n",
    "colony_data[pstr32,\"Date_InitialTag\"]<- '12/5/2022'\n",
    "# only sampled as healthy 12/22, 4/24 (no pic 4/24), healthy (based on pics) 12/22, 9/23, \n",
    "colony_data[pstr32,c(\"122022_Condition\",'092023_Condition','042024_Condition')]<- 'Healthy'\n",
    "# not visited 11/23, 12/23, 1/24\n",
    "colony_data[pstr32,c(\"122023_Condition\",'012024_Condition')]<- 'Not_visited'   "
   ]
  },
  {
   "cell_type": "code",
   "execution_count": 250,
   "id": "02b1af5a-2a82-4a57-9232-fd6e34bfb714",
   "metadata": {},
   "outputs": [
    {
     "data": {
      "text/html": [
       "<style>\n",
       ".list-inline {list-style: none; margin:0; padding: 0}\n",
       ".list-inline>li {display: inline-block}\n",
       ".list-inline>li:not(:last-child)::after {content: \"\\00b7\"; padding: 0 .5ex}\n",
       "</style>\n",
       "<ol class=list-inline><li>'062019_Condition'</li><li>'052022_Condition'</li><li>'122022_Condition'</li><li>'092023_Condition'</li><li>'112023_Condition'</li><li>'122023_Condition'</li><li>'012024_Condition'</li><li>'022024_Condition'</li><li>'042024_Condition'</li></ol>\n"
      ],
      "text/latex": [
       "\\begin{enumerate*}\n",
       "\\item '062019\\_Condition'\n",
       "\\item '052022\\_Condition'\n",
       "\\item '122022\\_Condition'\n",
       "\\item '092023\\_Condition'\n",
       "\\item '112023\\_Condition'\n",
       "\\item '122023\\_Condition'\n",
       "\\item '012024\\_Condition'\n",
       "\\item '022024\\_Condition'\n",
       "\\item '042024\\_Condition'\n",
       "\\end{enumerate*}\n"
      ],
      "text/markdown": [
       "1. '062019_Condition'\n",
       "2. '052022_Condition'\n",
       "3. '122022_Condition'\n",
       "4. '092023_Condition'\n",
       "5. '112023_Condition'\n",
       "6. '122023_Condition'\n",
       "7. '012024_Condition'\n",
       "8. '022024_Condition'\n",
       "9. '042024_Condition'\n",
       "\n",
       "\n"
      ],
      "text/plain": [
       "[1] \"062019_Condition\" \"052022_Condition\" \"122022_Condition\" \"092023_Condition\"\n",
       "[5] \"112023_Condition\" \"122023_Condition\" \"012024_Condition\" \"022024_Condition\"\n",
       "[9] \"042024_Condition\""
      ]
     },
     "metadata": {},
     "output_type": "display_data"
    }
   ],
   "source": [
    "condition_columns"
   ]
  },
  {
   "cell_type": "code",
   "execution_count": 251,
   "id": "06fa7a20-9657-4c31-81c4-cbb1e3bb3bf8",
   "metadata": {},
   "outputs": [],
   "source": [
    "past347cols <- setdiff(condition_columns, '062019_Condition')"
   ]
  },
  {
   "cell_type": "code",
   "execution_count": 253,
   "id": "bd4269c5-fc60-4d3f-add5-782739bda261",
   "metadata": {},
   "outputs": [],
   "source": [
    "# past 347 \n",
    "# pic in 2019 is healthy, notes say tag was cut off, i think was only sampled in 2019 \n",
    "past347<-(colony_data$COLONIES_TO_LOOK_AT != \"\") & (colony_data$Species=='PAST') & (colony_data$OldTagNum=='347')\n",
    "colony_data[past347,past347cols]<- 'Not_visited' "
   ]
  },
  {
   "cell_type": "code",
   "execution_count": 229,
   "id": "edcee399-f604-4fe1-84bc-8688866fd99d",
   "metadata": {},
   "outputs": [
    {
     "data": {
      "text/html": [
       "<style>\n",
       ".list-inline {list-style: none; margin:0; padding: 0}\n",
       ".list-inline>li {display: inline-block}\n",
       ".list-inline>li:not(:last-child)::after {content: \"\\00b7\"; padding: 0 .5ex}\n",
       "</style>\n",
       "<ol class=list-inline><li>'Date_InitialTag'</li><li>'Transect'</li><li>'TransectNum'</li><li>'OldTagNum'</li><li>'NewTagNum'</li><li>'Species'</li><li>'Meter'</li><li>'Meters_90'</li><li>'Direction'</li><li>'Size_Class'</li><li>'Notes_Jun2019'</li><li>'MaxDiameter'</li><li>'Height'</li><li>'Date_DocumentedDisease'</li><li>'Date_DocumentedMortality'</li><li>'Notes_May2022'</li><li>'Notes_Sep2023'</li><li>'Notes_Nov2023'</li><li>'Notes_Dec2023'</li><li>'Notes_Jan2024'</li><li>'Notes_Feb2024'</li><li>'Notes_Apr2024'</li><li>'062019_Condition'</li><li>'062019_Percentage'</li><li>'052022_Condition'</li><li>'122022_Condition'</li><li>'092023_Condition'</li><li>'092023_Percentage'</li><li>'112023_Condition'</li><li>'112023_Percentage'</li><li>'122023_Condition'</li><li>'122023_Percentage'</li><li>'012024_Condition'</li><li>'012024_Percentage'</li><li>'022024_Condition'</li><li>'022024_Percentage'</li><li>'042024_Condition'</li><li>'042024_Percentage'</li><li>'COLONIES_TO_LOOK_AT'</li></ol>\n"
      ],
      "text/latex": [
       "\\begin{enumerate*}\n",
       "\\item 'Date\\_InitialTag'\n",
       "\\item 'Transect'\n",
       "\\item 'TransectNum'\n",
       "\\item 'OldTagNum'\n",
       "\\item 'NewTagNum'\n",
       "\\item 'Species'\n",
       "\\item 'Meter'\n",
       "\\item 'Meters\\_90'\n",
       "\\item 'Direction'\n",
       "\\item 'Size\\_Class'\n",
       "\\item 'Notes\\_Jun2019'\n",
       "\\item 'MaxDiameter'\n",
       "\\item 'Height'\n",
       "\\item 'Date\\_DocumentedDisease'\n",
       "\\item 'Date\\_DocumentedMortality'\n",
       "\\item 'Notes\\_May2022'\n",
       "\\item 'Notes\\_Sep2023'\n",
       "\\item 'Notes\\_Nov2023'\n",
       "\\item 'Notes\\_Dec2023'\n",
       "\\item 'Notes\\_Jan2024'\n",
       "\\item 'Notes\\_Feb2024'\n",
       "\\item 'Notes\\_Apr2024'\n",
       "\\item '062019\\_Condition'\n",
       "\\item '062019\\_Percentage'\n",
       "\\item '052022\\_Condition'\n",
       "\\item '122022\\_Condition'\n",
       "\\item '092023\\_Condition'\n",
       "\\item '092023\\_Percentage'\n",
       "\\item '112023\\_Condition'\n",
       "\\item '112023\\_Percentage'\n",
       "\\item '122023\\_Condition'\n",
       "\\item '122023\\_Percentage'\n",
       "\\item '012024\\_Condition'\n",
       "\\item '012024\\_Percentage'\n",
       "\\item '022024\\_Condition'\n",
       "\\item '022024\\_Percentage'\n",
       "\\item '042024\\_Condition'\n",
       "\\item '042024\\_Percentage'\n",
       "\\item 'COLONIES\\_TO\\_LOOK\\_AT'\n",
       "\\end{enumerate*}\n"
      ],
      "text/markdown": [
       "1. 'Date_InitialTag'\n",
       "2. 'Transect'\n",
       "3. 'TransectNum'\n",
       "4. 'OldTagNum'\n",
       "5. 'NewTagNum'\n",
       "6. 'Species'\n",
       "7. 'Meter'\n",
       "8. 'Meters_90'\n",
       "9. 'Direction'\n",
       "10. 'Size_Class'\n",
       "11. 'Notes_Jun2019'\n",
       "12. 'MaxDiameter'\n",
       "13. 'Height'\n",
       "14. 'Date_DocumentedDisease'\n",
       "15. 'Date_DocumentedMortality'\n",
       "16. 'Notes_May2022'\n",
       "17. 'Notes_Sep2023'\n",
       "18. 'Notes_Nov2023'\n",
       "19. 'Notes_Dec2023'\n",
       "20. 'Notes_Jan2024'\n",
       "21. 'Notes_Feb2024'\n",
       "22. 'Notes_Apr2024'\n",
       "23. '062019_Condition'\n",
       "24. '062019_Percentage'\n",
       "25. '052022_Condition'\n",
       "26. '122022_Condition'\n",
       "27. '092023_Condition'\n",
       "28. '092023_Percentage'\n",
       "29. '112023_Condition'\n",
       "30. '112023_Percentage'\n",
       "31. '122023_Condition'\n",
       "32. '122023_Percentage'\n",
       "33. '012024_Condition'\n",
       "34. '012024_Percentage'\n",
       "35. '022024_Condition'\n",
       "36. '022024_Percentage'\n",
       "37. '042024_Condition'\n",
       "38. '042024_Percentage'\n",
       "39. 'COLONIES_TO_LOOK_AT'\n",
       "\n",
       "\n"
      ],
      "text/plain": [
       " [1] \"Date_InitialTag\"          \"Transect\"                \n",
       " [3] \"TransectNum\"              \"OldTagNum\"               \n",
       " [5] \"NewTagNum\"                \"Species\"                 \n",
       " [7] \"Meter\"                    \"Meters_90\"               \n",
       " [9] \"Direction\"                \"Size_Class\"              \n",
       "[11] \"Notes_Jun2019\"            \"MaxDiameter\"             \n",
       "[13] \"Height\"                   \"Date_DocumentedDisease\"  \n",
       "[15] \"Date_DocumentedMortality\" \"Notes_May2022\"           \n",
       "[17] \"Notes_Sep2023\"            \"Notes_Nov2023\"           \n",
       "[19] \"Notes_Dec2023\"            \"Notes_Jan2024\"           \n",
       "[21] \"Notes_Feb2024\"            \"Notes_Apr2024\"           \n",
       "[23] \"062019_Condition\"         \"062019_Percentage\"       \n",
       "[25] \"052022_Condition\"         \"122022_Condition\"        \n",
       "[27] \"092023_Condition\"         \"092023_Percentage\"       \n",
       "[29] \"112023_Condition\"         \"112023_Percentage\"       \n",
       "[31] \"122023_Condition\"         \"122023_Percentage\"       \n",
       "[33] \"012024_Condition\"         \"012024_Percentage\"       \n",
       "[35] \"022024_Condition\"         \"022024_Percentage\"       \n",
       "[37] \"042024_Condition\"         \"042024_Percentage\"       \n",
       "[39] \"COLONIES_TO_LOOK_AT\"     "
      ]
     },
     "metadata": {},
     "output_type": "display_data"
    }
   ],
   "source": [
    "colnames(colony_data)"
   ]
  },
  {
   "cell_type": "markdown",
   "id": "d460be3d-43a8-4233-8139-b08a5f2aa59d",
   "metadata": {},
   "source": [
    "### Fix organizational and formatting issues"
   ]
  },
  {
   "cell_type": "code",
   "execution_count": 199,
   "id": "638fc075-3225-4a72-8a84-e3dfe83a9944",
   "metadata": {},
   "outputs": [],
   "source": [
    "# remove added columns and 5/23 condition col\n",
    "colony_data$Year_tagged <- NULL\n",
    "colony_data$ID <- NULL\n",
    "colony_data$Notes_May22 <- NULL \n",
    "colony_data$X052023_Condition <- NULL "
   ]
  },
  {
   "cell_type": "code",
   "execution_count": 201,
   "id": "f0803155-08fc-49fd-9ff2-d9235b40fd84",
   "metadata": {},
   "outputs": [],
   "source": [
    "# rename notes columns to be consistent \n",
    "# following pattern as such: Notes_May2022\n",
    "colony_data <- colony_data %>% rename(\n",
    "  Notes_Jun2019 = Notes_June_2019,\n",
    "  Notes_Sep2023 = Sept_2023,\n",
    "  Notes_Nov2023 = Nov_2023,\n",
    "  Notes_Dec2023 = Dec_2023,\n",
    "  Notes_Jan2024 = Jan_2024,\n",
    "  Notes_Feb2024 = Feb_2024,\n",
    "  Notes_Apr2024 = April_2024\n",
    ")"
   ]
  },
  {
   "cell_type": "code",
   "execution_count": 202,
   "id": "66d9f9fd-a2c6-4047-aa31-429aa79de1f9",
   "metadata": {},
   "outputs": [],
   "source": [
    "# rename condition columns to drop the X \n",
    "colnames(colony_data) <- gsub(\"^X\", \"\", colnames(colony_data))"
   ]
  },
  {
   "cell_type": "code",
   "execution_count": 203,
   "id": "d92b384c-0364-443a-8799-cc32e62e7e69",
   "metadata": {},
   "outputs": [
    {
     "data": {
      "text/html": [
       "<style>\n",
       ".list-inline {list-style: none; margin:0; padding: 0}\n",
       ".list-inline>li {display: inline-block}\n",
       ".list-inline>li:not(:last-child)::after {content: \"\\00b7\"; padding: 0 .5ex}\n",
       "</style>\n",
       "<ol class=list-inline><li>'Date_InitialTag'</li><li>'Transect'</li><li>'TransectNum'</li><li>'OldTagNum'</li><li>'NewTagNum'</li><li>'Species'</li><li>'Meter'</li><li>'Meters_90'</li><li>'Direction'</li><li>'Size_Class'</li><li>'Notes_Jun2019'</li><li>'MaxDiameter'</li><li>'Height'</li><li>'Date_DocumentedDisease'</li><li>'Date_DocumentedMortality'</li><li>'Notes_May2022'</li><li>'Notes_Sep2023'</li><li>'Notes_Nov2023'</li><li>'Notes_Dec2023'</li><li>'Notes_Jan2024'</li><li>'Notes_Feb2024'</li><li>'Notes_Apr2024'</li><li>'062019_Condition'</li><li>'062019_Percentage'</li><li>'052022_Condition'</li><li>'122022_Condition'</li><li>'092023_Condition'</li><li>'092023_Percentage'</li><li>'112023_Condition'</li><li>'112023_Percentage'</li><li>'122023_Condition'</li><li>'122023_Percentage'</li><li>'012024_Condition'</li><li>'012024_Percentage'</li><li>'022024_Condition'</li><li>'022024_Percentage'</li><li>'042024_Condition'</li><li>'042024_Percentage'</li><li>'COLONIES_TO_LOOK_AT'</li></ol>\n"
      ],
      "text/latex": [
       "\\begin{enumerate*}\n",
       "\\item 'Date\\_InitialTag'\n",
       "\\item 'Transect'\n",
       "\\item 'TransectNum'\n",
       "\\item 'OldTagNum'\n",
       "\\item 'NewTagNum'\n",
       "\\item 'Species'\n",
       "\\item 'Meter'\n",
       "\\item 'Meters\\_90'\n",
       "\\item 'Direction'\n",
       "\\item 'Size\\_Class'\n",
       "\\item 'Notes\\_Jun2019'\n",
       "\\item 'MaxDiameter'\n",
       "\\item 'Height'\n",
       "\\item 'Date\\_DocumentedDisease'\n",
       "\\item 'Date\\_DocumentedMortality'\n",
       "\\item 'Notes\\_May2022'\n",
       "\\item 'Notes\\_Sep2023'\n",
       "\\item 'Notes\\_Nov2023'\n",
       "\\item 'Notes\\_Dec2023'\n",
       "\\item 'Notes\\_Jan2024'\n",
       "\\item 'Notes\\_Feb2024'\n",
       "\\item 'Notes\\_Apr2024'\n",
       "\\item '062019\\_Condition'\n",
       "\\item '062019\\_Percentage'\n",
       "\\item '052022\\_Condition'\n",
       "\\item '122022\\_Condition'\n",
       "\\item '092023\\_Condition'\n",
       "\\item '092023\\_Percentage'\n",
       "\\item '112023\\_Condition'\n",
       "\\item '112023\\_Percentage'\n",
       "\\item '122023\\_Condition'\n",
       "\\item '122023\\_Percentage'\n",
       "\\item '012024\\_Condition'\n",
       "\\item '012024\\_Percentage'\n",
       "\\item '022024\\_Condition'\n",
       "\\item '022024\\_Percentage'\n",
       "\\item '042024\\_Condition'\n",
       "\\item '042024\\_Percentage'\n",
       "\\item 'COLONIES\\_TO\\_LOOK\\_AT'\n",
       "\\end{enumerate*}\n"
      ],
      "text/markdown": [
       "1. 'Date_InitialTag'\n",
       "2. 'Transect'\n",
       "3. 'TransectNum'\n",
       "4. 'OldTagNum'\n",
       "5. 'NewTagNum'\n",
       "6. 'Species'\n",
       "7. 'Meter'\n",
       "8. 'Meters_90'\n",
       "9. 'Direction'\n",
       "10. 'Size_Class'\n",
       "11. 'Notes_Jun2019'\n",
       "12. 'MaxDiameter'\n",
       "13. 'Height'\n",
       "14. 'Date_DocumentedDisease'\n",
       "15. 'Date_DocumentedMortality'\n",
       "16. 'Notes_May2022'\n",
       "17. 'Notes_Sep2023'\n",
       "18. 'Notes_Nov2023'\n",
       "19. 'Notes_Dec2023'\n",
       "20. 'Notes_Jan2024'\n",
       "21. 'Notes_Feb2024'\n",
       "22. 'Notes_Apr2024'\n",
       "23. '062019_Condition'\n",
       "24. '062019_Percentage'\n",
       "25. '052022_Condition'\n",
       "26. '122022_Condition'\n",
       "27. '092023_Condition'\n",
       "28. '092023_Percentage'\n",
       "29. '112023_Condition'\n",
       "30. '112023_Percentage'\n",
       "31. '122023_Condition'\n",
       "32. '122023_Percentage'\n",
       "33. '012024_Condition'\n",
       "34. '012024_Percentage'\n",
       "35. '022024_Condition'\n",
       "36. '022024_Percentage'\n",
       "37. '042024_Condition'\n",
       "38. '042024_Percentage'\n",
       "39. 'COLONIES_TO_LOOK_AT'\n",
       "\n",
       "\n"
      ],
      "text/plain": [
       " [1] \"Date_InitialTag\"          \"Transect\"                \n",
       " [3] \"TransectNum\"              \"OldTagNum\"               \n",
       " [5] \"NewTagNum\"                \"Species\"                 \n",
       " [7] \"Meter\"                    \"Meters_90\"               \n",
       " [9] \"Direction\"                \"Size_Class\"              \n",
       "[11] \"Notes_Jun2019\"            \"MaxDiameter\"             \n",
       "[13] \"Height\"                   \"Date_DocumentedDisease\"  \n",
       "[15] \"Date_DocumentedMortality\" \"Notes_May2022\"           \n",
       "[17] \"Notes_Sep2023\"            \"Notes_Nov2023\"           \n",
       "[19] \"Notes_Dec2023\"            \"Notes_Jan2024\"           \n",
       "[21] \"Notes_Feb2024\"            \"Notes_Apr2024\"           \n",
       "[23] \"062019_Condition\"         \"062019_Percentage\"       \n",
       "[25] \"052022_Condition\"         \"122022_Condition\"        \n",
       "[27] \"092023_Condition\"         \"092023_Percentage\"       \n",
       "[29] \"112023_Condition\"         \"112023_Percentage\"       \n",
       "[31] \"122023_Condition\"         \"122023_Percentage\"       \n",
       "[33] \"012024_Condition\"         \"012024_Percentage\"       \n",
       "[35] \"022024_Condition\"         \"022024_Percentage\"       \n",
       "[37] \"042024_Condition\"         \"042024_Percentage\"       \n",
       "[39] \"COLONIES_TO_LOOK_AT\"     "
      ]
     },
     "metadata": {},
     "output_type": "display_data"
    }
   ],
   "source": [
    "colnames(colony_data) "
   ]
  },
  {
   "cell_type": "code",
   "execution_count": 259,
   "id": "d3ac6392-0277-4005-9377-4274776620cf",
   "metadata": {},
   "outputs": [],
   "source": [
    "# replace na's in newtagnum with oldtagnum\n",
    "colony_data[is.na(colony_data$NewTagNum),\"NewTagNum\"]<- colony_data[is.na(colony_data$NewTagNum),\"OldTagNum\"]"
   ]
  },
  {
   "cell_type": "code",
   "execution_count": 262,
   "id": "66fd740b-17da-4241-a2ea-8c4b2a656518",
   "metadata": {},
   "outputs": [
    {
     "data": {
      "text/html": [
       "<style>\n",
       ".list-inline {list-style: none; margin:0; padding: 0}\n",
       ".list-inline>li {display: inline-block}\n",
       ".list-inline>li:not(:last-child)::after {content: \"\\00b7\"; padding: 0 .5ex}\n",
       "</style>\n",
       "<ol class=list-inline><li>'CBC30N'</li><li>'SR30N'</li><li>'LAGOON'</li><li>'CURLEW'</li><li>'BB'</li><li>'HANGMAN'</li></ol>\n"
      ],
      "text/latex": [
       "\\begin{enumerate*}\n",
       "\\item 'CBC30N'\n",
       "\\item 'SR30N'\n",
       "\\item 'LAGOON'\n",
       "\\item 'CURLEW'\n",
       "\\item 'BB'\n",
       "\\item 'HANGMAN'\n",
       "\\end{enumerate*}\n"
      ],
      "text/markdown": [
       "1. 'CBC30N'\n",
       "2. 'SR30N'\n",
       "3. 'LAGOON'\n",
       "4. 'CURLEW'\n",
       "5. 'BB'\n",
       "6. 'HANGMAN'\n",
       "\n",
       "\n"
      ],
      "text/plain": [
       "[1] \"CBC30N\"  \"SR30N\"   \"LAGOON\"  \"CURLEW\"  \"BB\"      \"HANGMAN\""
      ]
     },
     "metadata": {},
     "output_type": "display_data"
    }
   ],
   "source": [
    "# make all transect names all caps \n",
    "colony_data$Transect <- toupper(colony_data$Transect)\n",
    "colony_data$Transect %>% unique()"
   ]
  },
  {
   "cell_type": "code",
   "execution_count": 265,
   "id": "e87e6fa3-6697-457b-b719-7b77a2465c25",
   "metadata": {},
   "outputs": [],
   "source": [
    "# change not_found in tag nums to original tag num and add note that they weren't found. \n",
    "# also double check their health statuses - mark not visited or dead ??\n",
    "colony_data[colony_data$NewTagNum==\"not_found\",\"NewTagNum\"]<-colony_data[colony_data$NewTagNum==\"not_found\",\"OldTagNum\"]"
   ]
  },
  {
   "cell_type": "code",
   "execution_count": 270,
   "id": "a82477d7-319f-4ae0-8b7f-e6b4cf4e6863",
   "metadata": {},
   "outputs": [
    {
     "data": {
      "text/html": [
       "<style>\n",
       ".list-inline {list-style: none; margin:0; padding: 0}\n",
       ".list-inline>li {display: inline-block}\n",
       ".list-inline>li:not(:last-child)::after {content: \"\\00b7\"; padding: 0 .5ex}\n",
       "</style>\n",
       "<ol class=list-inline><li>'062019_Condition'</li><li>'052022_Condition'</li><li>'122022_Condition'</li><li>'092023_Condition'</li><li>'112023_Condition'</li><li>'122023_Condition'</li><li>'012024_Condition'</li><li>'022024_Condition'</li><li>'042024_Condition'</li></ol>\n"
      ],
      "text/latex": [
       "\\begin{enumerate*}\n",
       "\\item '062019\\_Condition'\n",
       "\\item '052022\\_Condition'\n",
       "\\item '122022\\_Condition'\n",
       "\\item '092023\\_Condition'\n",
       "\\item '112023\\_Condition'\n",
       "\\item '122023\\_Condition'\n",
       "\\item '012024\\_Condition'\n",
       "\\item '022024\\_Condition'\n",
       "\\item '042024\\_Condition'\n",
       "\\end{enumerate*}\n"
      ],
      "text/markdown": [
       "1. '062019_Condition'\n",
       "2. '052022_Condition'\n",
       "3. '122022_Condition'\n",
       "4. '092023_Condition'\n",
       "5. '112023_Condition'\n",
       "6. '122023_Condition'\n",
       "7. '012024_Condition'\n",
       "8. '022024_Condition'\n",
       "9. '042024_Condition'\n",
       "\n",
       "\n"
      ],
      "text/plain": [
       "[1] \"062019_Condition\" \"052022_Condition\" \"122022_Condition\" \"092023_Condition\"\n",
       "[5] \"112023_Condition\" \"122023_Condition\" \"012024_Condition\" \"022024_Condition\"\n",
       "[9] \"042024_Condition\""
      ]
     },
     "metadata": {},
     "output_type": "display_data"
    }
   ],
   "source": [
    "condition_columns"
   ]
  },
  {
   "cell_type": "code",
   "execution_count": 271,
   "id": "f5463cab-5d0b-4270-b89a-02ae1037d1ec",
   "metadata": {},
   "outputs": [],
   "source": [
    "notfound<- (colony_data$Species==\"PAST\" & colony_data$NewTagNum==\"12flag\") | (colony_data$Species=='SSID' & colony_data$NewTagNum=='24')\n",
    "colony_data[notfound,\"Notes_May2022\"]<- \"Not_found\"\n",
    "colony_data[notfound,condition_columns]<- \"Not_visited\"\n",
    "colony_data[notfound,'062019_Condition']<- \"Healthy\""
   ]
  },
  {
   "cell_type": "code",
   "execution_count": 272,
   "id": "6e0bf0a0-6062-40e9-b7a9-e0d59dabe8e5",
   "metadata": {},
   "outputs": [
    {
     "data": {
      "text/html": [
       "<table class=\"dataframe\">\n",
       "<caption>A data.frame: 2 × 18</caption>\n",
       "<thead>\n",
       "\t<tr><th></th><th scope=col>062019_Condition</th><th scope=col>052022_Condition</th><th scope=col>122022_Condition</th><th scope=col>092023_Condition</th><th scope=col>112023_Condition</th><th scope=col>122023_Condition</th><th scope=col>012024_Condition</th><th scope=col>022024_Condition</th><th scope=col>042024_Condition</th><th scope=col>Date_InitialTag</th><th scope=col>Transect</th><th scope=col>OldTagNum</th><th scope=col>NewTagNum</th><th scope=col>Species</th><th scope=col>Notes_Jun2019</th><th scope=col>Date_DocumentedDisease</th><th scope=col>Date_DocumentedMortality</th><th scope=col>Notes_May2022</th></tr>\n",
       "\t<tr><th></th><th scope=col>&lt;chr&gt;</th><th scope=col>&lt;chr&gt;</th><th scope=col>&lt;chr&gt;</th><th scope=col>&lt;chr&gt;</th><th scope=col>&lt;chr&gt;</th><th scope=col>&lt;chr&gt;</th><th scope=col>&lt;chr&gt;</th><th scope=col>&lt;chr&gt;</th><th scope=col>&lt;chr&gt;</th><th scope=col>&lt;chr&gt;</th><th scope=col>&lt;chr&gt;</th><th scope=col>&lt;chr&gt;</th><th scope=col>&lt;chr&gt;</th><th scope=col>&lt;chr&gt;</th><th scope=col>&lt;chr&gt;</th><th scope=col>&lt;chr&gt;</th><th scope=col>&lt;chr&gt;</th><th scope=col>&lt;chr&gt;</th></tr>\n",
       "</thead>\n",
       "<tbody>\n",
       "\t<tr><th scope=row>132</th><td>Healthy</td><td>Not_visited</td><td>Not_visited</td><td>Not_visited</td><td>Not_visited</td><td>Not_visited</td><td>Not_visited</td><td>Not_visited</td><td>Not_visited</td><td>6/23/19</td><td>LAGOON</td><td>12flag</td><td>12flag</td><td>PAST</td><td>temporary_tag</td><td>NA</td><td>NA</td><td>Not_found</td></tr>\n",
       "\t<tr><th scope=row>133</th><td>Healthy</td><td>Not_visited</td><td>Not_visited</td><td>Not_visited</td><td>Not_visited</td><td>Not_visited</td><td>Not_visited</td><td>Not_visited</td><td>Not_visited</td><td>6/23/19</td><td>LAGOON</td><td>24    </td><td>24    </td><td>SSID</td><td>orange_tag   </td><td>NA</td><td>NA</td><td>Not_found</td></tr>\n",
       "</tbody>\n",
       "</table>\n"
      ],
      "text/latex": [
       "A data.frame: 2 × 18\n",
       "\\begin{tabular}{r|llllllllllllllllll}\n",
       "  & 062019\\_Condition & 052022\\_Condition & 122022\\_Condition & 092023\\_Condition & 112023\\_Condition & 122023\\_Condition & 012024\\_Condition & 022024\\_Condition & 042024\\_Condition & Date\\_InitialTag & Transect & OldTagNum & NewTagNum & Species & Notes\\_Jun2019 & Date\\_DocumentedDisease & Date\\_DocumentedMortality & Notes\\_May2022\\\\\n",
       "  & <chr> & <chr> & <chr> & <chr> & <chr> & <chr> & <chr> & <chr> & <chr> & <chr> & <chr> & <chr> & <chr> & <chr> & <chr> & <chr> & <chr> & <chr>\\\\\n",
       "\\hline\n",
       "\t132 & Healthy & Not\\_visited & Not\\_visited & Not\\_visited & Not\\_visited & Not\\_visited & Not\\_visited & Not\\_visited & Not\\_visited & 6/23/19 & LAGOON & 12flag & 12flag & PAST & temporary\\_tag & NA & NA & Not\\_found\\\\\n",
       "\t133 & Healthy & Not\\_visited & Not\\_visited & Not\\_visited & Not\\_visited & Not\\_visited & Not\\_visited & Not\\_visited & Not\\_visited & 6/23/19 & LAGOON & 24     & 24     & SSID & orange\\_tag    & NA & NA & Not\\_found\\\\\n",
       "\\end{tabular}\n"
      ],
      "text/markdown": [
       "\n",
       "A data.frame: 2 × 18\n",
       "\n",
       "| <!--/--> | 062019_Condition &lt;chr&gt; | 052022_Condition &lt;chr&gt; | 122022_Condition &lt;chr&gt; | 092023_Condition &lt;chr&gt; | 112023_Condition &lt;chr&gt; | 122023_Condition &lt;chr&gt; | 012024_Condition &lt;chr&gt; | 022024_Condition &lt;chr&gt; | 042024_Condition &lt;chr&gt; | Date_InitialTag &lt;chr&gt; | Transect &lt;chr&gt; | OldTagNum &lt;chr&gt; | NewTagNum &lt;chr&gt; | Species &lt;chr&gt; | Notes_Jun2019 &lt;chr&gt; | Date_DocumentedDisease &lt;chr&gt; | Date_DocumentedMortality &lt;chr&gt; | Notes_May2022 &lt;chr&gt; |\n",
       "|---|---|---|---|---|---|---|---|---|---|---|---|---|---|---|---|---|---|---|\n",
       "| 132 | Healthy | Not_visited | Not_visited | Not_visited | Not_visited | Not_visited | Not_visited | Not_visited | Not_visited | 6/23/19 | LAGOON | 12flag | 12flag | PAST | temporary_tag | NA | NA | Not_found |\n",
       "| 133 | Healthy | Not_visited | Not_visited | Not_visited | Not_visited | Not_visited | Not_visited | Not_visited | Not_visited | 6/23/19 | LAGOON | 24     | 24     | SSID | orange_tag    | NA | NA | Not_found |\n",
       "\n"
      ],
      "text/plain": [
       "    062019_Condition 052022_Condition 122022_Condition 092023_Condition\n",
       "132 Healthy          Not_visited      Not_visited      Not_visited     \n",
       "133 Healthy          Not_visited      Not_visited      Not_visited     \n",
       "    112023_Condition 122023_Condition 012024_Condition 022024_Condition\n",
       "132 Not_visited      Not_visited      Not_visited      Not_visited     \n",
       "133 Not_visited      Not_visited      Not_visited      Not_visited     \n",
       "    042024_Condition Date_InitialTag Transect OldTagNum NewTagNum Species\n",
       "132 Not_visited      6/23/19         LAGOON   12flag    12flag    PAST   \n",
       "133 Not_visited      6/23/19         LAGOON   24        24        SSID   \n",
       "    Notes_Jun2019 Date_DocumentedDisease Date_DocumentedMortality Notes_May2022\n",
       "132 temporary_tag NA                     NA                       Not_found    \n",
       "133 orange_tag    NA                     NA                       Not_found    "
      ]
     },
     "metadata": {},
     "output_type": "display_data"
    }
   ],
   "source": [
    "colony_data[notfound,view_cols]"
   ]
  },
  {
   "cell_type": "code",
   "execution_count": 273,
   "id": "16d5de58-de6e-490b-b47e-9566ca54a8be",
   "metadata": {},
   "outputs": [],
   "source": [
    "# export colony data \n",
    "write.csv(colony_data, file = \"CBC_ColonyData.csv\")"
   ]
  },
  {
   "cell_type": "markdown",
   "id": "ee0876dd-86f0-44df-a6b2-7a7b74ae7352",
   "metadata": {},
   "source": [
    "## Going back and checking off colonies that have been checked\n",
    "- x marks that colony has been checked.\n",
    "- go through unmarked colonies and check off as you go "
   ]
  },
  {
   "cell_type": "code",
   "execution_count": 39,
   "id": "079099ee-0242-405a-ae62-826497f54df0",
   "metadata": {},
   "outputs": [],
   "source": [
    "# upload new colony data only \n",
    "new_colony <- read.csv('CBC_ColonyData.csv')"
   ]
  },
  {
   "cell_type": "code",
   "execution_count": 40,
   "id": "1a8f69bd-05a8-461f-afe7-527968369ce9",
   "metadata": {},
   "outputs": [
    {
     "data": {
      "text/html": [
       "<style>\n",
       ".list-inline {list-style: none; margin:0; padding: 0}\n",
       ".list-inline>li {display: inline-block}\n",
       ".list-inline>li:not(:last-child)::after {content: \"\\00b7\"; padding: 0 .5ex}\n",
       "</style>\n",
       "<ol class=list-inline><li>217</li><li>40</li></ol>\n"
      ],
      "text/latex": [
       "\\begin{enumerate*}\n",
       "\\item 217\n",
       "\\item 40\n",
       "\\end{enumerate*}\n"
      ],
      "text/markdown": [
       "1. 217\n",
       "2. 40\n",
       "\n",
       "\n"
      ],
      "text/plain": [
       "[1] 217  40"
      ]
     },
     "metadata": {},
     "output_type": "display_data"
    }
   ],
   "source": [
    "new_colony <- new_colony[, -1]\n",
    "dim(new_colony)"
   ]
  },
  {
   "cell_type": "code",
   "execution_count": 41,
   "id": "0864d221-8689-46df-b47e-ce846ad49fd7",
   "metadata": {},
   "outputs": [],
   "source": [
    "new_colony <- new_colony %>% rename(\n",
    "    checked_colonies = COLONIES_TO_LOOK_AT)"
   ]
  },
  {
   "cell_type": "code",
   "execution_count": 42,
   "id": "b0a4af85-afef-4001-aff0-fda4d163425b",
   "metadata": {},
   "outputs": [],
   "source": [
    "# rename condition columns to drop the X \n",
    "colnames(new_colony) <- gsub(\"^X\", \"\", colnames(new_colony))"
   ]
  },
  {
   "cell_type": "code",
   "execution_count": 44,
   "id": "c6255c45-0242-4380-99a6-bf3d34233b71",
   "metadata": {},
   "outputs": [],
   "source": [
    "# add ID col \n",
    "new_colony$ID <- paste(new_colony$Species, new_colony$NewTagNum, new_colony$Transect, sep = \"_\")"
   ]
  },
  {
   "cell_type": "code",
   "execution_count": 45,
   "id": "d3c2577d-f2c3-49bf-9f41-c3b70fbd9e58",
   "metadata": {},
   "outputs": [
    {
     "data": {
      "text/html": [
       "<table class=\"dataframe\">\n",
       "<caption>A data.frame: 6 × 41</caption>\n",
       "<thead>\n",
       "\t<tr><th></th><th scope=col>Date_InitialTag</th><th scope=col>Transect</th><th scope=col>TransectNum</th><th scope=col>OldTagNum</th><th scope=col>NewTagNum</th><th scope=col>Species</th><th scope=col>Meter</th><th scope=col>Meters_90</th><th scope=col>Direction</th><th scope=col>Size_Class</th><th scope=col>⋯</th><th scope=col>122023_Condition</th><th scope=col>122023_Percentage</th><th scope=col>012024_Condition</th><th scope=col>012024_Percentage</th><th scope=col>022024_Condition</th><th scope=col>022024_Percentage</th><th scope=col>042024_Condition</th><th scope=col>042024_Percentage</th><th scope=col>checked_colonies</th><th scope=col>ID</th></tr>\n",
       "\t<tr><th></th><th scope=col>&lt;chr&gt;</th><th scope=col>&lt;chr&gt;</th><th scope=col>&lt;int&gt;</th><th scope=col>&lt;chr&gt;</th><th scope=col>&lt;chr&gt;</th><th scope=col>&lt;chr&gt;</th><th scope=col>&lt;dbl&gt;</th><th scope=col>&lt;dbl&gt;</th><th scope=col>&lt;chr&gt;</th><th scope=col>&lt;int&gt;</th><th scope=col>⋯</th><th scope=col>&lt;chr&gt;</th><th scope=col>&lt;chr&gt;</th><th scope=col>&lt;chr&gt;</th><th scope=col>&lt;chr&gt;</th><th scope=col>&lt;chr&gt;</th><th scope=col>&lt;chr&gt;</th><th scope=col>&lt;chr&gt;</th><th scope=col>&lt;chr&gt;</th><th scope=col>&lt;lgl&gt;</th><th scope=col>&lt;chr&gt;</th></tr>\n",
       "</thead>\n",
       "<tbody>\n",
       "\t<tr><th scope=row>1</th><td>6/21/19 </td><td>CBC30N</td><td>1</td><td>349</td><td>1</td><td>SSID</td><td>1.5</td><td>0.50</td><td>right</td><td> 5</td><td>⋯</td><td>Diseased</td><td>    </td><td>Diseased</td><td></td><td>Diseased</td><td>   </td><td></td><td></td><td>NA</td><td>SSID_1_CBC30N</td></tr>\n",
       "\t<tr><th scope=row>2</th><td>6/21/19 </td><td>CBC30N</td><td>1</td><td>334</td><td>2</td><td>PAST</td><td>1.4</td><td>0.10</td><td>left </td><td> 4</td><td>⋯</td><td>CLB     </td><td>100%</td><td>Dead    </td><td></td><td>TL      </td><td>90%</td><td></td><td></td><td>NA</td><td>PAST_2_CBC30N</td></tr>\n",
       "\t<tr><th scope=row>3</th><td>6/21/19 </td><td>CBC30N</td><td>1</td><td>346</td><td>3</td><td>SSID</td><td>6.3</td><td>0.80</td><td>right</td><td> 5</td><td>⋯</td><td>Healthy </td><td>80% </td><td>Healthy </td><td></td><td>Healthy </td><td>98%</td><td></td><td></td><td>NA</td><td>SSID_3_CBC30N</td></tr>\n",
       "\t<tr><th scope=row>4</th><td>10/15/19</td><td>CBC30N</td><td>1</td><td>407</td><td>4</td><td>PSTR</td><td>6.5</td><td>0.50</td><td>right</td><td> 3</td><td>⋯</td><td>Dead    </td><td>    </td><td>Dead    </td><td></td><td>Dead    </td><td>   </td><td></td><td></td><td>NA</td><td>PSTR_4_CBC30N</td></tr>\n",
       "\t<tr><th scope=row>5</th><td>6/24/19 </td><td>CBC30N</td><td>1</td><td>394</td><td>5</td><td>SSID</td><td>4.3</td><td>1.20</td><td>left </td><td> 5</td><td>⋯</td><td>Diseased</td><td>    </td><td>Diseased</td><td></td><td>Diseased</td><td>   </td><td></td><td></td><td>NA</td><td>SSID_5_CBC30N</td></tr>\n",
       "\t<tr><th scope=row>6</th><td>10/15/19</td><td>CBC30N</td><td>1</td><td>413</td><td>6</td><td>PSTR</td><td>8.3</td><td>1.75</td><td>left </td><td>NA</td><td>⋯</td><td>Dead    </td><td>    </td><td>Dead    </td><td></td><td>Dead    </td><td>   </td><td></td><td></td><td>NA</td><td>PSTR_6_CBC30N</td></tr>\n",
       "</tbody>\n",
       "</table>\n"
      ],
      "text/latex": [
       "A data.frame: 6 × 41\n",
       "\\begin{tabular}{r|lllllllllllllllllllll}\n",
       "  & Date\\_InitialTag & Transect & TransectNum & OldTagNum & NewTagNum & Species & Meter & Meters\\_90 & Direction & Size\\_Class & ⋯ & 122023\\_Condition & 122023\\_Percentage & 012024\\_Condition & 012024\\_Percentage & 022024\\_Condition & 022024\\_Percentage & 042024\\_Condition & 042024\\_Percentage & checked\\_colonies & ID\\\\\n",
       "  & <chr> & <chr> & <int> & <chr> & <chr> & <chr> & <dbl> & <dbl> & <chr> & <int> & ⋯ & <chr> & <chr> & <chr> & <chr> & <chr> & <chr> & <chr> & <chr> & <lgl> & <chr>\\\\\n",
       "\\hline\n",
       "\t1 & 6/21/19  & CBC30N & 1 & 349 & 1 & SSID & 1.5 & 0.50 & right &  5 & ⋯ & Diseased &      & Diseased &  & Diseased &     &  &  & NA & SSID\\_1\\_CBC30N\\\\\n",
       "\t2 & 6/21/19  & CBC30N & 1 & 334 & 2 & PAST & 1.4 & 0.10 & left  &  4 & ⋯ & CLB      & 100\\% & Dead     &  & TL       & 90\\% &  &  & NA & PAST\\_2\\_CBC30N\\\\\n",
       "\t3 & 6/21/19  & CBC30N & 1 & 346 & 3 & SSID & 6.3 & 0.80 & right &  5 & ⋯ & Healthy  & 80\\%  & Healthy  &  & Healthy  & 98\\% &  &  & NA & SSID\\_3\\_CBC30N\\\\\n",
       "\t4 & 10/15/19 & CBC30N & 1 & 407 & 4 & PSTR & 6.5 & 0.50 & right &  3 & ⋯ & Dead     &      & Dead     &  & Dead     &     &  &  & NA & PSTR\\_4\\_CBC30N\\\\\n",
       "\t5 & 6/24/19  & CBC30N & 1 & 394 & 5 & SSID & 4.3 & 1.20 & left  &  5 & ⋯ & Diseased &      & Diseased &  & Diseased &     &  &  & NA & SSID\\_5\\_CBC30N\\\\\n",
       "\t6 & 10/15/19 & CBC30N & 1 & 413 & 6 & PSTR & 8.3 & 1.75 & left  & NA & ⋯ & Dead     &      & Dead     &  & Dead     &     &  &  & NA & PSTR\\_6\\_CBC30N\\\\\n",
       "\\end{tabular}\n"
      ],
      "text/markdown": [
       "\n",
       "A data.frame: 6 × 41\n",
       "\n",
       "| <!--/--> | Date_InitialTag &lt;chr&gt; | Transect &lt;chr&gt; | TransectNum &lt;int&gt; | OldTagNum &lt;chr&gt; | NewTagNum &lt;chr&gt; | Species &lt;chr&gt; | Meter &lt;dbl&gt; | Meters_90 &lt;dbl&gt; | Direction &lt;chr&gt; | Size_Class &lt;int&gt; | ⋯ ⋯ | 122023_Condition &lt;chr&gt; | 122023_Percentage &lt;chr&gt; | 012024_Condition &lt;chr&gt; | 012024_Percentage &lt;chr&gt; | 022024_Condition &lt;chr&gt; | 022024_Percentage &lt;chr&gt; | 042024_Condition &lt;chr&gt; | 042024_Percentage &lt;chr&gt; | checked_colonies &lt;lgl&gt; | ID &lt;chr&gt; |\n",
       "|---|---|---|---|---|---|---|---|---|---|---|---|---|---|---|---|---|---|---|---|---|---|\n",
       "| 1 | 6/21/19  | CBC30N | 1 | 349 | 1 | SSID | 1.5 | 0.50 | right |  5 | ⋯ | Diseased | <!----> | Diseased | <!----> | Diseased | <!----> | <!----> | <!----> | NA | SSID_1_CBC30N |\n",
       "| 2 | 6/21/19  | CBC30N | 1 | 334 | 2 | PAST | 1.4 | 0.10 | left  |  4 | ⋯ | CLB      | 100% | Dead     | <!----> | TL       | 90% | <!----> | <!----> | NA | PAST_2_CBC30N |\n",
       "| 3 | 6/21/19  | CBC30N | 1 | 346 | 3 | SSID | 6.3 | 0.80 | right |  5 | ⋯ | Healthy  | 80%  | Healthy  | <!----> | Healthy  | 98% | <!----> | <!----> | NA | SSID_3_CBC30N |\n",
       "| 4 | 10/15/19 | CBC30N | 1 | 407 | 4 | PSTR | 6.5 | 0.50 | right |  3 | ⋯ | Dead     | <!----> | Dead     | <!----> | Dead     | <!----> | <!----> | <!----> | NA | PSTR_4_CBC30N |\n",
       "| 5 | 6/24/19  | CBC30N | 1 | 394 | 5 | SSID | 4.3 | 1.20 | left  |  5 | ⋯ | Diseased | <!----> | Diseased | <!----> | Diseased | <!----> | <!----> | <!----> | NA | SSID_5_CBC30N |\n",
       "| 6 | 10/15/19 | CBC30N | 1 | 413 | 6 | PSTR | 8.3 | 1.75 | left  | NA | ⋯ | Dead     | <!----> | Dead     | <!----> | Dead     | <!----> | <!----> | <!----> | NA | PSTR_6_CBC30N |\n",
       "\n"
      ],
      "text/plain": [
       "  Date_InitialTag Transect TransectNum OldTagNum NewTagNum Species Meter\n",
       "1 6/21/19         CBC30N   1           349       1         SSID    1.5  \n",
       "2 6/21/19         CBC30N   1           334       2         PAST    1.4  \n",
       "3 6/21/19         CBC30N   1           346       3         SSID    6.3  \n",
       "4 10/15/19        CBC30N   1           407       4         PSTR    6.5  \n",
       "5 6/24/19         CBC30N   1           394       5         SSID    4.3  \n",
       "6 10/15/19        CBC30N   1           413       6         PSTR    8.3  \n",
       "  Meters_90 Direction Size_Class ⋯ 122023_Condition 122023_Percentage\n",
       "1 0.50      right      5         ⋯ Diseased                          \n",
       "2 0.10      left       4         ⋯ CLB              100%             \n",
       "3 0.80      right      5         ⋯ Healthy          80%              \n",
       "4 0.50      right      3         ⋯ Dead                              \n",
       "5 1.20      left       5         ⋯ Diseased                          \n",
       "6 1.75      left      NA         ⋯ Dead                              \n",
       "  012024_Condition 012024_Percentage 022024_Condition 022024_Percentage\n",
       "1 Diseased                           Diseased                          \n",
       "2 Dead                               TL               90%              \n",
       "3 Healthy                            Healthy          98%              \n",
       "4 Dead                               Dead                              \n",
       "5 Diseased                           Diseased                          \n",
       "6 Dead                               Dead                              \n",
       "  042024_Condition 042024_Percentage checked_colonies ID           \n",
       "1                                    NA               SSID_1_CBC30N\n",
       "2                                    NA               PAST_2_CBC30N\n",
       "3                                    NA               SSID_3_CBC30N\n",
       "4                                    NA               PSTR_4_CBC30N\n",
       "5                                    NA               SSID_5_CBC30N\n",
       "6                                    NA               PSTR_6_CBC30N"
      ]
     },
     "metadata": {},
     "output_type": "display_data"
    }
   ],
   "source": [
    "head(new_colony)"
   ]
  },
  {
   "cell_type": "code",
   "execution_count": 46,
   "id": "15a3f389-5e65-4e4f-92af-eb4c185eea2a",
   "metadata": {},
   "outputs": [
    {
     "data": {
      "text/html": [
       "<style>\n",
       ".list-inline {list-style: none; margin:0; padding: 0}\n",
       ".list-inline>li {display: inline-block}\n",
       ".list-inline>li:not(:last-child)::after {content: \"\\00b7\"; padding: 0 .5ex}\n",
       "</style>\n",
       "<ol class=list-inline><li>'MCAV_61_SR30N'</li><li>'PAST_56_SR30N'</li><li>'PAST_68_SR30N'</li><li>'PSTR_62_SR30N'</li><li>'MCAV_7_CBC30N'</li><li>'SSID_10_CBC30N'</li><li>'PAST_13_LAGOON'</li><li>'PAST_24_LAGOON'</li><li>'PSTR_4_LAGOON'</li><li>'SSID_26_LAGOON'</li><li>'MCAV_59_SR30N'</li><li>'SSID_51_SR30N'</li><li>'SSID_74_SR30N'</li><li>'PAST_19_CBC30N'</li><li>'SSID_3_CBC30N'</li><li>'PAST_13_LAGOON'</li><li>'PAST_24_LAGOON'</li><li>'SSID_26_LAGOON'</li><li>'SSID_33_LAGOON'</li><li>'SSID_36_LAGOON'</li></ol>\n"
      ],
      "text/latex": [
       "\\begin{enumerate*}\n",
       "\\item 'MCAV\\_61\\_SR30N'\n",
       "\\item 'PAST\\_56\\_SR30N'\n",
       "\\item 'PAST\\_68\\_SR30N'\n",
       "\\item 'PSTR\\_62\\_SR30N'\n",
       "\\item 'MCAV\\_7\\_CBC30N'\n",
       "\\item 'SSID\\_10\\_CBC30N'\n",
       "\\item 'PAST\\_13\\_LAGOON'\n",
       "\\item 'PAST\\_24\\_LAGOON'\n",
       "\\item 'PSTR\\_4\\_LAGOON'\n",
       "\\item 'SSID\\_26\\_LAGOON'\n",
       "\\item 'MCAV\\_59\\_SR30N'\n",
       "\\item 'SSID\\_51\\_SR30N'\n",
       "\\item 'SSID\\_74\\_SR30N'\n",
       "\\item 'PAST\\_19\\_CBC30N'\n",
       "\\item 'SSID\\_3\\_CBC30N'\n",
       "\\item 'PAST\\_13\\_LAGOON'\n",
       "\\item 'PAST\\_24\\_LAGOON'\n",
       "\\item 'SSID\\_26\\_LAGOON'\n",
       "\\item 'SSID\\_33\\_LAGOON'\n",
       "\\item 'SSID\\_36\\_LAGOON'\n",
       "\\end{enumerate*}\n"
      ],
      "text/markdown": [
       "1. 'MCAV_61_SR30N'\n",
       "2. 'PAST_56_SR30N'\n",
       "3. 'PAST_68_SR30N'\n",
       "4. 'PSTR_62_SR30N'\n",
       "5. 'MCAV_7_CBC30N'\n",
       "6. 'SSID_10_CBC30N'\n",
       "7. 'PAST_13_LAGOON'\n",
       "8. 'PAST_24_LAGOON'\n",
       "9. 'PSTR_4_LAGOON'\n",
       "10. 'SSID_26_LAGOON'\n",
       "11. 'MCAV_59_SR30N'\n",
       "12. 'SSID_51_SR30N'\n",
       "13. 'SSID_74_SR30N'\n",
       "14. 'PAST_19_CBC30N'\n",
       "15. 'SSID_3_CBC30N'\n",
       "16. 'PAST_13_LAGOON'\n",
       "17. 'PAST_24_LAGOON'\n",
       "18. 'SSID_26_LAGOON'\n",
       "19. 'SSID_33_LAGOON'\n",
       "20. 'SSID_36_LAGOON'\n",
       "\n",
       "\n"
      ],
      "text/plain": [
       " [1] \"MCAV_61_SR30N\"  \"PAST_56_SR30N\"  \"PAST_68_SR30N\"  \"PSTR_62_SR30N\" \n",
       " [5] \"MCAV_7_CBC30N\"  \"SSID_10_CBC30N\" \"PAST_13_LAGOON\" \"PAST_24_LAGOON\"\n",
       " [9] \"PSTR_4_LAGOON\"  \"SSID_26_LAGOON\" \"MCAV_59_SR30N\"  \"SSID_51_SR30N\" \n",
       "[13] \"SSID_74_SR30N\"  \"PAST_19_CBC30N\" \"SSID_3_CBC30N\"  \"PAST_13_LAGOON\"\n",
       "[17] \"PAST_24_LAGOON\" \"SSID_26_LAGOON\" \"SSID_33_LAGOON\" \"SSID_36_LAGOON\""
      ]
     },
     "metadata": {},
     "output_type": "display_data"
    }
   ],
   "source": [
    "# replace colonies with Lagoon with uppercase \n",
    "# (have to go back through and just run cells that append colonies_to_check list)\n",
    "colonies_to_check<- toupper(colonies_to_check)\n",
    "colonies_to_check"
   ]
  },
  {
   "cell_type": "code",
   "execution_count": 47,
   "id": "591ae25f-2500-4fbf-a7b4-1bc200680f05",
   "metadata": {},
   "outputs": [],
   "source": [
    "# add x to new 'checked_colonies' column for all colonies in list: colonies_to_check\n",
    "checked_rows<- new_colony$ID %in% colonies_to_check\n",
    "new_colony[checked_rows,\"checked_colonies\"]<- \"x\""
   ]
  },
  {
   "cell_type": "code",
   "execution_count": 51,
   "id": "b39a3e8c-e9cd-426b-a3eb-af6afa59801c",
   "metadata": {},
   "outputs": [],
   "source": [
    "# remove ID col\n",
    "new_colony$ID <- NULL"
   ]
  },
  {
   "cell_type": "code",
   "execution_count": 52,
   "id": "2080bbcc-ddd4-4f83-9a46-21d6c6ffe8cf",
   "metadata": {},
   "outputs": [
    {
     "data": {
      "text/html": [
       "'/Users/brookesienkiewicz/Documents/sctld/SCTLD_samples/Sample_Data'"
      ],
      "text/latex": [
       "'/Users/brookesienkiewicz/Documents/sctld/SCTLD\\_samples/Sample\\_Data'"
      ],
      "text/markdown": [
       "'/Users/brookesienkiewicz/Documents/sctld/SCTLD_samples/Sample_Data'"
      ],
      "text/plain": [
       "[1] \"/Users/brookesienkiewicz/Documents/sctld/SCTLD_samples/Sample_Data\""
      ]
     },
     "metadata": {},
     "output_type": "display_data"
    }
   ],
   "source": [
    "getwd()"
   ]
  },
  {
   "cell_type": "code",
   "execution_count": 53,
   "id": "e02bb0e8-63c6-4ff7-a48c-a9bd64d7b441",
   "metadata": {},
   "outputs": [
    {
     "data": {
      "text/html": [
       "<style>\n",
       ".list-inline {list-style: none; margin:0; padding: 0}\n",
       ".list-inline>li {display: inline-block}\n",
       ".list-inline>li:not(:last-child)::after {content: \"\\00b7\"; padding: 0 .5ex}\n",
       "</style>\n",
       "<ol class=list-inline><li>217</li><li>40</li></ol>\n"
      ],
      "text/latex": [
       "\\begin{enumerate*}\n",
       "\\item 217\n",
       "\\item 40\n",
       "\\end{enumerate*}\n"
      ],
      "text/markdown": [
       "1. 217\n",
       "2. 40\n",
       "\n",
       "\n"
      ],
      "text/plain": [
       "[1] 217  40"
      ]
     },
     "metadata": {},
     "output_type": "display_data"
    }
   ],
   "source": [
    "dim(new_colony)"
   ]
  },
  {
   "cell_type": "code",
   "execution_count": 54,
   "id": "ffb45e8e-1da6-488b-b16e-5909809bad91",
   "metadata": {},
   "outputs": [
    {
     "data": {
      "text/html": [
       "<style>\n",
       ".list-inline {list-style: none; margin:0; padding: 0}\n",
       ".list-inline>li {display: inline-block}\n",
       ".list-inline>li:not(:last-child)::after {content: \"\\00b7\"; padding: 0 .5ex}\n",
       "</style>\n",
       "<ol class=list-inline><li>'Date_InitialTag'</li><li>'Transect'</li><li>'TransectNum'</li><li>'OldTagNum'</li><li>'NewTagNum'</li><li>'Species'</li><li>'Meter'</li><li>'Meters_90'</li><li>'Direction'</li><li>'Size_Class'</li><li>'MaxDiameter'</li><li>'Height'</li><li>'Date_DocumentedDisease'</li><li>'Date_DocumentedMortality'</li><li>'Notes_Jun2019'</li><li>'Notes_May2022'</li><li>'Notes_Sep2023'</li><li>'Notes_Nov2023'</li><li>'Notes_Dec2023'</li><li>'Notes_Jan2024'</li><li>'Notes_Feb2024'</li><li>'Notes_Apr2024'</li><li>'062019_Condition'</li><li>'062019_Percentage'</li><li>'052022_Condition'</li><li>'052022_Percentage'</li><li>'122022_Condition'</li><li>'092023_Condition'</li><li>'092023_Percentage'</li><li>'112023_Condition'</li><li>'112023_Percentage'</li><li>'122023_Condition'</li><li>'122023_Percentage'</li><li>'012024_Condition'</li><li>'012024_Percentage'</li><li>'022024_Condition'</li><li>'022024_Percentage'</li><li>'042024_Condition'</li><li>'042024_Percentage'</li><li>'checked_colonies'</li></ol>\n"
      ],
      "text/latex": [
       "\\begin{enumerate*}\n",
       "\\item 'Date\\_InitialTag'\n",
       "\\item 'Transect'\n",
       "\\item 'TransectNum'\n",
       "\\item 'OldTagNum'\n",
       "\\item 'NewTagNum'\n",
       "\\item 'Species'\n",
       "\\item 'Meter'\n",
       "\\item 'Meters\\_90'\n",
       "\\item 'Direction'\n",
       "\\item 'Size\\_Class'\n",
       "\\item 'MaxDiameter'\n",
       "\\item 'Height'\n",
       "\\item 'Date\\_DocumentedDisease'\n",
       "\\item 'Date\\_DocumentedMortality'\n",
       "\\item 'Notes\\_Jun2019'\n",
       "\\item 'Notes\\_May2022'\n",
       "\\item 'Notes\\_Sep2023'\n",
       "\\item 'Notes\\_Nov2023'\n",
       "\\item 'Notes\\_Dec2023'\n",
       "\\item 'Notes\\_Jan2024'\n",
       "\\item 'Notes\\_Feb2024'\n",
       "\\item 'Notes\\_Apr2024'\n",
       "\\item '062019\\_Condition'\n",
       "\\item '062019\\_Percentage'\n",
       "\\item '052022\\_Condition'\n",
       "\\item '052022\\_Percentage'\n",
       "\\item '122022\\_Condition'\n",
       "\\item '092023\\_Condition'\n",
       "\\item '092023\\_Percentage'\n",
       "\\item '112023\\_Condition'\n",
       "\\item '112023\\_Percentage'\n",
       "\\item '122023\\_Condition'\n",
       "\\item '122023\\_Percentage'\n",
       "\\item '012024\\_Condition'\n",
       "\\item '012024\\_Percentage'\n",
       "\\item '022024\\_Condition'\n",
       "\\item '022024\\_Percentage'\n",
       "\\item '042024\\_Condition'\n",
       "\\item '042024\\_Percentage'\n",
       "\\item 'checked\\_colonies'\n",
       "\\end{enumerate*}\n"
      ],
      "text/markdown": [
       "1. 'Date_InitialTag'\n",
       "2. 'Transect'\n",
       "3. 'TransectNum'\n",
       "4. 'OldTagNum'\n",
       "5. 'NewTagNum'\n",
       "6. 'Species'\n",
       "7. 'Meter'\n",
       "8. 'Meters_90'\n",
       "9. 'Direction'\n",
       "10. 'Size_Class'\n",
       "11. 'MaxDiameter'\n",
       "12. 'Height'\n",
       "13. 'Date_DocumentedDisease'\n",
       "14. 'Date_DocumentedMortality'\n",
       "15. 'Notes_Jun2019'\n",
       "16. 'Notes_May2022'\n",
       "17. 'Notes_Sep2023'\n",
       "18. 'Notes_Nov2023'\n",
       "19. 'Notes_Dec2023'\n",
       "20. 'Notes_Jan2024'\n",
       "21. 'Notes_Feb2024'\n",
       "22. 'Notes_Apr2024'\n",
       "23. '062019_Condition'\n",
       "24. '062019_Percentage'\n",
       "25. '052022_Condition'\n",
       "26. '052022_Percentage'\n",
       "27. '122022_Condition'\n",
       "28. '092023_Condition'\n",
       "29. '092023_Percentage'\n",
       "30. '112023_Condition'\n",
       "31. '112023_Percentage'\n",
       "32. '122023_Condition'\n",
       "33. '122023_Percentage'\n",
       "34. '012024_Condition'\n",
       "35. '012024_Percentage'\n",
       "36. '022024_Condition'\n",
       "37. '022024_Percentage'\n",
       "38. '042024_Condition'\n",
       "39. '042024_Percentage'\n",
       "40. 'checked_colonies'\n",
       "\n",
       "\n"
      ],
      "text/plain": [
       " [1] \"Date_InitialTag\"          \"Transect\"                \n",
       " [3] \"TransectNum\"              \"OldTagNum\"               \n",
       " [5] \"NewTagNum\"                \"Species\"                 \n",
       " [7] \"Meter\"                    \"Meters_90\"               \n",
       " [9] \"Direction\"                \"Size_Class\"              \n",
       "[11] \"MaxDiameter\"              \"Height\"                  \n",
       "[13] \"Date_DocumentedDisease\"   \"Date_DocumentedMortality\"\n",
       "[15] \"Notes_Jun2019\"            \"Notes_May2022\"           \n",
       "[17] \"Notes_Sep2023\"            \"Notes_Nov2023\"           \n",
       "[19] \"Notes_Dec2023\"            \"Notes_Jan2024\"           \n",
       "[21] \"Notes_Feb2024\"            \"Notes_Apr2024\"           \n",
       "[23] \"062019_Condition\"         \"062019_Percentage\"       \n",
       "[25] \"052022_Condition\"         \"052022_Percentage\"       \n",
       "[27] \"122022_Condition\"         \"092023_Condition\"        \n",
       "[29] \"092023_Percentage\"        \"112023_Condition\"        \n",
       "[31] \"112023_Percentage\"        \"122023_Condition\"        \n",
       "[33] \"122023_Percentage\"        \"012024_Condition\"        \n",
       "[35] \"012024_Percentage\"        \"022024_Condition\"        \n",
       "[37] \"022024_Percentage\"        \"042024_Condition\"        \n",
       "[39] \"042024_Percentage\"        \"checked_colonies\"        "
      ]
     },
     "metadata": {},
     "output_type": "display_data"
    }
   ],
   "source": [
    "colnames(new_colony)"
   ]
  },
  {
   "cell_type": "code",
   "execution_count": 56,
   "id": "6de9a002-3a53-4933-adde-9f7f4b2141a2",
   "metadata": {},
   "outputs": [],
   "source": [
    "# export new colony data \n",
    "write.csv(new_colony, file = \"CBC_ColonyData.csv\")"
   ]
  },
  {
   "cell_type": "code",
   "execution_count": null,
   "id": "c824a4e2-d739-4aac-9a13-a798ce0e4599",
   "metadata": {},
   "outputs": [],
   "source": []
  }
 ],
 "metadata": {
  "kernelspec": {
   "display_name": "R",
   "language": "R",
   "name": "ir"
  },
  "language_info": {
   "codemirror_mode": "r",
   "file_extension": ".r",
   "mimetype": "text/x-r-source",
   "name": "R",
   "pygments_lexer": "r",
   "version": "4.3.3"
  }
 },
 "nbformat": 4,
 "nbformat_minor": 5
}
