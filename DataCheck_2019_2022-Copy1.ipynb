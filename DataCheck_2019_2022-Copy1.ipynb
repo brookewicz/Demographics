{
 "cells": [
  {
   "cell_type": "markdown",
   "id": "39077567-1af9-4536-aa8d-1e357f284a7d",
   "metadata": {},
   "source": [
    "# Data Check "
   ]
  },
  {
   "cell_type": "markdown",
   "id": "d9e1568c-5da4-42ca-997c-e885277f98c7",
   "metadata": {},
   "source": [
    "## Check if health statuses match across colony and sample data \n",
    "- (specifically checking if 2019 and 2022 colony data is correct)"
   ]
  },
  {
   "cell_type": "code",
   "execution_count": 1,
   "id": "6723ab1a-ccff-488b-a880-a54fc7a4227c",
   "metadata": {},
   "outputs": [],
   "source": [
    "import numpy as np\n",
    "import pandas as pd\n",
    "import os"
   ]
  },
  {
   "cell_type": "code",
   "execution_count": 3,
   "id": "f34a49cc-4877-4647-9b01-29f5f0905e92",
   "metadata": {},
   "outputs": [],
   "source": [
    "sample_data=pd.read_csv('/Users/brookesienkiewicz/Documents/sctld/SCTLD_samples/Sample_Data/CBC_samples.csv',index_col=\"Tubelabel_species\")"
   ]
  },
  {
   "cell_type": "code",
   "execution_count": 4,
   "id": "c22265f8-73c0-4a69-8a40-f0bb5c27ee4b",
   "metadata": {},
   "outputs": [],
   "source": [
    "# convert dates to str\n",
    "sample_data['Month_year'] = sample_data['Month_year'].astype(str)\n",
    "# remove the decimal point\n",
    "sample_data['Month_year'] = sample_data['Month_year'].str.replace('.0', '')\n",
    "# add leading zeros where necessary\n",
    "sample_data['Month_year'] = sample_data['Month_year'].str.pad(width=6, side='left', fillchar='0')\n",
    "sample_data['Month_year']\n",
    "\n",
    "# Extract month and year to make separate columns \n",
    "sample_data.loc[:,'Month'] = sample_data.loc[:,'Month_year'].str[0:2]\n",
    "sample_data.loc[:,'Year'] = sample_data.loc[:,'Month_year'].str[2:]"
   ]
  },
  {
   "cell_type": "code",
   "execution_count": 5,
   "id": "03056570-a956-4d02-97e3-103a0fcffa13",
   "metadata": {},
   "outputs": [
    {
     "data": {
      "text/html": [
       "<div>\n",
       "<style scoped>\n",
       "    .dataframe tbody tr th:only-of-type {\n",
       "        vertical-align: middle;\n",
       "    }\n",
       "\n",
       "    .dataframe tbody tr th {\n",
       "        vertical-align: top;\n",
       "    }\n",
       "\n",
       "    .dataframe thead th {\n",
       "        text-align: right;\n",
       "    }\n",
       "</style>\n",
       "<table border=\"1\" class=\"dataframe\">\n",
       "  <thead>\n",
       "    <tr style=\"text-align: right;\">\n",
       "      <th></th>\n",
       "      <th>Month_year</th>\n",
       "      <th>Country</th>\n",
       "      <th>Location</th>\n",
       "      <th>CollectionDate</th>\n",
       "      <th>Transect</th>\n",
       "      <th>TransectNum</th>\n",
       "      <th>OldTagNum</th>\n",
       "      <th>NewTagNum</th>\n",
       "      <th>Species</th>\n",
       "      <th>Time_sampled</th>\n",
       "      <th>...</th>\n",
       "      <th>Sample_type</th>\n",
       "      <th>SampleNum</th>\n",
       "      <th>Health_status</th>\n",
       "      <th>Sampling_notes</th>\n",
       "      <th>Sample_physical_location</th>\n",
       "      <th>Extraction_physical_location</th>\n",
       "      <th>Date_sequenced</th>\n",
       "      <th>Notes</th>\n",
       "      <th>Month</th>\n",
       "      <th>Year</th>\n",
       "    </tr>\n",
       "    <tr>\n",
       "      <th>Tubelabel_species</th>\n",
       "      <th></th>\n",
       "      <th></th>\n",
       "      <th></th>\n",
       "      <th></th>\n",
       "      <th></th>\n",
       "      <th></th>\n",
       "      <th></th>\n",
       "      <th></th>\n",
       "      <th></th>\n",
       "      <th></th>\n",
       "      <th></th>\n",
       "      <th></th>\n",
       "      <th></th>\n",
       "      <th></th>\n",
       "      <th></th>\n",
       "      <th></th>\n",
       "      <th></th>\n",
       "      <th></th>\n",
       "      <th></th>\n",
       "      <th></th>\n",
       "      <th></th>\n",
       "    </tr>\n",
       "  </thead>\n",
       "  <tbody>\n",
       "    <tr>\n",
       "      <th>122022_BEL_CBC_T4_18_OFAV</th>\n",
       "      <td>122022</td>\n",
       "      <td>BEL</td>\n",
       "      <td>CBC</td>\n",
       "      <td>12/5/22</td>\n",
       "      <td>CURLEW</td>\n",
       "      <td>4</td>\n",
       "      <td>NaN</td>\n",
       "      <td>77</td>\n",
       "      <td>OFAV</td>\n",
       "      <td>NaN</td>\n",
       "      <td>...</td>\n",
       "      <td>Core_frozen</td>\n",
       "      <td>18</td>\n",
       "      <td>Healthy</td>\n",
       "      <td>NaN</td>\n",
       "      <td>NaN</td>\n",
       "      <td>NaN</td>\n",
       "      <td>NaN</td>\n",
       "      <td>NaN</td>\n",
       "      <td>12</td>\n",
       "      <td>2022</td>\n",
       "    </tr>\n",
       "    <tr>\n",
       "      <th>092023_BEL_CBC_T1_171_PAST</th>\n",
       "      <td>092023</td>\n",
       "      <td>BEL</td>\n",
       "      <td>CBC</td>\n",
       "      <td>9/25/23</td>\n",
       "      <td>CBC30N</td>\n",
       "      <td>1</td>\n",
       "      <td>NaN</td>\n",
       "      <td>2</td>\n",
       "      <td>PAST</td>\n",
       "      <td>NaN</td>\n",
       "      <td>...</td>\n",
       "      <td>Core_RNAlater</td>\n",
       "      <td>171</td>\n",
       "      <td>Healthy</td>\n",
       "      <td>CLP 90%</td>\n",
       "      <td>UML_NARWHAL_R1_B10</td>\n",
       "      <td>NaN</td>\n",
       "      <td>NaN</td>\n",
       "      <td>NaN</td>\n",
       "      <td>09</td>\n",
       "      <td>2023</td>\n",
       "    </tr>\n",
       "    <tr>\n",
       "      <th>092023_BEL_CBC_T1_172_PAST</th>\n",
       "      <td>092023</td>\n",
       "      <td>BEL</td>\n",
       "      <td>CBC</td>\n",
       "      <td>9/25/23</td>\n",
       "      <td>CBC30N</td>\n",
       "      <td>1</td>\n",
       "      <td>NaN</td>\n",
       "      <td>21</td>\n",
       "      <td>PAST</td>\n",
       "      <td>NaN</td>\n",
       "      <td>...</td>\n",
       "      <td>Core_RNAlater</td>\n",
       "      <td>172</td>\n",
       "      <td>Healthy</td>\n",
       "      <td>No CL</td>\n",
       "      <td>UML_NARWHAL_R1_B10</td>\n",
       "      <td>NaN</td>\n",
       "      <td>NaN</td>\n",
       "      <td>NaN</td>\n",
       "      <td>09</td>\n",
       "      <td>2023</td>\n",
       "    </tr>\n",
       "    <tr>\n",
       "      <th>092023_BEL_CBC_T1_173_SSID</th>\n",
       "      <td>092023</td>\n",
       "      <td>BEL</td>\n",
       "      <td>CBC</td>\n",
       "      <td>9/25/23</td>\n",
       "      <td>CBC30N</td>\n",
       "      <td>1</td>\n",
       "      <td>NaN</td>\n",
       "      <td>3</td>\n",
       "      <td>SSID</td>\n",
       "      <td>NaN</td>\n",
       "      <td>...</td>\n",
       "      <td>Core_RNAlater</td>\n",
       "      <td>173</td>\n",
       "      <td>Healthy</td>\n",
       "      <td>CLP 80%; DC 20%</td>\n",
       "      <td>UML_NARWHAL_R1_B10</td>\n",
       "      <td>NaN</td>\n",
       "      <td>NaN</td>\n",
       "      <td>NaN</td>\n",
       "      <td>09</td>\n",
       "      <td>2023</td>\n",
       "    </tr>\n",
       "    <tr>\n",
       "      <th>092023_BEL_CBC_T1_174_MCAV</th>\n",
       "      <td>092023</td>\n",
       "      <td>BEL</td>\n",
       "      <td>CBC</td>\n",
       "      <td>9/25/23</td>\n",
       "      <td>CBC30N</td>\n",
       "      <td>1</td>\n",
       "      <td>NaN</td>\n",
       "      <td>24</td>\n",
       "      <td>MCAV</td>\n",
       "      <td>NaN</td>\n",
       "      <td>...</td>\n",
       "      <td>Core_RNAlater</td>\n",
       "      <td>174</td>\n",
       "      <td>Healthy</td>\n",
       "      <td>CLP 10%</td>\n",
       "      <td>UML_NARWHAL_R1_B10</td>\n",
       "      <td>NaN</td>\n",
       "      <td>NaN</td>\n",
       "      <td>NaN</td>\n",
       "      <td>09</td>\n",
       "      <td>2023</td>\n",
       "    </tr>\n",
       "  </tbody>\n",
       "</table>\n",
       "<p>5 rows × 21 columns</p>\n",
       "</div>"
      ],
      "text/plain": [
       "                           Month_year Country Location CollectionDate  \\\n",
       "Tubelabel_species                                                       \n",
       "122022_BEL_CBC_T4_18_OFAV      122022     BEL      CBC        12/5/22   \n",
       "092023_BEL_CBC_T1_171_PAST     092023     BEL      CBC        9/25/23   \n",
       "092023_BEL_CBC_T1_172_PAST     092023     BEL      CBC        9/25/23   \n",
       "092023_BEL_CBC_T1_173_SSID     092023     BEL      CBC        9/25/23   \n",
       "092023_BEL_CBC_T1_174_MCAV     092023     BEL      CBC        9/25/23   \n",
       "\n",
       "                           Transect  TransectNum OldTagNum NewTagNum Species  \\\n",
       "Tubelabel_species                                                              \n",
       "122022_BEL_CBC_T4_18_OFAV    CURLEW            4       NaN        77    OFAV   \n",
       "092023_BEL_CBC_T1_171_PAST   CBC30N            1       NaN         2    PAST   \n",
       "092023_BEL_CBC_T1_172_PAST   CBC30N            1       NaN        21    PAST   \n",
       "092023_BEL_CBC_T1_173_SSID   CBC30N            1       NaN         3    SSID   \n",
       "092023_BEL_CBC_T1_174_MCAV   CBC30N            1       NaN        24    MCAV   \n",
       "\n",
       "                           Time_sampled  ...    Sample_type SampleNum  \\\n",
       "Tubelabel_species                        ...                            \n",
       "122022_BEL_CBC_T4_18_OFAV           NaN  ...    Core_frozen        18   \n",
       "092023_BEL_CBC_T1_171_PAST          NaN  ...  Core_RNAlater       171   \n",
       "092023_BEL_CBC_T1_172_PAST          NaN  ...  Core_RNAlater       172   \n",
       "092023_BEL_CBC_T1_173_SSID          NaN  ...  Core_RNAlater       173   \n",
       "092023_BEL_CBC_T1_174_MCAV          NaN  ...  Core_RNAlater       174   \n",
       "\n",
       "                           Health_status   Sampling_notes  \\\n",
       "Tubelabel_species                                           \n",
       "122022_BEL_CBC_T4_18_OFAV        Healthy              NaN   \n",
       "092023_BEL_CBC_T1_171_PAST       Healthy          CLP 90%   \n",
       "092023_BEL_CBC_T1_172_PAST       Healthy            No CL   \n",
       "092023_BEL_CBC_T1_173_SSID       Healthy  CLP 80%; DC 20%   \n",
       "092023_BEL_CBC_T1_174_MCAV       Healthy          CLP 10%   \n",
       "\n",
       "                           Sample_physical_location  \\\n",
       "Tubelabel_species                                     \n",
       "122022_BEL_CBC_T4_18_OFAV                       NaN   \n",
       "092023_BEL_CBC_T1_171_PAST       UML_NARWHAL_R1_B10   \n",
       "092023_BEL_CBC_T1_172_PAST       UML_NARWHAL_R1_B10   \n",
       "092023_BEL_CBC_T1_173_SSID       UML_NARWHAL_R1_B10   \n",
       "092023_BEL_CBC_T1_174_MCAV       UML_NARWHAL_R1_B10   \n",
       "\n",
       "                           Extraction_physical_location Date_sequenced Notes  \\\n",
       "Tubelabel_species                                                              \n",
       "122022_BEL_CBC_T4_18_OFAV                           NaN            NaN   NaN   \n",
       "092023_BEL_CBC_T1_171_PAST                          NaN            NaN   NaN   \n",
       "092023_BEL_CBC_T1_172_PAST                          NaN            NaN   NaN   \n",
       "092023_BEL_CBC_T1_173_SSID                          NaN            NaN   NaN   \n",
       "092023_BEL_CBC_T1_174_MCAV                          NaN            NaN   NaN   \n",
       "\n",
       "                           Month  Year  \n",
       "Tubelabel_species                       \n",
       "122022_BEL_CBC_T4_18_OFAV     12  2022  \n",
       "092023_BEL_CBC_T1_171_PAST    09  2023  \n",
       "092023_BEL_CBC_T1_172_PAST    09  2023  \n",
       "092023_BEL_CBC_T1_173_SSID    09  2023  \n",
       "092023_BEL_CBC_T1_174_MCAV    09  2023  \n",
       "\n",
       "[5 rows x 21 columns]"
      ]
     },
     "execution_count": 5,
     "metadata": {},
     "output_type": "execute_result"
    }
   ],
   "source": [
    "sample_data.head()"
   ]
  },
  {
   "cell_type": "code",
   "execution_count": 6,
   "id": "e06bc47f-2ee8-431c-9193-2e0285d5183a",
   "metadata": {},
   "outputs": [],
   "source": [
    "colony_data=pd.read_csv('/Users/brookesienkiewicz/Documents/sctld/SCTLD_samples/Sample_Data/CBC_ColonyData.csv')"
   ]
  },
  {
   "cell_type": "code",
   "execution_count": 30,
   "id": "1af7a24f-2828-4e58-a076-9ea75ae0bb3b",
   "metadata": {},
   "outputs": [
    {
     "data": {
      "text/plain": [
       "Index(['Unnamed: 0', 'Date_InitialTag', 'Transect', 'TransectNum', 'OldTagNum',\n",
       "       'NewTagNum', 'Species', 'Meter', 'Meters_90', 'Direction', 'Size_Class',\n",
       "       'MaxDiameter', 'Height', 'Date_DocumentedDisease',\n",
       "       'Date_DocumentedMortality', 'Notes_062019', '062019_Condition',\n",
       "       '062019_Percentage', 'Notes_052022', '052022_Condition',\n",
       "       '052022_Percentage', 'Notes_122022', '122022_Condition',\n",
       "       '122022_Percentage', 'Notes_092023', '092023_Condition',\n",
       "       '092023_Percentage', 'Notes_112023', '112023_Condition',\n",
       "       '112023_Percentage', 'Notes_122023', '122023_Condition',\n",
       "       '122023_Percentage', 'Notes_012024', '012024_Condition',\n",
       "       '012024_Percentage', 'Notes_022024', '022024_Condition',\n",
       "       '022024_Percentage', 'Notes_042024', '042024_Condition',\n",
       "       '042024_Percentage', '062024_Condition', '062024_Percentage',\n",
       "       'Notes_062024', 'checked_colonies', 'ID'],\n",
       "      dtype='object')"
      ]
     },
     "execution_count": 30,
     "metadata": {},
     "output_type": "execute_result"
    }
   ],
   "source": [
    "colony_data.columns"
   ]
  },
  {
   "cell_type": "code",
   "execution_count": 13,
   "id": "5a1f6ac4-2eb2-4c19-a748-cf0788f72bb8",
   "metadata": {},
   "outputs": [],
   "source": [
    "# convert integers to strings \n",
    "colony_data['NewTagNum'] = colony_data['NewTagNum'].astype(str)\n",
    "colony_data['TransectNum'] = colony_data['TransectNum'].astype(str)\n",
    "sample_data['NewTagNum'] = sample_data['NewTagNum'].astype(str)\n",
    "sample_data['TransectNum'] = sample_data['TransectNum'].astype(str)"
   ]
  },
  {
   "cell_type": "code",
   "execution_count": 19,
   "id": "661b7504-0e3a-4912-889c-6a80a309ef40",
   "metadata": {},
   "outputs": [],
   "source": [
    "# add tag id to both sample and colony data to match it \n",
    "colony_data['ID'] = colony_data['Species'].str.cat(colony_data[['NewTagNum', 'TransectNum']], sep='_')\n",
    "sample_data['ID'] = sample_data['Species'].str.cat(sample_data[['NewTagNum', 'TransectNum']], sep='_')"
   ]
  },
  {
   "cell_type": "code",
   "execution_count": 20,
   "id": "edf827af-6b0f-48fb-b99b-26bda37a19c2",
   "metadata": {},
   "outputs": [
    {
     "data": {
      "text/plain": [
       "0       SSID_1_1\n",
       "1      DLAB_27_1\n",
       "2       SSID_3_1\n",
       "3      DLAB_35_1\n",
       "4       SSID_5_1\n",
       "         ...    \n",
       "214    PAST_13_6\n",
       "215    SSID_14_6\n",
       "216    SSID_15_6\n",
       "217    OANN_99_4\n",
       "218    SSID_99_2\n",
       "Name: ID, Length: 219, dtype: object"
      ]
     },
     "execution_count": 20,
     "metadata": {},
     "output_type": "execute_result"
    }
   ],
   "source": [
    "colony_data['ID']"
   ]
  },
  {
   "cell_type": "code",
   "execution_count": 21,
   "id": "8dcc7e55-2a4f-4df2-b39b-27327a9e5401",
   "metadata": {},
   "outputs": [
    {
     "data": {
      "text/plain": [
       "Tubelabel_species\n",
       "122022_BEL_CBC_T4_18_OFAV     OFAV_77_4\n",
       "092023_BEL_CBC_T1_171_PAST     PAST_2_1\n",
       "092023_BEL_CBC_T1_172_PAST    PAST_21_1\n",
       "092023_BEL_CBC_T1_173_SSID     SSID_3_1\n",
       "092023_BEL_CBC_T1_174_MCAV    MCAV_24_1\n",
       "                                ...    \n",
       "62024_BEL_CBC_T4_1461_OFAV    OFAV_78_4\n",
       "NaN                           OFAV_78_4\n",
       "NaN                           MCAV_76_4\n",
       "62024_BEL_CBC_T4_1464_MCAV    MCAV_76_4\n",
       "NaN                           MCAV_76_4\n",
       "Name: ID, Length: 2104, dtype: object"
      ]
     },
     "execution_count": 21,
     "metadata": {},
     "output_type": "execute_result"
    }
   ],
   "source": [
    "sample_data['ID']"
   ]
  },
  {
   "cell_type": "code",
   "execution_count": 23,
   "id": "95d46240-81df-4713-aaab-1b1808bc6089",
   "metadata": {},
   "outputs": [
    {
     "data": {
      "text/plain": [
       "array(['Core_frozen', 'Core_RNAlater', 'Core_EtOH', 'Probiotics',\n",
       "       'Immune', 'TEM', nan, 'Syringe'], dtype=object)"
      ]
     },
     "execution_count": 23,
     "metadata": {},
     "output_type": "execute_result"
    }
   ],
   "source": [
    "sample_data['Sample_type'].unique()"
   ]
  },
  {
   "cell_type": "code",
   "execution_count": 32,
   "id": "098d92df-2577-4ce4-ba4b-7b6c950e15f6",
   "metadata": {},
   "outputs": [
    {
     "data": {
      "text/plain": [
       "Index(['Month_year', 'Country', 'Location', 'CollectionDate', 'Transect',\n",
       "       'TransectNum', 'OldTagNum', 'NewTagNum', 'Species', 'Time_sampled',\n",
       "       'Time_processed', 'Sample_type', 'SampleNum', 'Health_status',\n",
       "       'Sampling_notes', 'Sample_physical_location',\n",
       "       'Extraction_physical_location', 'Date_sequenced', 'Notes', 'Month',\n",
       "       'Year', 'ID'],\n",
       "      dtype='object')"
      ]
     },
     "execution_count": 32,
     "metadata": {},
     "output_type": "execute_result"
    }
   ],
   "source": [
    "sample_data.columns"
   ]
  },
  {
   "cell_type": "code",
   "execution_count": 26,
   "id": "85490ce5-91fe-477b-8e59-72397593833d",
   "metadata": {},
   "outputs": [],
   "source": [
    "#drop any accidental samples\n",
    "sample_data = sample_data[sample_data['NewTagNum'] != \"AS\"]"
   ]
  },
  {
   "cell_type": "code",
   "execution_count": 28,
   "id": "8986823c-c06e-4957-85d6-e1c63fdb7452",
   "metadata": {},
   "outputs": [],
   "source": [
    "# check if sample type matches health statuses on colony data \n",
    "# first filter samples for just CoreEtOH\n",
    "sample_data=sample_data[sample_data['Sample_type']==\"Core_EtOH\"]"
   ]
  },
  {
   "cell_type": "code",
   "execution_count": 67,
   "id": "58f546f0-a148-4e86-ac9d-ca7b67d36063",
   "metadata": {},
   "outputs": [
    {
     "data": {
      "text/plain": [
       "Tubelabel_species\n",
       "122022_BEL_CBC_T1_120_OANN     True\n",
       "122022_BEL_CBC_T1_136_OANN     True\n",
       "052022_BEL_CBC_T1_41_OANN     False\n",
       "122022_BEL_CBC_T1_122_PSTR    False\n",
       "122022_BEL_CBC_T1_125_SSID     True\n",
       "                              ...  \n",
       "062019_BEL_CBC_T2_6_MMEA      False\n",
       "062019_BEL_CBC_T2_7_MMEA      False\n",
       "122022_BEL_CBC_T1_121_SSID     True\n",
       "122022_BEL_CBC_T1_135_SSID     True\n",
       "052022_BEL_CBC_T1_63_OFAV     False\n",
       "Name: Health_status, Length: 347, dtype: bool"
      ]
     },
     "execution_count": 67,
     "metadata": {},
     "output_type": "execute_result"
    }
   ],
   "source": [
    "# change health statuses in sample type to diseased for easier matching \n",
    "diseased_rows=sample_data['Health_status'].str.contains(\"Diseased\")\n",
    "diseased_rows"
   ]
  },
  {
   "cell_type": "code",
   "execution_count": 71,
   "id": "b8988589-2ee9-4378-b33d-ce95eff7208f",
   "metadata": {},
   "outputs": [],
   "source": [
    "sample_data.loc[diseased_rows, 'Health_status']=\"Diseased\""
   ]
  },
  {
   "cell_type": "code",
   "execution_count": 72,
   "id": "5bafc88c-fc40-41b0-b906-7760aeb34d93",
   "metadata": {},
   "outputs": [
    {
     "name": "stdout",
     "output_type": "stream",
     "text": [
      "(106, 22)\n",
      "(107, 22)\n",
      "(134, 22)\n",
      "(347, 22)\n"
     ]
    }
   ],
   "source": [
    "# filter 2019 sample data \n",
    "sample_data['Month_year'] = sample_data['Month_year'].astype(str)\n",
    "# Search for rows where the column contains '2019'\n",
    "samples_2019 = sample_data[sample_data['Month_year'].str.contains('2019')]\n",
    "samples_may2022 = sample_data[sample_data['Month_year']==\"052022\"]\n",
    "samples_dec2022 = sample_data[sample_data['Month_year']==\"122022\"]\n",
    "print(samples_2019.shape)\n",
    "print(samples_may2022.shape)\n",
    "print(samples_dec2022.shape)\n",
    "print(sample_data.shape)"
   ]
  },
  {
   "cell_type": "code",
   "execution_count": 73,
   "id": "eb0f6bd7-8fe0-4453-9d5d-b1b5db909dbb",
   "metadata": {},
   "outputs": [
    {
     "data": {
      "text/plain": [
       "array(['122022', '052022', '102019', '062019'], dtype=object)"
      ]
     },
     "execution_count": 73,
     "metadata": {},
     "output_type": "execute_result"
    }
   ],
   "source": [
    "sample_data['Month_year'].unique()"
   ]
  },
  {
   "cell_type": "code",
   "execution_count": 75,
   "id": "40dc8d0a-c8b2-471d-90ad-ed381260cfb0",
   "metadata": {},
   "outputs": [
    {
     "data": {
      "text/plain": [
       "array(['Diseased', 'Healthy'], dtype=object)"
      ]
     },
     "execution_count": 75,
     "metadata": {},
     "output_type": "execute_result"
    }
   ],
   "source": [
    "sample_data['Health_status'].unique()"
   ]
  },
  {
   "cell_type": "code",
   "execution_count": 76,
   "id": "e989db9c-a808-46b9-810a-5ab429646e02",
   "metadata": {},
   "outputs": [
    {
     "data": {
      "text/plain": [
       "Index(['Unnamed: 0', 'Date_InitialTag', 'Transect', 'TransectNum', 'OldTagNum',\n",
       "       'NewTagNum', 'Species', 'Meter', 'Meters_90', 'Direction', 'Size_Class',\n",
       "       'MaxDiameter', 'Height', 'Date_DocumentedDisease',\n",
       "       'Date_DocumentedMortality', 'Notes_062019', '062019_Condition',\n",
       "       '062019_Percentage', 'Notes_052022', '052022_Condition',\n",
       "       '052022_Percentage', 'Notes_122022', '122022_Condition',\n",
       "       '122022_Percentage', 'Notes_092023', '092023_Condition',\n",
       "       '092023_Percentage', 'Notes_112023', '112023_Condition',\n",
       "       '112023_Percentage', 'Notes_122023', '122023_Condition',\n",
       "       '122023_Percentage', 'Notes_012024', '012024_Condition',\n",
       "       '012024_Percentage', 'Notes_022024', '022024_Condition',\n",
       "       '022024_Percentage', 'Notes_042024', '042024_Condition',\n",
       "       '042024_Percentage', '062024_Condition', '062024_Percentage',\n",
       "       'Notes_062024', 'checked_colonies', 'ID'],\n",
       "      dtype='object')"
      ]
     },
     "execution_count": 76,
     "metadata": {},
     "output_type": "execute_result"
    }
   ],
   "source": [
    "colony_data.columns"
   ]
  },
  {
   "cell_type": "code",
   "execution_count": 77,
   "id": "abddee92-8eae-4fec-b84e-eab67d80521e",
   "metadata": {},
   "outputs": [],
   "source": [
    "# if ID matches, do the entries in \"sample type\" and \"health status\" "
   ]
  },
  {
   "cell_type": "code",
   "execution_count": 78,
   "id": "b5639c27-1af4-4a0f-9ad5-5d1c06055e02",
   "metadata": {},
   "outputs": [
    {
     "data": {
      "text/html": [
       "<div>\n",
       "<style scoped>\n",
       "    .dataframe tbody tr th:only-of-type {\n",
       "        vertical-align: middle;\n",
       "    }\n",
       "\n",
       "    .dataframe tbody tr th {\n",
       "        vertical-align: top;\n",
       "    }\n",
       "\n",
       "    .dataframe thead th {\n",
       "        text-align: right;\n",
       "    }\n",
       "</style>\n",
       "<table border=\"1\" class=\"dataframe\">\n",
       "  <thead>\n",
       "    <tr style=\"text-align: right;\">\n",
       "      <th></th>\n",
       "      <th>ID</th>\n",
       "      <th>Month_year</th>\n",
       "      <th>Health_status</th>\n",
       "      <th>062019_Condition</th>\n",
       "    </tr>\n",
       "  </thead>\n",
       "  <tbody>\n",
       "  </tbody>\n",
       "</table>\n",
       "</div>"
      ],
      "text/plain": [
       "Empty DataFrame\n",
       "Columns: [ID, Month_year, Health_status, 062019_Condition]\n",
       "Index: []"
      ]
     },
     "execution_count": 78,
     "metadata": {},
     "output_type": "execute_result"
    }
   ],
   "source": [
    "# Merge the DataFrames on the \"ID\" column\n",
    "merged_data = pd.merge(samples_2019, colony_data, on='ID', how='inner')\n",
    "\n",
    "# Check if \"SampleType\" matches \"062019_Condition\"\n",
    "merged_data['Match'] = merged_data['Health_status'] == merged_data['062019_Condition']\n",
    "\n",
    "# Display the rows where there is a match\n",
    "matching_rows = merged_data[merged_data['Match']]\n",
    "\n",
    "# Optionally, display the non-matching rows as well\n",
    "non_matching_rows = merged_data[~merged_data['Match']]\n",
    "non_matching_rows.loc[:,('ID','Month_year','Health_status','062019_Condition')]"
   ]
  },
  {
   "cell_type": "code",
   "execution_count": 79,
   "id": "27f87a47-cbec-4511-af96-bf41d5e83a0f",
   "metadata": {},
   "outputs": [
    {
     "data": {
      "text/html": [
       "<div>\n",
       "<style scoped>\n",
       "    .dataframe tbody tr th:only-of-type {\n",
       "        vertical-align: middle;\n",
       "    }\n",
       "\n",
       "    .dataframe tbody tr th {\n",
       "        vertical-align: top;\n",
       "    }\n",
       "\n",
       "    .dataframe thead th {\n",
       "        text-align: right;\n",
       "    }\n",
       "</style>\n",
       "<table border=\"1\" class=\"dataframe\">\n",
       "  <thead>\n",
       "    <tr style=\"text-align: right;\">\n",
       "      <th></th>\n",
       "      <th>ID</th>\n",
       "      <th>Month_year</th>\n",
       "      <th>Health_status</th>\n",
       "      <th>052022_Condition</th>\n",
       "    </tr>\n",
       "  </thead>\n",
       "  <tbody>\n",
       "    <tr>\n",
       "      <th>4</th>\n",
       "      <td>OANN_23_1</td>\n",
       "      <td>052022</td>\n",
       "      <td>Healthy</td>\n",
       "      <td>DC</td>\n",
       "    </tr>\n",
       "    <tr>\n",
       "      <th>9</th>\n",
       "      <td>OFAV_80_2</td>\n",
       "      <td>052022</td>\n",
       "      <td>Healthy</td>\n",
       "      <td>Diseased</td>\n",
       "    </tr>\n",
       "    <tr>\n",
       "      <th>18</th>\n",
       "      <td>SSID_74_2</td>\n",
       "      <td>052022</td>\n",
       "      <td>Healthy</td>\n",
       "      <td>Diseased</td>\n",
       "    </tr>\n",
       "    <tr>\n",
       "      <th>19</th>\n",
       "      <td>SSID_51_2</td>\n",
       "      <td>052022</td>\n",
       "      <td>Healthy</td>\n",
       "      <td>Diseased</td>\n",
       "    </tr>\n",
       "    <tr>\n",
       "      <th>28</th>\n",
       "      <td>SSID_67_2</td>\n",
       "      <td>052022</td>\n",
       "      <td>Diseased</td>\n",
       "      <td>Diseased, DC</td>\n",
       "    </tr>\n",
       "    <tr>\n",
       "      <th>29</th>\n",
       "      <td>SSID_67_2</td>\n",
       "      <td>052022</td>\n",
       "      <td>Diseased</td>\n",
       "      <td>Diseased, DC</td>\n",
       "    </tr>\n",
       "    <tr>\n",
       "      <th>35</th>\n",
       "      <td>PAST_56_2</td>\n",
       "      <td>052022</td>\n",
       "      <td>Diseased</td>\n",
       "      <td>Healthy</td>\n",
       "    </tr>\n",
       "    <tr>\n",
       "      <th>36</th>\n",
       "      <td>PAST_56_2</td>\n",
       "      <td>052022</td>\n",
       "      <td>Diseased</td>\n",
       "      <td>Healthy</td>\n",
       "    </tr>\n",
       "    <tr>\n",
       "      <th>58</th>\n",
       "      <td>PAST_19_1</td>\n",
       "      <td>052022</td>\n",
       "      <td>Healthy</td>\n",
       "      <td>Diseased</td>\n",
       "    </tr>\n",
       "    <tr>\n",
       "      <th>81</th>\n",
       "      <td>SSID_36_3</td>\n",
       "      <td>052022</td>\n",
       "      <td>Diseased</td>\n",
       "      <td>Diseased, DC</td>\n",
       "    </tr>\n",
       "    <tr>\n",
       "      <th>84</th>\n",
       "      <td>SSID_3_3</td>\n",
       "      <td>052022</td>\n",
       "      <td>Diseased</td>\n",
       "      <td>Diseased, DC</td>\n",
       "    </tr>\n",
       "    <tr>\n",
       "      <th>98</th>\n",
       "      <td>SSID_3_3</td>\n",
       "      <td>052022</td>\n",
       "      <td>Diseased</td>\n",
       "      <td>Diseased, DC</td>\n",
       "    </tr>\n",
       "    <tr>\n",
       "      <th>103</th>\n",
       "      <td>SSID_36_3</td>\n",
       "      <td>052022</td>\n",
       "      <td>Diseased</td>\n",
       "      <td>Diseased, DC</td>\n",
       "    </tr>\n",
       "  </tbody>\n",
       "</table>\n",
       "</div>"
      ],
      "text/plain": [
       "            ID Month_year Health_status 052022_Condition\n",
       "4    OANN_23_1     052022       Healthy               DC\n",
       "9    OFAV_80_2     052022       Healthy         Diseased\n",
       "18   SSID_74_2     052022       Healthy         Diseased\n",
       "19   SSID_51_2     052022       Healthy         Diseased\n",
       "28   SSID_67_2     052022      Diseased     Diseased, DC\n",
       "29   SSID_67_2     052022      Diseased     Diseased, DC\n",
       "35   PAST_56_2     052022      Diseased          Healthy\n",
       "36   PAST_56_2     052022      Diseased          Healthy\n",
       "58   PAST_19_1     052022       Healthy         Diseased\n",
       "81   SSID_36_3     052022      Diseased     Diseased, DC\n",
       "84    SSID_3_3     052022      Diseased     Diseased, DC\n",
       "98    SSID_3_3     052022      Diseased     Diseased, DC\n",
       "103  SSID_36_3     052022      Diseased     Diseased, DC"
      ]
     },
     "execution_count": 79,
     "metadata": {},
     "output_type": "execute_result"
    }
   ],
   "source": [
    "# Merge the DataFrames on the \"ID\" column\n",
    "merged_data = pd.merge(samples_may2022, colony_data, on='ID', how='inner')\n",
    "\n",
    "# Check if \"SampleType\" matches \"062019_Condition\"\n",
    "merged_data['Match'] = merged_data['Health_status'] == merged_data['052022_Condition']\n",
    "\n",
    "# Display the rows where there is a match\n",
    "matching_rows = merged_data[merged_data['Match']]\n",
    "\n",
    "# Optionally, display the non-matching rows as well\n",
    "non_matching_rows = merged_data[~merged_data['Match']]\n",
    "non_matching_rows.loc[:,('ID','Month_year','Health_status','052022_Condition')]"
   ]
  },
  {
   "cell_type": "code",
   "execution_count": null,
   "id": "4265d241-1230-4d89-ab89-07d6b8e92867",
   "metadata": {},
   "outputs": [],
   "source": [
    "## double checking 052022 conditions \n",
    "\n",
    "#oann 23 is DC \n",
    "#ofav 80 healthy \n",
    "#ssid 74 healthy \n",
    "#ssid 51 diseased - change sample type \n",
    "#ssid 67 diseased\n",
    "#past 56 diseased \n",
    "#past 19 diseased - change sample type \n",
    "#ssid 36 diseased\n",
    "#ssid 3 diseased\n",
    "\n",
    "#changed colony data to reflect "
   ]
  },
  {
   "cell_type": "code",
   "execution_count": 80,
   "id": "adc625dc-5437-4619-9c24-fd209e04d553",
   "metadata": {},
   "outputs": [
    {
     "data": {
      "text/html": [
       "<div>\n",
       "<style scoped>\n",
       "    .dataframe tbody tr th:only-of-type {\n",
       "        vertical-align: middle;\n",
       "    }\n",
       "\n",
       "    .dataframe tbody tr th {\n",
       "        vertical-align: top;\n",
       "    }\n",
       "\n",
       "    .dataframe thead th {\n",
       "        text-align: right;\n",
       "    }\n",
       "</style>\n",
       "<table border=\"1\" class=\"dataframe\">\n",
       "  <thead>\n",
       "    <tr style=\"text-align: right;\">\n",
       "      <th></th>\n",
       "      <th>ID</th>\n",
       "      <th>Month_year</th>\n",
       "      <th>Health_status</th>\n",
       "      <th>122022_Condition</th>\n",
       "    </tr>\n",
       "  </thead>\n",
       "  <tbody>\n",
       "    <tr>\n",
       "      <th>31</th>\n",
       "      <td>SSID_52_2</td>\n",
       "      <td>122022</td>\n",
       "      <td>Diseased</td>\n",
       "      <td>Diseased, CLP</td>\n",
       "    </tr>\n",
       "    <tr>\n",
       "      <th>33</th>\n",
       "      <td>SSID_52_2</td>\n",
       "      <td>122022</td>\n",
       "      <td>Diseased</td>\n",
       "      <td>Diseased, CLP</td>\n",
       "    </tr>\n",
       "    <tr>\n",
       "      <th>51</th>\n",
       "      <td>MCAV_59_2</td>\n",
       "      <td>122022</td>\n",
       "      <td>Healthy</td>\n",
       "      <td>Diseased</td>\n",
       "    </tr>\n",
       "    <tr>\n",
       "      <th>78</th>\n",
       "      <td>SSID_36_3</td>\n",
       "      <td>122022</td>\n",
       "      <td>Healthy</td>\n",
       "      <td>Healthy?</td>\n",
       "    </tr>\n",
       "    <tr>\n",
       "      <th>80</th>\n",
       "      <td>OFAV_39_3</td>\n",
       "      <td>122022</td>\n",
       "      <td>Healthy</td>\n",
       "      <td>Not_Visited</td>\n",
       "    </tr>\n",
       "    <tr>\n",
       "      <th>96</th>\n",
       "      <td>PAST_7_3</td>\n",
       "      <td>122022</td>\n",
       "      <td>Healthy</td>\n",
       "      <td>CLP</td>\n",
       "    </tr>\n",
       "    <tr>\n",
       "      <th>101</th>\n",
       "      <td>MCAV_71_3</td>\n",
       "      <td>122022</td>\n",
       "      <td>Healthy</td>\n",
       "      <td>DC</td>\n",
       "    </tr>\n",
       "    <tr>\n",
       "      <th>128</th>\n",
       "      <td>OANN_23_1</td>\n",
       "      <td>122022</td>\n",
       "      <td>Healthy</td>\n",
       "      <td>DC</td>\n",
       "    </tr>\n",
       "  </tbody>\n",
       "</table>\n",
       "</div>"
      ],
      "text/plain": [
       "            ID Month_year Health_status 122022_Condition\n",
       "31   SSID_52_2     122022      Diseased    Diseased, CLP\n",
       "33   SSID_52_2     122022      Diseased    Diseased, CLP\n",
       "51   MCAV_59_2     122022       Healthy         Diseased\n",
       "78   SSID_36_3     122022       Healthy         Healthy?\n",
       "80   OFAV_39_3     122022       Healthy      Not_Visited\n",
       "96    PAST_7_3     122022       Healthy              CLP\n",
       "101  MCAV_71_3     122022       Healthy               DC\n",
       "128  OANN_23_1     122022       Healthy               DC"
      ]
     },
     "execution_count": 80,
     "metadata": {},
     "output_type": "execute_result"
    }
   ],
   "source": [
    "# Merge the DataFrames on the \"ID\" column\n",
    "merged_data = pd.merge(samples_dec2022, colony_data, on='ID', how='inner')\n",
    "\n",
    "# Check if \"SampleType\" matches \"062019_Condition\"\n",
    "merged_data['Match'] = merged_data['Health_status'] == merged_data['122022_Condition']\n",
    "\n",
    "# Display the rows where there is a match\n",
    "matching_rows = merged_data[merged_data['Match']]\n",
    "\n",
    "# Optionally, display the non-matching rows as well\n",
    "non_matching_rows = merged_data[~merged_data['Match']]\n",
    "non_matching_rows.loc[:,('ID','Month_year','Health_status','122022_Condition')]"
   ]
  },
  {
   "cell_type": "code",
   "execution_count": null,
   "id": "b4476361-b414-4eb9-8b37-6a52289615da",
   "metadata": {},
   "outputs": [],
   "source": [
    "## double checking 122022 conditions \n",
    "\n",
    "#ssid 52 diseased \n",
    "#mcav 59 healthy \n",
    "#ssid 36 healthy \n",
    "#ofav 39 healthy \n",
    "#past 7 healthy \n",
    "#mcav 71 DC ..i guess leave sample type as healthy?\n",
    "#oann 23 DC ..also leave as healthy in sample data?"
   ]
  }
 ],
 "metadata": {
  "kernelspec": {
   "display_name": "Python 3 (ipykernel)",
   "language": "python",
   "name": "python3"
  },
  "language_info": {
   "codemirror_mode": {
    "name": "ipython",
    "version": 3
   },
   "file_extension": ".py",
   "mimetype": "text/x-python",
   "name": "python",
   "nbconvert_exporter": "python",
   "pygments_lexer": "ipython3",
   "version": "3.11.0"
  }
 },
 "nbformat": 4,
 "nbformat_minor": 5
}
